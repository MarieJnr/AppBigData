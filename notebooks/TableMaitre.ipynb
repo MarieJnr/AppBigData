{
 "cells": [
  {
   "cell_type": "code",
   "execution_count": 1,
   "metadata": {
    "editable": true,
    "slideshow": {
     "slide_type": ""
    },
    "tags": []
   },
   "outputs": [],
   "source": [
    "import pyspark\n",
    "from pyspark.sql import SparkSession\n",
    "from pyspark.sql.functions import date_format\n",
    "from pyspark.sql import functions as F\n",
    "from pyspark.sql.functions import datediff, to_date, lit"
   ]
  },
  {
   "cell_type": "code",
   "execution_count": 65,
   "metadata": {
    "editable": true,
    "slideshow": {
     "slide_type": ""
    },
    "tags": []
   },
   "outputs": [],
   "source": [
    "# Créer une instance de SparkSession\n",
    "spark = SparkSession.builder \\\n",
    "    .appName(\"Table maitre\") \\\n",
    "    .config(\"spark.driver.memory\", \"8g\") \\\n",
    "    .config(\"spark.executor.memory\", \"8g\") \\\n",
    "    .getOrCreate()"
   ]
  },
  {
   "cell_type": "code",
   "execution_count": 5,
   "metadata": {},
   "outputs": [],
   "source": [
    "# df_statut_connexion2 = spark.read.csv(\"hdfs://namenode:9000/df_statut_connexion2.csv\", header=\"True\", inferSchema=\"True\")\n",
    "# df_statut_connexion2.write.parquet(\"hdfs://namenode:9000/historisation_features/statut_connexion/df_statut_connexion2.parquet\")"
   ]
  },
  {
   "cell_type": "markdown",
   "metadata": {},
   "source": [
    "## Lire les features Parquet à partir de HDFS"
   ]
  },
  {
   "cell_type": "code",
   "execution_count": 3,
   "metadata": {
    "editable": true,
    "slideshow": {
     "slide_type": ""
    },
    "tags": []
   },
   "outputs": [],
   "source": [
    "df_gab_montant = spark.read.parquet(\"hdfs://namenode:9000/historisation_features/gab/gab_montant_feature.parquet\")\n",
    "df_gab_numoperation = spark.read.parquet(\"hdfs://namenode:9000/historisation_features/gab/gab_numoperation_feature.parquet\")\n",
    "df_FAC_CANAL_FEATURE = spark.read.parquet(\"hdfs://namenode:9000/historisation_features/getfac/FAC_CANAL_FEATURE.parquet\")\n",
    "df_getfac_feature = spark.read.parquet(\"hdfs://namenode:9000/historisation_features/getfac/getfac_feature.parquet\")\n",
    "df_getvir_feature = spark.read.parquet(\"hdfs://namenode:9000/historisation_features/getvir/getvir_feature.parquet\")\n",
    "df_VIR_CANAL_FEATURE = spark.read.parquet(\"hdfs://namenode:9000/historisation_features/getvir/getvir_CANAL_FEATURE.parquet\")\n",
    "df_MONTANT_OPERATIONS_feature = spark.read.parquet(\"hdfs://namenode:9000/historisation_features/operations_agence/MONTANT_OPERATIONS_feature.parquet\")\n",
    "df_NBROPERATION_feature = spark.read.parquet(\"hdfs://namenode:9000/historisation_features/operations_agence/NBROPERATION_feature.parquet\")\n",
    "df_perimetre2 = spark.read.parquet(\"hdfs://namenode:9000/historisation_features/perimetre/perimetre.parquet\")\n",
    "df_solde_feature = spark.read.parquet(\"hdfs://namenode:9000/historisation_features/solde/solde_feature.parquet\")\n",
    "df_MVTDEB_feature = spark.read.parquet(\"hdfs://namenode:9000/historisation_features/solde/MVTDEB_feature.parquet\")\n",
    "df_NBMVTDB_feature = spark.read.parquet(\"hdfs://namenode:9000/historisation_features/solde/NBMVTDB_feature.parquet\")\n",
    "df_MVTCRED_feature = spark.read.parquet(\"hdfs://namenode:9000/historisation_features/solde/MVTCRED_feature.parquet\")\n",
    "df_NBMVTCRE_feature = spark.read.parquet(\"hdfs://namenode:9000/historisation_features/solde/NBMVTCRE_feature.parquet\")\n",
    "df_statut_connexion2 = spark.read.parquet(\"hdfs://namenode:9000/historisation_features/statut_connexion/df_statut_connexion2.parquet\")\n",
    "df_hasyousr = spark.read.parquet(\"hdfs://namenode:9000/historisation_features/yousr/df_hasyousr.parquet\")\n",
    "df_fermcpt2019 = spark.read.parquet(\"hdfs://namenode:9000//historisation_features/fermcpt/df_fermcpt2019.parquet\")\n",
    "df_fermcpt2020 = spark.read.parquet(\"hdfs://namenode:9000//historisation_features/fermcpt/df_fermcpt2020.parquet\")\n",
    "df_cptferm2019 = spark.read.parquet(\"hdfs://namenode:9000//historisation_features/cptferm/df_cptferm2019.parquet\")"
   ]
  },
  {
   "cell_type": "code",
   "execution_count": 4,
   "metadata": {},
   "outputs": [
    {
     "name": "stdout",
     "output_type": "stream",
     "text": [
      "+--------+--------------+---+--------+---+--------------+-------------+---------+\n",
      "|   genre|MARITAL_STATUS|BPR|Idclient|age|CUSTOMER_YEARS|       region|AGE_GROUP|\n",
      "+--------+--------------+---+--------+---+--------------+-------------+---------+\n",
      "| Féminin|      Marié(e)|  1|       0| 64|            23|BP Centre Sud|    55-64|\n",
      "|Masculin|      Marié(e)|  1|       1| 51|            21|BP Centre Sud|    45-54|\n",
      "| Féminin|      Marié(e)|  1|       2| 70|            45|BP Centre Sud|      65+|\n",
      "| Féminin|   Celibataire|  1|       3| 51|            17|BP Centre Sud|    45-54|\n",
      "|Masculin|      Marié(e)|  1|       4| 50|             6|BP Centre Sud|    45-54|\n",
      "+--------+--------------+---+--------+---+--------------+-------------+---------+\n",
      "only showing top 5 rows\n",
      "\n"
     ]
    }
   ],
   "source": [
    "df_perimetre2 = df_perimetre2.drop(\"CUSTOMER_SINCE\",\"DATE_NAISSANCE\",\"VILLE\")\n",
    "df_perimetre2.show(5)"
   ]
  },
  {
   "cell_type": "code",
   "execution_count": 5,
   "metadata": {},
   "outputs": [
    {
     "name": "stdout",
     "output_type": "stream",
     "text": [
      "+--------+---------+--------------------------+\n",
      "|Idclient|ANNEEMOIS|MEAN_SOLDE_PREVIOUS_MONTHS|\n",
      "+--------+---------+--------------------------+\n",
      "| 0000001|   201904|                  17214.44|\n",
      "| 0000001|   201907|                 121062.74|\n",
      "| 0000001|   201910|                 240661.53|\n",
      "| 0000001|   202001|                 275326.49|\n",
      "| 0000005|   201904|                       0.0|\n",
      "+--------+---------+--------------------------+\n",
      "only showing top 5 rows\n",
      "\n"
     ]
    }
   ],
   "source": [
    "df_solde_feature.show(5)"
   ]
  },
  {
   "cell_type": "code",
   "execution_count": 6,
   "metadata": {},
   "outputs": [
    {
     "name": "stdout",
     "output_type": "stream",
     "text": [
      "+--------+---------+---------------------------+\n",
      "|Idclient|ANNEEMOIS|MEAN_MVTDEB_PREVIOUS_MONTHS|\n",
      "+--------+---------+---------------------------+\n",
      "| 0000009|   201904|                      205.5|\n",
      "| 0000009|   201907|                      49.83|\n",
      "| 0000009|   201910|                     116.83|\n",
      "| 0000009|   202001|                     838.86|\n",
      "| 0000011|   201904|                     138.83|\n",
      "+--------+---------+---------------------------+\n",
      "only showing top 5 rows\n",
      "\n"
     ]
    }
   ],
   "source": [
    "df_MVTDEB_feature.show(5)"
   ]
  },
  {
   "cell_type": "code",
   "execution_count": 7,
   "metadata": {},
   "outputs": [
    {
     "name": "stdout",
     "output_type": "stream",
     "text": [
      "+--------+---------+----------------------------+\n",
      "|Idclient|ANNEEMOIS|MEAN_NBMVTDB_PREVIOUS_MONTHS|\n",
      "+--------+---------+----------------------------+\n",
      "| 0000001|   201904|                       12.67|\n",
      "| 0000001|   201907|                       15.67|\n",
      "| 0000001|   201910|                       14.33|\n",
      "| 0000001|   202001|                         7.0|\n",
      "| 0000005|   201904|                         0.0|\n",
      "+--------+---------+----------------------------+\n",
      "only showing top 5 rows\n",
      "\n"
     ]
    }
   ],
   "source": [
    "df_NBMVTDB_feature.show(5)"
   ]
  },
  {
   "cell_type": "code",
   "execution_count": 8,
   "metadata": {},
   "outputs": [
    {
     "name": "stdout",
     "output_type": "stream",
     "text": [
      "+--------+---------+----------------------------+\n",
      "|Idclient|ANNEEMOIS|MEAN_MVTCRED_PREVIOUS_MONTHS|\n",
      "+--------+---------+----------------------------+\n",
      "| 0000009|   201904|                         0.0|\n",
      "| 0000009|   201907|                         0.0|\n",
      "| 0000009|   201910|                      166.67|\n",
      "| 0000009|   202001|                     3516.67|\n",
      "| 0000011|   201904|                         0.0|\n",
      "+--------+---------+----------------------------+\n",
      "only showing top 5 rows\n",
      "\n"
     ]
    }
   ],
   "source": [
    "df_MVTCRED_feature.show(5)"
   ]
  },
  {
   "cell_type": "code",
   "execution_count": 9,
   "metadata": {},
   "outputs": [
    {
     "name": "stdout",
     "output_type": "stream",
     "text": [
      "+--------+---------+-----------------------------+\n",
      "|Idclient|ANNEEMOIS|MEAN_NBMVTCRE_PREVIOUS_MONTHS|\n",
      "+--------+---------+-----------------------------+\n",
      "| 0000001|   201904|                         3.33|\n",
      "| 0000001|   201907|                         4.67|\n",
      "| 0000001|   201910|                         1.67|\n",
      "| 0000001|   202001|                         1.33|\n",
      "| 0000005|   201904|                          0.0|\n",
      "+--------+---------+-----------------------------+\n",
      "only showing top 5 rows\n",
      "\n"
     ]
    }
   ],
   "source": [
    "df_NBMVTCRE_feature.show(5)"
   ]
  },
  {
   "cell_type": "code",
   "execution_count": 10,
   "metadata": {},
   "outputs": [
    {
     "name": "stdout",
     "output_type": "stream",
     "text": [
      "+--------+---------+-------------------+\n",
      "|Idclient|ANNEEMOIS|MEAN_MONTANTFACTURE|\n",
      "+--------+---------+-------------------+\n",
      "| 0000063|   201904|              202.0|\n",
      "| 0000063|   201907|             202.33|\n",
      "| 0000063|   201910|              341.0|\n",
      "| 0000063|   202001|              229.0|\n",
      "| 0000095|   201904|              96.33|\n",
      "| 0000095|   201907|               43.0|\n",
      "| 0000095|   201910|              139.0|\n",
      "| 0000095|   202001|             112.33|\n",
      "| 0000265|   201904|                0.0|\n",
      "| 0000265|   201907|              96.33|\n",
      "| 0000265|   201910|              146.0|\n",
      "| 0000265|   202001|             132.67|\n",
      "| 0000590|   201904|              425.0|\n",
      "| 0000590|   201907|             431.33|\n",
      "| 0000590|   201910|             358.67|\n",
      "| 0000590|   202001|                0.0|\n",
      "| 0000737|   201904|              169.0|\n",
      "| 0000737|   201907|              103.0|\n",
      "| 0000737|   201910|            1514.67|\n",
      "| 0000737|   202001|             231.33|\n",
      "+--------+---------+-------------------+\n",
      "only showing top 20 rows\n",
      "\n"
     ]
    }
   ],
   "source": [
    "df_getfac_feature.show(20)"
   ]
  },
  {
   "cell_type": "code",
   "execution_count": 11,
   "metadata": {},
   "outputs": [
    {
     "name": "stdout",
     "output_type": "stream",
     "text": [
      "+--------+---------+------+\n",
      "|Idclient|ANNEEMOIS| CANAL|\n",
      "+--------+---------+------+\n",
      "| 0485328|   201908|MOBILE|\n",
      "| 0374751|   201901|MOBILE|\n",
      "| 0605247|   201912|MOBILE|\n",
      "| 0993639|   201911|   WEB|\n",
      "| 0823957|   201912|MOBILE|\n",
      "+--------+---------+------+\n",
      "only showing top 5 rows\n",
      "\n"
     ]
    }
   ],
   "source": [
    "df_FAC_CANAL_FEATURE.show(5)"
   ]
  },
  {
   "cell_type": "code",
   "execution_count": 12,
   "metadata": {},
   "outputs": [
    {
     "name": "stdout",
     "output_type": "stream",
     "text": [
      "+--------+---------+--------------------+\n",
      "|Idclient|ANNEEMOIS|MEAN_MONTANTVIREMENT|\n",
      "+--------+---------+--------------------+\n",
      "| 0000032|   201904|                 0.0|\n",
      "| 0000032|   201907|                 0.0|\n",
      "| 0000032|   201910|             14000.0|\n",
      "| 0000032|   202001|              333.33|\n",
      "| 0000055|   201904|                 0.0|\n",
      "+--------+---------+--------------------+\n",
      "only showing top 5 rows\n",
      "\n"
     ]
    }
   ],
   "source": [
    "df_getvir_feature.show(5)"
   ]
  },
  {
   "cell_type": "code",
   "execution_count": 13,
   "metadata": {},
   "outputs": [
    {
     "name": "stdout",
     "output_type": "stream",
     "text": [
      "+--------+---------+------+\n",
      "|Idclient|ANNEEMOIS| CANAL|\n",
      "+--------+---------+------+\n",
      "| 0606130|   201906|   Web|\n",
      "| 0328251|   201908|   Web|\n",
      "| 0387108|   201906|   Web|\n",
      "| 0388535|   201905|   Web|\n",
      "| 0497354|   201910|Mobile|\n",
      "+--------+---------+------+\n",
      "only showing top 5 rows\n",
      "\n"
     ]
    }
   ],
   "source": [
    "df_VIR_CANAL_FEATURE.show(5)"
   ]
  },
  {
   "cell_type": "code",
   "execution_count": 14,
   "metadata": {},
   "outputs": [
    {
     "name": "stdout",
     "output_type": "stream",
     "text": [
      "+--------+---------+---------------------------------------+\n",
      "|Idclient|ANNEEMOIS|MEAN_MONTANT_OPERATIONS_PREVIOUS_MONTHS|\n",
      "+--------+---------+---------------------------------------+\n",
      "| 0000001|   201904|                                -2710.0|\n",
      "| 0000001|   201907|                              122020.67|\n",
      "| 0000001|   201910|                                3181.33|\n",
      "| 0000001|   202001|                               33612.02|\n",
      "| 0000005|   201904|                                    0.0|\n",
      "+--------+---------+---------------------------------------+\n",
      "only showing top 5 rows\n",
      "\n"
     ]
    }
   ],
   "source": [
    "df_MONTANT_OPERATIONS_feature.show(5)"
   ]
  },
  {
   "cell_type": "code",
   "execution_count": 15,
   "metadata": {},
   "outputs": [
    {
     "name": "stdout",
     "output_type": "stream",
     "text": [
      "+--------+---------+---------------------------------+\n",
      "|Idclient|ANNEEMOIS|MEAN_NBROPERATION_PREVIOUS_MONTHS|\n",
      "+--------+---------+---------------------------------+\n",
      "| 0000001|   201904|                             2.33|\n",
      "| 0000001|   201907|                             3.33|\n",
      "| 0000001|   201910|                              3.0|\n",
      "| 0000001|   202001|                              3.0|\n",
      "| 0000005|   201904|                              0.0|\n",
      "+--------+---------+---------------------------------+\n",
      "only showing top 5 rows\n",
      "\n"
     ]
    }
   ],
   "source": [
    "df_NBROPERATION_feature.show(5)"
   ]
  },
  {
   "cell_type": "markdown",
   "metadata": {},
   "source": [
    "# Creation de la table Master"
   ]
  },
  {
   "cell_type": "markdown",
   "metadata": {},
   "source": [
    "### Join Features Perimetre & Solde"
   ]
  },
  {
   "cell_type": "code",
   "execution_count": 4,
   "metadata": {},
   "outputs": [],
   "source": [
    "df_master = df_perimetre2.join(df_solde_feature, on=\"Idclient\", how=\"right\")"
   ]
  },
  {
   "cell_type": "code",
   "execution_count": 17,
   "metadata": {},
   "outputs": [
    {
     "name": "stdout",
     "output_type": "stream",
     "text": [
      "+--------+--------+--------------+---+---+--------------+-------------+---------+---------+--------------------------+\n",
      "|Idclient|   genre|MARITAL_STATUS|BPR|age|CUSTOMER_YEARS|       region|AGE_GROUP|ANNEEMOIS|MEAN_SOLDE_PREVIOUS_MONTHS|\n",
      "+--------+--------+--------------+---+---+--------------+-------------+---------+---------+--------------------------+\n",
      "| 0000000| Féminin|      Marié(e)|  1| 64|            23|BP Centre Sud|    55-64|   201904|                   1025.33|\n",
      "| 0000000| Féminin|      Marié(e)|  1| 64|            23|BP Centre Sud|    55-64|   201907|                   1653.37|\n",
      "| 0000000| Féminin|      Marié(e)|  1| 64|            23|BP Centre Sud|    55-64|   201910|                    441.96|\n",
      "| 0000000| Féminin|      Marié(e)|  1| 64|            23|BP Centre Sud|    55-64|   202001|                     87.27|\n",
      "| 0000001|Masculin|      Marié(e)|  1| 51|            21|BP Centre Sud|    45-54|   201904|                  17214.44|\n",
      "| 0000001|Masculin|      Marié(e)|  1| 51|            21|BP Centre Sud|    45-54|   201907|                 121062.74|\n",
      "| 0000001|Masculin|      Marié(e)|  1| 51|            21|BP Centre Sud|    45-54|   201910|                 240661.53|\n",
      "| 0000001|Masculin|      Marié(e)|  1| 51|            21|BP Centre Sud|    45-54|   202001|                 275326.49|\n",
      "| 0000002| Féminin|      Marié(e)|  1| 70|            45|BP Centre Sud|      65+|   201904|                   5757.81|\n",
      "| 0000002| Féminin|      Marié(e)|  1| 70|            45|BP Centre Sud|      65+|   201907|                   3536.96|\n",
      "| 0000002| Féminin|      Marié(e)|  1| 70|            45|BP Centre Sud|      65+|   201910|                       0.0|\n",
      "| 0000002| Féminin|      Marié(e)|  1| 70|            45|BP Centre Sud|      65+|   202001|                   1253.23|\n",
      "| 0000003| Féminin|   Celibataire|  1| 51|            17|BP Centre Sud|    45-54|   201904|                   -800.29|\n",
      "| 0000003| Féminin|   Celibataire|  1| 51|            17|BP Centre Sud|    45-54|   201907|                   -881.56|\n",
      "+--------+--------+--------------+---+---+--------------+-------------+---------+---------+--------------------------+\n",
      "only showing top 14 rows\n",
      "\n"
     ]
    }
   ],
   "source": [
    "df_master.orderBy(\"Idclient\",\"ANNEEMOIS\").show(14)"
   ]
  },
  {
   "cell_type": "code",
   "execution_count": 92,
   "metadata": {},
   "outputs": [],
   "source": [
    "#retourne une liste des noms des colonnes qui contiennent des valeurs nulles ou vides.\n",
    "#vérifier si les colonnes sont vides ou null\n",
    "from pyspark.sql.functions import col\n",
    "\n",
    "def get_null_or_empty_columns(df):\n",
    "    for column in df.columns:\n",
    "        nb = df.filter(df[column].isNull()).count()\n",
    "        # if nb > 0:\n",
    "        print(\"-\"+str(column)+\" null values : \"+str(nb))"
   ]
  },
  {
   "cell_type": "code",
   "execution_count": 93,
   "metadata": {},
   "outputs": [
    {
     "name": "stdout",
     "output_type": "stream",
     "text": [
      "-Idclient null values : 0\n",
      "-genre null values : 16236\n",
      "-MARITAL_STATUS null values : 16236\n",
      "-BPR null values : 16236\n",
      "-age null values : 16236\n",
      "-CUSTOMER_YEARS null values : 16236\n",
      "-region null values : 16236\n",
      "-ANNEEMOIS null values : 0\n",
      "-MEAN_SOLDE_PREVIOUS_MONTHS null values : 0\n"
     ]
    }
   ],
   "source": [
    "get_null_or_empty_columns(df_master)"
   ]
  },
  {
   "cell_type": "code",
   "execution_count": 5,
   "metadata": {},
   "outputs": [],
   "source": [
    "#ce code ajoute des colonnes \"genre\" et \"MARITAL_STATUS\" à un DataFrame appelé df_master2. \n",
    "#Il remplit ces colonnes avec des valeurs basées sur des conditions et des nombres aléatoires générés par la fonction rand(). \n",
    "#Si les colonnes existent déjà dans le DataFrame, les nouvelles valeurs sont mises à jour en fonction des conditions fournies.\n",
    "from pyspark.sql.functions import when, rand\n",
    "\n",
    "df_master2 = df_master.withColumn(\"genre\", when(df_master[\"genre\"].isNull(), when(rand() > 0.5, \"Masculin\").otherwise(\"Féminin\")).otherwise(df_master[\"genre\"]))\n",
    "df_master2 = df_master2.withColumn(\"MARITAL_STATUS\", when(df_master2[\"MARITAL_STATUS\"].isNull(), when(rand() > 0.5, \"Celibataire\").otherwise(\"Marié(e)\")).otherwise(df_master2[\"MARITAL_STATUS\"]))\n",
    "df_master2 = df_master2.withColumn(\"MARITAL_STATUS\", when(df_master2[\"MARITAL_STATUS\"].isNull(), when(rand() > 0.5, \"Celibataire\").otherwise(\"Marié(e)\")).otherwise(df_master2[\"MARITAL_STATUS\"]))"
   ]
  },
  {
   "cell_type": "code",
   "execution_count": 6,
   "metadata": {},
   "outputs": [],
   "source": [
    "#ajoute une colonne aléatoire \"random\" au DataFrame df_master2 et utilise cette colonne pour mettre à jour la colonne \"BPR\" du DataFrame. \n",
    "#Les valeurs spécifiques de la liste BPR_values sont utilisées pour remplacer les valeurs nulles de \"BPR\" selon les conditions fournies. \n",
    "#Enfin, la colonne \"random\" est supprimée et la valeur '0' dans la colonne \"BPR\" est remplacée par '1'.\n",
    "from pyspark.sql.functions import when, rand, floor\n",
    "BPR_values = [1,17,78,27,48,43,45,50,57,64,81,90,30,40]\n",
    "n = len(BPR_values)\n",
    "\n",
    "df_master2 = df_master2.withColumn(\"random\", floor(n*rand()))\n",
    "for i in range(n):\n",
    "    df_master2 = df_master2.withColumn(\"BPR\", when((df_master2[\"BPR\"].isNull()) & (df_master2[\"random\"] == i), BPR_values[i]).otherwise(df_master2[\"BPR\"]))\n",
    "\n",
    "# Supprimer la colonne \"random\"\n",
    "df_master2 = df_master2.drop(\"random\")\n",
    "\n",
    "# Remplacer la valeur 0 par 1\n",
    "df_master2 = df_master2.withColumn(\"BPR\", when(df_master2[\"BPR\"] == '0', '1').otherwise(df_master2[\"BPR\"]))\n"
   ]
  },
  {
   "cell_type": "code",
   "execution_count": 20,
   "metadata": {},
   "outputs": [],
   "source": [
    "#retourne une liste des noms des colonnes qui contiennent des valeurs nulles ou vides.\n",
    "#vérifier si les colonnes sont vides ou null\n",
    "from pyspark.sql.functions import col\n",
    "\n",
    "def get_null_or_empty_columns(df):\n",
    "    for column in df.columns:\n",
    "        nb = df.filter(df[column].isNull()).count()\n",
    "        # if nb > 0:\n",
    "        print(\"-\"+str(column)+\" null values : \"+str(nb))"
   ]
  },
  {
   "cell_type": "code",
   "execution_count": 97,
   "metadata": {
    "editable": true,
    "slideshow": {
     "slide_type": ""
    },
    "tags": []
   },
   "outputs": [
    {
     "name": "stdout",
     "output_type": "stream",
     "text": [
      "-Idclient null values : 0\n",
      "-genre null values : 16236\n",
      "-MARITAL_STATUS null values : 16236\n",
      "-BPR null values : 16236\n",
      "-age null values : 16236\n",
      "-CUSTOMER_YEARS null values : 16236\n",
      "-region null values : 16236\n",
      "-ANNEEMOIS null values : 0\n",
      "-MEAN_SOLDE_PREVIOUS_MONTHS null values : 0\n"
     ]
    }
   ],
   "source": [
    "get_null_or_empty_columns(df_master)"
   ]
  },
  {
   "cell_type": "code",
   "execution_count": 27,
   "metadata": {},
   "outputs": [],
   "source": [
    "# df_master2.describe(\"ANNEEMOIS\",\"BPR\",\"MEAN_SOLDE_PREVIOUS_MONTHS\").show()"
   ]
  },
  {
   "cell_type": "code",
   "execution_count": 7,
   "metadata": {},
   "outputs": [],
   "source": [
    "df_master2 = df_master2.join(df_MVTDEB_feature, [\"Idclient\", \"ANNEEMOIS\"], \"inner\")\n",
    "df_master2 = df_master2.join(df_NBMVTDB_feature, [\"Idclient\", \"ANNEEMOIS\"], \"inner\")\n",
    "df_master2 = df_master2.join(df_MVTCRED_feature, [\"Idclient\", \"ANNEEMOIS\"], \"inner\")\n",
    "df_master2 = df_master2.join(df_NBMVTCRE_feature, [\"Idclient\", \"ANNEEMOIS\"], \"inner\")"
   ]
  },
  {
   "cell_type": "code",
   "execution_count": 102,
   "metadata": {},
   "outputs": [],
   "source": [
    "# df_master2.show(20)"
   ]
  },
  {
   "cell_type": "code",
   "execution_count": 30,
   "metadata": {},
   "outputs": [],
   "source": [
    "# df_getfac_feature.describe().show()\n",
    "# df_master2.describe().show()"
   ]
  },
  {
   "cell_type": "code",
   "execution_count": 31,
   "metadata": {},
   "outputs": [],
   "source": [
    "# df_master2_not_in_getfac = df_master2.join(df_getfac_feature, on=['Idclient', 'ANNEEMOIS'], how='left_anti')\n",
    "# print(\"Nombre de lignes dans df_master2 qui ne sont pas dans df_getfac_feature : \", df_master2_not_in_getfac.count())\n",
    "\n",
    "# df_getfac_not_in_master2 = df_getfac_feature.join(df_master2, on=['Idclient', 'ANNEEMOIS'], how='left_anti')\n",
    "# print(\"Nombre de lignes dans df_getfac_feature qui ne sont pas dans df_master2 : \", df_getfac_not_in_master2.count())\n"
   ]
  },
  {
   "cell_type": "raw",
   "metadata": {},
   "source": [
    "Nombre de lignes dans df_master2 qui ne sont pas dans df_getfac_feature :  3370556\n",
    "Nombre de lignes dans df_getfac_feature qui ne sont pas dans df_master2 :  4"
   ]
  },
  {
   "cell_type": "markdown",
   "metadata": {},
   "source": [
    "### Join Features getfac"
   ]
  },
  {
   "cell_type": "code",
   "execution_count": 8,
   "metadata": {},
   "outputs": [],
   "source": [
    "df_master3 = df_master2.join(df_getfac_feature, on=['Idclient', 'ANNEEMOIS'], how='left')"
   ]
  },
  {
   "cell_type": "code",
   "execution_count": null,
   "metadata": {},
   "outputs": [],
   "source": [
    "df_master3.show(10)"
   ]
  },
  {
   "cell_type": "code",
   "execution_count": 33,
   "metadata": {},
   "outputs": [],
   "source": [
    "# df_master3.describe(\"ANNEEMOIS\", \"MEAN_MONTANTFACTURE\").show()"
   ]
  },
  {
   "cell_type": "code",
   "execution_count": 9,
   "metadata": {},
   "outputs": [],
   "source": [
    "df_master3= df_master3.fillna(0)"
   ]
  },
  {
   "cell_type": "code",
   "execution_count": 35,
   "metadata": {},
   "outputs": [],
   "source": [
    "# df_master3.describe(\"MEAN_SOLDE_PREVIOUS_MONTHS\", \"MEAN_MONTANTFACTURE\").show()"
   ]
  },
  {
   "cell_type": "code",
   "execution_count": 36,
   "metadata": {},
   "outputs": [],
   "source": [
    "# df_getvir_not_in_master2 = df_getvir_feature.join(df_master2, on=['Idclient', 'ANNEEMOIS'], how='left_anti')\n",
    "# print(\"Nombre de lignes dans df_getvir_feature qui ne sont pas dans df_master2 : \", df_getvir_not_in_master2.count())\n"
   ]
  },
  {
   "cell_type": "raw",
   "metadata": {},
   "source": [
    "Nombre de lignes dans df_getvir_feature qui ne sont pas dans df_master2 :  0"
   ]
  },
  {
   "cell_type": "markdown",
   "metadata": {},
   "source": [
    "### Join Features getvir"
   ]
  },
  {
   "cell_type": "code",
   "execution_count": 10,
   "metadata": {},
   "outputs": [],
   "source": [
    "df_master4 = df_master3.join(df_getvir_feature, on=['Idclient', 'ANNEEMOIS'], how='left')"
   ]
  },
  {
   "cell_type": "code",
   "execution_count": 38,
   "metadata": {},
   "outputs": [],
   "source": [
    "# df_master4.show(10)\n"
   ]
  },
  {
   "cell_type": "code",
   "execution_count": 11,
   "metadata": {},
   "outputs": [],
   "source": [
    "df_master4=df_master4.fillna(0)\n",
    "# df_master4.describe(\"MEAN_SOLDE_PREVIOUS_MONTHS\", \"MEAN_MONTANTVIREMENT\").show()"
   ]
  },
  {
   "cell_type": "code",
   "execution_count": 40,
   "metadata": {},
   "outputs": [],
   "source": [
    "# df_MONTANT_OPERATIONS_feature_not_in_master2 = df_MONTANT_OPERATIONS_feature.join(df_master4, on=['Idclient', 'ANNEEMOIS'], how='left_anti')\n",
    "# print(\"Nombre de lignes dans df_MONTANT_OPERATIONS_feature qui ne sont pas dans df_master2 : \", df_MONTANT_OPERATIONS_feature_not_in_master2.count())\n"
   ]
  },
  {
   "cell_type": "markdown",
   "metadata": {},
   "source": [
    "### Join Features Operation Agence"
   ]
  },
  {
   "cell_type": "raw",
   "metadata": {},
   "source": [
    "Nombre de lignes dans df_MONTANT_OPERATIONS_feature qui ne sont pas dans df_master2 :  20\n"
   ]
  },
  {
   "cell_type": "code",
   "execution_count": 41,
   "metadata": {},
   "outputs": [],
   "source": [
    "# df_MONTANT_OPERATIONS_feature.describe().show()"
   ]
  },
  {
   "cell_type": "code",
   "execution_count": 12,
   "metadata": {},
   "outputs": [],
   "source": [
    "df_master5 = df_master4.join(df_MONTANT_OPERATIONS_feature, on=['Idclient', 'ANNEEMOIS'], how='left')"
   ]
  },
  {
   "cell_type": "code",
   "execution_count": 43,
   "metadata": {},
   "outputs": [],
   "source": [
    "# df_master5.show()"
   ]
  },
  {
   "cell_type": "code",
   "execution_count": 13,
   "metadata": {},
   "outputs": [],
   "source": [
    "df_master5 = df_master5.fillna(0)\n",
    "# df_master5.describe(\"MEAN_SOLDE_PREVIOUS_MONTHS\", \"MEAN_MONTANT_OPERATIONS_PREVIOUS_MONTHS\").show()"
   ]
  },
  {
   "cell_type": "code",
   "execution_count": 14,
   "metadata": {},
   "outputs": [],
   "source": [
    "df_master6 = df_master5.join(df_NBROPERATION_feature, on=['Idclient', 'ANNEEMOIS'], how='left')"
   ]
  },
  {
   "cell_type": "code",
   "execution_count": 15,
   "metadata": {},
   "outputs": [],
   "source": [
    "df_master6= df_master6.fillna(0)\n",
    "#df_master6.describe(\"MEAN_MONTANT_OPERATIONS_PREVIOUS_MONTHS\", \"MEAN_NBROPERATION_PREVIOUS_MONTHS\").show()\n",
    "#df_master6.show(5)\n"
   ]
  },
  {
   "cell_type": "markdown",
   "metadata": {},
   "source": [
    "### Join Features Satatut Connexion"
   ]
  },
  {
   "cell_type": "code",
   "execution_count": 48,
   "metadata": {},
   "outputs": [],
   "source": [
    "# csv_path2 = r\"C:\\Users\\DELL XPS\\Desktop\\data\\new\\tables pre traite\\tables mean\\df_statut_connexion2.csv\"\n",
    "\n",
    "# df_statut_connexion2 = spark.read.csv(csv_path2, header=True, inferSchema=True)"
   ]
  },
  {
   "cell_type": "code",
   "execution_count": 49,
   "metadata": {},
   "outputs": [
    {
     "name": "stdout",
     "output_type": "stream",
     "text": [
      "+----------+-------------+---------------+---------------+-----------+--------+-------------+--------------+---------------+------------+-----+----+-------------------+\n",
      "|CREATEDATE|LASTLOGINDATE|     CONNECTION|CONNECTIONCOUNT|ISLOCKEDOUT|Idclient|DAYS_CREATION|DAYS_LASTLOGIN|LOGIN_FREQUENCY|ACTIVE_RATIO|ANNEE|MOIS|ANNEEMOIS_LastLogin|\n",
      "+----------+-------------+---------------+---------------+-----------+--------+-------------+--------------+---------------+------------+-----+----+-------------------+\n",
      "|2019-04-12|   2019-04-12|Jamais Connecte|              0|      false|  198219|          264|           264|            0.0|         1.0| 2019|   4|             201904|\n",
      "|2019-10-04|   2019-10-04|Jamais Connecte|              0|      false|  143526|           89|            89|            0.0|         1.0| 2019|  10|             201910|\n",
      "|2017-06-04|   2019-06-01|Connecte Reussi|             77|      false|  386264|          941|           214|        0.08183|     0.22742| 2019|   6|             201906|\n",
      "|2019-12-20|   2019-12-20|Jamais Connecte|              0|      false|  390251|           12|            12|            0.0|         1.0| 2019|  12|             201912|\n",
      "|2018-12-12|   2019-02-18|Connecte Reussi|              2|      false|  329389|          385|           317|        0.00519|     0.82338| 2019|   2|             201902|\n",
      "|2018-10-20|   2019-12-19|Connecte Reussi|             16|      false|  349082|          438|            13|        0.03653|     0.02968| 2019|  12|             201912|\n",
      "|2017-09-28|   2019-03-28|Connecte Reussi|             90|      false|  287551|          825|           279|        0.10909|     0.33818| 2019|   3|             201903|\n",
      "|2018-09-06|   2019-01-25|Connecte Reussi|             10|      false|  286892|          482|           341|        0.02075|     0.70747| 2019|   1|             201901|\n",
      "|2017-08-10|   2019-09-08|Connecte Reussi|            264|      false|   56440|          874|           115|        0.30206|     0.13158| 2019|   9|             201909|\n",
      "|2018-10-13|   2019-09-30|Connecte Reussi|              3|      false|   41278|          445|            93|        0.00674|     0.20899| 2019|   9|             201909|\n",
      "|2019-05-31|   2019-05-31|Jamais Connecte|              0|      false|   55646|          215|           215|            0.0|         1.0| 2019|   5|             201905|\n",
      "|2019-04-12|   2019-04-12|Jamais Connecte|              0|      false|  308112|          264|           264|            0.0|         1.0| 2019|   4|             201904|\n",
      "|2019-10-11|   2019-10-11|Jamais Connecte|              0|      false|  424137|           82|            82|            0.0|         1.0| 2019|  10|             201910|\n",
      "|2019-12-31|   2019-12-31|Jamais Connecte|              0|      false|  260075|            1|             1|            0.0|         1.0| 2019|  12|             201912|\n",
      "|2019-02-07|   2019-02-07|Jamais Connecte|              0|      false|  220010|          328|           328|            0.0|         1.0| 2019|   2|             201902|\n",
      "|2019-02-11|   2019-02-11|Jamais Connecte|              0|      false|  151356|          324|           324|            0.0|         1.0| 2019|   2|             201902|\n",
      "|2019-02-13|   2019-02-13|Jamais Connecte|              0|      false|  233564|          322|           322|            0.0|         1.0| 2019|   2|             201902|\n",
      "|2019-02-25|   2019-02-25|Jamais Connecte|              0|      false|    8548|          310|           310|            0.0|         1.0| 2019|   2|             201902|\n",
      "|2019-03-30|   2019-03-30|Jamais Connecte|              0|      false|   90164|          277|           277|            0.0|         1.0| 2019|   3|             201903|\n",
      "|2019-04-16|   2019-04-16|Jamais Connecte|              0|      false|  131147|          260|           260|            0.0|         1.0| 2019|   4|             201904|\n",
      "+----------+-------------+---------------+---------------+-----------+--------+-------------+--------------+---------------+------------+-----+----+-------------------+\n",
      "only showing top 20 rows\n",
      "\n"
     ]
    }
   ],
   "source": [
    "df_statut_connexion2.show()"
   ]
  },
  {
   "cell_type": "code",
   "execution_count": 16,
   "metadata": {},
   "outputs": [],
   "source": [
    "df_statut_connexion2 = df_statut_connexion2.withColumn(\"CREATEDATE\", F.to_date(df_statut_connexion2.CREATEDATE, 'yyyy-MM-dd'))\n",
    "df_statut_connexion2 = df_statut_connexion2.withColumn(\"LASTLOGINDATE\", F.to_date(df_statut_connexion2.LASTLOGINDATE, 'yyyy-MM-dd'))"
   ]
  },
  {
   "cell_type": "code",
   "execution_count": 51,
   "metadata": {},
   "outputs": [
    {
     "name": "stdout",
     "output_type": "stream",
     "text": [
      "+----------+-------------+---------------+---------------+-----------+--------+-------------+--------------+---------------+------------+-----+----+-------------------+\n",
      "|CREATEDATE|LASTLOGINDATE|     CONNECTION|CONNECTIONCOUNT|ISLOCKEDOUT|Idclient|DAYS_CREATION|DAYS_LASTLOGIN|LOGIN_FREQUENCY|ACTIVE_RATIO|ANNEE|MOIS|ANNEEMOIS_LastLogin|\n",
      "+----------+-------------+---------------+---------------+-----------+--------+-------------+--------------+---------------+------------+-----+----+-------------------+\n",
      "|2019-04-12|   2019-04-12|Jamais Connecte|              0|      false|  198219|          264|           264|            0.0|         1.0| 2019|   4|             201904|\n",
      "|2019-10-04|   2019-10-04|Jamais Connecte|              0|      false|  143526|           89|            89|            0.0|         1.0| 2019|  10|             201910|\n",
      "|2017-06-04|   2019-06-01|Connecte Reussi|             77|      false|  386264|          941|           214|        0.08183|     0.22742| 2019|   6|             201906|\n",
      "|2019-12-20|   2019-12-20|Jamais Connecte|              0|      false|  390251|           12|            12|            0.0|         1.0| 2019|  12|             201912|\n",
      "|2018-12-12|   2019-02-18|Connecte Reussi|              2|      false|  329389|          385|           317|        0.00519|     0.82338| 2019|   2|             201902|\n",
      "|2018-10-20|   2019-12-19|Connecte Reussi|             16|      false|  349082|          438|            13|        0.03653|     0.02968| 2019|  12|             201912|\n",
      "|2017-09-28|   2019-03-28|Connecte Reussi|             90|      false|  287551|          825|           279|        0.10909|     0.33818| 2019|   3|             201903|\n",
      "|2018-09-06|   2019-01-25|Connecte Reussi|             10|      false|  286892|          482|           341|        0.02075|     0.70747| 2019|   1|             201901|\n",
      "|2017-08-10|   2019-09-08|Connecte Reussi|            264|      false|   56440|          874|           115|        0.30206|     0.13158| 2019|   9|             201909|\n",
      "|2018-10-13|   2019-09-30|Connecte Reussi|              3|      false|   41278|          445|            93|        0.00674|     0.20899| 2019|   9|             201909|\n",
      "|2019-05-31|   2019-05-31|Jamais Connecte|              0|      false|   55646|          215|           215|            0.0|         1.0| 2019|   5|             201905|\n",
      "|2019-04-12|   2019-04-12|Jamais Connecte|              0|      false|  308112|          264|           264|            0.0|         1.0| 2019|   4|             201904|\n",
      "|2019-10-11|   2019-10-11|Jamais Connecte|              0|      false|  424137|           82|            82|            0.0|         1.0| 2019|  10|             201910|\n",
      "|2019-12-31|   2019-12-31|Jamais Connecte|              0|      false|  260075|            1|             1|            0.0|         1.0| 2019|  12|             201912|\n",
      "|2019-02-07|   2019-02-07|Jamais Connecte|              0|      false|  220010|          328|           328|            0.0|         1.0| 2019|   2|             201902|\n",
      "|2019-02-11|   2019-02-11|Jamais Connecte|              0|      false|  151356|          324|           324|            0.0|         1.0| 2019|   2|             201902|\n",
      "|2019-02-13|   2019-02-13|Jamais Connecte|              0|      false|  233564|          322|           322|            0.0|         1.0| 2019|   2|             201902|\n",
      "|2019-02-25|   2019-02-25|Jamais Connecte|              0|      false|    8548|          310|           310|            0.0|         1.0| 2019|   2|             201902|\n",
      "|2019-03-30|   2019-03-30|Jamais Connecte|              0|      false|   90164|          277|           277|            0.0|         1.0| 2019|   3|             201903|\n",
      "|2019-04-16|   2019-04-16|Jamais Connecte|              0|      false|  131147|          260|           260|            0.0|         1.0| 2019|   4|             201904|\n",
      "+----------+-------------+---------------+---------------+-----------+--------+-------------+--------------+---------------+------------+-----+----+-------------------+\n",
      "only showing top 20 rows\n",
      "\n"
     ]
    }
   ],
   "source": [
    "df_statut_connexion2.show()"
   ]
  },
  {
   "cell_type": "code",
   "execution_count": 17,
   "metadata": {},
   "outputs": [],
   "source": [
    "from pyspark.sql.functions import when\n",
    "\n",
    "df_statut_connexion2 = df_statut_connexion2.withColumn('CONNECTION', \n",
    "                                 when(df_statut_connexion2['CONNECTION'] == 'Connecte Reussi', 1).otherwise(0))"
   ]
  },
  {
   "cell_type": "code",
   "execution_count": 53,
   "metadata": {},
   "outputs": [],
   "source": [
    "# df_statut_connexion2.show()"
   ]
  },
  {
   "cell_type": "code",
   "execution_count": 18,
   "metadata": {},
   "outputs": [],
   "source": [
    "df_statut_connexion_features = df_statut_connexion2.select(\"Idclient\", \"CONNECTION\" , \"ACTIVE_RATIO\", \"ANNEEMOIS_LastLogin\" )"
   ]
  },
  {
   "cell_type": "code",
   "execution_count": 55,
   "metadata": {},
   "outputs": [],
   "source": [
    "# df_statut_connexion_features.show()"
   ]
  },
  {
   "cell_type": "code",
   "execution_count": 22,
   "metadata": {},
   "outputs": [
    {
     "data": {
      "text/plain": [
       "52785"
      ]
     },
     "execution_count": 22,
     "metadata": {},
     "output_type": "execute_result"
    }
   ],
   "source": [
    "df_statut_connexion_features.count()"
   ]
  },
  {
   "cell_type": "code",
   "execution_count": 57,
   "metadata": {},
   "outputs": [],
   "source": [
    "# df_statut_connexion_features_not_in_master6 = df_statut_connexion_features.join(df_master6, on=['Idclient'], how='left_anti')\n",
    "# print(\"Nombre de lignes dans df_statut_connexion_features qui ne sont pas dans df_master6 : \", df_statut_connexion_features_not_in_master6.count())\n"
   ]
  },
  {
   "cell_type": "raw",
   "metadata": {},
   "source": [
    "Nombre de lignes dans df_statut_connexion_features qui ne sont pas dans df_master6 :  7"
   ]
  },
  {
   "cell_type": "code",
   "execution_count": 19,
   "metadata": {},
   "outputs": [],
   "source": [
    "df_master7 = df_master6.join(df_statut_connexion_features, on=['Idclient'], how='left')"
   ]
  },
  {
   "cell_type": "code",
   "execution_count": 59,
   "metadata": {},
   "outputs": [],
   "source": [
    "# df_master7.show()"
   ]
  },
  {
   "cell_type": "code",
   "execution_count": 20,
   "metadata": {},
   "outputs": [],
   "source": [
    "df_master_statconn_features = df_master7.select(\"Idclient\", \"ANNEEMOIS\", \"MARITAL_STATUS\", \"CONNECTION\" , \"ACTIVE_RATIO\", \"ANNEEMOIS_LastLogin\") "
   ]
  },
  {
   "cell_type": "code",
   "execution_count": 33,
   "metadata": {},
   "outputs": [],
   "source": [
    "# df_master_statconn_features.orderBy(\"Idclient\",\"ANNEEMOIS\").show(30)"
   ]
  },
  {
   "cell_type": "code",
   "execution_count": 21,
   "metadata": {},
   "outputs": [],
   "source": [
    "## definition d'une fonction de calcul des 3 dernieres ANNEEMOIS\n",
    "def get_previous_three_months(anneemois):\n",
    "    year = int(str(anneemois)[:4])\n",
    "    month = int(str(anneemois)[4:])\n",
    "    \n",
    "    previous_months = []\n",
    "    for _ in range(3):\n",
    "        month -= 1\n",
    "        if month <= 0:\n",
    "            year -= 1\n",
    "            month = 12\n",
    "        previous_months.append(year * 100 + month)\n",
    "    \n",
    "    return previous_months"
   ]
  },
  {
   "cell_type": "code",
   "execution_count": 22,
   "metadata": {},
   "outputs": [
    {
     "data": {
      "text/plain": [
       "[201912, 201911, 201910]"
      ]
     },
     "execution_count": 22,
     "metadata": {},
     "output_type": "execute_result"
    }
   ],
   "source": [
    "get_previous_three_months(202001)"
   ]
  },
  {
   "cell_type": "code",
   "execution_count": 23,
   "metadata": {},
   "outputs": [],
   "source": [
    "list_dwp=[201904, 201907, 201910, 202001]"
   ]
  },
  {
   "cell_type": "code",
   "execution_count": 24,
   "metadata": {},
   "outputs": [
    {
     "data": {
      "text/plain": [
       "[202001, 201912, 201911]"
      ]
     },
     "execution_count": 24,
     "metadata": {},
     "output_type": "execute_result"
    }
   ],
   "source": [
    "get_previous_three_months(202002)"
   ]
  },
  {
   "cell_type": "code",
   "execution_count": 25,
   "metadata": {},
   "outputs": [],
   "source": [
    "from pyspark.sql import functions as F\n",
    "\n",
    "# Initialize the new column with 0\n",
    "df_master_statconn_features = df_master_statconn_features.withColumn('Connected recently', F.lit(0))\n",
    "\n",
    "# Iterate over each ANNEEMOIS\n",
    "for dwp in list_dwp:\n",
    "    # Get the last three months\n",
    "    last_three_months = get_previous_three_months(dwp)\n",
    "\n",
    "    # Update the column 'Connected recently' if the condition is met\n",
    "    df_master_statconn_features = df_master_statconn_features.withColumn('Connected recently', \n",
    "    F.when((F.col('ANNEEMOIS') == dwp) & (F.col('CONNECTION') == 1) & (F.col('ANNEEMOIS_LastLogin').isin(last_three_months)), 1)\n",
    "    .otherwise(F.col('Connected recently')))"
   ]
  },
  {
   "cell_type": "code",
   "execution_count": 26,
   "metadata": {},
   "outputs": [],
   "source": [
    "# df_master_statconn_features.show(50)"
   ]
  },
  {
   "cell_type": "code",
   "execution_count": 27,
   "metadata": {},
   "outputs": [],
   "source": [
    "df_master_statconn_featurestestttt = df_master_statconn_features.filter(df_master_statconn_features['Connected recently'] == 1)"
   ]
  },
  {
   "cell_type": "raw",
   "metadata": {},
   "source": [
    "PROBLEME : HOW TO DEAL WITH MISSING VALUES IN THIS NEW TABLE?"
   ]
  },
  {
   "cell_type": "code",
   "execution_count": 28,
   "metadata": {},
   "outputs": [],
   "source": [
    "df_master8 = df_master7.drop(\"CONNECTION\",\"ACTIVE_RATIO\",\"ANNEEMOIS_LastLogin\")"
   ]
  },
  {
   "cell_type": "code",
   "execution_count": 29,
   "metadata": {},
   "outputs": [],
   "source": [
    "df_master_statconn_features2 = df_master_statconn_features.drop(\"MARITAL_STATUS\",\"df_master_statconn_features\",\"ANNEEMOIS_LastLogin\")"
   ]
  },
  {
   "cell_type": "code",
   "execution_count": null,
   "metadata": {},
   "outputs": [],
   "source": [
    " df_master_statconn_features2.show()"
   ]
  },
  {
   "cell_type": "code",
   "execution_count": null,
   "metadata": {},
   "outputs": [],
   "source": [
    "# df_master9 = df_master8.join(df_master_statconn_features2, on=['Idclient','ANNEEMOIS'], how='left')"
   ]
  },
  {
   "cell_type": "code",
   "execution_count": null,
   "metadata": {},
   "outputs": [],
   "source": [
    "# df_master9.show(20)"
   ]
  },
  {
   "cell_type": "code",
   "execution_count": null,
   "metadata": {},
   "outputs": [],
   "source": [
    "# df_master9.describe(\"age\",\"AGE_GROUP\").show()\n"
   ]
  },
  {
   "cell_type": "code",
   "execution_count": null,
   "metadata": {},
   "outputs": [],
   "source": [
    "# df_master9.groupBy(\"CONNECTION\").count().show()"
   ]
  },
  {
   "cell_type": "code",
   "execution_count": null,
   "metadata": {},
   "outputs": [],
   "source": [
    "df_master8"
   ]
  },
  {
   "cell_type": "markdown",
   "metadata": {},
   "source": [
    "### Join Features GAB"
   ]
  },
  {
   "cell_type": "code",
   "execution_count": null,
   "metadata": {},
   "outputs": [],
   "source": [
    "# folder_path2 = r\"C:\\Users\\DELL XPS\\Desktop\\data\\new\\tables pre traite\\tables mean\"\n",
    "\n",
    "# file_names2 = [\"df_gab_montant\", \"df_gab_numoperation\", \"df_hasyousr\"]\n",
    "\n",
    "\n",
    "# for file_name in file_names2:\n",
    "#     csv_path2 = f\"{folder_path2}/{file_name}.csv\"\n",
    "#     globals()[f\"{file_name}\"] = spark.read.csv(csv_path2, header=True, inferSchema=True)"
   ]
  },
  {
   "cell_type": "code",
   "execution_count": 124,
   "metadata": {},
   "outputs": [
    {
     "name": "stdout",
     "output_type": "stream",
     "text": [
      "+--------+---------+----------------+\n",
      "|Idclient|ANNEEMOIS|MEAN_MONTANT_GAB|\n",
      "+--------+---------+----------------+\n",
      "| 0000000|   201904|         2133.33|\n",
      "| 0000000|   201907|         1133.33|\n",
      "| 0000000|   201910|          566.67|\n",
      "| 0000000|   202001|             0.0|\n",
      "| 0000001|   201904|         15100.0|\n",
      "| 0000001|   201907|        12833.33|\n",
      "| 0000001|   201910|        12166.67|\n",
      "| 0000001|   202001|        16666.67|\n",
      "| 0000002|   201904|         2666.67|\n",
      "| 0000002|   201907|         4666.67|\n",
      "| 0000002|   201910|         3766.67|\n",
      "| 0000002|   202001|           700.0|\n",
      "| 0000003|   201904|             0.0|\n",
      "| 0000003|   201907|             0.0|\n",
      "| 0000003|   201910|             0.0|\n",
      "| 0000003|   202001|             0.0|\n",
      "| 0000004|   201904|             0.0|\n",
      "| 0000004|   201907|             0.0|\n",
      "| 0000004|   201910|           200.0|\n",
      "| 0000004|   202001|             0.0|\n",
      "+--------+---------+----------------+\n",
      "only showing top 20 rows\n",
      "\n"
     ]
    }
   ],
   "source": [
    "df_gab_montant.orderBy(\"Idclient\",\"ANNEEMOIS\").show()"
   ]
  },
  {
   "cell_type": "code",
   "execution_count": null,
   "metadata": {},
   "outputs": [],
   "source": [
    "# df_gab_not_in_master = df_gab_montant.join(df_master8, on=['Idclient', 'ANNEEMOIS'], how='left_anti')\n",
    "# print(\"Nombre de lignes dans df_gab_montant qui ne sont pas dans df_master8 : \", df_gab_not_in_master.count())"
   ]
  },
  {
   "cell_type": "code",
   "execution_count": 30,
   "metadata": {},
   "outputs": [],
   "source": [
    "df_master9 = df_master8.join(df_gab_montant, on=['Idclient','ANNEEMOIS'], how='left')"
   ]
  },
  {
   "cell_type": "code",
   "execution_count": null,
   "metadata": {},
   "outputs": [],
   "source": [
    "# df_master9.show()"
   ]
  },
  {
   "cell_type": "code",
   "execution_count": 31,
   "metadata": {},
   "outputs": [],
   "source": [
    "df_master10 = df_master9.join(df_gab_numoperation, on=['Idclient','ANNEEMOIS'], how='left')"
   ]
  },
  {
   "cell_type": "code",
   "execution_count": null,
   "metadata": {},
   "outputs": [],
   "source": [
    "# df_master10.show()"
   ]
  },
  {
   "cell_type": "markdown",
   "metadata": {},
   "source": [
    "### Join Features yousr"
   ]
  },
  {
   "cell_type": "code",
   "execution_count": 32,
   "metadata": {},
   "outputs": [],
   "source": [
    "df_hasyousr = df_hasyousr.withColumnRenamed(\"IdclientYousr\",\"Idclient\")"
   ]
  },
  {
   "cell_type": "code",
   "execution_count": null,
   "metadata": {},
   "outputs": [],
   "source": [
    "# df_hasyousr.show()\n",
    "# df_hasyousr.describe().show()"
   ]
  },
  {
   "cell_type": "code",
   "execution_count": 33,
   "metadata": {},
   "outputs": [],
   "source": [
    "checkyousr= df_master10.select(\"Idclient\",\"ANNEEMOIS\")"
   ]
  },
  {
   "cell_type": "code",
   "execution_count": null,
   "metadata": {},
   "outputs": [],
   "source": [
    "# checkyousr.describe().show()"
   ]
  },
  {
   "cell_type": "code",
   "execution_count": 34,
   "metadata": {},
   "outputs": [],
   "source": [
    "checkyousr = checkyousr.join(df_hasyousr, on='Idclient', how='left')"
   ]
  },
  {
   "cell_type": "code",
   "execution_count": null,
   "metadata": {},
   "outputs": [],
   "source": [
    "# checkyousr.show()\n"
   ]
  },
  {
   "cell_type": "code",
   "execution_count": 37,
   "metadata": {},
   "outputs": [],
   "source": [
    "checkyousr = checkyousr.withColumn(\"HasCreditYousr\", when(checkyousr[\"AUTORISATION\"].isNull(), 0).otherwise(1))"
   ]
  },
  {
   "cell_type": "code",
   "execution_count": null,
   "metadata": {},
   "outputs": [],
   "source": [
    "# checkyousr.orderBy(\"Idclient\",\"ANNEEMOIS\").show()"
   ]
  },
  {
   "cell_type": "code",
   "execution_count": null,
   "metadata": {},
   "outputs": [],
   "source": [
    "# checkyousr.describe().show()"
   ]
  },
  {
   "cell_type": "code",
   "execution_count": null,
   "metadata": {},
   "outputs": [],
   "source": [
    "# checkyousrfiltred = checkyousr.filter(checkyousr.HasCreditYousr == 1)\n"
   ]
  },
  {
   "cell_type": "code",
   "execution_count": null,
   "metadata": {},
   "outputs": [],
   "source": [
    "# checkyousrfiltred.orderBy(\"Idclient\",\"ANNEEMOIS\").show()"
   ]
  },
  {
   "cell_type": "code",
   "execution_count": 38,
   "metadata": {},
   "outputs": [],
   "source": [
    "checkyousr2 = checkyousr.select(\"Idclient\",\"ANNEEMOIS\",\"HasCreditYousr\")"
   ]
  },
  {
   "cell_type": "code",
   "execution_count": 39,
   "metadata": {},
   "outputs": [],
   "source": [
    "df_master11 = df_master10.join(checkyousr2, on=['Idclient','ANNEEMOIS'], how='left')"
   ]
  },
  {
   "cell_type": "code",
   "execution_count": 40,
   "metadata": {},
   "outputs": [],
   "source": [
    "df_master12 = df_master11.join(df_master_statconn_features2, on=['Idclient','ANNEEMOIS'], how='left')"
   ]
  },
  {
   "cell_type": "code",
   "execution_count": null,
   "metadata": {},
   "outputs": [],
   "source": [
    "# df_master11.show()"
   ]
  },
  {
   "cell_type": "markdown",
   "metadata": {},
   "source": [
    "### Join Features Tables cptferm et fermcpt"
   ]
  },
  {
   "cell_type": "markdown",
   "metadata": {},
   "source": [
    "#### Tables de la variable cible"
   ]
  },
  {
   "cell_type": "code",
   "execution_count": 141,
   "metadata": {},
   "outputs": [
    {
     "name": "stdout",
     "output_type": "stream",
     "text": [
      "+--------+-------+-------------------+----+-----+---------+\n",
      "|Idclient|PERIODE|          DATE_FERM|MOIS|ANNEE|TRIMESTRE|\n",
      "+--------+-------+-------------------+----+-----+---------+\n",
      "|  728356|      H|2019-01-05 03:10:39|   1| 2019|        1|\n",
      "|  571747|      H|2019-01-05 03:11:03|   1| 2019|        1|\n",
      "|  522339|      H|2019-01-05 03:10:37|   1| 2019|        1|\n",
      "|  870983|      H|2019-01-05 03:10:38|   1| 2019|        1|\n",
      "|  994068|      H|2019-01-05 03:10:38|   1| 2019|        1|\n",
      "|  351846|      H|2019-01-05 03:10:38|   1| 2019|        1|\n",
      "|  891937|      H|2019-01-05 03:10:53|   1| 2019|        1|\n",
      "|  400758|      H|2019-01-05 03:10:40|   1| 2019|        1|\n",
      "|  756279|      H|2019-01-05 03:10:41|   1| 2019|        1|\n",
      "|  674795|      H|2019-01-05 03:11:05|   1| 2019|        1|\n",
      "|  587470|      H|2019-01-05 03:11:07|   1| 2019|        1|\n",
      "|  763988|      H|2019-01-05 03:10:42|   1| 2019|        1|\n",
      "|  166228|      H|2019-01-05 03:11:07|   1| 2019|        1|\n",
      "|  204061|      H|2019-01-05 03:11:08|   1| 2019|        1|\n",
      "|  720274|      H|2019-01-05 03:10:57|   1| 2019|        1|\n",
      "|  283566|      H|2019-01-05 03:11:00|   1| 2019|        1|\n",
      "|  475261|      H|2019-01-05 03:10:54|   1| 2019|        1|\n",
      "|   64172|      H|2019-01-05 03:10:53|   1| 2019|        1|\n",
      "|  160639|      H|2019-01-05 03:11:00|   1| 2019|        1|\n",
      "|  487944|      H|2019-01-05 03:10:57|   1| 2019|        1|\n",
      "+--------+-------+-------------------+----+-----+---------+\n",
      "only showing top 20 rows\n",
      "\n"
     ]
    }
   ],
   "source": [
    "df_cptferm2019.show()"
   ]
  },
  {
   "cell_type": "code",
   "execution_count": 143,
   "metadata": {},
   "outputs": [
    {
     "name": "stdout",
     "output_type": "stream",
     "text": [
      "+--------+---------------+----------+------------+----+-----+---------+\n",
      "|Idclient|ORIGINE_DEMANDE|DATE_TRAIT|DATE_DEMANDE|MOIS|ANNEE|TRIMESTRE|\n",
      "+--------+---------------+----------+------------+----+-----+---------+\n",
      "|   78447|              C|2019-12-19|  2019-12-19|  12| 2019|        4|\n",
      "|  604576|              C|2019-12-18|  2019-12-18|  12| 2019|        4|\n",
      "|  496352|              C|2019-12-30|  2019-12-30|  12| 2019|        4|\n",
      "|  924991|              C|2019-12-02|  2019-12-02|  12| 2019|        4|\n",
      "|  383604|              C|2019-12-26|  2019-12-26|  12| 2019|        4|\n",
      "|  829291|              C|2019-12-10|  2019-12-10|  12| 2019|        4|\n",
      "|  963589|              C|2019-12-19|  2019-12-19|  12| 2019|        4|\n",
      "|  592652|              C|2019-11-13|  2019-11-13|  11| 2019|        4|\n",
      "|  664694|              C|2019-11-14|  2019-11-14|  11| 2019|        4|\n",
      "|  761465|              C|2019-11-27|  2019-11-27|  11| 2019|        4|\n",
      "|  810109|              C|2019-12-20|  2019-12-20|  12| 2019|        4|\n",
      "|  451810|              C|2019-11-22|  2019-11-22|  11| 2019|        4|\n",
      "|  653077|              C|2019-12-11|  2019-12-11|  12| 2019|        4|\n",
      "|  349207|              C|2019-12-13|  2019-12-13|  12| 2019|        4|\n",
      "|  960015|              C|2019-11-19|  2019-11-19|  11| 2019|        4|\n",
      "|  936395|              C|2019-11-05|  2019-11-05|  11| 2019|        4|\n",
      "|  932604|              A|2019-12-05|  2019-12-05|  12| 2019|        4|\n",
      "|  576133|              C|2019-11-13|  2019-11-13|  11| 2019|        4|\n",
      "|  267639|              C|2019-11-20|  2019-11-20|  11| 2019|        4|\n",
      "|  874681|              C|2019-12-16|  2019-12-16|  12| 2019|        4|\n",
      "+--------+---------------+----------+------------+----+-----+---------+\n",
      "only showing top 20 rows\n",
      "\n"
     ]
    }
   ],
   "source": [
    "df_fermcpt2019.show()"
   ]
  },
  {
   "cell_type": "code",
   "execution_count": 142,
   "metadata": {},
   "outputs": [
    {
     "name": "stdout",
     "output_type": "stream",
     "text": [
      "+--------+---------------+----------+------------+----+-----+---------+\n",
      "|Idclient|ORIGINE_DEMANDE|DATE_TRAIT|DATE_DEMANDE|MOIS|ANNEE|TRIMESTRE|\n",
      "+--------+---------------+----------+------------+----+-----+---------+\n",
      "|  804847|              C|2020-12-10|  2020-12-10|  12| 2020|        4|\n",
      "|  695745|              C|2020-12-15|  2020-12-15|  12| 2020|        4|\n",
      "|  772098|              C|2020-01-29|  2020-01-29|   1| 2020|        1|\n",
      "|  365874|              C|2020-07-14|  2020-07-14|   7| 2020|        3|\n",
      "|  803296|              C|2020-08-06|  2020-08-06|   8| 2020|        3|\n",
      "|  687977|              C|2020-02-05|  2020-02-05|   2| 2020|        1|\n",
      "|  542680|              C|2020-07-27|  2020-07-27|   7| 2020|        3|\n",
      "|   18217|              C|2020-12-14|  2020-12-14|  12| 2020|        4|\n",
      "|  612194|              C|2020-12-21|  2020-12-21|  12| 2020|        4|\n",
      "|   28651|              C|2020-07-13|  2020-07-13|   7| 2020|        3|\n",
      "|  790790|              C|2020-08-24|  2020-08-24|   8| 2020|        3|\n",
      "|  395906|              C|2020-07-06|  2020-07-06|   7| 2020|        3|\n",
      "|  823847|              C|2020-12-22|  2020-12-22|  12| 2020|        4|\n",
      "|  627254|              C|2020-10-09|  2020-10-09|  10| 2020|        4|\n",
      "|  212915|              C|2020-03-02|  2020-03-02|   3| 2020|        1|\n",
      "|  946219|              C|2020-08-03|  2020-08-03|   8| 2020|        3|\n",
      "|  170765|              A|2020-06-17|  2020-06-17|   6| 2020|        2|\n",
      "|   72517|              C|2020-01-09|  2020-01-09|   1| 2020|        1|\n",
      "|  880742|              C|2020-07-28|  2020-07-28|   7| 2020|        3|\n",
      "|  831659|              C|2020-06-09|  2020-06-09|   6| 2020|        2|\n",
      "+--------+---------------+----------+------------+----+-----+---------+\n",
      "only showing top 20 rows\n",
      "\n"
     ]
    }
   ],
   "source": [
    "df_fermcpt2020.show()"
   ]
  },
  {
   "cell_type": "code",
   "execution_count": 41,
   "metadata": {
    "editable": true,
    "slideshow": {
     "slide_type": ""
    },
    "tags": []
   },
   "outputs": [],
   "source": [
    "df_cptferm2019 = df_cptferm2019.withColumn(\"MOIS\", F.lpad(df_cptferm2019[\"MOIS\"], 2, '0'))\n",
    "df_cptferm2019 = df_cptferm2019.withColumn(\"Idclient\", F.lpad(df_cptferm2019[\"Idclient\"], 7, '0'))\n",
    "\n",
    "df_fermcpt2019 = df_fermcpt2019.withColumn(\"MOIS\", F.lpad(df_fermcpt2019[\"MOIS\"], 2, '0'))\n",
    "df_fermcpt2019 = df_fermcpt2019.withColumn(\"Idclient\", F.lpad(df_fermcpt2019[\"Idclient\"], 7, '0'))\n",
    "\n",
    "df_fermcpt2020 = df_fermcpt2020.withColumn(\"MOIS\", F.lpad(df_fermcpt2020[\"MOIS\"], 2, '0'))\n",
    "df_fermcpt2020 = df_fermcpt2020.withColumn(\"Idclient\", F.lpad(df_fermcpt2020[\"Idclient\"], 7, '0'))"
   ]
  },
  {
   "cell_type": "code",
   "execution_count": 42,
   "metadata": {},
   "outputs": [],
   "source": [
    "df_cptferm2019 = df_cptferm2019.withColumn(\"ANNEEMOIS_Fermeture\", F.concat(F.col(\"ANNEE\"), F.col(\"MOIS\")))"
   ]
  },
  {
   "cell_type": "code",
   "execution_count": 43,
   "metadata": {},
   "outputs": [],
   "source": [
    "df_fermcpt2019 = df_fermcpt2019.withColumn(\"ANNEEMOIS_Fermeture\", F.concat(F.col(\"ANNEE\"), F.col(\"MOIS\")))"
   ]
  },
  {
   "cell_type": "code",
   "execution_count": 44,
   "metadata": {},
   "outputs": [],
   "source": [
    "df_fermcpt2020 = df_fermcpt2020.withColumn(\"ANNEEMOIS_Fermeture\", F.concat(F.col(\"ANNEE\"), F.col(\"MOIS\")))"
   ]
  },
  {
   "cell_type": "code",
   "execution_count": 148,
   "metadata": {},
   "outputs": [
    {
     "name": "stdout",
     "output_type": "stream",
     "text": [
      "+--------+---------------+----------+------------+----+-----+---------+-------------------+\n",
      "|Idclient|ORIGINE_DEMANDE|DATE_TRAIT|DATE_DEMANDE|MOIS|ANNEE|TRIMESTRE|ANNEEMOIS_Fermeture|\n",
      "+--------+---------------+----------+------------+----+-----+---------+-------------------+\n",
      "| 0804847|              C|2020-12-10|  2020-12-10|  12| 2020|        4|             202012|\n",
      "| 0695745|              C|2020-12-15|  2020-12-15|  12| 2020|        4|             202012|\n",
      "| 0772098|              C|2020-01-29|  2020-01-29|  01| 2020|        1|             202001|\n",
      "| 0365874|              C|2020-07-14|  2020-07-14|  07| 2020|        3|             202007|\n",
      "| 0803296|              C|2020-08-06|  2020-08-06|  08| 2020|        3|             202008|\n",
      "| 0687977|              C|2020-02-05|  2020-02-05|  02| 2020|        1|             202002|\n",
      "| 0542680|              C|2020-07-27|  2020-07-27|  07| 2020|        3|             202007|\n",
      "| 0018217|              C|2020-12-14|  2020-12-14|  12| 2020|        4|             202012|\n",
      "| 0612194|              C|2020-12-21|  2020-12-21|  12| 2020|        4|             202012|\n",
      "| 0028651|              C|2020-07-13|  2020-07-13|  07| 2020|        3|             202007|\n",
      "| 0790790|              C|2020-08-24|  2020-08-24|  08| 2020|        3|             202008|\n",
      "| 0395906|              C|2020-07-06|  2020-07-06|  07| 2020|        3|             202007|\n",
      "| 0823847|              C|2020-12-22|  2020-12-22|  12| 2020|        4|             202012|\n",
      "| 0627254|              C|2020-10-09|  2020-10-09|  10| 2020|        4|             202010|\n",
      "| 0212915|              C|2020-03-02|  2020-03-02|  03| 2020|        1|             202003|\n",
      "| 0946219|              C|2020-08-03|  2020-08-03|  08| 2020|        3|             202008|\n",
      "| 0170765|              A|2020-06-17|  2020-06-17|  06| 2020|        2|             202006|\n",
      "| 0072517|              C|2020-01-09|  2020-01-09|  01| 2020|        1|             202001|\n",
      "| 0880742|              C|2020-07-28|  2020-07-28|  07| 2020|        3|             202007|\n",
      "| 0831659|              C|2020-06-09|  2020-06-09|  06| 2020|        2|             202006|\n",
      "+--------+---------------+----------+------------+----+-----+---------+-------------------+\n",
      "only showing top 20 rows\n",
      "\n"
     ]
    }
   ],
   "source": [
    "df_fermcpt2020.show()"
   ]
  },
  {
   "cell_type": "code",
   "execution_count": 45,
   "metadata": {},
   "outputs": [],
   "source": [
    "df2_cptferm2019 = df_cptferm2019.select(\"Idclient\",\"PERIODE\", \"ANNEEMOIS_Fermeture\")\n",
    "df2_fermcpt2019 = df_fermcpt2019.select(\"Idclient\",\"ORIGINE_DEMANDE\", \"ANNEEMOIS_Fermeture\")\n",
    "df2_fermcpt2020 = df_fermcpt2020.select(\"Idclient\",\"ORIGINE_DEMANDE\", \"ANNEEMOIS_Fermeture\")"
   ]
  },
  {
   "cell_type": "code",
   "execution_count": null,
   "metadata": {},
   "outputs": [],
   "source": [
    "# df2_cptferm2019.show()"
   ]
  },
  {
   "cell_type": "code",
   "execution_count": null,
   "metadata": {},
   "outputs": [],
   "source": [
    "# df2_fermcpt2019.show()\n",
    "# df2_fermcpt2020.show()"
   ]
  },
  {
   "cell_type": "code",
   "execution_count": null,
   "metadata": {},
   "outputs": [],
   "source": [
    "# # Sélectionner la colonne \"Idclient\" de chaque table\n",
    "# id_clients_df2_cptferm2019 = df2_cptferm2019.select(\"Idclient\")\n",
    "# id_clients_df2_fermcpt2019 = df2_fermcpt2019.select(\"Idclient\")\n",
    "# id_clients_df2_fermcpt2020 = df2_fermcpt2020.select(\"Idclient\")\n",
    "\n",
    "# # Trouver les clients en commun entre les tables\n",
    "# common_clients = id_clients_df2_cptferm2019.intersect(id_clients_df2_fermcpt2019).intersect(id_clients_df2_fermcpt2020)\n",
    "\n",
    "# # Afficher le nombre de clients en commun\n",
    "# print(\"Nombre de clients en commun : \", common_clients.count())\n"
   ]
  },
  {
   "cell_type": "code",
   "execution_count": 46,
   "metadata": {},
   "outputs": [],
   "source": [
    "df2_cptferm2019_all_columns = df2_cptferm2019.select(\"*\")\n",
    "df2_fermcpt2019_all_columns = df2_fermcpt2019.select(\"*\")\n",
    "df2_fermcpt2020_all_columns = df2_fermcpt2020.select(\"*\")\n",
    "table_cible = df2_cptferm2019_all_columns.union(df2_fermcpt2019_all_columns).union(df2_fermcpt2020_all_columns)\n",
    "# table_cible.show()"
   ]
  },
  {
   "cell_type": "code",
   "execution_count": null,
   "metadata": {},
   "outputs": [],
   "source": [
    "# table_cible.orderBy(\"Idclient\").show()"
   ]
  },
  {
   "cell_type": "code",
   "execution_count": 47,
   "metadata": {},
   "outputs": [],
   "source": [
    "from pyspark.sql.functions import col\n",
    "\n",
    "table_cible = table_cible.withColumn(\"Idclient\", col(\"Idclient\").cast(\"integer\"))"
   ]
  },
  {
   "cell_type": "code",
   "execution_count": null,
   "metadata": {},
   "outputs": [],
   "source": [
    "\n",
    "# common_clients = df_master9.select(\"Idclient\").intersect(table_cible.select(\"Idclient\"))\n",
    "# num_common_clients = common_clients.count()\n",
    "\n",
    "# print(\"Nombre d'Idclient en commun : \", num_common_clients)\n"
   ]
  },
  {
   "cell_type": "code",
   "execution_count": null,
   "metadata": {},
   "outputs": [],
   "source": [
    "table_cible.count()\n"
   ]
  },
  {
   "cell_type": "code",
   "execution_count": null,
   "metadata": {},
   "outputs": [],
   "source": [
    "# from pyspark.sql.functions import col\n",
    "\n",
    "# count = table_cible.filter(col(\"ANNEEMOIS_Fermeture\") < \"202005\").count()\n",
    "# print(\"Nombre de lignes avec ANNEEMOIS_Fermeture < 202005 :\", count)\n"
   ]
  },
  {
   "cell_type": "code",
   "execution_count": null,
   "metadata": {},
   "outputs": [],
   "source": [
    "# def get_next_three_months(anneemois):\n",
    "#     year = int(str(anneemois)[:4])\n",
    "#     month = int(str(anneemois)[4:])\n",
    "    \n",
    "#     next_months = []\n",
    "#     for _ in range(3):\n",
    "#         month += 1\n",
    "#         if month > 12:\n",
    "#             year += 1\n",
    "#             month = 1\n",
    "#         next_months.append(year * 100 + month)\n",
    "    \n",
    "#     return next_months\n"
   ]
  },
  {
   "cell_type": "code",
   "execution_count": null,
   "metadata": {},
   "outputs": [],
   "source": [
    "# get_next_three_months(201911)"
   ]
  },
  {
   "cell_type": "code",
   "execution_count": null,
   "metadata": {},
   "outputs": [],
   "source": [
    "# all_months = [201901, 201902, 201903, 201904, 201905, 201906, 201907, 201908, 201909, 201910, 201911, 201912, 202001]"
   ]
  },
  {
   "cell_type": "code",
   "execution_count": null,
   "metadata": {},
   "outputs": [],
   "source": [
    "# from pyspark.sql.functions import col\n",
    "\n",
    "# # Jointure de la table master avec la table des variables cibles\n",
    "# df_master10 = df_master9.join(table_cible, [\"Idclient\"], \"left_outer\")\n",
    "\n"
   ]
  },
  {
   "cell_type": "code",
   "execution_count": 152,
   "metadata": {},
   "outputs": [
    {
     "name": "stdout",
     "output_type": "stream",
     "text": [
      "+--------+-------+-------------------+\n",
      "|Idclient|PERIODE|ANNEEMOIS_Fermeture|\n",
      "+--------+-------+-------------------+\n",
      "|  728356|      H|             201901|\n",
      "|  571747|      H|             201901|\n",
      "|  522339|      H|             201901|\n",
      "|  870983|      H|             201901|\n",
      "|  994068|      H|             201901|\n",
      "|  351846|      H|             201901|\n",
      "|  891937|      H|             201901|\n",
      "|  400758|      H|             201901|\n",
      "|  756279|      H|             201901|\n",
      "|  674795|      H|             201901|\n",
      "|  587470|      H|             201901|\n",
      "|  763988|      H|             201901|\n",
      "|  166228|      H|             201901|\n",
      "|  204061|      H|             201901|\n",
      "|  720274|      H|             201901|\n",
      "|  283566|      H|             201901|\n",
      "|  475261|      H|             201901|\n",
      "|   64172|      H|             201901|\n",
      "|  160639|      H|             201901|\n",
      "|  487944|      H|             201901|\n",
      "+--------+-------+-------------------+\n",
      "only showing top 20 rows\n",
      "\n"
     ]
    }
   ],
   "source": [
    "table_cible.show()"
   ]
  },
  {
   "cell_type": "code",
   "execution_count": null,
   "metadata": {},
   "outputs": [],
   "source": [
    "# df_master10.select(\"ANNEEMOIS_Fermeture\").count()"
   ]
  },
  {
   "cell_type": "code",
   "execution_count": 48,
   "metadata": {},
   "outputs": [],
   "source": [
    "df_master_Ids = df_master9.select(\"Idclient\",\"ANNEEMOIS\")"
   ]
  },
  {
   "cell_type": "code",
   "execution_count": 155,
   "metadata": {},
   "outputs": [],
   "source": [
    "# df_master_Ids.show()"
   ]
  },
  {
   "cell_type": "markdown",
   "metadata": {
    "editable": true,
    "slideshow": {
     "slide_type": ""
    },
    "tags": []
   },
   "source": [
    "#### join feature cible"
   ]
  },
  {
   "cell_type": "code",
   "execution_count": 49,
   "metadata": {},
   "outputs": [],
   "source": [
    "df_master_cible = df_master_Ids.join(table_cible, \"Idclient\", \"left\")"
   ]
  },
  {
   "cell_type": "code",
   "execution_count": null,
   "metadata": {},
   "outputs": [],
   "source": [
    "# df_maser_cible.show()"
   ]
  },
  {
   "cell_type": "code",
   "execution_count": null,
   "metadata": {},
   "outputs": [],
   "source": [
    "# df_filtered1 = df_master_cible.filter(df_master_cible.ANNEEMOIS_Fermeture.isNotNull())\n",
    "# df_filtered1.count()"
   ]
  },
  {
   "cell_type": "code",
   "execution_count": 50,
   "metadata": {},
   "outputs": [],
   "source": [
    "from pyspark.sql.functions import floor, col\n",
    "\n",
    "# Extraire l'année et le mois de la colonne ANNEEMOIS\n",
    "df_master_cible = df_master_cible.withColumn('Year', floor(col('ANNEEMOIS')/100))\n",
    "df_master_cible = df_master_cible.withColumn('Month', col('ANNEEMOIS')%100)\n",
    "\n",
    "# Extraire l'année et le mois de la colonne ANNEEMOIS_Fermeture\n",
    "df_master_cible = df_master_cible.withColumn('Year_Fermeture', floor(col('ANNEEMOIS_Fermeture')/100))\n",
    "df_master_cible = df_master_cible.withColumn('Month_Fermeture', col('ANNEEMOIS_Fermeture')%100)"
   ]
  },
  {
   "cell_type": "code",
   "execution_count": null,
   "metadata": {},
   "outputs": [],
   "source": [
    "# from pyspark.sql.functions import expr\n",
    "\n",
    "# # Créer une nouvelle colonne qui représente la date trois mois plus tard\n",
    "# df_master_cible = df_master_cible.withColumn(\n",
    "#     \"ANNEEMOIS_plus_trois_mois\",\n",
    "#     F.when(\n",
    "#         col('Month') <= 9, \n",
    "#         col('Year')*100 + col('Month') + 3\n",
    "#     ).otherwise(\n",
    "#         (col('Year') + 1)*100 + (col('Month') + 3 - 12)\n",
    "#     )\n",
    "# )\n",
    "\n"
   ]
  },
  {
   "cell_type": "code",
   "execution_count": null,
   "metadata": {},
   "outputs": [],
   "source": [
    "# # Créer une nouvelle colonne qui indique si l'ANNEEMOIS_Fermeture est dans le trimestre qui suit l'ANNEEMOIS\n",
    "# df_master_cible = df_master_cible.withColumn(\n",
    "#     \"churn_next_trim\",\n",
    "#     F.when(\n",
    "#         (col('ANNEEMOIS_Fermeture') <= col('ANNEEMOIS_plus_trois_mois')) &\n",
    "#         (col('ANNEEMOIS_Fermeture') >= col('ANNEEMOIS')), \n",
    "#         1\n",
    "#     ).otherwise(0)\n",
    "# )\n",
    "\n",
    "# # Afficher les résultats\n",
    "# df_master_cible.show()\n"
   ]
  },
  {
   "cell_type": "code",
   "execution_count": null,
   "metadata": {},
   "outputs": [],
   "source": [
    "# df_master_cible = df_master_cible.drop(\"ANNEEMOIS_plus_trois_mois\",\"churn_next_trim\")"
   ]
  },
  {
   "cell_type": "code",
   "execution_count": 51,
   "metadata": {},
   "outputs": [],
   "source": [
    "from pyspark.sql.functions import expr\n",
    "\n",
    "# Créer une nouvelle colonne qui représente la date deux mois plus tard\n",
    "df_master_cible = df_master_cible.withColumn(\n",
    "    \"ANNEEMOIS_plus_deux_mois\",\n",
    "    F.when(\n",
    "        col('Month') <= 10, \n",
    "        col('Year')*100 + col('Month') + 2\n",
    "    ).otherwise(\n",
    "        (col('Year') + 1)*100 + (col('Month') - 10 + 2)\n",
    "    )\n",
    ")"
   ]
  },
  {
   "cell_type": "code",
   "execution_count": 160,
   "metadata": {},
   "outputs": [],
   "source": [
    "# df_master_cible.show()"
   ]
  },
  {
   "cell_type": "code",
   "execution_count": 52,
   "metadata": {},
   "outputs": [],
   "source": [
    "# Créer une nouvelle colonne qui indique si l'ANNEEMOIS_Fermeture est pendant l'ANNEEMOIS ou les deux mois suivants\n",
    "df_master_cible = df_master_cible.withColumn(\n",
    "    \"Churn_next_trim\",\n",
    "    F.when(\n",
    "        (col('ANNEEMOIS_Fermeture') <= col('ANNEEMOIS_plus_deux_mois')) &\n",
    "        (col('ANNEEMOIS_Fermeture') >= col('ANNEEMOIS')), \n",
    "        1\n",
    "    ).otherwise(0)\n",
    ")"
   ]
  },
  {
   "cell_type": "code",
   "execution_count": null,
   "metadata": {},
   "outputs": [],
   "source": [
    "# df_filtered = df_master_cible.filter(df_master_cible.Churn_next_trim == 1)\n",
    "# df_filtered.show()"
   ]
  },
  {
   "cell_type": "code",
   "execution_count": null,
   "metadata": {},
   "outputs": [],
   "source": [
    "# df_filtered.groupBy(\"ANNEEMOIS_Fermeture\").count().show()"
   ]
  },
  {
   "cell_type": "code",
   "execution_count": null,
   "metadata": {},
   "outputs": [],
   "source": [
    "# df_master_cible.show()"
   ]
  },
  {
   "cell_type": "code",
   "execution_count": 53,
   "metadata": {},
   "outputs": [],
   "source": [
    "df_master_cible2 = df_master_cible.drop(\"Year\",\"Month\",\"Year_Fermeture\",\"Month_Fermeture\",\"ANNEEMOIS_plus_deux_mois\")"
   ]
  },
  {
   "cell_type": "code",
   "execution_count": null,
   "metadata": {},
   "outputs": [],
   "source": [
    "df_master_cible2.show(100)"
   ]
  },
  {
   "cell_type": "code",
   "execution_count": null,
   "metadata": {},
   "outputs": [],
   "source": [
    "df_master_cible2.count()"
   ]
  },
  {
   "cell_type": "code",
   "execution_count": 54,
   "metadata": {},
   "outputs": [],
   "source": [
    "df_filtered = df_master_cible2.filter(df_master_cible2.Churn_next_trim == 1)"
   ]
  },
  {
   "cell_type": "code",
   "execution_count": null,
   "metadata": {},
   "outputs": [],
   "source": [
    "df_filtered.show(100)"
   ]
  },
  {
   "cell_type": "code",
   "execution_count": null,
   "metadata": {
    "scrolled": true
   },
   "outputs": [],
   "source": [
    "df_filtered.count()"
   ]
  },
  {
   "cell_type": "code",
   "execution_count": 55,
   "metadata": {},
   "outputs": [],
   "source": [
    "df_filtered2 = df_master_cible2.filter(df_master_cible2.Churn_next_trim == 1)"
   ]
  },
  {
   "cell_type": "code",
   "execution_count": 56,
   "metadata": {},
   "outputs": [],
   "source": [
    "df_master_cible3 = df_master_cible2.select(\"Idclient\",\"ANNEEMOIS\",\"Churn_next_trim\")"
   ]
  },
  {
   "cell_type": "code",
   "execution_count": null,
   "metadata": {},
   "outputs": [],
   "source": [
    "# df_master_cible3.show()"
   ]
  },
  {
   "cell_type": "markdown",
   "metadata": {},
   "source": [
    "## Construction de la table master finale :"
   ]
  },
  {
   "cell_type": "code",
   "execution_count": 57,
   "metadata": {},
   "outputs": [
    {
     "name": "stdout",
     "output_type": "stream",
     "text": [
      "root\n",
      " |-- Idclient: string (nullable = true)\n",
      " |-- ANNEEMOIS: string (nullable = true)\n",
      " |-- CUSTOMER_SINCE: string (nullable = true)\n",
      " |-- DATE_NAISSANCE: string (nullable = true)\n",
      " |-- genre: string (nullable = true)\n",
      " |-- MARITAL_STATUS: string (nullable = true)\n",
      " |-- BPR: string (nullable = true)\n",
      " |-- age: integer (nullable = true)\n",
      " |-- CUSTOMER_YEARS: integer (nullable = true)\n",
      " |-- region: string (nullable = true)\n",
      " |-- AGE_GROUP: string (nullable = true)\n",
      " |-- MEAN_SOLDE_PREVIOUS_MONTHS: double (nullable = false)\n",
      " |-- MEAN_MVTDEB_PREVIOUS_MONTHS: double (nullable = false)\n",
      " |-- MEAN_NBMVTDB_PREVIOUS_MONTHS: double (nullable = false)\n",
      " |-- MEAN_MVTCRED_PREVIOUS_MONTHS: double (nullable = false)\n",
      " |-- MEAN_NBMVTCRE_PREVIOUS_MONTHS: double (nullable = false)\n",
      " |-- MEAN_MONTANTFACTURE: double (nullable = false)\n",
      " |-- MEAN_MONTANTVIREMENT: double (nullable = false)\n",
      " |-- MEAN_MONTANT_OPERATIONS_PREVIOUS_MONTHS: double (nullable = false)\n",
      " |-- MEAN_NBROPERATION_PREVIOUS_MONTHS: double (nullable = false)\n",
      " |-- MEAN_MONTANT_GAB: double (nullable = true)\n",
      " |-- MEAN_NUM_OPERATION_GAB: double (nullable = true)\n",
      " |-- HasCreditYousr: integer (nullable = true)\n",
      " |-- CONNECTION: integer (nullable = true)\n",
      " |-- ACTIVE_RATIO: double (nullable = true)\n",
      " |-- Connected recently: integer (nullable = true)\n",
      "\n"
     ]
    }
   ],
   "source": [
    "df_master12.printSchema()"
   ]
  },
  {
   "cell_type": "code",
   "execution_count": 58,
   "metadata": {
    "editable": true,
    "slideshow": {
     "slide_type": ""
    },
    "tags": []
   },
   "outputs": [],
   "source": [
    "master_table = df_master12.join(df_master_cible3, on=['Idclient','ANNEEMOIS'], how='left')"
   ]
  },
  {
   "cell_type": "code",
   "execution_count": 59,
   "metadata": {},
   "outputs": [],
   "source": [
    "master_table_backup = master_table"
   ]
  },
  {
   "cell_type": "markdown",
   "metadata": {},
   "source": [
    "#### repllacer les valeur null"
   ]
  },
  {
   "cell_type": "code",
   "execution_count": 171,
   "metadata": {},
   "outputs": [],
   "source": [
    "#retourne une liste des noms des colonnes qui contiennent des valeurs nulles ou vides.\n",
    "#vérifier si les colonnes sont vides ou null\n",
    "from pyspark.sql.functions import col\n",
    "\n",
    "def get_null_or_empty_columns(df):\n",
    "    for column in df.columns:\n",
    "        nb = df.filter(df[column].isNull()).count()\n",
    "        # if nb > 0:\n",
    "        print(\"-\"+str(column)+\" null values : \"+str(nb))"
   ]
  },
  {
   "cell_type": "code",
   "execution_count": 173,
   "metadata": {},
   "outputs": [],
   "source": [
    "# get_null_or_empty_columns(master_table)"
   ]
  },
  {
   "cell_type": "code",
   "execution_count": 60,
   "metadata": {},
   "outputs": [],
   "source": [
    "master_table2 = master_table.fillna({\"AGE_GROUP\": 45-54 })\n",
    "master_table2 = master_table2.fillna({\"MEAN_SOLDE_PREVIOUS_MONTHS\": 0 })\n",
    "master_table3 = master_table2.fillna({\"MEAN_MVTDEB_PREVIOUS_MONTHS\": 0 })\n",
    "master_table3 = master_table3.fillna({\"MEAN_NBMVTDB_PREVIOUS_MONTHS\": 0 })\n",
    "master_table3 = master_table3.fillna({\"MEAN_MVTCRED_PREVIOUS_MONTHS\": 0 })\n",
    "master_table3 = master_table3.fillna({\"MEAN_MONTANTFACTURE\": 0 })\n",
    "master_table3 = master_table3.fillna({\"MEAN_MONTANTVIREMENT\": 0 })\n",
    "master_table3 = master_table3.fillna({\"MEAN_MONTANT_OPERATIONS_PREVIOUS_MONTHS\": 0 })\n",
    "master_table3 = master_table3.fillna({\"MEAN_NBROPERATION_PREVIOUS_MONTHS\": 0 })\n",
    "master_table3 = master_table3.fillna({\"MEAN_MONTANT_GAB\": 0 })\n",
    "master_table3 = master_table3.fillna({\"MEAN_NUM_OPERATION_GAB\": 0 })\n",
    "master_table3 = master_table3.fillna({\"HasCreditYousr\": 0 })\n",
    "master_table3 = master_table3.fillna({\"CONNECTION\": 0 })\n",
    "master_table3 = master_table3.fillna({\"ACTIVE_RATIO\": 1 })\n",
    "master_table3 = master_table3.fillna({\"Connected recently\": 1 })"
   ]
  },
  {
   "cell_type": "markdown",
   "metadata": {},
   "source": [
    "#### renommer les features"
   ]
  },
  {
   "cell_type": "code",
   "execution_count": 61,
   "metadata": {
    "editable": true,
    "slideshow": {
     "slide_type": ""
    },
    "tags": []
   },
   "outputs": [],
   "source": [
    "master_table4 = master_table3.withColumnRenamed(\"MEAN_SOLDE_PREVIOUS_MONTHS\",\"SOLDE\")\n",
    "master_table4 = master_table4.withColumnRenamed(\"MEAN_MVTDEB_PREVIOUS_MONTHS\",\"MVTDEB\")\n",
    "master_table4 = master_table4.withColumnRenamed(\"MEAN_NBMVTDB_PREVIOUS_MONTHS\",\"NBMVTDB\")\n",
    "master_table4 = master_table4.withColumnRenamed(\"MEAN_MVTCRED_PREVIOUS_MONTHS\",\"MVTCRED\")\n",
    "master_table4 = master_table4.withColumnRenamed(\"MEAN_NBMVTCRE_PREVIOUS_MONTHS\",\"NBMVTCRE\")\n",
    "master_table4 = master_table4.withColumnRenamed(\"MEAN_MONTANTFACTURE\",\"MONTANTFACTURE\")\n",
    "master_table4 = master_table4.withColumnRenamed(\"MEAN_MONTANTVIREMENT\",\"MONTANTVIREMENT\")\n",
    "master_table4 = master_table4.withColumnRenamed(\"MEAN_MONTANT_OPERATIONS_PREVIOUS_MONTHS\",\"MONTANTOPERATIONS\")\n",
    "master_table4 = master_table4.withColumnRenamed(\"MEAN_NBROPERATION_PREVIOUS_MONTHS\",\"NBROPERATION\")\n",
    "master_table4 = master_table4.withColumnRenamed(\"MEAN_MONTANT_GAB\",\"MONTANTGAB\")\n",
    "master_table4 = master_table4.withColumnRenamed(\"MEAN_NUM_OPERATION_GAB\",\"NBROPERATIONGAB\")\n",
    "master_table4 = master_table4.withColumnRenamed(\"CONNECTION\",\"ALREADY CONNECTED\")\n",
    "master_table4 = master_table4.withColumnRenamed(\"Connected recently\",\"CONNECTED RECENTLY\")"
   ]
  },
  {
   "cell_type": "code",
   "execution_count": null,
   "metadata": {},
   "outputs": [],
   "source": [
    "#master_table4.describe().show()"
   ]
  },
  {
   "cell_type": "markdown",
   "metadata": {
    "editable": true,
    "slideshow": {
     "slide_type": ""
    },
    "tags": []
   },
   "source": [
    "#### Save la table master finale"
   ]
  },
  {
   "cell_type": "code",
   "execution_count": null,
   "metadata": {
    "editable": true,
    "slideshow": {
     "slide_type": ""
    },
    "tags": []
   },
   "outputs": [],
   "source": [
    "master_table4.write.parquet(\"hdfs://namenode:9000/master_table/master_table.parquet\")"
   ]
  },
  {
   "cell_type": "code",
   "execution_count": null,
   "metadata": {},
   "outputs": [],
   "source": [
    "master_table4.write.parquet(\"hdfs://namenode:9000/user/hive/warehouse/master_table.parquet\")"
   ]
  }
 ],
 "metadata": {
  "kernelspec": {
   "display_name": "Python 3 (ipykernel)",
   "language": "python",
   "name": "python3"
  },
  "language_info": {
   "codemirror_mode": {
    "name": "ipython",
    "version": 3
   },
   "file_extension": ".py",
   "mimetype": "text/x-python",
   "name": "python",
   "nbconvert_exporter": "python",
   "pygments_lexer": "ipython3",
   "version": "3.10.11"
  }
 },
 "nbformat": 4,
 "nbformat_minor": 4
}
