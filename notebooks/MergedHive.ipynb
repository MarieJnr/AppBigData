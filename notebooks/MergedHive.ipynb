{
 "cells": [
  {
   "cell_type": "code",
   "execution_count": 2,
   "id": "3f8ab515-b757-48b1-9884-559e71dff6b6",
   "metadata": {},
   "outputs": [
    {
     "name": "stdout",
     "output_type": "stream",
     "text": [
      "DataFrame merged_cptferm_fermcpt converted to Parquet and saved successfully.\n",
      "DataFrame merged_perimetre_solde converted to Parquet and saved successfully.\n"
     ]
    }
   ],
   "source": [
    "from pyspark.sql import SparkSession\n",
    "\n",
    "# Create or get the Spark session\n",
    "spark = SparkSession.builder \\\n",
    "    .appName(\"Convert and Save DataFrames\") \\\n",
    "    .getOrCreate()\n",
    "\n",
    "# Define the paths for the source CSV files and the target Parquet directories\n",
    "source_paths = {\n",
    "    \"merged_cptferm_fermcpt\": \"hdfs://namenode:9000/mj/pfe/data_transformed/merged_cptferm_fermcpt\",\n",
    "    \"merged_perimetre_solde\": \"hdfs://namenode:9000/mj/pfe/data_transformed/merged_perimetre_solde\"\n",
    "}\n",
    "target_paths = {\n",
    "    \"merged_cptferm_fermcpt\": \"hdfs://namenode:9000/mj/pfe/data_parquet/merged_cptferm_fermcpt\",\n",
    "    \"merged_perimetre_solde\": \"hdfs://namenode:9000/mj/pfe/data_parquet/merged_perimetre_solde\"\n",
    "}\n",
    "\n",
    "# Load, convert, and save each DataFrame\n",
    "for key in source_paths:\n",
    "    # Load the DataFrame from CSV\n",
    "    df = spark.read.option(\"header\", \"true\").csv(source_paths[key])\n",
    "\n",
    "    # Convert and save the DataFrame to Parquet\n",
    "    try:\n",
    "        df.write.parquet(target_paths[key], mode='overwrite')\n",
    "        print(f\"DataFrame {key} converted to Parquet and saved successfully.\")\n",
    "    except Exception as e:\n",
    "        print(f\"Error saving {key} as Parquet: {e}\")\n"
   ]
  },
  {
   "cell_type": "code",
   "execution_count": null,
   "id": "ff55d5c5-1720-413f-8dc1-66d1a4275914",
   "metadata": {},
   "outputs": [],
   "source": []
  }
 ],
 "metadata": {
  "kernelspec": {
   "display_name": "Python 3 (ipykernel)",
   "language": "python",
   "name": "python3"
  },
  "language_info": {
   "codemirror_mode": {
    "name": "ipython",
    "version": 3
   },
   "file_extension": ".py",
   "mimetype": "text/x-python",
   "name": "python",
   "nbconvert_exporter": "python",
   "pygments_lexer": "ipython3",
   "version": "3.11.6"
  }
 },
 "nbformat": 4,
 "nbformat_minor": 5
}
