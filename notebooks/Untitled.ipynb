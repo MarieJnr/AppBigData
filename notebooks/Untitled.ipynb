{
 "cells": [
  {
   "cell_type": "code",
   "execution_count": 1,
   "id": "9cfb9e1d-8206-4557-ac2d-e1cf6580d1e4",
   "metadata": {
    "editable": true,
    "slideshow": {
     "slide_type": ""
    },
    "tags": []
   },
   "outputs": [],
   "source": [
    "import pyspark\n",
    "from pyspark.sql import SparkSession\n",
    "from pyspark.sql.functions import date_format\n",
    "from pyspark.sql import functions as F\n",
    "from pyspark.sql.functions import datediff, to_date, lit"
   ]
  },
  {
   "cell_type": "code",
   "execution_count": 6,
   "id": "2df950dd-bd13-4ba9-bc01-283426d22a21",
   "metadata": {
    "editable": true,
    "slideshow": {
     "slide_type": ""
    },
    "tags": []
   },
   "outputs": [],
   "source": [
    "spark = SparkSession.builder \\\n",
    "    .config(\"hive.metastore.uris\", \"thrift://hive-metastore:9083\") \\\n",
    "    .appName(\"Hive maitre\") \\\n",
    "    .config(\"spark.sql.warehouse.dir\", \"/user/hive/warehouse\") \\\n",
    "    .enableHiveSupport() \\\n",
    "    .getOrCreate()"
   ]
  },
  {
   "cell_type": "code",
   "execution_count": null,
   "id": "4f2fffbe-c049-48a0-bc11-84439fbbbece",
   "metadata": {},
   "outputs": [],
   "source": [
    "HiveContext sqlContext = new org.apache.spark.sql.hive.HiveContext(sc.sc());"
   ]
  },
  {
   "cell_type": "code",
   "execution_count": 7,
   "id": "42718dd9-34b1-44a7-8afc-67f8cd8c73f4",
   "metadata": {},
   "outputs": [],
   "source": [
    "df_hasyousr = spark.read.parquet(\"hdfs://namenode:9000/historisation_features/yousr/df_hasyousr.parquet\")"
   ]
  },
  {
   "cell_type": "code",
   "execution_count": 8,
   "id": "068d3475-5170-498a-9679-a73b5257308e",
   "metadata": {
    "editable": true,
    "slideshow": {
     "slide_type": ""
    },
    "tags": []
   },
   "outputs": [
    {
     "name": "stdout",
     "output_type": "stream",
     "text": [
      "+--------+------------+\n",
      "|Idclient|AUTORISATION|\n",
      "+--------+------------+\n",
      "|  342364|           1|\n",
      "|   13918|           2|\n",
      "|  232263|           1|\n",
      "|  123015|           1|\n",
      "|  232326|           1|\n",
      "|  177881|           1|\n",
      "|   13956|           1|\n",
      "|  177848|           2|\n",
      "|  341532|           2|\n",
      "|  342315|           1|\n",
      "|  397080|           1|\n",
      "|  396953|           2|\n",
      "|   71314|           2|\n",
      "|  235509|           5|\n",
      "|   71771|           6|\n",
      "|  345315|           1|\n",
      "|   14412|           2|\n",
      "|  396567|           1|\n",
      "|  181937|           4|\n",
      "|  291088|           2|\n",
      "+--------+------------+\n",
      "only showing top 20 rows\n",
      "\n"
     ]
    }
   ],
   "source": [
    "df_hasyousr.show()"
   ]
  },
  {
   "cell_type": "code",
   "execution_count": null,
   "id": "5577d11c-76a7-4c20-a096-e33048446cbb",
   "metadata": {},
   "outputs": [],
   "source": []
  },
  {
   "cell_type": "code",
   "execution_count": 11,
   "id": "96af0d57-beeb-44d9-881c-fc4df03351a6",
   "metadata": {
    "editable": true,
    "slideshow": {
     "slide_type": ""
    },
    "tags": []
   },
   "outputs": [
    {
     "ename": "AnalysisException",
     "evalue": "org.apache.hadoop.hive.ql.metadata.HiveException: Unable to fetch table dfdl. java.lang.NullPointerException: Cannot invoke \"String.equalsIgnoreCase(String)\" because the return value of \"java.sql.SQLException.getSQLState()\" is null",
     "output_type": "error",
     "traceback": [
      "\u001b[0;31m---------------------------------------------------------------------------\u001b[0m",
      "\u001b[0;31mAnalysisException\u001b[0m                         Traceback (most recent call last)",
      "Cell \u001b[0;32mIn[11], line 1\u001b[0m\n\u001b[0;32m----> 1\u001b[0m \u001b[43mdf_hasyousr\u001b[49m\u001b[38;5;241;43m.\u001b[39;49m\u001b[43mwrite\u001b[49m\u001b[38;5;241;43m.\u001b[39;49m\u001b[43msaveAsTable\u001b[49m\u001b[43m(\u001b[49m\u001b[38;5;124;43m\"\u001b[39;49m\u001b[38;5;124;43mdfdl\u001b[39;49m\u001b[38;5;124;43m\"\u001b[39;49m\u001b[43m)\u001b[49m\n",
      "File \u001b[0;32m/usr/local/spark/python/pyspark/sql/readwriter.py:1521\u001b[0m, in \u001b[0;36mDataFrameWriter.saveAsTable\u001b[0;34m(self, name, format, mode, partitionBy, **options)\u001b[0m\n\u001b[1;32m   1519\u001b[0m \u001b[38;5;28;01mif\u001b[39;00m \u001b[38;5;28mformat\u001b[39m \u001b[38;5;129;01mis\u001b[39;00m \u001b[38;5;129;01mnot\u001b[39;00m \u001b[38;5;28;01mNone\u001b[39;00m:\n\u001b[1;32m   1520\u001b[0m     \u001b[38;5;28mself\u001b[39m\u001b[38;5;241m.\u001b[39mformat(\u001b[38;5;28mformat\u001b[39m)\n\u001b[0;32m-> 1521\u001b[0m \u001b[38;5;28;43mself\u001b[39;49m\u001b[38;5;241;43m.\u001b[39;49m\u001b[43m_jwrite\u001b[49m\u001b[38;5;241;43m.\u001b[39;49m\u001b[43msaveAsTable\u001b[49m\u001b[43m(\u001b[49m\u001b[43mname\u001b[49m\u001b[43m)\u001b[49m\n",
      "File \u001b[0;32m/usr/local/spark/python/lib/py4j-0.10.9.7-src.zip/py4j/java_gateway.py:1322\u001b[0m, in \u001b[0;36mJavaMember.__call__\u001b[0;34m(self, *args)\u001b[0m\n\u001b[1;32m   1316\u001b[0m command \u001b[38;5;241m=\u001b[39m proto\u001b[38;5;241m.\u001b[39mCALL_COMMAND_NAME \u001b[38;5;241m+\u001b[39m\\\n\u001b[1;32m   1317\u001b[0m     \u001b[38;5;28mself\u001b[39m\u001b[38;5;241m.\u001b[39mcommand_header \u001b[38;5;241m+\u001b[39m\\\n\u001b[1;32m   1318\u001b[0m     args_command \u001b[38;5;241m+\u001b[39m\\\n\u001b[1;32m   1319\u001b[0m     proto\u001b[38;5;241m.\u001b[39mEND_COMMAND_PART\n\u001b[1;32m   1321\u001b[0m answer \u001b[38;5;241m=\u001b[39m \u001b[38;5;28mself\u001b[39m\u001b[38;5;241m.\u001b[39mgateway_client\u001b[38;5;241m.\u001b[39msend_command(command)\n\u001b[0;32m-> 1322\u001b[0m return_value \u001b[38;5;241m=\u001b[39m \u001b[43mget_return_value\u001b[49m\u001b[43m(\u001b[49m\n\u001b[1;32m   1323\u001b[0m \u001b[43m    \u001b[49m\u001b[43manswer\u001b[49m\u001b[43m,\u001b[49m\u001b[43m \u001b[49m\u001b[38;5;28;43mself\u001b[39;49m\u001b[38;5;241;43m.\u001b[39;49m\u001b[43mgateway_client\u001b[49m\u001b[43m,\u001b[49m\u001b[43m \u001b[49m\u001b[38;5;28;43mself\u001b[39;49m\u001b[38;5;241;43m.\u001b[39;49m\u001b[43mtarget_id\u001b[49m\u001b[43m,\u001b[49m\u001b[43m \u001b[49m\u001b[38;5;28;43mself\u001b[39;49m\u001b[38;5;241;43m.\u001b[39;49m\u001b[43mname\u001b[49m\u001b[43m)\u001b[49m\n\u001b[1;32m   1325\u001b[0m \u001b[38;5;28;01mfor\u001b[39;00m temp_arg \u001b[38;5;129;01min\u001b[39;00m temp_args:\n\u001b[1;32m   1326\u001b[0m     \u001b[38;5;28;01mif\u001b[39;00m \u001b[38;5;28mhasattr\u001b[39m(temp_arg, \u001b[38;5;124m\"\u001b[39m\u001b[38;5;124m_detach\u001b[39m\u001b[38;5;124m\"\u001b[39m):\n",
      "File \u001b[0;32m/usr/local/spark/python/pyspark/errors/exceptions/captured.py:175\u001b[0m, in \u001b[0;36mcapture_sql_exception.<locals>.deco\u001b[0;34m(*a, **kw)\u001b[0m\n\u001b[1;32m    171\u001b[0m converted \u001b[38;5;241m=\u001b[39m convert_exception(e\u001b[38;5;241m.\u001b[39mjava_exception)\n\u001b[1;32m    172\u001b[0m \u001b[38;5;28;01mif\u001b[39;00m \u001b[38;5;129;01mnot\u001b[39;00m \u001b[38;5;28misinstance\u001b[39m(converted, UnknownException):\n\u001b[1;32m    173\u001b[0m     \u001b[38;5;66;03m# Hide where the exception came from that shows a non-Pythonic\u001b[39;00m\n\u001b[1;32m    174\u001b[0m     \u001b[38;5;66;03m# JVM exception message.\u001b[39;00m\n\u001b[0;32m--> 175\u001b[0m     \u001b[38;5;28;01mraise\u001b[39;00m converted \u001b[38;5;28;01mfrom\u001b[39;00m \u001b[38;5;28;01mNone\u001b[39;00m\n\u001b[1;32m    176\u001b[0m \u001b[38;5;28;01melse\u001b[39;00m:\n\u001b[1;32m    177\u001b[0m     \u001b[38;5;28;01mraise\u001b[39;00m\n",
      "\u001b[0;31mAnalysisException\u001b[0m: org.apache.hadoop.hive.ql.metadata.HiveException: Unable to fetch table dfdl. java.lang.NullPointerException: Cannot invoke \"String.equalsIgnoreCase(String)\" because the return value of \"java.sql.SQLException.getSQLState()\" is null"
     ]
    }
   ],
   "source": [
    "df_hasyousr.write.saveAsTable(\"dfdl\")"
   ]
  },
  {
   "cell_type": "code",
   "execution_count": 14,
   "id": "7169001c-ed8f-4b46-8374-a6a323a9e3ad",
   "metadata": {},
   "outputs": [
    {
     "name": "stdout",
     "output_type": "stream",
     "text": [
      "+--------+------------+\n",
      "|Idclient|AUTORISATION|\n",
      "+--------+------------+\n",
      "|  342364|           1|\n",
      "|   13918|           2|\n",
      "|  232263|           1|\n",
      "|  123015|           1|\n",
      "|  232326|           1|\n",
      "|  177881|           1|\n",
      "|   13956|           1|\n",
      "|  177848|           2|\n",
      "|  341532|           2|\n",
      "|  342315|           1|\n",
      "|  397080|           1|\n",
      "|  396953|           2|\n",
      "|   71314|           2|\n",
      "|  235509|           5|\n",
      "|   71771|           6|\n",
      "|  345315|           1|\n",
      "|   14412|           2|\n",
      "|  396567|           1|\n",
      "|  181937|           4|\n",
      "|  291088|           2|\n",
      "+--------+------------+\n",
      "only showing top 20 rows\n",
      "\n"
     ]
    }
   ],
   "source": [
    "df = spark.read.table(\"yousr\")\n",
    "df.show()"
   ]
  },
  {
   "cell_type": "code",
   "execution_count": 15,
   "id": "4f73a35a-5b2b-4d04-9546-ca6052ef7359",
   "metadata": {
    "editable": true,
    "slideshow": {
     "slide_type": ""
    },
    "tags": []
   },
   "outputs": [
    {
     "name": "stdout",
     "output_type": "stream",
     "text": [
      "Chemin de la table 'yousr': file:/home/jovyan/dags/spark-warehouse/yousr\n"
     ]
    }
   ],
   "source": [
    "table_name = \"yousr\"\n",
    "result = spark.sql(f\"DESC FORMATTED {table_name}\")\n",
    "table_path = result.filter(result.col_name == \"Location\").select(result.data_type).collect()[0][0]\n",
    "print(f\"Chemin de la table '{table_name}': {table_path}\")"
   ]
  },
  {
   "cell_type": "code",
   "execution_count": null,
   "id": "62784194-d740-475d-9692-187fdcfffef7",
   "metadata": {},
   "outputs": [],
   "source": [
    "this my code : \n",
    "spark = SparkSession.builder \\\n",
    "    .config(\"hive.metastore.uris\", \"thrift://hive-metastore:9083\") \\\n",
    "    .appName(\"Hive maitre\") \\\n",
    "    .config(\"spark.sql.warehouse.dir\", \"/user/hive/warehouse\") \\\n",
    "    .enableHiveSupport() \\\n",
    "    .getOrCreate()\n",
    "df_hasyousr.write.mode('overwrite').saveAsTable(\"default.yousr\")\n",
    "but he created directory /user/hive/warehouse in my local machine and save table in it"
   ]
  }
 ],
 "metadata": {
  "kernelspec": {
   "display_name": "Python 3 (ipykernel)",
   "language": "python",
   "name": "python3"
  },
  "language_info": {
   "codemirror_mode": {
    "name": "ipython",
    "version": 3
   },
   "file_extension": ".py",
   "mimetype": "text/x-python",
   "name": "python",
   "nbconvert_exporter": "python",
   "pygments_lexer": "ipython3",
   "version": "3.10.11"
  }
 },
 "nbformat": 4,
 "nbformat_minor": 5
}
