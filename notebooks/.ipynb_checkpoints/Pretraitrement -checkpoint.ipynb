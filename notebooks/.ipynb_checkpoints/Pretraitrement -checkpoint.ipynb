{
 "cells": [
  {
   "cell_type": "code",
   "execution_count": 24,
   "id": "8e5d29f7-cd92-42c8-af02-07890976ceb0",
   "metadata": {},
   "outputs": [],
   "source": [
    "from pyspark.sql import SparkSession\n",
    "\n",
    "# Créer une session Spark\n",
    "spark = SparkSession.builder \\\n",
    "    .appName(\"Nettoyage des données\") \\\n",
    "    .getOrCreate()\n"
   ]
  },
  {
   "cell_type": "code",
   "execution_count": 25,
   "id": "3d9cba49-e415-45b9-b53a-8fd26937937a",
   "metadata": {},
   "outputs": [],
   "source": [
    "file_paths = {\n",
    "    \"cptferm\": \"hdfs://namenode:9000/mj/pfe/data/cptferm.csv\",\n",
    "    \"fermcpt\": \"hdfs://namenode:9000/mj/pfe/data/fermcpt.csv\",\n",
    "    \"gab_abstr\": \"hdfs://namenode:9000/mj/pfe/data/gab_abstr.csv\",\n",
    "    \"gab22\": \"hdfs://namenode:9000/mj/pfe/data/gab22.csv\",\n",
    "    \"getvir\": \"hdfs://namenode:9000/mj/pfe/data/getvir.csv\",\n",
    "    \"operations_agence\": \"hdfs://namenode:9000/mj/pfe/data/operations_agence.csv\",\n",
    "    \"perimetre\": \"hdfs://namenode:9000/mj/pfe/data/perimetre.csv\",\n",
    "    \"solde\": \"hdfs://namenode:9000/mj/pfe/data/solde.csv\",\n",
    "    \"statut_connexion\": \"hdfs://namenode:9000/mj/pfe/data/statut_connexion.csv\",\n",
    "    \"yousr\": \"hdfs://namenode:9000/mj/pfe/data/yousr.csv\"\n",
    "}\n"
   ]
  },
  {
   "cell_type": "code",
   "execution_count": 26,
   "id": "44c06f3b-c95b-4757-888c-03f5d5685270",
   "metadata": {},
   "outputs": [],
   "source": [
    "from pyspark.sql.functions import *\n",
    "\n",
    "# Charger chaque fichier CSV et stocker les DataFrames dans un dictionnaire\n",
    "dataframes = {}\n",
    "for key, file_path in file_paths.items():\n",
    "    df = spark.read.csv(file_path, header=True)\n",
    "    df = df.withColumnRenamed(\"new\", \"Idclient\") if 'new' in df.columns else df\n",
    "    dataframes[key] = df\n"
   ]
  },
  {
   "cell_type": "code",
   "execution_count": 27,
   "id": "d2e51d6c-07f7-4b1e-9b1e-b8b8e531dd8d",
   "metadata": {},
   "outputs": [],
   "source": [
    "from pyspark.sql.functions import *\n",
    "from itertools import chain\n",
    "# Perimetre\n",
    "df_perimetre = dataframes[\"perimetre\"]\n",
    "df_perimetre = df_perimetre.withColumn(\"genre\", when(df_perimetre[\"genre\"] == \"FÃ©minin\", \"Féminin\").otherwise(df_perimetre[\"genre\"]))\n",
    "df_perimetre = df_perimetre.withColumn(\"MARITAL_STATUS\",\n",
    "                                       when(df_perimetre[\"MARITAL_STATUS\"] == \"MariÃ© (e)\", \"Marié(e)\")\n",
    "                                       .when(df_perimetre[\"MARITAL_STATUS\"] == \"DivorcÃ© (e)\", \"Divorcé(e)\")\n",
    "                                       .otherwise(df_perimetre[\"MARITAL_STATUS\"]))\n",
    "df_perimetre = df_perimetre.withColumn(\"DATE_NAISSANCE\", date_format(df_perimetre[\"DATE_NAISSANCE\"], \"yyyy-MM-dd\"))\n",
    "df_perimetre = df_perimetre.withColumn(\"CUSTOMER_SINCE\", date_format(df_perimetre[\"CUSTOMER_SINCE\"], \"yyyy-MM-dd\"))\n",
    "df_perimetre = df_perimetre.withColumn(\"DATE_NAISSANCE\", when(col(\"DATE_NAISSANCE\").isNull(), \"1975-01-01\").otherwise(col(\"DATE_NAISSANCE\")))\n",
    "df_perimetre = df_perimetre.withColumn(\"genre\", when(df_perimetre[\"genre\"].isNull(), when(rand() < 0.5, \"Féminin\").otherwise(\"Masculin\")).otherwise(df_perimetre[\"genre\"]))\n",
    "df_perimetre = df_perimetre.withColumn(\"MARITAL_STATUS\", when(df_perimetre[\"MARITAL_STATUS\"].isNull(), when(rand() < 0.5, \"Celibataire\").otherwise(\"Marié(e)\")).otherwise(df_perimetre[\"MARITAL_STATUS\"]))\n",
    "df_perimetre = df_perimetre.withColumn(\"age\", (months_between(to_date(lit(\"2020-01-01\")), to_date(\"DATE_NAISSANCE\"), True) / 12).cast(\"integer\"))\n",
    "df_perimetre = df_perimetre.withColumn(\"CUSTOMER_YEARS\", (months_between(to_date(lit(\"2020-01-01\")), to_date(\"CUSTOMER_SINCE\"), True) / 12).cast(\"integer\"))\n",
    "# Création d'une nouvelle colonne \"region\"\n",
    "mapping_dic = {\n",
    "    '1': 'BP Centre Sud',\n",
    "    '17': 'BCP Réseau',\n",
    "    '78': 'BCP Réseau',\n",
    "    '27': 'BP Fès Meknès',\n",
    "    '48': 'BP Fès Meknès',\n",
    "    '43': 'BP Lâayoune',\n",
    "    '45': 'BP Marrakech Béni Mellal',\n",
    "    '50': 'BP Nador El Hoceima',\n",
    "    '57': 'BP Oujda',\n",
    "    '64': 'BP Tanger Tétouan',\n",
    "    '81': 'BP Rabat Kénitra',\n",
    "    '90': 'BCP Réseau',\n",
    "    '30': 'BP LIB ATTAWFIK',\n",
    "    '40': 'BP LIB ATTAWFIK'\n",
    "}\n",
    "mapping_expr = create_map([lit(x) for x in chain(*mapping_dic.items())])\n",
    "df_perimetre = df_perimetre.withColumn('region', mapping_expr[col('BPR')])\n",
    "df_perimetre = df_perimetre.fillna({'region': 'BP Nador El Hoceima'})\n",
    "dataframes[\"perimetre\"] = df_perimetre"
   ]
  },
  {
   "cell_type": "code",
   "execution_count": 28,
   "id": "b2ac4103-9234-4e83-a8c4-0ae0733f8725",
   "metadata": {},
   "outputs": [
    {
     "name": "stdout",
     "output_type": "stream",
     "text": [
      "+--------------+--------------+--------+--------------+---+-----------+---+--------------+-------------------+\n",
      "|CUSTOMER_SINCE|DATE_NAISSANCE|   genre|MARITAL_STATUS|BPR|radical_new|age|CUSTOMER_YEARS|             region|\n",
      "+--------------+--------------+--------+--------------+---+-----------+---+--------------+-------------------+\n",
      "|    1996-03-05|    1956-01-01| Féminin|      Marié(e)| 01|          0| 64|            23|BP Nador El Hoceima|\n",
      "|    1998-03-12|    1968-05-02|Masculin|      Marié(e)| 01|          1| 51|            21|BP Nador El Hoceima|\n",
      "|    1974-11-28|    1950-01-01| Féminin|      Marié(e)| 01|          2| 70|            45|BP Nador El Hoceima|\n",
      "|    2002-09-26|    1968-04-01| Féminin|   Celibataire| 01|          3| 51|            17|BP Nador El Hoceima|\n",
      "|    2013-04-19|    1970-01-01|Masculin|      Marié(e)| 01|          4| 50|             6|BP Nador El Hoceima|\n",
      "|    2010-12-08|    1978-07-01| Féminin|      Marié(e)| 01|          5| 41|             9|BP Nador El Hoceima|\n",
      "|    2020-02-04|    1973-10-01| Féminin|NON DISPONIBLE| 01|          6| 46|             0|BP Nador El Hoceima|\n",
      "|    2007-10-15|    1985-12-03| Féminin|   Celibataire| 01|          7| 34|            12|BP Nador El Hoceima|\n",
      "|    2021-12-14|    2003-10-12|Masculin|NON DISPONIBLE| 01|          8| 16|            -1|BP Nador El Hoceima|\n",
      "|    2016-10-18|    1980-04-10|Masculin|   Celibataire| 01|          9| 39|             3|BP Nador El Hoceima|\n",
      "|    2007-02-21|    1959-01-01|Masculin|      Marié(e)| 01|         10| 61|            12|BP Nador El Hoceima|\n",
      "|    2008-10-28|    1961-01-01|Masculin|      Marié(e)| 01|         11| 59|            11|BP Nador El Hoceima|\n",
      "|    2010-10-14|    1987-07-20|Masculin|   Celibataire| 01|         12| 32|             9|BP Nador El Hoceima|\n",
      "|    2013-04-19|    1982-03-15|Masculin|   Celibataire| 01|         13| 37|             6|BP Nador El Hoceima|\n",
      "|    2015-11-19|    1984-01-17| Féminin|      Marié(e)| 01|         14| 35|             4|BP Nador El Hoceima|\n",
      "|    2020-06-08|    1978-01-01|Masculin|      Marié(e)| 01|         15| 42|             0|BP Nador El Hoceima|\n",
      "|    2012-09-06|    1994-02-19| Féminin|   Celibataire| 01|         16| 25|             7|BP Nador El Hoceima|\n",
      "|    2012-09-10|    1993-03-20| Féminin|   Celibataire| 01|         17| 26|             7|BP Nador El Hoceima|\n",
      "|    1993-11-16|    1944-01-01|Masculin|      Marié(e)| 01|         18| 76|            26|BP Nador El Hoceima|\n",
      "|    2013-04-19|    1987-01-14|Masculin|   Celibataire| 01|         19| 32|             6|BP Nador El Hoceima|\n",
      "+--------------+--------------+--------+--------------+---+-----------+---+--------------+-------------------+\n",
      "only showing top 20 rows\n",
      "\n"
     ]
    }
   ],
   "source": [
    "df_perimetre .show()"
   ]
  },
  {
   "cell_type": "code",
   "execution_count": 29,
   "id": "bfd89cf4-6f35-4fba-9bdd-50d7d310f748",
   "metadata": {},
   "outputs": [],
   "source": [
    "# Transformation pour 'getvir'\n",
    "df_getvir = dataframes[\"getvir\"]\n",
    "df_getvir = df_getvir.withColumn(\"DT_CONFIRMATION\", date_format(df_getvir[\"DT_CONFIRMATION\"], \"yyyy-MM-dd\"))\n",
    "dataframes[\"getvir\"] = df_getvir\n"
   ]
  },
  {
   "cell_type": "code",
   "execution_count": 30,
   "id": "df34b2bc-b68a-4033-917d-4dc0409dde48",
   "metadata": {},
   "outputs": [],
   "source": [
    "# Transformation pour 'solde'\n",
    "df_solde = dataframes[\"solde\"]\n",
    "df_solde = df_solde.withColumn(\"MVTCRED\", when(col(\"MVTCRED\").isNull(), lit(0)).otherwise(col(\"MVTCRED\")))\n",
    "dataframes[\"solde\"] = df_solde\n"
   ]
  },
  {
   "cell_type": "code",
   "execution_count": 31,
   "id": "1525b085-5825-41d4-867e-9775960508da",
   "metadata": {},
   "outputs": [],
   "source": [
    "# Transformation pour 'statut_connexion'\n",
    "df_statut_connexion = dataframes[\"statut_connexion\"]\n",
    "df_statut_connexion = df_statut_connexion.withColumn(\"CREATEDATE\", date_format(df_statut_connexion[\"CREATEDATE\"], \"yyyy-MM-dd\"))\n",
    "df_statut_connexion = df_statut_connexion.withColumn(\"LASTLOGINDATE\", date_format(df_statut_connexion[\"LASTLOGINDATE\"], \"yyyy-MM-dd\"))\n",
    "df_statut_connexion = df_statut_connexion.withColumn(\"CONNECTIONCOUNT\", when(col(\"CONNECTIONCOUNT\").isNull(), lit(0)).otherwise(col(\"CONNECTIONCOUNT\")))\n",
    "dataframes[\"statut_connexion\"] = df_statut_connexion\n"
   ]
  },
  {
   "cell_type": "code",
   "execution_count": 32,
   "id": "d5bdfcce-cf6c-4504-919a-487bfdf1054d",
   "metadata": {},
   "outputs": [],
   "source": [
    "# Transformation pour 'yousr'\n",
    "df_yousr = dataframes[\"yousr\"]\n",
    "df_yousr = df_yousr.withColumn(\"AUTORISATION\", col(\"AUTORISATION\").cast(\"int\"))\n",
    "dataframes[\"yousr\"] = df_yousr\n"
   ]
  },
  {
   "cell_type": "code",
   "execution_count": 33,
   "id": "b537bd32-4b0e-4551-8dcd-a1a3a7c2c46f",
   "metadata": {},
   "outputs": [],
   "source": [
    "# Transformation pour 'fermcpt'\n",
    "df_fermcpt = dataframes[\"fermcpt\"]\n",
    "df_fermcpt = df_fermcpt.withColumn(\"DATE_DEMANDE\", date_format(df_fermcpt[\"DATE_DEMANDE\"], \"yyyy-MM-dd\"))\n",
    "df_fermcpt = df_fermcpt.withColumn(\"DATE_TRAIT\", date_format(df_fermcpt[\"DATE_TRAIT\"], \"yyyy-MM-dd\"))\n",
    "dataframes[\"fermcpt\"] = df_fermcpt\n"
   ]
  },
  {
   "cell_type": "code",
   "execution_count": 34,
   "id": "fc1a9f60-f537-4e91-92cf-8b1a4c2cf1cf",
   "metadata": {},
   "outputs": [],
   "source": [
    "# Transformation pour 'cptferm'\n",
    "df_cptferm = dataframes[\"cptferm\"]\n",
    "df_cptferm = df_cptferm.withColumn(\"DATE_FERM\", date_format(df_cptferm[\"DATE_FERM\"], \"yyyy-MM-dd\"))\n",
    "dataframes[\"cptferm\"] = df_cptferm\n"
   ]
  },
  {
   "cell_type": "code",
   "execution_count": 35,
   "id": "ad4f91f1-a66c-4ff5-b86d-f3af49c40bef",
   "metadata": {},
   "outputs": [],
   "source": [
    "# Pas de transformation spécifique nécessaire pour 'operations_agence'\n",
    "\n",
    "df_operations_agence = dataframes[\"operations_agence\"]\n",
    "dataframes[\"operations_agence\"] = df_operations_agence"
   ]
  },
  {
   "cell_type": "code",
   "execution_count": 36,
   "id": "1c99eaf9-8c8d-40aa-8a9a-f56cad193d84",
   "metadata": {},
   "outputs": [],
   "source": [
    "# Pas de transformation spécifique nécessaire pour 'gab22'\n",
    "\n",
    "df_gab22 = dataframes[\"gab22\"] \n",
    "dataframes[\"gab22\"] = df_gab22"
   ]
  },
  {
   "cell_type": "code",
   "execution_count": 37,
   "id": "757cb978-9428-4f65-81f1-0b8cdb89f64c",
   "metadata": {},
   "outputs": [
    {
     "name": "stdout",
     "output_type": "stream",
     "text": [
      "Schéma de cptferm:\n",
      "root\n",
      " |-- Idclient: string (nullable = true)\n",
      " |-- PERIODE: string (nullable = true)\n",
      " |-- DATE_FERM: string (nullable = true)\n",
      "\n",
      "Schéma de fermcpt:\n",
      "root\n",
      " |-- Idclient: string (nullable = true)\n",
      " |-- ORIGINE_DEMANDE: string (nullable = true)\n",
      " |-- DATE_TRAIT: string (nullable = true)\n",
      " |-- DATE_DEMANDE: string (nullable = true)\n",
      "\n",
      "Schéma de gab_abstr:\n",
      "root\n",
      " |-- MONTANT: string (nullable = true)\n",
      " |-- MOIS: string (nullable = true)\n",
      " |-- ANNEE: string (nullable = true)\n",
      " |-- NOMBRE_OPERATION: string (nullable = true)\n",
      " |-- Idclient: string (nullable = true)\n",
      "\n",
      "Schéma de gab22:\n",
      "root\n",
      " |-- MONTANT: string (nullable = true)\n",
      " |-- MOIS: string (nullable = true)\n",
      " |-- ANNEE: string (nullable = true)\n",
      " |-- NOMBRE_OPERATION: string (nullable = true)\n",
      " |-- Idclient: string (nullable = true)\n",
      "\n",
      "Schéma de getvir:\n",
      "root\n",
      " |-- CANAL: string (nullable = true)\n",
      " |-- MONTANT_TOTAL: string (nullable = true)\n",
      " |-- DT_CONFIRMATION: string (nullable = true)\n",
      " |-- TYPE_OPE: string (nullable = true)\n",
      " |-- Idclient: string (nullable = true)\n",
      "\n",
      "Schéma de operations_agence:\n",
      "root\n",
      " |-- MONTANT: string (nullable = true)\n",
      " |-- MOIS: string (nullable = true)\n",
      " |-- ANNEE: string (nullable = true)\n",
      " |-- NOMBRE_OPERATION: string (nullable = true)\n",
      " |-- Idclient: string (nullable = true)\n",
      "\n",
      "Schéma de perimetre:\n",
      "root\n",
      " |-- CUSTOMER_SINCE: string (nullable = true)\n",
      " |-- DATE_NAISSANCE: string (nullable = true)\n",
      " |-- genre: string (nullable = true)\n",
      " |-- MARITAL_STATUS: string (nullable = true)\n",
      " |-- BPR: string (nullable = true)\n",
      " |-- radical_new: string (nullable = true)\n",
      " |-- age: integer (nullable = true)\n",
      " |-- CUSTOMER_YEARS: integer (nullable = true)\n",
      " |-- region: string (nullable = false)\n",
      "\n",
      "Schéma de solde:\n",
      "root\n",
      " |-- MVTDEB: string (nullable = true)\n",
      " |-- MVTCRED: string (nullable = true)\n",
      " |-- NBMVTCRE_MENS: string (nullable = true)\n",
      " |-- NBMVTDB_MENS: string (nullable = true)\n",
      " |-- SOLDE: string (nullable = true)\n",
      " |-- MOIS: string (nullable = true)\n",
      " |-- ANNEE: string (nullable = true)\n",
      " |-- radical_new: string (nullable = true)\n",
      "\n",
      "Schéma de statut_connexion:\n",
      "root\n",
      " |-- CREATEDATE: string (nullable = true)\n",
      " |-- LASTLOGINDATE: string (nullable = true)\n",
      " |-- CONNECTION: string (nullable = true)\n",
      " |-- CONNECTIONCOUNT: string (nullable = true)\n",
      " |-- ISLOCKEDOUT: string (nullable = true)\n",
      " |-- radical_new: string (nullable = true)\n",
      "\n",
      "Schéma de yousr:\n",
      "root\n",
      " |-- AUTORISATION: integer (nullable = true)\n",
      " |-- DTAUTORIS: string (nullable = true)\n",
      " |-- DTECHEANCE: string (nullable = true)\n",
      " |-- CUSTOMER_SINCE: string (nullable = true)\n",
      " |-- DATE_NAISSANCE: string (nullable = true)\n",
      " |-- GENRE: string (nullable = true)\n",
      " |-- MARITAL_STATUS: string (nullable = true)\n",
      " |-- BPR: string (nullable = true)\n",
      " |-- VILLE: string (nullable = true)\n",
      " |-- Idclient: string (nullable = true)\n",
      "\n"
     ]
    }
   ],
   "source": [
    "# Vérifier la structure des DataFrames après les modifications\n",
    "for key, df in dataframes.items():\n",
    "    print(f\"Schéma de {key}:\")\n",
    "    df.printSchema()"
   ]
  },
  {
   "cell_type": "code",
   "execution_count": 38,
   "id": "6b194738-6ae9-47e8-87b4-96301a1f9b45",
   "metadata": {},
   "outputs": [
    {
     "name": "stdout",
     "output_type": "stream",
     "text": [
      "Schéma modifié de gab_abstr:\n",
      "root\n",
      " |-- MONTANT: string (nullable = true)\n",
      " |-- NOMBRE_OPERATION: string (nullable = true)\n",
      " |-- Idclient: string (nullable = true)\n",
      " |-- MOIS_ANNEE: string (nullable = false)\n",
      "\n",
      "Schéma modifié de gab22:\n",
      "root\n",
      " |-- MONTANT: string (nullable = true)\n",
      " |-- NOMBRE_OPERATION: string (nullable = true)\n",
      " |-- Idclient: string (nullable = true)\n",
      " |-- MOIS_ANNEE: string (nullable = false)\n",
      "\n",
      "Schéma modifié de operations_agence:\n",
      "root\n",
      " |-- MONTANT: string (nullable = true)\n",
      " |-- NOMBRE_OPERATION: string (nullable = true)\n",
      " |-- Idclient: string (nullable = true)\n",
      " |-- MOIS_ANNEE: string (nullable = false)\n",
      "\n",
      "Schéma modifié de solde:\n",
      "root\n",
      " |-- MVTDEB: string (nullable = true)\n",
      " |-- MVTCRED: string (nullable = true)\n",
      " |-- NBMVTCRE_MENS: string (nullable = true)\n",
      " |-- NBMVTDB_MENS: string (nullable = true)\n",
      " |-- SOLDE: string (nullable = true)\n",
      " |-- radical_new: string (nullable = true)\n",
      " |-- MOIS_ANNEE: string (nullable = false)\n",
      "\n"
     ]
    }
   ],
   "source": [
    "from pyspark.sql.functions import concat_ws\n",
    "\n",
    "# Liste des DataFrames à modifier\n",
    "dataframes_to_modify = [\"gab_abstr\", \"gab22\", \"operations_agence\", \"solde\"]\n",
    "\n",
    "# Boucle sur chaque DataFrame pour modifier le schéma\n",
    "for df_name in dataframes_to_modify:\n",
    "    df = dataframes[df_name]\n",
    "    # Créer une nouvelle colonne \"MOIS_ANNEE\" en fusionnant \"MOIS\" et \"ANNEE\"\n",
    "    df = df.withColumn(\"MOIS_ANNEE\", concat_ws(\"-\", df[\"ANNEE\"], df[\"MOIS\"]))\n",
    "    # Optionnellement, supprimer les anciennes colonnes \"MOIS\" et \"ANNEE\"\n",
    "    df = df.drop(\"MOIS\", \"ANNEE\")\n",
    "    # Mettre à jour le DataFrame dans le dictionnaire\n",
    "    dataframes[df_name] = df\n",
    "\n",
    "    # Afficher le nouveau schéma pour vérification\n",
    "    print(f\"Schéma modifié de {df_name}:\")\n",
    "    df.printSchema()\n"
   ]
  },
  {
   "cell_type": "code",
   "execution_count": 39,
   "id": "2a179f67-0a72-43df-97e1-e69e7dd27f35",
   "metadata": {},
   "outputs": [
    {
     "name": "stdout",
     "output_type": "stream",
     "text": [
      "+-------+----------------+--------+----------+\n",
      "|MONTANT|NOMBRE_OPERATION|Idclient|MOIS_ANNEE|\n",
      "+-------+----------------+--------+----------+\n",
      "|      0|              12|  232100|    2020-1|\n",
      "|      0|               5|  232100|    2020-2|\n",
      "|   9798|              25|  922709|    2020-1|\n",
      "|   7570|              33|  922709|    2020-2|\n",
      "| 5993.8|              13|  359535|    2020-1|\n",
      "|   3700|               7|  359535|    2020-2|\n",
      "|   7200|              31|  780003|    2020-1|\n",
      "|   4000|              13|  780003|    2020-2|\n",
      "|   5000|              30|  820867|    2020-1|\n",
      "|   3600|              12|  820867|    2020-2|\n",
      "|   4800|               9|  148052|    2020-1|\n",
      "|   6300|              11|  148052|    2020-2|\n",
      "|   6600|              10|  999879|    2020-1|\n",
      "|   4300|               5|  999879|    2020-2|\n",
      "|   3800|              24|  349685|    2020-1|\n",
      "|   5300|              23|  349685|    2020-2|\n",
      "|   1600|               9|  397364|    2020-1|\n",
      "|   2500|               3|  397364|    2020-2|\n",
      "|   3600|               4|  132190|    2020-1|\n",
      "|   1500|               2|  132190|    2020-2|\n",
      "+-------+----------------+--------+----------+\n",
      "only showing top 20 rows\n",
      "\n"
     ]
    }
   ],
   "source": [
    "# Afficher le DataFrame 'gab22' pour vérifier la nouvelle colonne 'MOIS_ANNEE'\n",
    "dataframes[\"gab22\"].show()\n"
   ]
  },
  {
   "cell_type": "code",
   "execution_count": 40,
   "id": "a004d047-b04a-4911-87f9-6da254fee740",
   "metadata": {},
   "outputs": [
    {
     "name": "stdout",
     "output_type": "stream",
     "text": [
      "Le DataFrame cptferm contient 21703 lignes.\n",
      "Le DataFrame fermcpt contient 13548 lignes.\n",
      "Le DataFrame gab_abstr contient 4832172 lignes.\n",
      "Le DataFrame gab22 contient 832453 lignes.\n",
      "Le DataFrame getvir contient 145787 lignes.\n",
      "Le DataFrame operations_agence contient 2456799 lignes.\n",
      "Le DataFrame perimetre contient 1000000 lignes.\n",
      "Le DataFrame solde contient 10677248 lignes.\n",
      "Le DataFrame statut_connexion contient 52785 lignes.\n",
      "Le DataFrame yousr contient 38845 lignes.\n"
     ]
    }
   ],
   "source": [
    "# Afficher le nombre de lignes de chaque DataFrame\n",
    "for key, df in dataframes.items():\n",
    "    count = df.count()\n",
    "    print(f\"Le DataFrame {key} contient {count} lignes.\")\n"
   ]
  },
  {
   "cell_type": "code",
   "execution_count": 41,
   "id": "eccfad90-0df9-44a9-ab6e-de9da9f6f94e",
   "metadata": {},
   "outputs": [
    {
     "name": "stdout",
     "output_type": "stream",
     "text": [
      "root\n",
      " |-- Idclient: string (nullable = true)\n",
      " |-- PERIODE: string (nullable = true)\n",
      " |-- DATE_FERM: string (nullable = true)\n",
      " |-- ORIGINE_DEMANDE: string (nullable = true)\n",
      " |-- DATE_TRAIT: string (nullable = true)\n",
      " |-- DATE_DEMANDE: string (nullable = true)\n",
      "\n",
      "+--------+-------+----------+---------------+----------+------------+\n",
      "|Idclient|PERIODE|DATE_FERM |ORIGINE_DEMANDE|DATE_TRAIT|DATE_DEMANDE|\n",
      "+--------+-------+----------+---------------+----------+------------+\n",
      "|543425  |H      |2018-12-01|NULL           |NULL      |NULL        |\n",
      "|353327  |H      |2018-12-01|NULL           |NULL      |NULL        |\n",
      "|354648  |H      |2018-12-01|NULL           |NULL      |NULL        |\n",
      "|319869  |H      |2018-12-01|NULL           |NULL      |NULL        |\n",
      "|708338  |H      |2018-12-22|NULL           |NULL      |NULL        |\n",
      "|340658  |H      |2018-12-22|NULL           |NULL      |NULL        |\n",
      "|174405  |H      |2018-12-22|NULL           |NULL      |NULL        |\n",
      "|174405  |H      |2018-12-22|NULL           |NULL      |NULL        |\n",
      "|174405  |H      |2018-12-22|NULL           |NULL      |NULL        |\n",
      "|174405  |H      |2018-12-22|NULL           |NULL      |NULL        |\n",
      "|174405  |H      |2018-12-22|NULL           |NULL      |NULL        |\n",
      "|523970  |H      |2018-12-22|NULL           |NULL      |NULL        |\n",
      "|523970  |H      |2018-12-22|NULL           |NULL      |NULL        |\n",
      "|72944   |H      |2018-12-22|NULL           |NULL      |NULL        |\n",
      "|72944   |H      |2018-12-22|NULL           |NULL      |NULL        |\n",
      "|449541  |H      |2018-12-22|NULL           |NULL      |NULL        |\n",
      "|449541  |H      |2018-12-22|NULL           |NULL      |NULL        |\n",
      "|449541  |H      |2018-12-22|NULL           |NULL      |NULL        |\n",
      "|17273   |H      |2018-12-22|NULL           |NULL      |NULL        |\n",
      "|914368  |H      |2018-12-22|NULL           |NULL      |NULL        |\n",
      "+--------+-------+----------+---------------+----------+------------+\n",
      "only showing top 20 rows\n",
      "\n"
     ]
    }
   ],
   "source": [
    "from pyspark.sql.functions import col\n",
    "\n",
    "# Fusionner les DataFrames \"cptferm\" et \"fermcpt\" sur \"Idclient\"\n",
    "df_cptferm = dataframes[\"cptferm\"]\n",
    "df_fermcpt = dataframes[\"fermcpt\"]\n",
    "\n",
    "# Fusionner les DataFrames\n",
    "df_merged_cptferm_fermcpt = df_cptferm.join(df_fermcpt, \"Idclient\", \"left\")\n",
    "\n",
    "# Afficher le schéma et les premières lignes du nouveau DataFrame fusionné pour vérifier\n",
    "df_merged_cptferm_fermcpt.printSchema()\n",
    "df_merged_cptferm_fermcpt.show(truncate=False)\n"
   ]
  },
  {
   "cell_type": "code",
   "execution_count": 42,
   "id": "9d78dcb3-2408-4690-9e3b-e4d3bec0eefd",
   "metadata": {},
   "outputs": [
    {
     "data": {
      "text/plain": [
       "21716"
      ]
     },
     "execution_count": 42,
     "metadata": {},
     "output_type": "execute_result"
    }
   ],
   "source": [
    "df_merged_cptferm_fermcpt.count()"
   ]
  },
  {
   "cell_type": "code",
   "execution_count": 43,
   "id": "5fd42d06-deef-4e70-bb22-4832dbce2966",
   "metadata": {},
   "outputs": [
    {
     "name": "stdout",
     "output_type": "stream",
     "text": [
      "root\n",
      " |-- Idclient: string (nullable = true)\n",
      " |-- CUSTOMER_SINCE: string (nullable = true)\n",
      " |-- DATE_NAISSANCE: string (nullable = true)\n",
      " |-- genre: string (nullable = true)\n",
      " |-- MARITAL_STATUS: string (nullable = true)\n",
      " |-- BPR: string (nullable = true)\n",
      " |-- age: integer (nullable = true)\n",
      " |-- CUSTOMER_YEARS: integer (nullable = true)\n",
      " |-- region: string (nullable = false)\n",
      " |-- MVTDEB: string (nullable = true)\n",
      " |-- MVTCRED: string (nullable = true)\n",
      " |-- NBMVTCRE_MENS: string (nullable = true)\n",
      " |-- NBMVTDB_MENS: string (nullable = true)\n",
      " |-- SOLDE: string (nullable = true)\n",
      " |-- MOIS_ANNEE: string (nullable = true)\n",
      "\n",
      "+--------+--------------+--------------+--------+--------------+---+---+--------------+-------------------+-------+---------+-------------+------------+---------+----------+\n",
      "|Idclient|CUSTOMER_SINCE|DATE_NAISSANCE|genre   |MARITAL_STATUS|BPR|age|CUSTOMER_YEARS|region             |MVTDEB |MVTCRED  |NBMVTCRE_MENS|NBMVTDB_MENS|SOLDE    |MOIS_ANNEE|\n",
      "+--------+--------------+--------------+--------+--------------+---+---+--------------+-------------------+-------+---------+-------------+------------+---------+----------+\n",
      "|11      |2008-10-28    |1961-01-01    |Masculin|Marié(e)      |01 |59 |11            |BP Nador El Hoceima|15.4   |0        |0            |1           |-11511.91|2019-1    |\n",
      "|11      |2008-10-28    |1961-01-01    |Masculin|Marié(e)      |01 |59 |11            |BP Nador El Hoceima|15.4   |0        |0            |1           |-12899.09|2020-1    |\n",
      "|11      |2008-10-28    |1961-01-01    |Masculin|Marié(e)      |01 |59 |11            |BP Nador El Hoceima|423.59 |200      |1            |2           |-12405.08|2019-8    |\n",
      "|11      |2008-10-28    |1961-01-01    |Masculin|Marié(e)      |01 |59 |11            |BP Nador El Hoceima|15.4   |0        |0            |1           |-11928.39|2019-3    |\n",
      "|11      |2008-10-28    |1961-01-01    |Masculin|Marié(e)      |01 |59 |11            |BP Nador El Hoceima|15.4   |0        |0            |1           |-12181.49|2019-7    |\n",
      "|11      |2008-10-28    |1961-01-01    |Masculin|Marié(e)      |01 |59 |11            |BP Nador El Hoceima|15.4   |0        |0            |1           |-11943.79|2019-4    |\n",
      "|11      |2008-10-28    |1961-01-01    |Masculin|Marié(e)      |01 |59 |11            |BP Nador El Hoceima|406.9  |0        |0            |2           |-12350.69|2019-5    |\n",
      "|11      |2008-10-28    |1961-01-01    |Masculin|Marié(e)      |01 |59 |11            |BP Nador El Hoceima|15.4   |200      |1            |1           |-12166.09|2019-6    |\n",
      "|11      |2008-10-28    |1961-01-01    |Masculin|Marié(e)      |01 |59 |11            |BP Nador El Hoceima|432.41 |0        |0            |2           |-12868.29|2019-11   |\n",
      "|11      |2008-10-28    |1961-01-01    |Masculin|Marié(e)      |01 |59 |11            |BP Nador El Hoceima|15.4   |0        |0            |1           |-12435.88|2019-10   |\n",
      "|11      |2008-10-28    |1961-01-01    |Masculin|Marié(e)      |01 |59 |11            |BP Nador El Hoceima|15.4   |0        |0            |1           |-12420.48|2019-9    |\n",
      "|11      |2008-10-28    |1961-01-01    |Masculin|Marié(e)      |01 |59 |11            |BP Nador El Hoceima|401.08 |0        |0            |2           |-11912.99|2019-2    |\n",
      "|11      |2008-10-28    |1961-01-01    |Masculin|Marié(e)      |01 |59 |11            |BP Nador El Hoceima|15.4   |0        |0            |1           |-12883.69|2019-12   |\n",
      "|133571  |1986-06-13    |1945-01-01    |Masculin|Marié(e)      |57 |75 |33            |BP Oujda           |9017.5 |22598.3  |5            |8           |141877.82|2019-8    |\n",
      "|133571  |1986-06-13    |1945-01-01    |Masculin|Marié(e)      |57 |75 |33            |BP Oujda           |5017.6 |12762.3  |2            |6           |128297.02|2019-7    |\n",
      "|133571  |1986-06-13    |1945-01-01    |Masculin|Marié(e)      |57 |75 |33            |BP Oujda           |70058.2|102151.91|6            |13          |106117.92|2019-4    |\n",
      "|133571  |1986-06-13    |1945-01-01    |Masculin|Marié(e)      |57 |75 |33            |BP Oujda           |18028.6|14265.3  |4            |13          |32345.05 |2019-1    |\n",
      "|133571  |1986-06-13    |1945-01-01    |Masculin|Marié(e)      |57 |75 |33            |BP Oujda           |78034  |15401.7  |5            |18          |74024.21 |2019-3    |\n",
      "|133571  |1986-06-13    |1945-01-01    |Masculin|Marié(e)      |57 |75 |33            |BP Oujda           |1023.1 |10965.8  |2            |3           |120552.32|2019-6    |\n",
      "|133571  |1986-06-13    |1945-01-01    |Masculin|Marié(e)      |57 |75 |33            |BP Oujda           |7613.3 |13660.7  |4            |6           |146263.32|2019-10   |\n",
      "+--------+--------------+--------------+--------+--------------+---+---+--------------+-------------------+-------+---------+-------------+------------+---------+----------+\n",
      "only showing top 20 rows\n",
      "\n"
     ]
    }
   ],
   "source": [
    "from pyspark.sql.functions import col\n",
    "\n",
    "# Charger les DataFrames depuis le dictionnaire\n",
    "df_perimetre = dataframes[\"perimetre\"].withColumnRenamed(\"radical_new\", \"Idclient\")\n",
    "df_solde = dataframes[\"solde\"].withColumnRenamed(\"radical_new\", \"Idclient\")\n",
    "\n",
    "# Fusionner les DataFrames \"perimetre\" et \"solde\" sur \"Idclient\"\n",
    "df_merged_perimetre_solde = df_perimetre.join(df_solde, \"Idclient\", \"left\")\n",
    "\n",
    "# Afficher le schéma et les premières lignes du nouveau DataFrame fusionné pour vérifier\n",
    "df_merged_perimetre_solde.printSchema()\n",
    "df_merged_perimetre_solde.show(truncate=False)\n",
    "\n",
    "\n"
   ]
  },
  {
   "cell_type": "code",
   "execution_count": 44,
   "id": "2c0482f2-d9e6-45e9-be12-beb2f68d1f2a",
   "metadata": {},
   "outputs": [
    {
     "data": {
      "text/plain": [
       "10829478"
      ]
     },
     "execution_count": 44,
     "metadata": {},
     "output_type": "execute_result"
    }
   ],
   "source": [
    "df_merged_perimetre_solde.count()"
   ]
  },
  {
   "cell_type": "code",
   "execution_count": 45,
   "id": "8d53ca6d-5152-4567-b4f7-8d0e5897389e",
   "metadata": {},
   "outputs": [
    {
     "name": "stdout",
     "output_type": "stream",
     "text": [
      "root\n",
      " |-- Idclient: string (nullable = true)\n",
      " |-- CUSTOMER_SINCE: string (nullable = true)\n",
      " |-- DATE_NAISSANCE: string (nullable = true)\n",
      " |-- genre: string (nullable = true)\n",
      " |-- MARITAL_STATUS: string (nullable = true)\n",
      " |-- BPR: string (nullable = true)\n",
      " |-- age: integer (nullable = true)\n",
      " |-- CUSTOMER_YEARS: integer (nullable = true)\n",
      " |-- region: string (nullable = false)\n",
      " |-- MVTDEB: string (nullable = true)\n",
      " |-- MVTCRED: string (nullable = true)\n",
      " |-- NBMVTCRE_MENS: string (nullable = true)\n",
      " |-- NBMVTDB_MENS: string (nullable = true)\n",
      " |-- SOLDE: string (nullable = true)\n",
      " |-- MOIS_ANNEE: string (nullable = true)\n",
      "\n",
      "+--------+--------------+--------------+--------+--------------+---+---+--------------+--------+--------+---------+-------------+------------+---------+----------+\n",
      "|Idclient|CUSTOMER_SINCE|DATE_NAISSANCE|genre   |MARITAL_STATUS|BPR|age|CUSTOMER_YEARS|region  |MVTDEB  |MVTCRED  |NBMVTCRE_MENS|NBMVTDB_MENS|SOLDE    |MOIS_ANNEE|\n",
      "+--------+--------------+--------------+--------+--------------+---+---+--------------+--------+--------+---------+-------------+------------+---------+----------+\n",
      "|133571  |1986-06-13    |1945-01-01    |Masculin|Marié(e)      |57 |75 |33            |BP Oujda|9017.5  |22598.3  |5            |8           |141877.82|2019-8    |\n",
      "|133571  |1986-06-13    |1945-01-01    |Masculin|Marié(e)      |57 |75 |33            |BP Oujda|5017.6  |12762.3  |2            |6           |128297.02|2019-7    |\n",
      "|133571  |1986-06-13    |1945-01-01    |Masculin|Marié(e)      |57 |75 |33            |BP Oujda|70058.2 |102151.91|6            |13          |106117.92|2019-4    |\n",
      "|133571  |1986-06-13    |1945-01-01    |Masculin|Marié(e)      |57 |75 |33            |BP Oujda|18028.6 |14265.3  |4            |13          |32345.05 |2019-1    |\n",
      "|133571  |1986-06-13    |1945-01-01    |Masculin|Marié(e)      |57 |75 |33            |BP Oujda|78034   |15401.7  |5            |18          |74024.21 |2019-3    |\n",
      "|133571  |1986-06-13    |1945-01-01    |Masculin|Marié(e)      |57 |75 |33            |BP Oujda|1023.1  |10965.8  |2            |3           |120552.32|2019-6    |\n",
      "|133571  |1986-06-13    |1945-01-01    |Masculin|Marié(e)      |57 |75 |33            |BP Oujda|7613.3  |13660.7  |4            |6           |146263.32|2019-10   |\n",
      "|133571  |1986-06-13    |1945-01-01    |Masculin|Marié(e)      |57 |75 |33            |BP Oujda|7135.5  |11627.2  |2            |10          |110609.62|2019-5    |\n",
      "|133571  |1986-06-13    |1945-01-01    |Masculin|Marié(e)      |57 |75 |33            |BP Oujda|226626.9|12496.9  |3            |12          |7612.92  |2020-1    |\n",
      "|133571  |1986-06-13    |1945-01-01    |Masculin|Marié(e)      |57 |75 |33            |BP Oujda|1024.1  |71762.3  |4            |4           |221742.92|2019-12   |\n",
      "+--------+--------------+--------------+--------+--------------+---+---+--------------+--------+--------+---------+-------------+------------+---------+----------+\n",
      "only showing top 10 rows\n",
      "\n"
     ]
    }
   ],
   "source": [
    "from pyspark.sql.functions import when, col, date_format\n",
    "\n",
    "# Appliquer les transformations sur le DataFrame fusionné\n",
    "df_merged_perimetre_solde = df_merged_perimetre_solde.withColumn(\n",
    "    \"MARITAL_STATUS\",\n",
    "    when(df_merged_perimetre_solde[\"MARITAL_STATUS\"] == \"MariÃ© (e)\", \"Marié(e)\")\n",
    "    .when(df_merged_perimetre_solde[\"MARITAL_STATUS\"] == \"DivorcÃ© (e)\", \"Divorcé(e)\")\n",
    "    .otherwise(df_merged_perimetre_solde[\"MARITAL_STATUS\"])\n",
    ")\n",
    "\n",
    "# Afficher le schéma et quelques lignes pour vérifier les transformations\n",
    "df_merged_perimetre_solde.printSchema()\n",
    "df_merged_perimetre_solde.show(10, truncate=False)\n"
   ]
  },
  {
   "cell_type": "code",
   "execution_count": 46,
   "id": "c7459e20-37eb-4264-9200-fdcb4fb6e05c",
   "metadata": {},
   "outputs": [
    {
     "name": "stdout",
     "output_type": "stream",
     "text": [
      "DataFrame cptferm sauvegardé au format CSV dans hdfs://namenode:9000/mj/pfe/data_transformed/cptferm\n",
      "DataFrame fermcpt sauvegardé au format CSV dans hdfs://namenode:9000/mj/pfe/data_transformed/fermcpt\n",
      "DataFrame gab_abstr sauvegardé au format CSV dans hdfs://namenode:9000/mj/pfe/data_transformed/gab_abstr\n",
      "DataFrame gab22 sauvegardé au format CSV dans hdfs://namenode:9000/mj/pfe/data_transformed/gab22\n",
      "DataFrame getvir sauvegardé au format CSV dans hdfs://namenode:9000/mj/pfe/data_transformed/getvir\n",
      "DataFrame operations_agence sauvegardé au format CSV dans hdfs://namenode:9000/mj/pfe/data_transformed/operations_agence\n",
      "DataFrame perimetre sauvegardé au format CSV dans hdfs://namenode:9000/mj/pfe/data_transformed/perimetre\n",
      "DataFrame solde sauvegardé au format CSV dans hdfs://namenode:9000/mj/pfe/data_transformed/solde\n",
      "DataFrame statut_connexion sauvegardé au format CSV dans hdfs://namenode:9000/mj/pfe/data_transformed/statut_connexion\n",
      "DataFrame yousr sauvegardé au format CSV dans hdfs://namenode:9000/mj/pfe/data_transformed/yousr\n",
      "DataFrame merged_perimetre_solde sauvegardé au format CSV.\n",
      "DataFrame merged_cptferm_fermcpt sauvegardé au format CSV.\n"
     ]
    }
   ],
   "source": [
    "output_paths = {\n",
    "    \"cptferm\": \"hdfs://namenode:9000/mj/pfe/data_transformed/cptferm\",\n",
    "    \"fermcpt\": \"hdfs://namenode:9000/mj/pfe/data_transformed/fermcpt\",\n",
    "    \"gab_abstr\": \"hdfs://namenode:9000/mj/pfe/data_transformed/gab_abstr\",\n",
    "    \"gab22\": \"hdfs://namenode:9000/mj/pfe/data_transformed/gab22\",\n",
    "    \"getvir\": \"hdfs://namenode:9000/mj/pfe/data_transformed/getvir\",\n",
    "    \"operations_agence\": \"hdfs://namenode:9000/mj/pfe/data_transformed/operations_agence\",\n",
    "    \"perimetre\": \"hdfs://namenode:9000/mj/pfe/data_transformed/perimetre\",\n",
    "    \"solde\": \"hdfs://namenode:9000/mj/pfe/data_transformed/solde\",\n",
    "    \"statut_connexion\": \"hdfs://namenode:9000/mj/pfe/data_transformed/statut_connexion\",\n",
    "    \"yousr\": \"hdfs://namenode:9000/mj/pfe/data_transformed/yousr\",\n",
    "    \"merged_perimetre_solde\": \"hdfs://namenode:9000/mj/pfe/data_transformed/merged_perimetre_solde\",\n",
    "    \"merged_cptferm_fermcpt\": \"hdfs://namenode:9000/mj/pfe/data_transformed/merged_cptferm_fermcpt\"\n",
    "}\n",
    "\n",
    "# Sauvegarde de chaque DataFrame transformé au format CSV\n",
    "for key, df in dataframes.items():\n",
    "    try:\n",
    "        df.write.csv(output_paths[key], mode='overwrite', header=True)\n",
    "        print(f\"DataFrame {key} sauvegardé au format CSV dans {output_paths[key]}\")\n",
    "    except Exception as e:\n",
    "        print(f\"Erreur lors de la sauvegarde de {key} au format CSV :\", e)\n",
    "\n",
    "# Sauvegarde des DataFrames fusionnés\n",
    "try:\n",
    "    df_merged_perimetre_solde.write.csv(output_paths['merged_perimetre_solde'], mode='overwrite', header=True)\n",
    "    print(\"DataFrame merged_perimetre_solde sauvegardé au format CSV.\")\n",
    "except Exception as e:\n",
    "    print(\"Erreur lors de la sauvegarde de merged_perimetre_solde au format CSV :\", e)\n",
    "\n",
    "try:\n",
    "    df_merged_cptferm_fermcpt.write.csv(output_paths['merged_cptferm_fermcpt'], mode='overwrite', header=True)\n",
    "    print(\"DataFrame merged_cptferm_fermcpt sauvegardé au format CSV.\")\n",
    "except Exception as e:\n",
    "    print(\"Erreur lors de la sauvegarde de merged_cptferm_fermcpt au format CSV :\", e)\n"
   ]
  },
  {
   "cell_type": "code",
   "execution_count": 47,
   "id": "060034ba-ee1a-451d-bf14-a6bdceb5ce44",
   "metadata": {},
   "outputs": [
    {
     "name": "stdout",
     "output_type": "stream",
     "text": [
      "DataFrame cptferm sauvegardé au format Parquet dans hdfs://namenode:9000/mj/pfe/data_parquet/cptferm\n",
      "DataFrame fermcpt sauvegardé au format Parquet dans hdfs://namenode:9000/mj/pfe/data_parquet/fermcpt\n",
      "DataFrame gab_abstr sauvegardé au format Parquet dans hdfs://namenode:9000/mj/pfe/data_parquet/gab_abstr\n",
      "DataFrame gab22 sauvegardé au format Parquet dans hdfs://namenode:9000/mj/pfe/data_parquet/gab22\n",
      "DataFrame getvir sauvegardé au format Parquet dans hdfs://namenode:9000/mj/pfe/data_parquet/getvir\n",
      "DataFrame operations_agence sauvegardé au format Parquet dans hdfs://namenode:9000/mj/pfe/data_parquet/operations_agence\n",
      "DataFrame perimetre sauvegardé au format Parquet dans hdfs://namenode:9000/mj/pfe/data_parquet/perimetre\n",
      "DataFrame solde sauvegardé au format Parquet dans hdfs://namenode:9000/mj/pfe/data_parquet/solde\n",
      "DataFrame statut_connexion sauvegardé au format Parquet dans hdfs://namenode:9000/mj/pfe/data_parquet/statut_connexion\n",
      "DataFrame yousr sauvegardé au format Parquet dans hdfs://namenode:9000/mj/pfe/data_parquet/yousr\n"
     ]
    }
   ],
   "source": [
    "from pyspark.sql import SparkSession\n",
    "\n",
    "# Créer une session Spark\n",
    "spark = SparkSession.builder \\\n",
    "    .appName(\"Sauvegarde Parquet\") \\\n",
    "    .getOrCreate()\n",
    "\n",
    "# Chemins de sortie pour chaque DataFrame\n",
    "output_paths = {\n",
    "    \"cptferm\": \"hdfs://namenode:9000/mj/pfe/data_parquet/cptferm\",\n",
    "    \"fermcpt\": \"hdfs://namenode:9000/mj/pfe/data_parquet/fermcpt\",\n",
    "    \"gab_abstr\": \"hdfs://namenode:9000/mj/pfe/data_parquet/gab_abstr\",\n",
    "    \"gab22\": \"hdfs://namenode:9000/mj/pfe/data_parquet/gab22\",\n",
    "    \"getvir\": \"hdfs://namenode:9000/mj/pfe/data_parquet/getvir\",\n",
    "    \"operations_agence\": \"hdfs://namenode:9000/mj/pfe/data_parquet/operations_agence\",\n",
    "    \"perimetre\": \"hdfs://namenode:9000/mj/pfe/data_parquet/perimetre\",\n",
    "    \"solde\": \"hdfs://namenode:9000/mj/pfe/data_parquet/solde\",\n",
    "    \"statut_connexion\": \"hdfs://namenode:9000/mj/pfe/data_parquet/statut_connexion\",\n",
    "    \"yousr\": \"hdfs://namenode:9000/mj/pfe/data_parquet/yousr\",\n",
    "    \"merged_cptferm_fermcpt\": \"hdfs://namenode:9000/mj/pfe/data_parquet/merged_cptferm_fermcpt\",\n",
    "    \"merged_perimetre_solde\": \"hdfs://namenode:9000/mj/pfe/data_parquet/merged_perimetre_solde\"\n",
    "}\n",
    "\n",
    "# Sauvegarde de chaque DataFrame transformé au format Parquet\n",
    "for key, df in dataframes.items():\n",
    "    try:\n",
    "        df.write.parquet(output_paths[key], mode='overwrite')\n",
    "        print(f\"DataFrame {key} sauvegardé au format Parquet dans {output_paths[key]}\")\n",
    "    except Exception as e:\n",
    "        print(f\"Erreur lors de la sauvegarde de {key} au format Parquet :\", e)\n"
   ]
  },
  {
   "cell_type": "code",
   "execution_count": null,
   "id": "8fa3ae68-088b-4c48-9db5-1f2b052dcd3e",
   "metadata": {},
   "outputs": [],
   "source": []
  },
  {
   "cell_type": "code",
   "execution_count": null,
   "id": "f45bc422-7436-4acc-9428-20d61195c274",
   "metadata": {},
   "outputs": [],
   "source": []
  }
 ],
 "metadata": {
  "kernelspec": {
   "display_name": "Python 3 (ipykernel)",
   "language": "python",
   "name": "python3"
  },
  "language_info": {
   "codemirror_mode": {
    "name": "ipython",
    "version": 3
   },
   "file_extension": ".py",
   "mimetype": "text/x-python",
   "name": "python",
   "nbconvert_exporter": "python",
   "pygments_lexer": "ipython3",
   "version": "3.11.6"
  }
 },
 "nbformat": 4,
 "nbformat_minor": 5
}
