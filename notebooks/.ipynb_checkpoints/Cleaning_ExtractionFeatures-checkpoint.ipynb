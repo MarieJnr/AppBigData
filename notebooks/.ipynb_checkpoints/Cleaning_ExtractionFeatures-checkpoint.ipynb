{
 "cells": [
  {
   "cell_type": "code",
   "execution_count": 2,
   "id": "687a5a28-0dda-410d-8549-daff1511562d",
   "metadata": {},
   "outputs": [],
   "source": [
    "import pyspark\n",
    "from pyspark.sql import SparkSession\n",
    "# Créer une instance de SparkSession\n",
    "spark = SparkSession.builder \\\n",
    "    .appName(\"Data Transformation\") \\\n",
    "    .getOrCreate()"
   ]
  },
  {
   "cell_type": "markdown",
   "id": "85799549-2359-4c67-8c62-c6ebcf53f844",
   "metadata": {
    "editable": true,
    "jp-MarkdownHeadingCollapsed": true,
    "slideshow": {
     "slide_type": ""
    },
    "tags": []
   },
   "source": [
    "## Lire les données Parquet à partir de HDFS"
   ]
  },
  {
   "cell_type": "code",
   "execution_count": 3,
   "id": "26506606-d981-42d0-8e62-70ab43b71b72",
   "metadata": {},
   "outputs": [],
   "source": [
    "df_gab_abstr = spark.read.parquet(\"hdfs://namenode:9000/DataLake/gab_abstr.parquet\")\n",
    "df_getvir = spark.read.parquet(\"hdfs://namenode:9000/DataLake/getvir.parquet\")\n",
    "df_solde = spark.read.parquet(\"hdfs://namenode:9000/DataLake/solde.parquet\")\n",
    "df_perimetre = spark.read.parquet(\"hdfs://namenode:9000/DataLake/perimetre.parquet\")\n",
    "df_statut_connexion = spark.read.parquet(\"hdfs://namenode:9000/DataLake/statut_connexion.parquet\") \n",
    "df_getfac = spark.read.parquet(\"hdfs://namenode:9000/DataLake/getfac.parquet\") \n",
    "df_cptferm = spark.read.parquet(\"hdfs://namenode:9000/DataLake/cptferm.parquet\")\n",
    "df_fermcpt = spark.read.parquet(\"hdfs://namenode:9000/DataLake/fermcpt.parquet\")\n",
    "df_operations_agence = spark.read.parquet(\"hdfs://namenode:9000/DataLake/operations_agence.parquet\")\n",
    "df_gab22 = spark.read.parquet(\"hdfs://namenode:9000/DataLake/gab22.parquet\")\n",
    "df_yousr = spark.read.parquet(\"hdfs://namenode:9000/DataLake/yousr.parquet\")"
   ]
  },
  {
   "cell_type": "markdown",
   "id": "08848f84-8cf1-4af6-992d-f8cea316381b",
   "metadata": {
    "jp-MarkdownHeadingCollapsed": true
   },
   "source": [
    "## Unifier les ids clients dans tous les tables"
   ]
  },
  {
   "cell_type": "code",
   "execution_count": 4,
   "id": "1bee9cf8-da27-4b19-a64a-d2332374c68a",
   "metadata": {},
   "outputs": [],
   "source": [
    "df_gab_abstr = df_gab_abstr.withColumnRenamed(\"new\", \"Idclient\")\n",
    "df_getvir = df_getvir.withColumnRenamed(\"new\", \"Idclient\")\n",
    "df_solde = df_solde.withColumnRenamed(\"radical_new\", \"Idclient\") \n",
    "df_solde = df_solde.withColumnRenamed(\"radical_new\", \"Idclient\") \n",
    "df_perimetre = df_perimetre.withColumnRenamed(\"radical_new\", \"Idclient\") \n",
    "df_statut_connexion = df_statut_connexion.withColumnRenamed(\"radical_new\", \"Idclient\") \n",
    "df_getfac = df_getfac.withColumnRenamed(\"radical_new\", \"Idclient\") \n",
    "df_cptferm = df_cptferm.withColumnRenamed(\"new\", \"Idclient\") \n",
    "df_fermcpt = df_fermcpt.withColumnRenamed(\"new\", \"Idclient\")\n",
    "df_operations_agence = df_operations_agence.withColumnRenamed(\"new\", \"Idclient\")\n",
    "df_df_gab22 = df_operations_agence.withColumnRenamed(\"new\", \"Idclient\")\n",
    "df_yousr = df_yousr.withColumnRenamed(\"new\", \"Idclient\")"
   ]
  },
  {
   "cell_type": "markdown",
   "id": "1954969c-0507-4f8f-a034-e160d3a6e65e",
   "metadata": {},
   "source": [
    "## Nettoyage des données"
   ]
  },
  {
   "cell_type": "markdown",
   "id": "757740da-9918-4c78-af76-fadf34202279",
   "metadata": {
    "jp-MarkdownHeadingCollapsed": true
   },
   "source": [
    "### Table Perimetre"
   ]
  },
  {
   "cell_type": "code",
   "execution_count": 54,
   "id": "510e4ae7-7965-4c8e-8ca1-e79a43add2b6",
   "metadata": {},
   "outputs": [
    {
     "name": "stdout",
     "output_type": "stream",
     "text": [
      "root\n",
      " |-- CUSTOMER_SINCE: string (nullable = true)\n",
      " |-- DATE_NAISSANCE: string (nullable = true)\n",
      " |-- GENRE: string (nullable = true)\n",
      " |-- MARITAL_STATUS: string (nullable = true)\n",
      " |-- BPR: integer (nullable = true)\n",
      " |-- VILLE: struct (nullable = true)\n",
      " |    |-- member0: integer (nullable = true)\n",
      " |    |-- member1: string (nullable = true)\n",
      " |-- Idclient: integer (nullable = true)\n",
      "\n"
     ]
    }
   ],
   "source": [
    "#visualiser schemas deTable Perimetre\n",
    "df_perimetre .printSchema()"
   ]
  },
  {
   "cell_type": "code",
   "execution_count": 55,
   "id": "6b7f744a-4b49-402a-b890-778cd52f8761",
   "metadata": {},
   "outputs": [
    {
     "name": "stdout",
     "output_type": "stream",
     "text": [
      "+--------------+-------------------+--------+--------------+---+----------------+--------+\n",
      "|CUSTOMER_SINCE|     DATE_NAISSANCE|   GENRE|MARITAL_STATUS|BPR|           VILLE|Idclient|\n",
      "+--------------+-------------------+--------+--------------+---+----------------+--------+\n",
      "|    1996-03-05|1956-01-01 00:00:00|FÃ©minin|    MariÃ© (e)|  1|  {null, DIVERS}|       0|\n",
      "|    1998-03-12|1968-05-02 00:00:00|Masculin|    MariÃ© (e)|  1|  {null, AGADIR}|       1|\n",
      "|    1974-11-28|1950-01-01 00:00:00|FÃ©minin|    MariÃ© (e)|  1|  {null, AGADIR}|       2|\n",
      "|    2002-09-26|1968-04-01 00:00:00|FÃ©minin|   Celibataire|  1|  {null, AGADIR}|       3|\n",
      "|    2013-04-19|1970-01-01 00:00:00|Masculin|    MariÃ© (e)|  1|  {null, AGADIR}|       4|\n",
      "|    2010-12-08|1978-07-01 00:00:00|FÃ©minin|    MariÃ© (e)|  1|  {null, AGADIR}|       5|\n",
      "|    2020-02-04|1973-10-01 00:00:00|FÃ©minin|NON DISPONIBLE|  1|  {null, AGADIR}|       6|\n",
      "|    2007-10-15|1985-12-03 00:00:00|FÃ©minin|   Celibataire|  1|  {null, AGADIR}|       7|\n",
      "|    2021-12-14|2003-10-12 00:00:00|Masculin|NON DISPONIBLE|  1|{null, TINEGHIR}|       8|\n",
      "|    2016-10-18|1980-04-10 00:00:00|Masculin|   Celibataire|  1|  {null, AGADIR}|       9|\n",
      "+--------------+-------------------+--------+--------------+---+----------------+--------+\n",
      "only showing top 10 rows\n",
      "\n"
     ]
    }
   ],
   "source": [
    "df_perimetre.show(10)"
   ]
  },
  {
   "cell_type": "code",
   "execution_count": 56,
   "id": "590c505d-d030-4d2b-acd0-2f0476de22f3",
   "metadata": {},
   "outputs": [
    {
     "name": "stdout",
     "output_type": "stream",
     "text": [
      "+--------+------+\n",
      "|   genre| count|\n",
      "+--------+------+\n",
      "| Féminin|321502|\n",
      "|Masculin|673256|\n",
      "|    null|  5242|\n",
      "+--------+------+\n",
      "\n"
     ]
    }
   ],
   "source": [
    "#group by age\n",
    "from pyspark.sql.functions import when\n",
    "df_perimetre = df_perimetre.withColumn(\"genre\", when(df_perimetre[\"genre\"] == \"FÃ©minin\", \"Féminin\").otherwise(df_perimetre[\"genre\"]))\n",
    "df_perimetre.groupBy(\"genre\").count().show()"
   ]
  },
  {
   "cell_type": "code",
   "execution_count": 57,
   "id": "da45b7df-a5c0-4180-9a0f-15fdce0c580d",
   "metadata": {},
   "outputs": [
    {
     "name": "stdout",
     "output_type": "stream",
     "text": [
      "+--------------+------+\n",
      "|MARITAL_STATUS| count|\n",
      "+--------------+------+\n",
      "|NON DISPONIBLE|169715|\n",
      "|    Divorcé(e)|  9563|\n",
      "|          null|  4840|\n",
      "|   Celibataire|339422|\n",
      "|     Veuf (ve)| 24767|\n",
      "|      Marié(e)|451693|\n",
      "+--------------+------+\n",
      "\n"
     ]
    }
   ],
   "source": [
    "#group by MARITAL_STATUS\n",
    "df_perimetre = df_perimetre.withColumn(\"MARITAL_STATUS\", when(df_perimetre[\"MARITAL_STATUS\"] == \"MariÃ© (e)\", \"Marié(e)\").when(df_perimetre[\"MARITAL_STATUS\"] == \"DivorcÃ© (e)\", \"Divorcé(e)\").otherwise(df_perimetre[\"MARITAL_STATUS\"]))\n",
    "df_perimetre.groupBy(\"MARITAL_STATUS\").count().show()"
   ]
  },
  {
   "cell_type": "code",
   "execution_count": 58,
   "id": "ebbe8a7b-95b9-48ab-b149-1a26200c0757",
   "metadata": {},
   "outputs": [
    {
     "name": "stdout",
     "output_type": "stream",
     "text": [
      "+--------------+--------------+--------+--------------+---+--------------+--------+\n",
      "|CUSTOMER_SINCE|DATE_NAISSANCE|   genre|MARITAL_STATUS|BPR|         VILLE|Idclient|\n",
      "+--------------+--------------+--------+--------------+---+--------------+--------+\n",
      "|    1996-03-05|    1956-01-01| Féminin|      Marié(e)|  1|{null, DIVERS}|       0|\n",
      "|    1998-03-12|    1968-05-02|Masculin|      Marié(e)|  1|{null, AGADIR}|       1|\n",
      "|    1974-11-28|    1950-01-01| Féminin|      Marié(e)|  1|{null, AGADIR}|       2|\n",
      "|    2002-09-26|    1968-04-01| Féminin|   Celibataire|  1|{null, AGADIR}|       3|\n",
      "|    2013-04-19|    1970-01-01|Masculin|      Marié(e)|  1|{null, AGADIR}|       4|\n",
      "+--------------+--------------+--------+--------------+---+--------------+--------+\n",
      "only showing top 5 rows\n",
      "\n"
     ]
    }
   ],
   "source": [
    "#Colonne CUSTOMER_SINCE | DATE_NAISSANCE : Supprimer le temp  \n",
    "from pyspark.sql.functions import date_format\n",
    "df_perimetre = df_perimetre.withColumn(\"DATE_NAISSANCE\", date_format(df_perimetre[\"DATE_NAISSANCE\"], \"yyyy-MM-dd\"))\n",
    "df_perimetre = df_perimetre.withColumn(\"CUSTOMER_SINCE\", date_format(df_perimetre[\"CUSTOMER_SINCE\"], \"yyyy-MM-dd\"))\n",
    "df_perimetre.show(5)"
   ]
  },
  {
   "cell_type": "code",
   "execution_count": 59,
   "id": "4d4e08a7-10ee-478d-8556-50a0dba09889",
   "metadata": {},
   "outputs": [
    {
     "data": {
      "text/plain": [
       "1975.596649219079"
      ]
     },
     "execution_count": 59,
     "metadata": {},
     "output_type": "execute_result"
    }
   ],
   "source": [
    "# Calcul de la moyenne des années de naissance\n",
    "from pyspark.sql.functions import year, col, udf\n",
    "from pyspark.sql.types import StringType\n",
    "mean_year = df_perimetre.select(year(\"DATE_NAISSANCE\")).agg({\"year(DATE_NAISSANCE)\": \"avg\"}).collect()[0][0]\n",
    "mean_year"
   ]
  },
  {
   "cell_type": "code",
   "execution_count": 60,
   "id": "2fdecc3f-924e-477d-b4c3-250c6ecba441",
   "metadata": {},
   "outputs": [],
   "source": [
    "from pyspark.sql.functions import when, col\n",
    "df_perimetre = df_perimetre.withColumn('DATE_NAISSANCE', when(col('DATE_NAISSANCE').isNull(), '1975-01-01').otherwise(col('DATE_NAISSANCE')))"
   ]
  },
  {
   "cell_type": "code",
   "execution_count": 16,
   "id": "1fcfe11e-1a3d-445a-bb4e-e27e3a084881",
   "metadata": {},
   "outputs": [],
   "source": [
    "#Colonne ville"
   ]
  },
  {
   "cell_type": "code",
   "execution_count": 61,
   "id": "73a33394-8f77-4fec-b6b0-fb20d630edbb",
   "metadata": {},
   "outputs": [],
   "source": [
    "#supprimer 1 champ de Ville\n",
    "df_perimetre = df_perimetre.withColumn(\"VILLE\", col(\"VILLE\").member1)"
   ]
  },
  {
   "cell_type": "code",
   "execution_count": 62,
   "id": "99388b7d-8615-4677-b02d-dc5e45c0ef4c",
   "metadata": {},
   "outputs": [
    {
     "data": {
      "text/plain": [
       "{81: 'TINEJDAD',\n",
       " 1: 'GENEVILLIERS',\n",
       " 45: 'SIDI YAHIA',\n",
       " 27: 'IFRANE ATLAS SEGHIR',\n",
       " 43: 'BIOUGRA',\n",
       " 90: 'LE CAIRE',\n",
       " 64: 'DENAIN',\n",
       " 50: 'DIJON',\n",
       " 57: 'SIDI YAHIA EL GHARB',\n",
       " 17: 'OULAD AAMRANE',\n",
       " 40: 'LARACHE',\n",
       " 78: 'DIBBA',\n",
       " 30: 'SIDI RAHHAL',\n",
       " 48: 'KHENIFRA',\n",
       " 0: 'NADOR'}"
      ]
     },
     "execution_count": 62,
     "metadata": {},
     "output_type": "execute_result"
    }
   ],
   "source": [
    "# show dict ville with \n",
    "df_ville = df_perimetre.select(\"BPR\", \"VILLE\")\n",
    "df_ville = df_ville.dropDuplicates()\n",
    "dict_ville = df_ville.rdd.collectAsMap()\n",
    "dict_ville"
   ]
  },
  {
   "cell_type": "code",
   "execution_count": 63,
   "id": "c7d31948-a2a4-40d8-af50-3dd2daef7336",
   "metadata": {},
   "outputs": [
    {
     "name": "stdout",
     "output_type": "stream",
     "text": [
      "+-------+--------------+--------------+--------+--------------+------------------+--------+------------------+\n",
      "|summary|CUSTOMER_SINCE|DATE_NAISSANCE|   genre|MARITAL_STATUS|               BPR|   VILLE|          Idclient|\n",
      "+-------+--------------+--------------+--------+--------------+------------------+--------+------------------+\n",
      "|  count|       1000000|       1000000| 1000000|       1000000|           1000000|  999559|           1000000|\n",
      "|   mean|          null|          null|    null|          null|          57.00085|     1.0|          499999.5|\n",
      "| stddev|          null|          null|    null|          null|28.116621877848768|    null|288675.27893234405|\n",
      "|    min|    1960-01-01|    1058-12-10| Féminin|   Celibataire|                 0|       .|                 0|\n",
      "|    max|    2023-05-03|    2022-10-08|Masculin|     Veuf (ve)|                90|zaragoza|            999999|\n",
      "+-------+--------------+--------------+--------+--------------+------------------+--------+------------------+\n",
      "\n"
     ]
    }
   ],
   "source": [
    "from pyspark.sql.functions import rand, when\n",
    "\n",
    "df_perimetre = df_perimetre.withColumn(\"genre\", when(df_perimetre[\"genre\"].isNull(), when(rand() < 0.5, \"Féminin\").otherwise(\"Masculin\")).otherwise(df_perimetre[\"genre\"]))\n",
    "df_perimetre = df_perimetre.withColumn(\"MARITAL_STATUS\", when(df_perimetre[\"MARITAL_STATUS\"].isNull(), when(rand() < 0.5, \"Celibataire\").otherwise(\"Marié(e)\")).otherwise(df_perimetre[\"MARITAL_STATUS\"]))\n",
    "df_perimetre.describe().show()"
   ]
  },
  {
   "cell_type": "code",
   "execution_count": 64,
   "id": "1fe8019a-a53d-4780-a2bd-36469608f4ae",
   "metadata": {},
   "outputs": [
    {
     "name": "stdout",
     "output_type": "stream",
     "text": [
      "+---+------+\n",
      "|BPR| count|\n",
      "+---+------+\n",
      "| 78|  1437|\n",
      "| 81|172026|\n",
      "| 27|141305|\n",
      "|  1| 94118|\n",
      "| 40|   206|\n",
      "| 57| 54854|\n",
      "| 48|     9|\n",
      "| 64|104591|\n",
      "| 43| 23473|\n",
      "| 17|   506|\n",
      "| 50| 40447|\n",
      "| 45|152058|\n",
      "| 90|214736|\n",
      "| 30|   233|\n",
      "|  0|     1|\n",
      "+---+------+\n",
      "\n"
     ]
    }
   ],
   "source": [
    "df_perimetre.groupBy(\"BPR\").count().show()"
   ]
  },
  {
   "cell_type": "code",
   "execution_count": 65,
   "id": "d31bc1f2-ddfb-4165-a00f-fd4eb05654b8",
   "metadata": {},
   "outputs": [],
   "source": [
    "#ce code calcule l'âge des clients (en années) à partir de leur date de naissance et la durée (en années) pendant laquelle ils sont devenus clients en utilisant la date de référence \"2020-01-01\". \n",
    "#Les résultats sont ajoutés en tant que nouvelles colonnes dans le DataFrame df2_perimetre.\n",
    "from pyspark.sql.functions import datediff, months_between, to_date,lit\n",
    "df_perimetre = df_perimetre.withColumn(\"age\", (months_between(to_date(lit(\"2020-01-01\")), to_date(\"DATE_NAISSANCE\"), True) / 12).cast(\"integer\"))\n",
    "df_perimetre = df_perimetre.withColumn(\"CUSTOMER_YEARS\", (months_between(to_date(lit(\"2020-01-01\")), to_date(\"CUSTOMER_SINCE\"), True) / 12).cast(\"integer\"))"
   ]
  },
  {
   "cell_type": "code",
   "execution_count": null,
   "id": "f315e810-bf9a-4563-aa9a-f9bc6ebed580",
   "metadata": {},
   "outputs": [],
   "source": [
    "# from pyspark.sql.functions import floor, months_between, to_date, lit\n",
    "# # Calculer le nombre de mois\n",
    "# mois = months_between(to_date(lit(\"2020-01-01\")), to_date(\"CUSTOMER_SINCE\"), True)\n",
    "\n",
    "# # Extraire les composantes année et mois\n",
    "# annees = floor(mois / 12)\n",
    "# mois_restants = floor(mois % 12)\n",
    "\n",
    "# # Créer une nouvelle colonne 'CUSTOMER_YEARS_MONTHS' combinant les années et les mois\n",
    "# df_perimetre = df_perimetre.withColumn(\"CUSTOMER_YEARS_MONTHS\", lit(annees) + lit(\",\") + lit(mois_restants))"
   ]
  },
  {
   "cell_type": "code",
   "execution_count": null,
   "id": "ddd11c71-3615-4a23-b4fd-699f4a4cb262",
   "metadata": {},
   "outputs": [],
   "source": [
    "# df_perimetre = df_perimetre.drop(\"CUSTOMER_YEARS_MONTHS\")\n",
    "# df_perimetre.select(\"CUSTOMER_YEARS_MONTHS\").show(10)"
   ]
  },
  {
   "cell_type": "code",
   "execution_count": 66,
   "id": "79cd4778-10bc-4d34-b8d2-24f18868769a",
   "metadata": {},
   "outputs": [
    {
     "data": {
      "text/plain": [
       "144722"
      ]
     },
     "execution_count": 66,
     "metadata": {},
     "output_type": "execute_result"
    }
   ],
   "source": [
    "# Filtrer les lignes avec des valeurs > 2020-01-01\" dans le DataFrame\n",
    "df_perimetre_null = df_perimetre.filter(df_perimetre[\"CUSTOMER_SINCE\"] > \"2020-01-01\")\n",
    "\n",
    "# Afficher les lignes avec des valeurs nulles\n",
    "df_perimetre_null.count()"
   ]
  },
  {
   "cell_type": "code",
   "execution_count": 67,
   "id": "41858843-bb0e-480a-adbf-346957e60a11",
   "metadata": {},
   "outputs": [
    {
     "name": "stdout",
     "output_type": "stream",
     "text": [
      "+-------+------------------+-----------------+\n",
      "|summary|               age|   CUSTOMER_YEARS|\n",
      "+-------+------------------+-----------------+\n",
      "|  count|           1000000|          1000000|\n",
      "|   mean|          43.69849|         8.645292|\n",
      "| stddev|17.027562822018798|8.952499113765672|\n",
      "|    min|                -2|               -3|\n",
      "|    max|               961|               60|\n",
      "+-------+------------------+-----------------+\n",
      "\n"
     ]
    }
   ],
   "source": [
    "columns_to_describe = [\"age\", \"CUSTOMER_YEARS\"]\n",
    "df_perimetre.select(columns_to_describe).describe().show()"
   ]
  },
  {
   "cell_type": "code",
   "execution_count": 68,
   "id": "a271d1eb-cbf7-46cd-89bd-669e159c46c9",
   "metadata": {},
   "outputs": [
    {
     "data": {
      "image/png": "[encoded data removed]",
      "text/plain": [
       "<Figure size 1000x600 with 1 Axes>"
      ]
     },
     "metadata": {},
     "output_type": "display_data"
    }
   ],
   "source": [
    "#visualiser l'age en boxplot\n",
    "import matplotlib.pyplot as plt\n",
    "\n",
    "df_perimetre_pandas = df_perimetre.toPandas()\n",
    "\n",
    "# Crée un boxplot de l'âge\n",
    "plt.figure(figsize=(10, 6))\n",
    "plt.boxplot(df_perimetre_pandas['age'].values)\n",
    "plt.ylabel('Age (en années)')\n",
    "plt.title('Boxplot de l\\'âge')\n",
    "plt.show()"
   ]
  },
  {
   "cell_type": "code",
   "execution_count": 69,
   "id": "dd911908-98b1-4e90-b086-bcfeebe57a8a",
   "metadata": {},
   "outputs": [
    {
     "data": {
      "text/plain": [
       "count    1000000.000000\n",
       "mean          43.698490\n",
       "std           17.027563\n",
       "min           -2.000000\n",
       "25%           31.000000\n",
       "50%           42.000000\n",
       "75%           55.000000\n",
       "max          961.000000\n",
       "Name: age, dtype: float64"
      ]
     },
     "execution_count": 69,
     "metadata": {},
     "output_type": "execute_result"
    }
   ],
   "source": [
    "# Affiche les statistiques descriptives de l'âge\n",
    "df_perimetre_pandas['age'].describe()"
   ]
  },
  {
   "cell_type": "code",
   "execution_count": 70,
   "id": "cc4802bf-30e7-445b-94af-9c0eaacf72aa",
   "metadata": {},
   "outputs": [],
   "source": [
    "from pyspark.sql.functions import col\n",
    "\n",
    "# Calcule Q1, Q3 et IQR\n",
    "Q1 = df_perimetre.approxQuantile('age', [0.25], 0)[0]\n",
    "Q3 = df_perimetre.approxQuantile('age', [0.75], 0)[0]\n",
    "IQR = Q3 - Q1\n",
    "\n",
    "# Définit les limites pour les outliers\n",
    "lower_bound = Q1 - 1.5 * IQR\n",
    "upper_bound = Q3 + 1.5 * IQR\n",
    "\n",
    "# Supprime les outliers\n",
    "df_perimetre = df_perimetre.filter((col('age') >= lower_bound) & (col('age') <= upper_bound))"
   ]
  },
  {
   "cell_type": "code",
   "execution_count": 71,
   "id": "6e97d6c8-d5e0-4335-b2c2-74ed8eb4c294",
   "metadata": {},
   "outputs": [
    {
     "name": "stdout",
     "output_type": "stream",
     "text": [
      "+-------+------------------+\n",
      "|summary|               age|\n",
      "+-------+------------------+\n",
      "|  count|            996240|\n",
      "|   mean|43.433626435397095|\n",
      "| stddev|  15.7287281676824|\n",
      "|    min|                -2|\n",
      "|    max|                91|\n",
      "+-------+------------------+\n",
      "\n"
     ]
    }
   ],
   "source": [
    "df_perimetre.select('age').describe().show()"
   ]
  },
  {
   "cell_type": "code",
   "execution_count": 72,
   "id": "277601a6-87be-4b85-a835-2eb3ef2058da",
   "metadata": {},
   "outputs": [
    {
     "data": {
      "image/png": "[encoded data removed]",
      "text/plain": [
       "<Figure size 1000x600 with 1 Axes>"
      ]
     },
     "metadata": {},
     "output_type": "display_data"
    }
   ],
   "source": [
    "df_perimetre_pandas = df_perimetre.toPandas()\n",
    "df_perimetre_pandas['age'].describe()\n",
    "# Crée un boxplot de l'âge\n",
    "plt.figure(figsize=(10, 6))\n",
    "plt.boxplot(df_perimetre_pandas['age'].values)\n",
    "plt.ylabel('Age (en années)')\n",
    "plt.title('Boxplot de l\\'âge')\n",
    "plt.show()"
   ]
  },
  {
   "cell_type": "code",
   "execution_count": 73,
   "id": "e0c4469a-3960-4628-b7f9-53354632b1e4",
   "metadata": {},
   "outputs": [],
   "source": [
    "df_perimetre = df_perimetre.filter(col('age') >= 16)"
   ]
  },
  {
   "cell_type": "code",
   "execution_count": 74,
   "id": "f870f00a-02fd-46ca-a4fa-d1a1630f0a57",
   "metadata": {},
   "outputs": [
    {
     "name": "stdout",
     "output_type": "stream",
     "text": [
      "+-------+------------------+\n",
      "|summary|               age|\n",
      "+-------+------------------+\n",
      "|  count|            993274|\n",
      "|   mean|  43.5222728068992|\n",
      "| stddev|15.667411899220232|\n",
      "|    min|                16|\n",
      "|    max|                91|\n",
      "+-------+------------------+\n",
      "\n"
     ]
    }
   ],
   "source": [
    "df_perimetre.select('age').describe().show()"
   ]
  },
  {
   "cell_type": "code",
   "execution_count": 75,
   "id": "5e32fadd-0ff9-448a-a77c-d820fe12c6ab",
   "metadata": {},
   "outputs": [
    {
     "data": {
      "text/plain": [
       "993110"
      ]
     },
     "execution_count": 75,
     "metadata": {},
     "output_type": "execute_result"
    }
   ],
   "source": [
    "# Filtre le DataFrame où CUSTOMER_YEAR est supérieur à AGE\n",
    "df_perimetre = df_perimetre.filter((col('CUSTOMER_YEARS') < col('age')))\n",
    "# Calcule le nombre de lignes\n",
    "df_perimetre.count()"
   ]
  },
  {
   "cell_type": "code",
   "execution_count": 76,
   "id": "dc9d4569-0479-448d-9c87-fa74c1ade349",
   "metadata": {},
   "outputs": [
    {
     "name": "stdout",
     "output_type": "stream",
     "text": [
      "+-------+------------------+-----------------+\n",
      "|summary|               age|   CUSTOMER_YEARS|\n",
      "+-------+------------------+-----------------+\n",
      "|  count|            993110|           993110|\n",
      "|   mean|  43.5241342852252|8.634719215394066|\n",
      "| stddev|15.667491336582373|8.899023520773289|\n",
      "|    min|                16|               -3|\n",
      "|    max|                91|               60|\n",
      "+-------+------------------+-----------------+\n",
      "\n"
     ]
    }
   ],
   "source": [
    "columns_to_describe = [\"age\", \"CUSTOMER_YEARS\"]\n",
    "df_perimetre.select(columns_to_describe).describe().show()"
   ]
  },
  {
   "cell_type": "code",
   "execution_count": 77,
   "id": "63d82899-952b-4851-82f8-8afbc6894a22",
   "metadata": {},
   "outputs": [],
   "source": [
    "df_peri = df_perimetre"
   ]
  },
  {
   "cell_type": "code",
   "execution_count": 78,
   "id": "ce00447a-107f-4c83-b750-1e5071c8f8c4",
   "metadata": {},
   "outputs": [],
   "source": [
    "# Supprime la colonne 'VILLE'\n",
    "df_perimetre = df_perimetre.drop('VILLE')"
   ]
  },
  {
   "cell_type": "code",
   "execution_count": 84,
   "id": "5b9a0fe5-d846-4577-b0c9-e55b6992ea87",
   "metadata": {},
   "outputs": [],
   "source": [
    "from pyspark.sql.functions import col, create_map, lit\n",
    "from itertools import chain\n",
    "\n",
    "mapping_dic = {\n",
    "    '1': 'BP Centre Sud',\n",
    "    '17':'BCP Réseau',\n",
    "    '78':'BCP Réseau',\n",
    "    '27':'BP Fès Meknès',\n",
    "    '48':'BP Fès Meknès',\n",
    "    '43':'BP Lâayoune',\n",
    "    '45':'BP Marrakech Béni Mellal',\n",
    "    '50':'BP Nador El Hoceima',\n",
    "    '57':'BP Oujda',\n",
    "    '64':'BP Tanger Tétouan',\n",
    "    '81':'BP Rabat Kénitra',\n",
    "    '90':'BCP Réseau',\n",
    "    '30':'BP LIB ATTAWFIK',\n",
    "    '40':'BP LIB ATTAWFIK',\n",
    "}\n",
    "\n",
    "# Convertir le dictionnaire en une colonne Spark\n",
    "mapping_expr = create_map([lit(x) for x in chain(*mapping_dic.items())])\n",
    "df_perimetre = df_perimetre.withColumn('region', mapping_expr.getItem(col('BPR')))"
   ]
  },
  {
   "cell_type": "code",
   "execution_count": 80,
   "id": "a319e3e5-02e0-474a-bede-75e65a768eff",
   "metadata": {},
   "outputs": [
    {
     "name": "stdout",
     "output_type": "stream",
     "text": [
      "+--------------------+---+\n",
      "|              region|BPR|\n",
      "+--------------------+---+\n",
      "| BP Nador El Hoceima| 50|\n",
      "|            BP Oujda| 57|\n",
      "|          BCP Réseau| 90|\n",
      "|       BP Fès Meknès| 48|\n",
      "|          BCP Réseau| 78|\n",
      "|     BP LIB ATTAWFIK| 30|\n",
      "|         BP Lâayoune| 43|\n",
      "|   BP Tanger Tétouan| 64|\n",
      "|       BP Fès Meknès| 27|\n",
      "|BP Marrakech Béni...| 45|\n",
      "|     BP LIB ATTAWFIK| 40|\n",
      "|          BCP Réseau| 17|\n",
      "|                null|  0|\n",
      "|    BP Rabat Kénitra| 81|\n",
      "|       BP Centre Sud|  1|\n",
      "+--------------------+---+\n",
      "\n"
     ]
    }
   ],
   "source": [
    "# check corespandance\n",
    "distinct_regions = df_perimetre.select('region', 'BPR').distinct()\n",
    "distinct_regions.show()"
   ]
  },
  {
   "cell_type": "code",
   "execution_count": 81,
   "id": "73d24bbb-94bb-434c-9efe-c76fbf920ffe",
   "metadata": {},
   "outputs": [
    {
     "name": "stdout",
     "output_type": "stream",
     "text": [
      "+--------------+--------------+--------+--------------+---+--------+---+--------------+-------------+\n",
      "|CUSTOMER_SINCE|DATE_NAISSANCE|   genre|MARITAL_STATUS|BPR|Idclient|age|CUSTOMER_YEARS|       region|\n",
      "+--------------+--------------+--------+--------------+---+--------+---+--------------+-------------+\n",
      "|    1996-03-05|    1956-01-01| Féminin|      Marié(e)|  1|       0| 64|            23|BP Centre Sud|\n",
      "|    1998-03-12|    1968-05-02|Masculin|      Marié(e)|  1|       1| 51|            21|BP Centre Sud|\n",
      "|    1974-11-28|    1950-01-01| Féminin|      Marié(e)|  1|       2| 70|            45|BP Centre Sud|\n",
      "|    2002-09-26|    1968-04-01| Féminin|   Celibataire|  1|       3| 51|            17|BP Centre Sud|\n",
      "|    2013-04-19|    1970-01-01|Masculin|      Marié(e)|  1|       4| 50|             6|BP Centre Sud|\n",
      "|    2010-12-08|    1978-07-01| Féminin|      Marié(e)|  1|       5| 41|             9|BP Centre Sud|\n",
      "|    2020-02-04|    1973-10-01| Féminin|NON DISPONIBLE|  1|       6| 46|             0|BP Centre Sud|\n",
      "|    2007-10-15|    1985-12-03| Féminin|   Celibataire|  1|       7| 34|            12|BP Centre Sud|\n",
      "|    2021-12-14|    2003-10-12|Masculin|NON DISPONIBLE|  1|       8| 16|            -1|BP Centre Sud|\n",
      "|    2016-10-18|    1980-04-10|Masculin|   Celibataire|  1|       9| 39|             3|BP Centre Sud|\n",
      "+--------------+--------------+--------+--------------+---+--------+---+--------------+-------------+\n",
      "only showing top 10 rows\n",
      "\n"
     ]
    }
   ],
   "source": [
    "df_perimetre.show(10)"
   ]
  },
  {
   "cell_type": "code",
   "execution_count": 82,
   "id": "f2477032-8afa-48db-9fae-a4fe0e9111ef",
   "metadata": {},
   "outputs": [
    {
     "name": "stdout",
     "output_type": "stream",
     "text": [
      "+--------------+--------------+--------+--------------+---+--------+---+--------------+-------------+\n",
      "|CUSTOMER_SINCE|DATE_NAISSANCE|   genre|MARITAL_STATUS|BPR|Idclient|age|CUSTOMER_YEARS|       region|\n",
      "+--------------+--------------+--------+--------------+---+--------+---+--------------+-------------+\n",
      "|    1996-03-05|    1956-01-01| Féminin|      Marié(e)|  1|       0| 64|            23|BP Centre Sud|\n",
      "|    1998-03-12|    1968-05-02|Masculin|      Marié(e)|  1|       1| 51|            21|BP Centre Sud|\n",
      "|    1974-11-28|    1950-01-01| Féminin|      Marié(e)|  1|       2| 70|            45|BP Centre Sud|\n",
      "|    2002-09-26|    1968-04-01| Féminin|   Celibataire|  1|       3| 51|            17|BP Centre Sud|\n",
      "|    2013-04-19|    1970-01-01|Masculin|      Marié(e)|  1|       4| 50|             6|BP Centre Sud|\n",
      "+--------------+--------------+--------+--------------+---+--------+---+--------------+-------------+\n",
      "only showing top 5 rows\n",
      "\n",
      "+--------------------+------+\n",
      "|              region| count|\n",
      "+--------------------+------+\n",
      "|     BP LIB ATTAWFIK|   437|\n",
      "|    BP Rabat Kénitra|170945|\n",
      "|   BP Tanger Tétouan|104026|\n",
      "|         BP Lâayoune| 23339|\n",
      "|       BP Centre Sud| 93266|\n",
      "|          BCP Réseau|215153|\n",
      "| BP Nador El Hoceima| 40098|\n",
      "|BP Marrakech Béni...|151095|\n",
      "|       BP Fès Meknès|140365|\n",
      "|            BP Oujda| 54386|\n",
      "+--------------------+------+\n",
      "\n"
     ]
    }
   ],
   "source": [
    "df_perimetre = df_perimetre.fillna({'region': 'BP Nador El Hoceima'})\n",
    "df_perimetre.show(5)\n",
    "df_perimetre.groupBy('region').count().show()"
   ]
  },
  {
   "cell_type": "code",
   "execution_count": 146,
   "id": "ecf6f5c7-f519-48f7-bf87-93cda60aeb3b",
   "metadata": {},
   "outputs": [],
   "source": [
    "from pyspark.sql.functions import when\n",
    "\n",
    "df_perimetre = df_perimetre.withColumn(\n",
    "    \"AGE_GROUP\",\n",
    "    when(df_perimetre.age < 25, \"16-24\")\\\n",
    "    .when((df_perimetre.age >= 25) & (df_perimetre.age < 35), \"25-34\")\\\n",
    "    .when((df_perimetre.age >= 35) & (df_perimetre.age < 45), \"35-44\")\\\n",
    "    .when((df_perimetre.age >= 45) & (df_perimetre.age < 55), \"45-54\")\\\n",
    "    .when((df_perimetre.age >= 55) & (df_perimetre.age < 65), \"55-64\")\\\n",
    "    .otherwise(\"65+\")\n",
    ")"
   ]
  },
  {
   "cell_type": "code",
   "execution_count": 147,
   "id": "005128a9-fbb1-4d2c-9719-439812803292",
   "metadata": {},
   "outputs": [
    {
     "name": "stdout",
     "output_type": "stream",
     "text": [
      "+--------------+--------------+--------+--------------+---+--------+---+--------------+-------------+---------+\n",
      "|CUSTOMER_SINCE|DATE_NAISSANCE|   genre|MARITAL_STATUS|BPR|Idclient|age|CUSTOMER_YEARS|       region|AGE_GROUP|\n",
      "+--------------+--------------+--------+--------------+---+--------+---+--------------+-------------+---------+\n",
      "|    1996-03-05|    1956-01-01| Féminin|      Marié(e)|  1|       0| 64|            23|BP Centre Sud|    55-64|\n",
      "|    1998-03-12|    1968-05-02|Masculin|      Marié(e)|  1|       1| 51|            21|BP Centre Sud|    45-54|\n",
      "|    1974-11-28|    1950-01-01| Féminin|      Marié(e)|  1|       2| 70|            45|BP Centre Sud|      65+|\n",
      "|    2002-09-26|    1968-04-01| Féminin|   Celibataire|  1|       3| 51|            17|BP Centre Sud|    45-54|\n",
      "|    2013-04-19|    1970-01-01|Masculin|      Marié(e)|  1|       4| 50|             6|BP Centre Sud|    45-54|\n",
      "|    2010-12-08|    1978-07-01| Féminin|      Marié(e)|  1|       5| 41|             9|BP Centre Sud|    35-44|\n",
      "|    2020-02-04|    1973-10-01| Féminin|NON DISPONIBLE|  1|       6| 46|             0|BP Centre Sud|    45-54|\n",
      "|    2007-10-15|    1985-12-03| Féminin|   Celibataire|  1|       7| 34|            12|BP Centre Sud|    25-34|\n",
      "|    2021-12-14|    2003-10-12|Masculin|NON DISPONIBLE|  1|       8| 16|            -1|BP Centre Sud|    16-24|\n",
      "|    2016-10-18|    1980-04-10|Masculin|   Celibataire|  1|       9| 39|             3|BP Centre Sud|    35-44|\n",
      "|    2007-02-21|    1959-01-01|Masculin|      Marié(e)|  1|      10| 61|            12|BP Centre Sud|    55-64|\n",
      "|    2008-10-28|    1961-01-01|Masculin|      Marié(e)|  1|      11| 59|            11|BP Centre Sud|    55-64|\n",
      "|    2010-10-14|    1987-07-20|Masculin|   Celibataire|  1|      12| 32|             9|BP Centre Sud|    25-34|\n",
      "|    2013-04-19|    1982-03-15|Masculin|   Celibataire|  1|      13| 37|             6|BP Centre Sud|    35-44|\n",
      "|    2015-11-19|    1984-01-17| Féminin|      Marié(e)|  1|      14| 35|             4|BP Centre Sud|    35-44|\n",
      "|    2020-06-08|    1978-01-01|Masculin|      Marié(e)|  1|      15| 42|             0|BP Centre Sud|    35-44|\n",
      "|    2012-09-06|    1994-02-19| Féminin|   Celibataire|  1|      16| 25|             7|BP Centre Sud|    25-34|\n",
      "|    2012-09-10|    1993-03-20| Féminin|   Celibataire|  1|      17| 26|             7|BP Centre Sud|    25-34|\n",
      "|    1993-11-16|    1944-01-01|Masculin|      Marié(e)|  1|      18| 76|            26|BP Centre Sud|      65+|\n",
      "|    2013-04-19|    1987-01-14|Masculin|   Celibataire|  1|      19| 32|             6|BP Centre Sud|    25-34|\n",
      "+--------------+--------------+--------+--------------+---+--------+---+--------------+-------------+---------+\n",
      "only showing top 20 rows\n",
      "\n"
     ]
    }
   ],
   "source": [
    "df_perimetre.show()"
   ]
  },
  {
   "cell_type": "code",
   "execution_count": 150,
   "id": "952e63b5-af35-46f3-ab01-66ea5991161b",
   "metadata": {
    "editable": true,
    "slideshow": {
     "slide_type": ""
    },
    "tags": []
   },
   "outputs": [],
   "source": [
    "df_perimetre.write.mode(\"overwrite\").parquet(\"hdfs://namenode:9000//historisation_features/perimetre/perimetre.parquet\")"
   ]
  },
  {
   "cell_type": "markdown",
   "id": "8a8aa383-0bb7-49af-b3f7-3e2fa3d92247",
   "metadata": {
    "editable": true,
    "jp-MarkdownHeadingCollapsed": true,
    "slideshow": {
     "slide_type": ""
    },
    "tags": []
   },
   "source": [
    "### Table statut_connexion"
   ]
  },
  {
   "cell_type": "code",
   "execution_count": 41,
   "id": "1aa552a7-729a-43f9-a84c-447cbf25cf96",
   "metadata": {},
   "outputs": [
    {
     "name": "stdout",
     "output_type": "stream",
     "text": [
      "+----------+-------------+---------------+---------------+-----------+--------+\n",
      "|CREATEDATE|LASTLOGINDATE|     CONNECTION|CONNECTIONCOUNT|ISLOCKEDOUT|Idclient|\n",
      "+----------+-------------+---------------+---------------+-----------+--------+\n",
      "|2019-04-12|   2019-04-12|Jamais Connecte|           null|      false|  198219|\n",
      "|2019-10-04|   2019-10-04|Jamais Connecte|           null|      false|  143526|\n",
      "|2017-06-04|   2019-06-01|Connecte Reussi|             77|      false|  386264|\n",
      "|2019-12-20|   2019-12-20|Jamais Connecte|           null|      false|  390251|\n",
      "|2018-12-12|   2019-02-18|Connecte Reussi|              2|      false|  329389|\n",
      "|2018-10-20|   2019-12-19|Connecte Reussi|             16|      false|  349082|\n",
      "|2017-09-28|   2019-03-28|Connecte Reussi|             90|      false|  287551|\n",
      "|2018-09-06|   2019-01-25|Connecte Reussi|             10|      false|  286892|\n",
      "|2017-08-10|   2019-09-08|Connecte Reussi|            264|      false|   56440|\n",
      "|2018-10-13|   2019-09-30|Connecte Reussi|              3|      false|   41278|\n",
      "+----------+-------------+---------------+---------------+-----------+--------+\n",
      "only showing top 10 rows\n",
      "\n"
     ]
    }
   ],
   "source": [
    "df_statut_connexion.show(10)"
   ]
  },
  {
   "cell_type": "code",
   "execution_count": 116,
   "id": "7fbc8c8d-f0ea-428b-a0fe-f140241e6ad6",
   "metadata": {},
   "outputs": [],
   "source": [
    "#supprimer le temps\n",
    "df_statut_connexion = df_statut_connexion.withColumn(\"CREATEDATE\", date_format(df_statut_connexion[\"CREATEDATE\"], \"yyyy-MM-dd\"))\n",
    "df_statut_connexion = df_statut_connexion.withColumn(\"LASTLOGINDATE\", date_format(df_statut_connexion[\"LASTLOGINDATE\"], \"yyyy-MM-dd\"))"
   ]
  },
  {
   "cell_type": "code",
   "execution_count": 117,
   "id": "16fb7d92-7ba2-4c77-a36e-11cee36dc737",
   "metadata": {},
   "outputs": [],
   "source": [
    "from pyspark.sql.functions import col, when\n",
    "\n",
    "# replace null values with 0 in the CONNECTIONCOUNT column\n",
    "df_statut_connexion = df_statut_connexion.withColumn(\"CONNECTIONCOUNT\", when(col(\"CONNECTIONCOUNT\").isNull(), lit(0)).otherwise(col(\"CONNECTIONCOUNT\")))"
   ]
  },
  {
   "cell_type": "code",
   "execution_count": 118,
   "id": "d2325707-cf65-456c-8749-f3791287f2bd",
   "metadata": {},
   "outputs": [
    {
     "name": "stdout",
     "output_type": "stream",
     "text": [
      "+----------+-------------+---------------+---------------+-----------+--------+\n",
      "|CREATEDATE|LASTLOGINDATE|     CONNECTION|CONNECTIONCOUNT|ISLOCKEDOUT|Idclient|\n",
      "+----------+-------------+---------------+---------------+-----------+--------+\n",
      "|2019-04-12|   2019-04-12|Jamais Connecte|              0|      false|  198219|\n",
      "|2019-10-04|   2019-10-04|Jamais Connecte|              0|      false|  143526|\n",
      "|2017-06-04|   2019-06-01|Connecte Reussi|             77|      false|  386264|\n",
      "|2019-12-20|   2019-12-20|Jamais Connecte|              0|      false|  390251|\n",
      "|2018-12-12|   2019-02-18|Connecte Reussi|              2|      false|  329389|\n",
      "+----------+-------------+---------------+---------------+-----------+--------+\n",
      "only showing top 5 rows\n",
      "\n"
     ]
    }
   ],
   "source": [
    "df_statut_connexion.show(5)"
   ]
  },
  {
   "cell_type": "markdown",
   "id": "82c0a90d-c62f-4115-95bc-69ff3780a324",
   "metadata": {
    "jp-MarkdownHeadingCollapsed": true
   },
   "source": [
    "### Table getfac"
   ]
  },
  {
   "cell_type": "code",
   "execution_count": 46,
   "id": "b993bf53-d621-4028-9af5-a62c878dd63d",
   "metadata": {},
   "outputs": [
    {
     "name": "stdout",
     "output_type": "stream",
     "text": [
      "root\n",
      " |-- CANAL: string (nullable = true)\n",
      " |-- MONTANT_TOTAL: struct (nullable = true)\n",
      " |    |-- member0: float (nullable = true)\n",
      " |    |-- member1: string (nullable = true)\n",
      " |-- DT_CONFIRMATION: string (nullable = true)\n",
      " |-- TYPE_OPE: string (nullable = true)\n",
      " |-- Idclient: integer (nullable = true)\n",
      "\n"
     ]
    }
   ],
   "source": [
    "df_getfac.printSchema()"
   ]
  },
  {
   "cell_type": "code",
   "execution_count": 47,
   "id": "99827cd1-5405-47ac-82eb-58c01ca26548",
   "metadata": {},
   "outputs": [
    {
     "name": "stdout",
     "output_type": "stream",
     "text": [
      "+-----+-------------+---------------+--------+--------+\n",
      "|CANAL|MONTANT_TOTAL|DT_CONFIRMATION|TYPE_OPE|Idclient|\n",
      "+-----+-------------+---------------+--------+--------+\n",
      "|  WEB| {10.0, null}|     2019-01-01| FACTURE|  485328|\n",
      "|  WEB| {20.0, null}|     2019-01-01| FACTURE|  485328|\n",
      "|  WEB| {10.0, null}|     2019-01-03| FACTURE|  485328|\n",
      "|  WEB| {10.0, null}|     2019-01-04| FACTURE|  485328|\n",
      "|  WEB| {20.0, null}|     2019-01-06| FACTURE|  485328|\n",
      "+-----+-------------+---------------+--------+--------+\n",
      "only showing top 5 rows\n",
      "\n"
     ]
    }
   ],
   "source": [
    "df_getfac.show(5)"
   ]
  },
  {
   "cell_type": "code",
   "execution_count": 48,
   "id": "916d43fb-412e-414c-92e1-80dfc045ff38",
   "metadata": {},
   "outputs": [],
   "source": [
    "#supprimer le temps\n",
    "df_getfac = df_getfac.withColumn(\"DT_CONFIRMATION\", date_format(df_getfac[\"DT_CONFIRMATION\"], \"yyyy-MM-dd\"))"
   ]
  },
  {
   "cell_type": "code",
   "execution_count": 49,
   "id": "3c303c7d-b738-4728-9bfc-07459c17f107",
   "metadata": {},
   "outputs": [],
   "source": [
    "#supprimer 1 champ de Ville\n",
    "df_getfac = df_getfac.withColumn(\"MONTANT_TOTAL\", col(\"MONTANT_TOTAL\").member0)"
   ]
  },
  {
   "cell_type": "code",
   "execution_count": 50,
   "id": "e9a655ff-cb78-4c95-bfc5-3d48d9506deb",
   "metadata": {},
   "outputs": [
    {
     "name": "stdout",
     "output_type": "stream",
     "text": [
      "+-----+-------------+---------------+--------+--------+\n",
      "|CANAL|MONTANT_TOTAL|DT_CONFIRMATION|TYPE_OPE|Idclient|\n",
      "+-----+-------------+---------------+--------+--------+\n",
      "|  WEB|         10.0|     2019-01-01| FACTURE|  485328|\n",
      "|  WEB|         20.0|     2019-01-01| FACTURE|  485328|\n",
      "|  WEB|         10.0|     2019-01-03| FACTURE|  485328|\n",
      "|  WEB|         10.0|     2019-01-04| FACTURE|  485328|\n",
      "|  WEB|         20.0|     2019-01-06| FACTURE|  485328|\n",
      "+-----+-------------+---------------+--------+--------+\n",
      "only showing top 5 rows\n",
      "\n"
     ]
    }
   ],
   "source": [
    "df_getfac.show(5)"
   ]
  },
  {
   "cell_type": "markdown",
   "id": "14dc00c0-d7b1-4916-a8cf-c7810289c1be",
   "metadata": {
    "jp-MarkdownHeadingCollapsed": true
   },
   "source": [
    "### Table gab_abstr "
   ]
  },
  {
   "cell_type": "code",
   "execution_count": 52,
   "id": "96e0210d-5d80-4da3-8f7c-503dec85dc3b",
   "metadata": {},
   "outputs": [
    {
     "name": "stdout",
     "output_type": "stream",
     "text": [
      "root\n",
      " |-- MONTANT: float (nullable = true)\n",
      " |-- MOIS: integer (nullable = true)\n",
      " |-- ANNEE: integer (nullable = true)\n",
      " |-- NOMBRE_OPERATION: integer (nullable = true)\n",
      " |-- Idclient: integer (nullable = true)\n",
      "\n"
     ]
    }
   ],
   "source": [
    "df_gab_abstr.printSchema()"
   ]
  },
  {
   "cell_type": "code",
   "execution_count": 53,
   "id": "8db16598-deda-4a3b-a920-9f9e1c6f0784",
   "metadata": {},
   "outputs": [
    {
     "name": "stdout",
     "output_type": "stream",
     "text": [
      "+-------+----+-----+----------------+--------+\n",
      "|MONTANT|MOIS|ANNEE|NOMBRE_OPERATION|Idclient|\n",
      "+-------+----+-----+----------------+--------+\n",
      "| 4000.0|   1| 2019|               9|  752102|\n",
      "| 1220.0|   2| 2019|               5|  752102|\n",
      "| 3120.0|   5| 2019|              10|  752102|\n",
      "| 3300.0|  11| 2019|               7|  752102|\n",
      "| 2040.0|   4| 2019|               7|  752102|\n",
      "| 6320.0|   3| 2019|              10|  752102|\n",
      "| 7670.0|   8| 2019|              12|  752102|\n",
      "|   20.0|   9| 2019|               2|  752102|\n",
      "| 6240.0|  10| 2019|              10|  752102|\n",
      "|   30.0|   6| 2019|               5|  752102|\n",
      "+-------+----+-----+----------------+--------+\n",
      "only showing top 10 rows\n",
      "\n"
     ]
    }
   ],
   "source": [
    "df_gab_abstr.show(10)"
   ]
  },
  {
   "cell_type": "markdown",
   "id": "cd565b13-a2b7-454d-8812-4ca26b890292",
   "metadata": {
    "jp-MarkdownHeadingCollapsed": true
   },
   "source": [
    "### Table getvir"
   ]
  },
  {
   "cell_type": "code",
   "execution_count": 55,
   "id": "8d9b95f9-f2f2-4832-a46d-f35e692ce603",
   "metadata": {},
   "outputs": [
    {
     "name": "stdout",
     "output_type": "stream",
     "text": [
      "+-----+-------------+---------------+--------+--------+\n",
      "|CANAL|MONTANT_TOTAL|DT_CONFIRMATION|TYPE_OPE|Idclient|\n",
      "+-----+-------------+---------------+--------+--------+\n",
      "|  Web|         2400|     2019-10-02|     VIR|  865390|\n",
      "|  Web|          300|     2019-12-27|     VIR|   96065|\n",
      "|  Web|          300|     2019-12-02|     VIR|   96065|\n",
      "|  Web|          700|     2019-12-02|     VIR|   96065|\n",
      "|  Web|          300|     2019-10-29|     VIR|   96065|\n",
      "|  Web|          300|     2019-10-29|     VIR|   96065|\n",
      "|  Web|          300|     2019-09-30|     VIR|   96065|\n",
      "|  Web|          300|     2019-09-27|     VIR|   96065|\n",
      "|  Web|          550|     2019-09-16|     VIR|   96065|\n",
      "|  Web|          300|     2019-09-02|     VIR|   96065|\n",
      "+-----+-------------+---------------+--------+--------+\n",
      "only showing top 10 rows\n",
      "\n"
     ]
    }
   ],
   "source": [
    "df_getvir.show(10)"
   ]
  },
  {
   "cell_type": "code",
   "execution_count": 56,
   "id": "91377c8e-3da7-41f4-968c-9354c23fea15",
   "metadata": {},
   "outputs": [],
   "source": [
    "df_getvir = df_getvir.withColumn(\"DT_CONFIRMATION\", date_format(df_getvir[\"DT_CONFIRMATION\"], \"yyyy-MM-dd\"))"
   ]
  },
  {
   "cell_type": "markdown",
   "id": "ebc25a61-df6b-4a42-a454-023cf7c61fd5",
   "metadata": {
    "jp-MarkdownHeadingCollapsed": true
   },
   "source": [
    "### Table cptferm"
   ]
  },
  {
   "cell_type": "code",
   "execution_count": 58,
   "id": "fb5f0a53-efdb-4dd2-b610-1d556b885f33",
   "metadata": {},
   "outputs": [
    {
     "name": "stdout",
     "output_type": "stream",
     "text": [
      "+--------+-------+-------------------+\n",
      "|Idclient|PERIODE|          DATE_FERM|\n",
      "+--------+-------+-------------------+\n",
      "|  543425|      H|2018-12-01 03:30:47|\n",
      "|  353327|      H|2018-12-01 03:30:47|\n",
      "|  354648|      H|2018-12-01 03:30:47|\n",
      "|  319869|      H|2018-12-01 03:30:47|\n",
      "|  708338|      H|2018-12-22 03:13:11|\n",
      "|  340658|      H|2018-12-22 03:13:11|\n",
      "|  174405|      H|2018-12-22 03:13:11|\n",
      "|  174405|      H|2018-12-22 03:13:11|\n",
      "|  174405|      H|2018-12-22 03:13:11|\n",
      "|  174405|      H|2018-12-22 03:13:11|\n",
      "+--------+-------+-------------------+\n",
      "only showing top 10 rows\n",
      "\n"
     ]
    }
   ],
   "source": [
    "df_cptferm.show(10)"
   ]
  },
  {
   "cell_type": "code",
   "execution_count": 59,
   "id": "78c12daf-f835-4f77-8499-55bc87b2bb54",
   "metadata": {},
   "outputs": [],
   "source": [
    "df_cptferm = df_cptferm.withColumn(\"DATE_FERM\", date_format(df_cptferm[\"DATE_FERM\"], \"yyyy-MM-dd\"))"
   ]
  },
  {
   "cell_type": "code",
   "execution_count": 60,
   "id": "0cfb40ba-682c-4c80-81a5-ef1b88a133ec",
   "metadata": {},
   "outputs": [
    {
     "name": "stdout",
     "output_type": "stream",
     "text": [
      "+-------+-----+\n",
      "|PERIODE|count|\n",
      "+-------+-----+\n",
      "|      T|   83|\n",
      "|      H|21620|\n",
      "+-------+-----+\n",
      "\n"
     ]
    }
   ],
   "source": [
    "df_cptferm.groupBy(\"PERIODE\").count().show()"
   ]
  },
  {
   "cell_type": "markdown",
   "id": "e1c08f75-45ef-4cc1-a996-490c771f2ec8",
   "metadata": {
    "jp-MarkdownHeadingCollapsed": true
   },
   "source": [
    "### Table fermcpt"
   ]
  },
  {
   "cell_type": "code",
   "execution_count": 62,
   "id": "98ff1a4f-e541-4c6f-bdf1-8a623ce4872b",
   "metadata": {},
   "outputs": [
    {
     "name": "stdout",
     "output_type": "stream",
     "text": [
      "+--------+---------------+----------+------------+\n",
      "|Idclient|ORIGINE_DEMANDE|DATE_TRAIT|DATE_DEMANDE|\n",
      "+--------+---------------+----------+------------+\n",
      "|  366863|              C|2020-09-16|  2020-09-16|\n",
      "|  366863|              C|2020-05-28|  2020-05-28|\n",
      "|  699270|              C|2022-01-27|  2022-01-27|\n",
      "|  770145|              C|2019-11-12|  2019-11-12|\n",
      "|  584155|              A|2020-12-23|  2020-12-23|\n",
      "|  169724|              C|2022-04-13|  2022-04-13|\n",
      "|  473031|              C|2022-07-14|  2022-07-14|\n",
      "|   85735|              C|2021-05-04|  2021-05-04|\n",
      "|  806638|              C|2022-08-19|  2022-08-19|\n",
      "|  389919|              C|2021-10-14|  2021-10-14|\n",
      "+--------+---------------+----------+------------+\n",
      "only showing top 10 rows\n",
      "\n"
     ]
    }
   ],
   "source": [
    "df_fermcpt.show(10)"
   ]
  },
  {
   "cell_type": "code",
   "execution_count": 7,
   "id": "593551d6-4e30-4f13-a193-057bc1d7c84f",
   "metadata": {},
   "outputs": [],
   "source": [
    "from pyspark.sql.functions import date_format\n",
    "df_fermcpt = df_fermcpt.withColumn(\"DATE_TRAIT\", date_format(df_fermcpt[\"DATE_TRAIT\"], \"yyyy-MM-dd\"))\n",
    "df_fermcpt = df_fermcpt.withColumn(\"DATE_DEMANDE\", date_format(df_fermcpt[\"DATE_DEMANDE\"], \"yyyy-MM-dd\"))"
   ]
  },
  {
   "cell_type": "code",
   "execution_count": 64,
   "id": "257684cc-d68d-40e6-9964-3bfa12b2e654",
   "metadata": {},
   "outputs": [
    {
     "name": "stdout",
     "output_type": "stream",
     "text": [
      "+---------------+-----+\n",
      "|ORIGINE_DEMANDE|count|\n",
      "+---------------+-----+\n",
      "|              C|12183|\n",
      "|              A| 1365|\n",
      "+---------------+-----+\n",
      "\n"
     ]
    }
   ],
   "source": [
    "df_fermcpt.groupBy(\"ORIGINE_DEMANDE\").count().show()"
   ]
  },
  {
   "cell_type": "markdown",
   "id": "3afea510-b983-4cd7-b401-f32dbd3e4b67",
   "metadata": {
    "jp-MarkdownHeadingCollapsed": true
   },
   "source": [
    "### Table solde"
   ]
  },
  {
   "cell_type": "code",
   "execution_count": 66,
   "id": "c2789e60-52a0-46f1-b972-be3cf72da5e5",
   "metadata": {},
   "outputs": [
    {
     "name": "stdout",
     "output_type": "stream",
     "text": [
      "+------+-------+-------------+------------+--------+----+-----+--------+\n",
      "|MVTDEB|MVTCRED|NBMVTCRE_MENS|NBMVTDB_MENS|   SOLDE|MOIS|ANNEE|Idclient|\n",
      "+------+-------+-------------+------------+--------+----+-----+--------+\n",
      "| 180.4|   null|            0|           3|-1690.49|   1| 2019|  803444|\n",
      "|   0.0|   null|            0|           0|-1829.99|   7| 2019|  803444|\n",
      "|  71.4|  230.0|            1|           3|   -8.23|   1| 2020|  803444|\n",
      "| 57.73|   null|            0|           1|-1829.99|   5| 2019|  803444|\n",
      "|   0.0|   null|            0|           0|-1872.09|  10| 2019|  803444|\n",
      "|  16.4|   null|            0|           2| -166.83|  12| 2019|  803444|\n",
      "|  15.4|   null|            0|           1|-1772.26|   3| 2019|  803444|\n",
      "|   0.0|   null|            0|           0|-1872.09|   9| 2019|  803444|\n",
      "| 78.34| 1800.0|            1|           2| -150.43|  11| 2019|  803444|\n",
      "|   0.0|   null|            0|           0|-1829.99|   6| 2019|  803444|\n",
      "+------+-------+-------------+------------+--------+----+-----+--------+\n",
      "only showing top 10 rows\n",
      "\n"
     ]
    }
   ],
   "source": [
    "df_solde.show(10)"
   ]
  },
  {
   "cell_type": "code",
   "execution_count": 67,
   "id": "8cb4fde2-768f-4ef0-9b2b-02d7fee3ebc9",
   "metadata": {},
   "outputs": [],
   "source": [
    "df_solde = df_solde.withColumn(\"MVTCRED\", when(col(\"MVTCRED\").isNull(), lit(0)).otherwise(col(\"MVTCRED\")))"
   ]
  },
  {
   "cell_type": "code",
   "execution_count": 68,
   "id": "cf64668c-9421-4306-b5f6-b6b5cc2866c4",
   "metadata": {},
   "outputs": [
    {
     "name": "stdout",
     "output_type": "stream",
     "text": [
      "+------+-------+-------------+------------+--------+----+-----+--------+\n",
      "|MVTDEB|MVTCRED|NBMVTCRE_MENS|NBMVTDB_MENS|   SOLDE|MOIS|ANNEE|Idclient|\n",
      "+------+-------+-------------+------------+--------+----+-----+--------+\n",
      "| 180.4|    0.0|            0|           3|-1690.49|   1| 2019|  803444|\n",
      "|   0.0|    0.0|            0|           0|-1829.99|   7| 2019|  803444|\n",
      "|  71.4|  230.0|            1|           3|   -8.23|   1| 2020|  803444|\n",
      "| 57.73|    0.0|            0|           1|-1829.99|   5| 2019|  803444|\n",
      "|   0.0|    0.0|            0|           0|-1872.09|  10| 2019|  803444|\n",
      "|  16.4|    0.0|            0|           2| -166.83|  12| 2019|  803444|\n",
      "|  15.4|    0.0|            0|           1|-1772.26|   3| 2019|  803444|\n",
      "|   0.0|    0.0|            0|           0|-1872.09|   9| 2019|  803444|\n",
      "| 78.34| 1800.0|            1|           2| -150.43|  11| 2019|  803444|\n",
      "|   0.0|    0.0|            0|           0|-1829.99|   6| 2019|  803444|\n",
      "+------+-------+-------------+------------+--------+----+-----+--------+\n",
      "only showing top 10 rows\n",
      "\n"
     ]
    }
   ],
   "source": [
    "df_solde.show(10)"
   ]
  },
  {
   "cell_type": "markdown",
   "id": "b1c9c153-7575-46af-a76f-b0f84c85ad00",
   "metadata": {
    "jp-MarkdownHeadingCollapsed": true
   },
   "source": [
    "### Table Yousr"
   ]
  },
  {
   "cell_type": "code",
   "execution_count": 157,
   "id": "032c59a1-c6ed-4664-9f75-1c8a8d932805",
   "metadata": {},
   "outputs": [
    {
     "name": "stdout",
     "output_type": "stream",
     "text": [
      "+------------+----------+----------+--------------+-------------------+--------+--------------+---+-----------+--------+\n",
      "|AUTORISATION| DTAUTORIS|DTECHEANCE|CUSTOMER_SINCE|     DATE_NAISSANCE|   GENRE|MARITAL_STATUS|BPR|      VILLE|Idclient|\n",
      "+------------+----------+----------+--------------+-------------------+--------+--------------+---+-----------+--------+\n",
      "|           1|2017-11-09|2020-12-31|    2017-11-09|1998-04-27 00:00:00|Masculin|NON DISPONIBLE| 81|      RABAT|  342364|\n",
      "|           2|2015-08-12|2020-06-30|    2015-06-01|1982-01-01 00:00:00|FÃ©minin|   Celibataire| 90| CASABLANCA|   13918|\n",
      "|           1|2019-11-22|2020-11-30|    2015-04-03|1991-02-10 00:00:00|Masculin|    MariÃ© (e)| 81|   SKHIRATE|  232263|\n",
      "|           1|2018-12-25|2020-12-31|    2015-04-07|1997-03-26 00:00:00|FÃ©minin|   Celibataire| 81| CASABLANCA|  123015|\n",
      "|           1|2018-03-06|2020-12-31|    2015-06-11|1990-11-01 00:00:00|Masculin|   Celibataire| 90| CASABLANCA|  232326|\n",
      "|           1|2019-01-07|2020-12-31|    2015-06-12|1986-08-31 00:00:00|Masculin|    MariÃ© (e)| 90| CASABLANCA|  177881|\n",
      "|           1|2018-12-14|2020-12-31|    2015-07-09|1985-04-17 00:00:00|Masculin|   Celibataire| 90| CASABLANCA|   13956|\n",
      "|           2|2017-02-17|2020-12-31|    2015-05-14|1973-05-17 00:00:00|Masculin|  DivorcÃ© (e)| 81|      RABAT|  177848|\n",
      "|           2|2015-09-28|2020-09-30|    2015-05-29|1965-07-20 00:00:00|Masculin|    MariÃ© (e)| 81|    KENITRA|  341532|\n",
      "|           1|2018-10-01|2020-10-31|    2017-10-04|1997-08-17 00:00:00|Masculin|    MariÃ© (e)|  1| YOUSSOUFIA|  342315|\n",
      "|           1|2019-03-08|2020-12-31|    2017-09-06|1979-07-01 00:00:00|Masculin|   Celibataire| 81|       SALE|  397080|\n",
      "|           2|2019-05-14|2020-12-31|    2017-05-19|1989-01-01 00:00:00|Masculin|   Celibataire| 50|      NADOR|  396953|\n",
      "|           2|2018-01-31|2020-12-31|    2010-08-18|1976-09-08 00:00:00|Masculin|    MariÃ© (e)| 90|BEN SLIMANE|   71314|\n",
      "|           5|2018-12-04|2020-12-31|    2011-04-05|1991-11-14 00:00:00|Masculin|    MariÃ© (e)| 43| CASABLANCA|  235509|\n",
      "|           6|2011-01-17|2020-12-31|    1987-03-31|1961-03-03 00:00:00|Masculin|    MariÃ© (e)| 90|     SETTAT|   71771|\n",
      "|           1|2017-05-16|2020-12-31|    2011-12-14|1971-12-30 00:00:00|Masculin|    MariÃ© (e)| 45|  KHOURIBGA|  345315|\n",
      "|           2|2018-01-18|2020-12-31|    2016-10-20|1985-04-03 00:00:00|FÃ©minin|   Celibataire| 90| CASABLANCA|   14412|\n",
      "|           1|2018-07-09|2020-12-31|    2016-02-05|1992-10-20 00:00:00|FÃ©minin|   Celibataire| 90|  BERRECHID|  396567|\n",
      "|           4|2015-06-17|2020-12-31|    1998-07-10|1971-06-20 00:00:00|FÃ©minin|    MariÃ© (e)| 81|       SALE|  181937|\n",
      "|           2|2010-04-20|2020-06-30|    2002-08-01|1962-07-01 00:00:00|Masculin|    MariÃ© (e)| 27|        FES|  291088|\n",
      "+------------+----------+----------+--------------+-------------------+--------+--------------+---+-----------+--------+\n",
      "only showing top 20 rows\n",
      "\n"
     ]
    }
   ],
   "source": [
    "df_yousr.show()"
   ]
  },
  {
   "cell_type": "code",
   "execution_count": 158,
   "id": "85e151ca-8bfc-4768-a0c2-d68999417c59",
   "metadata": {},
   "outputs": [
    {
     "name": "stdout",
     "output_type": "stream",
     "text": [
      "root\n",
      " |-- AUTORISATION: integer (nullable = true)\n",
      " |-- DTAUTORIS: string (nullable = true)\n",
      " |-- DTECHEANCE: string (nullable = true)\n",
      " |-- CUSTOMER_SINCE: string (nullable = true)\n",
      " |-- DATE_NAISSANCE: string (nullable = true)\n",
      " |-- GENRE: string (nullable = true)\n",
      " |-- MARITAL_STATUS: string (nullable = true)\n",
      " |-- BPR: integer (nullable = true)\n",
      " |-- VILLE: string (nullable = true)\n",
      " |-- Idclient: integer (nullable = true)\n",
      "\n"
     ]
    }
   ],
   "source": [
    "df_yousr.printSchema()"
   ]
  },
  {
   "cell_type": "code",
   "execution_count": 159,
   "id": "0aaecbb2-63a8-49ad-879b-6731dd0a5d1d",
   "metadata": {},
   "outputs": [],
   "source": [
    "df_yousr = df_yousr.select(\"Idclient\",\"AUTORISATION\")"
   ]
  },
  {
   "cell_type": "code",
   "execution_count": 161,
   "id": "a898aa32-56af-4efb-9e17-ee4e065c8ead",
   "metadata": {},
   "outputs": [
    {
     "name": "stdout",
     "output_type": "stream",
     "text": [
      "+--------+------------+\n",
      "|Idclient|AUTORISATION|\n",
      "+--------+------------+\n",
      "|  342364|           1|\n",
      "|   13918|           2|\n",
      "|  232263|           1|\n",
      "|  123015|           1|\n",
      "|  232326|           1|\n",
      "+--------+------------+\n",
      "only showing top 5 rows\n",
      "\n"
     ]
    }
   ],
   "source": [
    "df_yousr.show(5)"
   ]
  },
  {
   "cell_type": "code",
   "execution_count": 160,
   "id": "b822c6fa-f2e2-4222-917b-d9f402496ac3",
   "metadata": {},
   "outputs": [],
   "source": [
    "df_yousr.write.parquet(\"hdfs://namenode:9000//historisation_features/yousr/df_hasyousr.parquet\")"
   ]
  },
  {
   "cell_type": "markdown",
   "id": "a35cc7e5-6a47-4fe0-a80b-0aef34acd5c4",
   "metadata": {},
   "source": [
    "## CREATION DU COLONNE TRIMESTRE"
   ]
  },
  {
   "cell_type": "markdown",
   "id": "94bac389-0519-4cbc-a97d-72e19be7bf8c",
   "metadata": {
    "jp-MarkdownHeadingCollapsed": true
   },
   "source": [
    "### Préparation des fonctions de création des features"
   ]
  },
  {
   "cell_type": "code",
   "execution_count": 40,
   "id": "831e4721-7e33-4a1a-9f35-563cf6f73a31",
   "metadata": {},
   "outputs": [],
   "source": [
    "all_months = [201901, 201902, 201903, 201904, 201905, 201906, 201907, 201908, 201909, 201910, 201911, 201912, 202001]"
   ]
  },
  {
   "cell_type": "code",
   "execution_count": 41,
   "id": "e9553d9f-ff05-4352-b084-c354b799632b",
   "metadata": {},
   "outputs": [],
   "source": [
    "from pyspark.sql.functions import explode, array, lit\n",
    "from pyspark.sql.functions import first\n",
    "\n",
    "# FONCTION DE CREATION DES ANNEEMOIS MANQUANTES\n",
    "def fill_missing_months(df, amount_col_name, all_months):\n",
    "    id_col_name = \"Idclient\"\n",
    "    date_col_name = \"ANNEEMOIS\"\n",
    "    \n",
    "    # Obtenir tous les clients uniques\n",
    "    unique_clients = df.select(id_col_name).distinct()\n",
    "\n",
    "    # Ajouter une colonne avec la liste de tous les mois à chaque client\n",
    "    df_all = unique_clients.withColumn(date_col_name, explode(array([lit(month) for month in all_months])))\n",
    "\n",
    "    # Créer un DataFrame avec amount_col_name 0 pour chaque combinaison de client et de mois\n",
    "    df_all = df_all.withColumn(amount_col_name, lit(0))\n",
    "\n",
    "    # Assurer que les deux DataFrame ont les mêmes colonnes dans le même ordre\n",
    "    df = df.select(id_col_name, date_col_name, amount_col_name)\n",
    "    df_all = df_all.select(id_col_name, date_col_name, amount_col_name)\n",
    "\n",
    "    # Unir le DataFrame original avec le nouveau DataFrame\n",
    "    df = df.union(df_all)\n",
    "\n",
    "    # En cas de doublons (un client ayant une entrée avec amount_col_name 0 et une autre avec une valeur différente), \n",
    "    # garder la valeur la plus élevée\n",
    "    df = df.groupBy(id_col_name, date_col_name).agg(first(amount_col_name)).withColumnRenamed(\"first({})\".format(amount_col_name), amount_col_name)\n",
    "    \n",
    "    return df"
   ]
  },
  {
   "cell_type": "code",
   "execution_count": 42,
   "id": "c4df8aeb-b8e6-40ad-9a4b-5fc2e2bb7589",
   "metadata": {},
   "outputs": [],
   "source": [
    "list_dwp=[201904, 201907, 201910, 202001]"
   ]
  },
  {
   "cell_type": "code",
   "execution_count": 43,
   "id": "141684d4-01bd-4513-b83d-0cdd7ab04fd7",
   "metadata": {},
   "outputs": [],
   "source": [
    "from pyspark.sql import Window\n",
    "from pyspark.sql.functions import lag, col\n",
    "\n",
    "# FONCTION DE CREATION D'UN HISTORIQUE DE 3 MOIS PRECEDENTS\n",
    "def historiquefonction(df, list_dwp, timelag_n, aggreg):\n",
    "    # Define window specification\n",
    "    windowSpec = Window.partitionBy('Idclient').orderBy('ANNEEMOIS')\n",
    "\n",
    "    # Generate lagged features\n",
    "    for j in range(1, timelag_n + 1):\n",
    "        df = df.withColumn(f'{aggreg}_{j}_MONTH_AGO', lag(aggreg, j).over(windowSpec))\n",
    "\n",
    "    # Filter dataframe based on list_dwp\n",
    "    df = df.filter(col('ANNEEMOIS').isin(list_dwp))\n",
    "    \n",
    "\n",
    "    \n",
    "    # Drop duplicates\n",
    "    df = df.dropDuplicates()\n",
    "    \n",
    "    return df"
   ]
  },
  {
   "cell_type": "markdown",
   "id": "6f0cb6bf-3eb7-451e-91bc-be78c0935123",
   "metadata": {},
   "source": [
    "### Extracter et historiser features de la table df_solde"
   ]
  },
  {
   "cell_type": "markdown",
   "id": "a6f82598-801b-42aa-952a-eacbf1099541",
   "metadata": {
    "jp-MarkdownHeadingCollapsed": true
   },
   "source": [
    "#### Préparation des donnees table solde"
   ]
  },
  {
   "cell_type": "code",
   "execution_count": 73,
   "id": "36549ab8-070d-4460-b5d7-321f84a4362d",
   "metadata": {},
   "outputs": [],
   "source": [
    "from pyspark.sql import functions as F"
   ]
  },
  {
   "cell_type": "code",
   "execution_count": 74,
   "id": "9d017f7f-d659-4130-8ecf-b18139f749c3",
   "metadata": {},
   "outputs": [],
   "source": [
    "#La fonction F.lpad est utilisée pour remplir les valeurs de la colonne \"MOIS\" avec des zéros à gauche pour obtenir une longueur totale de 2 caractères\n",
    "#Cela garantit que les mois sont représentés avec deux chiffres, par exemple, \"01\" pour janvier, \"02\" pour février, etc.\n",
    "df2_solde = df_solde.withColumn(\"MOIS\", F.lpad(df_solde[\"MOIS\"], 2, '0'))\n",
    "df2_solde = df2_solde.withColumn(\"Idclient\", F.lpad(df_solde[\"Idclient\"], 7, '0'))"
   ]
  },
  {
   "cell_type": "code",
   "execution_count": 75,
   "id": "bb8828e1-09ca-4578-8ee8-403314206444",
   "metadata": {},
   "outputs": [
    {
     "name": "stdout",
     "output_type": "stream",
     "text": [
      "+--------+-------+-------------+------------+---------+----+-----+--------+\n",
      "|  MVTDEB|MVTCRED|NBMVTCRE_MENS|NBMVTDB_MENS|    SOLDE|MOIS|ANNEE|Idclient|\n",
      "+--------+-------+-------------+------------+---------+----+-----+--------+\n",
      "|11118.89|    0.0|            0|          20|288421.16|  11| 2019| 0000020|\n",
      "|  8815.4|    0.0|            0|          21|271390.36|  01| 2020| 0000020|\n",
      "|  7915.4|    0.0|            0|          18|333486.25|  07| 2019| 0000020|\n",
      "|  7115.4|    0.0|            0|          19|341401.65|  06| 2019| 0000020|\n",
      "|  9470.4|    0.0|            0|          21|374463.25|  02| 2019| 0000020|\n",
      "|  7415.4|    0.0|            0|          18|326070.85|  08| 2019| 0000020|\n",
      "| 10515.4|    0.0|            0|          24|348517.05|  05| 2019| 0000020|\n",
      "| 10915.4|    0.0|            0|          19|383933.65|  01| 2019| 0000020|\n",
      "| 16515.4|    0.0|            0|          15|299540.05|  10| 2019| 0000020|\n",
      "|  8915.4|    0.0|            0|          18|359032.45|  04| 2019| 0000020|\n",
      "| 10015.4|    0.0|            0|          19|316055.45|  09| 2019| 0000020|\n",
      "|  6515.4|    0.0|            0|          16|367947.85|  03| 2019| 0000020|\n",
      "|  8215.4|    0.0|            0|          18|280205.76|  12| 2019| 0000020|\n",
      "+--------+-------+-------------+------------+---------+----+-----+--------+\n",
      "\n"
     ]
    }
   ],
   "source": [
    "check=df2_solde.filter(col(\"Idclient\")== 20)\n",
    "check.show()"
   ]
  },
  {
   "cell_type": "markdown",
   "id": "3cf3a47a-0db4-42c3-9d7a-90fbdfdaa687",
   "metadata": {
    "jp-MarkdownHeadingCollapsed": true
   },
   "source": [
    "#### historiser feature solde"
   ]
  },
  {
   "cell_type": "code",
   "execution_count": 76,
   "id": "52168663-d692-43f6-b9ed-c9fd67af4ba8",
   "metadata": {},
   "outputs": [
    {
     "name": "stdout",
     "output_type": "stream",
     "text": [
      "+--------+--------+---------+\n",
      "|Idclient|   SOLDE|ANNEEMOIS|\n",
      "+--------+--------+---------+\n",
      "| 0803444|-1690.49|   201901|\n",
      "| 0803444|-1829.99|   201907|\n",
      "| 0803444|   -8.23|   202001|\n",
      "| 0803444|-1829.99|   201905|\n",
      "| 0803444|-1872.09|   201910|\n",
      "| 0803444| -166.83|   201912|\n",
      "| 0803444|-1772.26|   201903|\n",
      "| 0803444|-1872.09|   201909|\n",
      "| 0803444| -150.43|   201911|\n",
      "| 0803444|-1829.99|   201906|\n",
      "| 0803444|-1756.86|   201902|\n",
      "| 0803444|-1872.09|   201908|\n",
      "| 0803444|-1772.26|   201904|\n",
      "| 0764763|   18.38|   201901|\n",
      "| 0764763|   56.23|   201904|\n",
      "| 0764763|  -26.26|   202001|\n",
      "| 0764763| 2155.79|   201908|\n",
      "| 0764763|  615.92|   201906|\n",
      "| 0764763| 3459.54|   201911|\n",
      "| 0764763|   44.14|   201912|\n",
      "+--------+--------+---------+\n",
      "only showing top 20 rows\n",
      "\n"
     ]
    }
   ],
   "source": [
    "df3_solde = df2_solde.withColumn(\"ANNEEMOIS\", F.concat(F.col(\"ANNEE\"), F.col(\"MOIS\")))\n",
    "df4_solde = df3_solde.select(\"Idclient\", \"SOLDE\", \"ANNEEMOIS\")\n",
    "df4_solde.show()"
   ]
  },
  {
   "cell_type": "code",
   "execution_count": 77,
   "id": "23467c05-b97d-4c07-ad1c-e1a2298702f4",
   "metadata": {},
   "outputs": [],
   "source": [
    "df4_solde = fill_missing_months(df4_solde, \"SOLDE\" , all_months)"
   ]
  },
  {
   "cell_type": "code",
   "execution_count": 78,
   "id": "6b8174be-167c-4c6e-b123-9761da77d3f7",
   "metadata": {},
   "outputs": [
    {
     "name": "stdout",
     "output_type": "stream",
     "text": [
      "+--------+---------+---------+\n",
      "|Idclient|ANNEEMOIS|    SOLDE|\n",
      "+--------+---------+---------+\n",
      "| 0983158|   201905|516011.21|\n",
      "| 0009884|   201907|    753.9|\n",
      "| 0458603|   201906|    46.82|\n",
      "| 0577019|   201907|   -95.36|\n",
      "| 0888006|   201909|158588.31|\n",
      "| 0692482|   201912|   130.51|\n",
      "| 0754457|   201909| -1482.46|\n",
      "| 0556858|   201907|  -178.86|\n",
      "| 0709223|   201906|  7320.87|\n",
      "| 0026660|   201910| -1291.84|\n",
      "| 0914796|   201905|  5159.86|\n",
      "| 0819410|   201911| -2092.25|\n",
      "| 0325691|   201901| -1220.17|\n",
      "| 0325691|   201908| -1234.88|\n",
      "| 0601174|   201909| 28510.62|\n",
      "| 0205383|   201909| 43904.44|\n",
      "| 0491550|   201910| 64617.46|\n",
      "| 0858329|   201907|  25020.2|\n",
      "| 0324720|   202001| 28553.77|\n",
      "| 0892231|   201908|670779.48|\n",
      "+--------+---------+---------+\n",
      "only showing top 20 rows\n",
      "\n"
     ]
    }
   ],
   "source": [
    "df4_solde.show()"
   ]
  },
  {
   "cell_type": "code",
   "execution_count": 79,
   "id": "4b10e735-007b-4138-a86f-144b6bcb12b9",
   "metadata": {},
   "outputs": [],
   "source": [
    "df5_solde = historiquefonction(df4_solde, list_dwp, 3, \"SOLDE\")"
   ]
  },
  {
   "cell_type": "code",
   "execution_count": 80,
   "id": "1d3b1ed1-2407-44c9-adb1-b22283bd3286",
   "metadata": {},
   "outputs": [
    {
     "name": "stdout",
     "output_type": "stream",
     "text": [
      "+--------+---------+---------+-----------------+-----------------+-----------------+\n",
      "|Idclient|ANNEEMOIS|    SOLDE|SOLDE_1_MONTH_AGO|SOLDE_2_MONTH_AGO|SOLDE_3_MONTH_AGO|\n",
      "+--------+---------+---------+-----------------+-----------------+-----------------+\n",
      "| 0000009|   201904|    373.5|              0.0|              0.0|              0.0|\n",
      "| 0000009|   201907|    224.0|              0.0|              0.0|            373.5|\n",
      "| 0000009|   201910|   1339.5|            373.5|              0.0|            224.0|\n",
      "| 0000009|   202001|   339.92|           456.42|          1372.92|           1339.5|\n",
      "| 0000011|   201904|-11943.79|        -11928.39|        -11912.99|              0.0|\n",
      "| 0000011|   201907|-12181.49|        -12166.09|        -12350.69|        -11943.79|\n",
      "| 0000011|   201910|-12435.88|        -12420.48|        -12405.08|        -12181.49|\n",
      "| 0000011|   202001|-12899.09|        -12883.69|        -12868.29|        -12435.88|\n",
      "| 0000016|   201904|      0.0|              0.0|              0.0|              0.0|\n",
      "| 0000016|   201907|      0.0|              0.0|          3162.66|              0.0|\n",
      "| 0000016|   201910|      0.0|              0.0|           250.42|              0.0|\n",
      "| 0000016|   202001|   839.42|          1460.42|              0.0|              0.0|\n",
      "| 0000018|   201904|  4707.88|          3768.48|              0.0|         10889.68|\n",
      "| 0000018|   201907|293589.01|        246579.18|              0.0|          4707.88|\n",
      "| 0000018|   201910|      0.0|        320504.21|        294565.81|        293589.01|\n",
      "| 0000018|   202001|242647.67|        245322.41|        244383.01|              0.0|\n",
      "| 0000023|   201904|  9127.56|              0.0|         11658.36|              0.0|\n",
      "| 0000023|   201907|      0.0|              0.0|              0.0|          9127.56|\n",
      "| 0000023|   201910|      0.0|         13649.56|              0.0|              0.0|\n",
      "| 0000023|   202001|  7587.96|              0.0|              0.0|              0.0|\n",
      "+--------+---------+---------+-----------------+-----------------+-----------------+\n",
      "only showing top 20 rows\n",
      "\n"
     ]
    }
   ],
   "source": [
    "df5_solde.show()"
   ]
  },
  {
   "cell_type": "code",
   "execution_count": 81,
   "id": "92bd2afa-e8f8-463a-93c4-a9abeaefefc4",
   "metadata": {},
   "outputs": [],
   "source": [
    "df_soldenew = df5_solde"
   ]
  },
  {
   "cell_type": "code",
   "execution_count": 82,
   "id": "25632ce5-a531-45aa-b587-ceed839fcea1",
   "metadata": {},
   "outputs": [],
   "source": [
    "from pyspark.sql.functions import round\n",
    "df_soldenew = df_soldenew.withColumn(\"MEAN_SOLDE_PREVIOUS_MONTHS\", \n",
    "                                     round((col(\"SOLDE_1_MONTH_AGO\") + col(\"SOLDE_2_MONTH_AGO\") + col(\"SOLDE_3_MONTH_AGO\")) / 3,2))\n"
   ]
  },
  {
   "cell_type": "code",
   "execution_count": 83,
   "id": "5336ab62-3326-45b0-b1d1-171701d57199",
   "metadata": {},
   "outputs": [
    {
     "name": "stdout",
     "output_type": "stream",
     "text": [
      "+--------+---------+--------------------------+\n",
      "|Idclient|ANNEEMOIS|MEAN_SOLDE_PREVIOUS_MONTHS|\n",
      "+--------+---------+--------------------------+\n",
      "| 0000009|   201904|                       0.0|\n",
      "| 0000009|   201907|                     124.5|\n",
      "| 0000009|   201910|                    199.17|\n",
      "| 0000009|   202001|                   1056.28|\n",
      "| 0000011|   201904|                  -7947.13|\n",
      "| 0000011|   201907|                 -12153.52|\n",
      "| 0000011|   201910|                 -12335.68|\n",
      "| 0000011|   202001|                 -12729.29|\n",
      "| 0000016|   201904|                       0.0|\n",
      "| 0000016|   201907|                   1054.22|\n",
      "| 0000016|   201910|                     83.47|\n",
      "| 0000016|   202001|                    486.81|\n",
      "| 0000018|   201904|                   4886.05|\n",
      "| 0000018|   201907|                  83762.35|\n",
      "| 0000018|   201910|                 302886.34|\n",
      "| 0000018|   202001|                 163235.14|\n",
      "| 0000023|   201904|                   3886.12|\n",
      "| 0000023|   201907|                   3042.52|\n",
      "| 0000023|   201910|                   4549.85|\n",
      "| 0000023|   202001|                       0.0|\n",
      "+--------+---------+--------------------------+\n",
      "only showing top 20 rows\n",
      "\n"
     ]
    }
   ],
   "source": [
    "df_solde_feature = df_soldenew.select(\"Idclient\", \"ANNEEMOIS\", \"MEAN_SOLDE_PREVIOUS_MONTHS\")\n",
    "df_solde_feature.show()"
   ]
  },
  {
   "cell_type": "markdown",
   "id": "88657615-78f4-420c-ba71-ea249488268d",
   "metadata": {
    "jp-MarkdownHeadingCollapsed": true
   },
   "source": [
    "#### historiser mvtdeb"
   ]
  },
  {
   "cell_type": "code",
   "execution_count": 84,
   "id": "60e9d93c-1356-4f9d-822a-5bfbdaa27e98",
   "metadata": {},
   "outputs": [],
   "source": [
    "df_MVTDEB = df3_solde.select(\"Idclient\", \"MVTDEB\", \"ANNEEMOIS\")\n",
    "df_MVTDEB  = df_MVTDEB .withColumnRenamed(\"Idclient\", \"Idclient\")"
   ]
  },
  {
   "cell_type": "code",
   "execution_count": 85,
   "id": "ccbae4e5-e432-4e1b-8d1c-dbd592b8ca78",
   "metadata": {},
   "outputs": [],
   "source": [
    "df2_MVTDEB = fill_missing_months(df_MVTDEB, \"MVTDEB\" , all_months)"
   ]
  },
  {
   "cell_type": "code",
   "execution_count": 86,
   "id": "891471c9-7d0e-47d5-bbd4-3e4afb8e34e3",
   "metadata": {},
   "outputs": [
    {
     "name": "stdout",
     "output_type": "stream",
     "text": [
      "+--------+---------+-------+------------------+------------------+------------------+\n",
      "|Idclient|ANNEEMOIS| MVTDEB|MVTDEB_1_MONTH_AGO|MVTDEB_2_MONTH_AGO|MVTDEB_3_MONTH_AGO|\n",
      "+--------+---------+-------+------------------+------------------+------------------+\n",
      "| 0000009|   201904|  116.5|             616.5|               0.0|               0.0|\n",
      "| 0000009|   201907|  116.5|              16.5|              16.5|             116.5|\n",
      "| 0000009|   201910|    0.0|               0.0|             234.0|             116.5|\n",
      "| 0000009|   202001|    0.0|               0.0|           2516.58|               0.0|\n",
      "| 0000011|   201904|    0.0|              15.4|            401.08|               0.0|\n",
      "| 0000011|   201907|    0.0|               0.0|               0.0|               0.0|\n",
      "| 0000011|   201910|   15.4|               0.0|               0.0|               0.0|\n",
      "| 0000011|   202001|    0.0|               0.0|            432.41|              15.4|\n",
      "| 0000016|   201904| 4761.0|            1549.0|               0.0|            3311.0|\n",
      "| 0000016|   201907|    0.0|            664.79|               0.0|            4761.0|\n",
      "| 0000016|   201910|  135.0|               0.0|               0.0|               0.0|\n",
      "| 0000016|   202001|    0.0|             555.0|               0.0|             135.0|\n",
      "| 0000018|   201904|    0.0|              15.4|               0.0|               0.0|\n",
      "| 0000018|   201907|    0.0|               0.0|               0.0|               0.0|\n",
      "| 0000018|   201910| 4015.4|               0.0|               0.0|               0.0|\n",
      "| 0000018|   202001|4358.38|               0.0|               0.0|            4015.4|\n",
      "| 0000020|   201904|    0.0|            6515.4|            9470.4|               0.0|\n",
      "| 0000020|   201907|    0.0|            7115.4|               0.0|               0.0|\n",
      "| 0000020|   201910|    0.0|           10015.4|            7415.4|               0.0|\n",
      "| 0000020|   202001|    0.0|            8215.4|               0.0|               0.0|\n",
      "+--------+---------+-------+------------------+------------------+------------------+\n",
      "only showing top 20 rows\n",
      "\n"
     ]
    }
   ],
   "source": [
    "df5_MVTDEBnew = historiquefonction(df2_MVTDEB, list_dwp, 3, \"MVTDEB\")\n",
    "df5_MVTDEBnew.show()"
   ]
  },
  {
   "cell_type": "code",
   "execution_count": 87,
   "id": "3b490c7f-748d-4b68-838f-92fbaa285fef",
   "metadata": {},
   "outputs": [],
   "source": [
    "df_MVTDEBnew = df5_MVTDEBnew.alias(\"df_MVTDEBnew\")"
   ]
  },
  {
   "cell_type": "code",
   "execution_count": 88,
   "id": "430f9341-762a-4f9e-824e-722e5a80f6a9",
   "metadata": {},
   "outputs": [],
   "source": [
    "df_MVTDEBnew2 = df_MVTDEBnew.withColumn(\"MEAN_MVTDEB_PREVIOUS_MONTHS\", \n",
    "                                     round((col(\"MVTDEB_1_MONTH_AGO\") + col(\"MVTDEB_2_MONTH_AGO\") + col(\"MVTDEB_3_MONTH_AGO\")) / 3,2))"
   ]
  },
  {
   "cell_type": "code",
   "execution_count": 89,
   "id": "1530fdb8-6a30-430a-bb3e-25a07cf63ebc",
   "metadata": {},
   "outputs": [],
   "source": [
    "df_MVTDEB_feature = df_MVTDEBnew2.select(\"Idclient\", \"ANNEEMOIS\", \"MEAN_MVTDEB_PREVIOUS_MONTHS\")"
   ]
  },
  {
   "cell_type": "code",
   "execution_count": 90,
   "id": "f1d5f440-7507-418a-84ce-fa0bbd31085b",
   "metadata": {},
   "outputs": [
    {
     "name": "stdout",
     "output_type": "stream",
     "text": [
      "+--------+---------+---------------------------+\n",
      "|Idclient|ANNEEMOIS|MEAN_MVTDEB_PREVIOUS_MONTHS|\n",
      "+--------+---------+---------------------------+\n",
      "| 0000009|   201904|                      205.5|\n",
      "| 0000009|   201907|                      49.83|\n",
      "| 0000009|   201910|                     116.83|\n",
      "| 0000009|   202001|                     838.86|\n",
      "| 0000011|   201904|                     138.83|\n",
      "| 0000011|   201907|                        0.0|\n",
      "| 0000011|   201910|                        0.0|\n",
      "| 0000011|   202001|                     149.27|\n",
      "| 0000016|   201904|                     1620.0|\n",
      "| 0000016|   201907|                     1808.6|\n",
      "| 0000016|   201910|                        0.0|\n",
      "| 0000016|   202001|                      230.0|\n",
      "| 0000018|   201904|                       5.13|\n",
      "| 0000018|   201907|                        0.0|\n",
      "| 0000018|   201910|                        0.0|\n",
      "| 0000018|   202001|                    1338.47|\n",
      "| 0000020|   201904|                     5328.6|\n",
      "| 0000020|   201907|                     2371.8|\n",
      "| 0000020|   201910|                    5810.27|\n",
      "| 0000020|   202001|                    2738.47|\n",
      "+--------+---------+---------------------------+\n",
      "only showing top 20 rows\n",
      "\n"
     ]
    }
   ],
   "source": [
    "df_MVTDEB_feature.show()"
   ]
  },
  {
   "cell_type": "markdown",
   "id": "0442ab78-8dbf-4636-8d16-b417410449a5",
   "metadata": {
    "jp-MarkdownHeadingCollapsed": true
   },
   "source": [
    "#### historiser mvtcred"
   ]
  },
  {
   "cell_type": "code",
   "execution_count": 91,
   "id": "a2f52999-17a4-4b0d-818d-6d2e5498ba56",
   "metadata": {},
   "outputs": [],
   "source": [
    "df_MVTCRED = df3_solde.select(\"Idclient\", \"MVTCRED\", \"ANNEEMOIS\")\n",
    "df_MVTCRED  = df_MVTCRED.withColumnRenamed(\"Idclient\", \"Idclient\")"
   ]
  },
  {
   "cell_type": "code",
   "execution_count": 92,
   "id": "615c547c-b6cb-40e2-99b8-80dbd61681d4",
   "metadata": {},
   "outputs": [],
   "source": [
    "df2_MVTCRED = fill_missing_months(df_MVTCRED, \"MVTCRED\" , all_months)"
   ]
  },
  {
   "cell_type": "code",
   "execution_count": 93,
   "id": "ec594032-a07a-4c13-860d-dac6d4cee6a4",
   "metadata": {},
   "outputs": [],
   "source": [
    "df_MVTCREDnew = historiquefonction(df2_MVTCRED, list_dwp, 3, \"MVTCRED\")"
   ]
  },
  {
   "cell_type": "code",
   "execution_count": 94,
   "id": "78460532-4857-446d-b226-5ba60de38ef0",
   "metadata": {},
   "outputs": [],
   "source": [
    "df_MVTCREDnew2 = df_MVTCREDnew.withColumn(\"MEAN_MVTCRED_PREVIOUS_MONTHS\", \n",
    "                                     round((col(\"MVTCRED_1_MONTH_AGO\") + col(\"MVTCRED_2_MONTH_AGO\") + col(\"MVTCRED_3_MONTH_AGO\")) / 3,2))\n"
   ]
  },
  {
   "cell_type": "code",
   "execution_count": 95,
   "id": "dde58d6e-e2b5-4c8a-a2ac-9e18ea102dde",
   "metadata": {},
   "outputs": [],
   "source": [
    "df_MVTCRED_feature = df_MVTCREDnew2.select(\"Idclient\", \"ANNEEMOIS\", \"MEAN_MVTCRED_PREVIOUS_MONTHS\")"
   ]
  },
  {
   "cell_type": "code",
   "execution_count": 96,
   "id": "80394b8c-2fba-40cb-94df-969f09463323",
   "metadata": {},
   "outputs": [
    {
     "name": "stdout",
     "output_type": "stream",
     "text": [
      "+--------+---------+----------------------------+\n",
      "|Idclient|ANNEEMOIS|MEAN_MVTCRED_PREVIOUS_MONTHS|\n",
      "+--------+---------+----------------------------+\n",
      "| 0000009|   201904|                         0.0|\n",
      "| 0000009|   201907|                         0.0|\n",
      "| 0000009|   201910|                      166.67|\n",
      "| 0000009|   202001|                       850.0|\n",
      "| 0000011|   201904|                         0.0|\n",
      "| 0000011|   201907|                         0.0|\n",
      "| 0000011|   201910|                         0.0|\n",
      "| 0000011|   202001|                         0.0|\n",
      "| 0000016|   201904|                         0.0|\n",
      "| 0000016|   201907|                         0.0|\n",
      "| 0000016|   201910|                         0.0|\n",
      "| 0000016|   202001|                         0.0|\n",
      "| 0000018|   201904|                      318.27|\n",
      "| 0000018|   201907|                         0.0|\n",
      "| 0000018|   201910|                         0.0|\n",
      "| 0000018|   202001|                      318.27|\n",
      "| 0000020|   201904|                         0.0|\n",
      "| 0000020|   201907|                         0.0|\n",
      "| 0000020|   201910|                         0.0|\n",
      "| 0000020|   202001|                         0.0|\n",
      "+--------+---------+----------------------------+\n",
      "only showing top 20 rows\n",
      "\n"
     ]
    }
   ],
   "source": [
    "df_MVTCRED_feature.show()"
   ]
  },
  {
   "cell_type": "markdown",
   "id": "deeb7da3-5fe4-456b-a2bc-f43371a9eefd",
   "metadata": {
    "jp-MarkdownHeadingCollapsed": true
   },
   "source": [
    "#### historiser NBMVTCRE"
   ]
  },
  {
   "cell_type": "code",
   "execution_count": 98,
   "id": "f960b97f-fd77-4f27-9a07-55e34b8f2561",
   "metadata": {},
   "outputs": [],
   "source": [
    "df_NBMVTCRE = df3_solde.select(\"Idclient\", \"NBMVTCRE_MENS\", \"ANNEEMOIS\")\n",
    "df_NBMVTCRE  = df_NBMVTCRE .withColumnRenamed(\"Idclient\", \"Idclient\")"
   ]
  },
  {
   "cell_type": "code",
   "execution_count": 99,
   "id": "668db7f9-4549-4b84-aa3c-ccc10624efee",
   "metadata": {},
   "outputs": [],
   "source": [
    "df_NBMVTCRE2 = fill_missing_months(df_NBMVTCRE, \"NBMVTCRE_MENS\" , all_months)"
   ]
  },
  {
   "cell_type": "code",
   "execution_count": 100,
   "id": "093553dd-fbf8-42df-81a4-e0cb66d303d2",
   "metadata": {},
   "outputs": [],
   "source": [
    "df_NBMVTCREnew = historiquefonction(df_NBMVTCRE2, list_dwp, 3, \"NBMVTCRE_MENS\")\n",
    "#df_NBMVTCREnew.show()"
   ]
  },
  {
   "cell_type": "code",
   "execution_count": 101,
   "id": "47fb38b7-81a7-4c9d-9a8f-b14c4b51f9f1",
   "metadata": {},
   "outputs": [],
   "source": [
    "df_NBMVTCREnew2 = df_NBMVTCREnew.withColumn(\"MEAN_NBMVTCRE_PREVIOUS_MONTHS\", \n",
    "                                     round((col(\"NBMVTCRE_MENS_1_MONTH_AGO\") + col(\"NBMVTCRE_MENS_2_MONTH_AGO\") + col(\"NBMVTCRE_MENS_3_MONTH_AGO\")) / 3,2))\n"
   ]
  },
  {
   "cell_type": "code",
   "execution_count": 102,
   "id": "7d58520c-3510-458f-b493-16bd404e0ce6",
   "metadata": {},
   "outputs": [
    {
     "name": "stdout",
     "output_type": "stream",
     "text": [
      "+--------+---------+-----------------------------+\n",
      "|Idclient|ANNEEMOIS|MEAN_NBMVTCRE_PREVIOUS_MONTHS|\n",
      "+--------+---------+-----------------------------+\n",
      "| 0000009|   201904|                          0.0|\n",
      "| 0000009|   201907|                          0.0|\n",
      "| 0000009|   201910|                         0.33|\n",
      "| 0000009|   202001|                         0.33|\n",
      "| 0000011|   201904|                          0.0|\n",
      "| 0000011|   201907|                          0.0|\n",
      "| 0000011|   201910|                          0.0|\n",
      "| 0000011|   202001|                          0.0|\n",
      "| 0000016|   201904|                          0.0|\n",
      "| 0000016|   201907|                          0.0|\n",
      "| 0000016|   201910|                          0.0|\n",
      "| 0000016|   202001|                          0.0|\n",
      "| 0000018|   201904|                         0.33|\n",
      "| 0000018|   201907|                          0.0|\n",
      "| 0000018|   201910|                          0.0|\n",
      "| 0000018|   202001|                         0.33|\n",
      "| 0000020|   201904|                          0.0|\n",
      "| 0000020|   201907|                          0.0|\n",
      "| 0000020|   201910|                          0.0|\n",
      "| 0000020|   202001|                          0.0|\n",
      "+--------+---------+-----------------------------+\n",
      "only showing top 20 rows\n",
      "\n"
     ]
    }
   ],
   "source": [
    "df_NBMVTCRE_feature = df_NBMVTCREnew2.select(\"Idclient\", \"ANNEEMOIS\", \"MEAN_NBMVTCRE_PREVIOUS_MONTHS\")\n",
    "df_NBMVTCRE_feature.show()"
   ]
  },
  {
   "cell_type": "markdown",
   "id": "55444bb9-99a3-498f-9caa-a9c327c42770",
   "metadata": {
    "jp-MarkdownHeadingCollapsed": true
   },
   "source": [
    "#### historiser NBMVTDB"
   ]
  },
  {
   "cell_type": "code",
   "execution_count": 103,
   "id": "a0383119-3b3f-4880-b1ff-944f902651ce",
   "metadata": {},
   "outputs": [],
   "source": [
    "df_NBMVTDB = df3_solde.select(\"Idclient\", \"NBMVTDB_MENS\", \"ANNEEMOIS\")\n",
    "df_NBMVTDB  = df_NBMVTDB .withColumnRenamed(\"Idclient\", \"Idclient\")"
   ]
  },
  {
   "cell_type": "code",
   "execution_count": 104,
   "id": "4f11e289-4678-437f-85e2-02a93a365470",
   "metadata": {},
   "outputs": [],
   "source": [
    "df_NBMVTDB2 = fill_missing_months(df_NBMVTDB, \"NBMVTDB_MENS\" , all_months)"
   ]
  },
  {
   "cell_type": "code",
   "execution_count": 105,
   "id": "cd76fb85-102f-4f50-b50b-7af123b5b905",
   "metadata": {},
   "outputs": [],
   "source": [
    "df_NBMVTDBnew = historiquefonction(df_NBMVTDB2, list_dwp, 3, \"NBMVTDB_MENS\")\n",
    "#df_NBMVTDBnew.show()"
   ]
  },
  {
   "cell_type": "code",
   "execution_count": 106,
   "id": "ccbb3c31-78e6-4c05-aa82-68743c07de70",
   "metadata": {},
   "outputs": [],
   "source": [
    "df_NBMVTDBnew2 = df_NBMVTDBnew.withColumn(\"MEAN_NBMVTDB_PREVIOUS_MONTHS\", \n",
    "                                     round((col(\"NBMVTDB_MENS_1_MONTH_AGO\") + col(\"NBMVTDB_MENS_2_MONTH_AGO\") + col(\"NBMVTDB_MENS_3_MONTH_AGO\")) / 3,2))\n"
   ]
  },
  {
   "cell_type": "code",
   "execution_count": 107,
   "id": "39d18f8c-7b23-4a2e-9fa3-3e90f52f9457",
   "metadata": {},
   "outputs": [],
   "source": [
    "df_NBMVTDB_feature = df_NBMVTDBnew2.select(\"Idclient\", \"ANNEEMOIS\", \"MEAN_NBMVTDB_PREVIOUS_MONTHS\")\n",
    "#df_NBMVTDB_feature.show()"
   ]
  },
  {
   "cell_type": "markdown",
   "id": "ccdc6bff-d186-4382-a289-82032915363d",
   "metadata": {
    "jp-MarkdownHeadingCollapsed": true
   },
   "source": [
    "#### Save Table & Features table solde"
   ]
  },
  {
   "cell_type": "code",
   "execution_count": 128,
   "id": "e6f918e5-a02c-4edc-ab33-cd44669ee2e6",
   "metadata": {},
   "outputs": [],
   "source": [
    "df2_solde.write.parquet(\"hdfs://namenode:9000//historisation_features/solde/solde.parquet\")\n",
    "df_solde_feature.write.parquet(\"hdfs://namenode:9000//historisation_features/solde/solde_feature.parquet\")\n",
    "df_MVTDEB_feature.write.parquet(\"hdfs://namenode:9000//historisation_features/solde/MVTDEB_feature.parquet\")\n",
    "df_MVTCRED_feature.write.parquet(\"hdfs://namenode:9000//historisation_features/solde/MVTCRED_feature.parquet\")\n",
    "df_NBMVTCRE_feature.write.parquet(\"hdfs://namenode:9000//historisation_features/solde/NBMVTCRE_feature.parquet\")\n",
    "df_NBMVTDB_feature.write.parquet(\"hdfs://namenode:9000//historisation_features/solde/NBMVTDB_feature.parquet\")"
   ]
  },
  {
   "cell_type": "markdown",
   "id": "706cbd66-3898-461b-b71c-216a04d5b205",
   "metadata": {
    "jp-MarkdownHeadingCollapsed": true
   },
   "source": [
    "### Extracter et historiser features de la table df_getfac"
   ]
  },
  {
   "cell_type": "markdown",
   "id": "892a1052-546a-4578-91f7-822fa3b26c41",
   "metadata": {
    "jp-MarkdownHeadingCollapsed": true
   },
   "source": [
    "#### Préparation des donnees table getfac"
   ]
  },
  {
   "cell_type": "code",
   "execution_count": 109,
   "id": "0480f060-bbb3-4df2-bd16-625d315b0f5a",
   "metadata": {},
   "outputs": [],
   "source": [
    "from pyspark.sql.functions import year, month\n",
    "\n",
    "df_getfac2 = df_getfac.withColumn(\"MOIS\", month(df_getfac.DT_CONFIRMATION))\n",
    "df_getfac2 = df_getfac2.withColumn(\"ANNEE\", year(df_getfac.DT_CONFIRMATION))\n"
   ]
  },
  {
   "cell_type": "code",
   "execution_count": 110,
   "id": "d79b2cb3-fae7-4d89-8363-9c064e7de907",
   "metadata": {},
   "outputs": [
    {
     "name": "stdout",
     "output_type": "stream",
     "text": [
      "+-----+-------------+---------------+--------+--------+----+-----+\n",
      "|CANAL|MONTANT_TOTAL|DT_CONFIRMATION|TYPE_OPE|Idclient|MOIS|ANNEE|\n",
      "+-----+-------------+---------------+--------+--------+----+-----+\n",
      "|  WEB|         10.0|     2019-01-01| FACTURE|  485328|   1| 2019|\n",
      "|  WEB|         20.0|     2019-01-01| FACTURE|  485328|   1| 2019|\n",
      "|  WEB|         10.0|     2019-01-03| FACTURE|  485328|   1| 2019|\n",
      "|  WEB|         10.0|     2019-01-04| FACTURE|  485328|   1| 2019|\n",
      "|  WEB|         20.0|     2019-01-06| FACTURE|  485328|   1| 2019|\n",
      "|  WEB|         10.0|     2019-01-07| FACTURE|  485328|   1| 2019|\n",
      "|  WEB|         10.0|     2019-01-07| FACTURE|  485328|   1| 2019|\n",
      "|  WEB|         20.0|     2019-01-07| FACTURE|  485328|   1| 2019|\n",
      "|  WEB|         20.0|     2019-01-10| FACTURE|  485328|   1| 2019|\n",
      "|  WEB|         20.0|     2019-01-12| FACTURE|  485328|   1| 2019|\n",
      "|  WEB|         10.0|     2019-01-13| FACTURE|  485328|   1| 2019|\n",
      "|  WEB|         10.0|     2019-01-13| FACTURE|  485328|   1| 2019|\n",
      "|  WEB|         10.0|     2019-01-14| FACTURE|  485328|   1| 2019|\n",
      "|  WEB|         10.0|     2019-01-15| FACTURE|  485328|   1| 2019|\n",
      "|  WEB|         20.0|     2019-01-15| FACTURE|  485328|   1| 2019|\n",
      "|  WEB|         20.0|     2019-01-17| FACTURE|  485328|   1| 2019|\n",
      "|  WEB|         10.0|     2019-01-17| FACTURE|  485328|   1| 2019|\n",
      "|  WEB|         20.0|     2019-01-23| FACTURE|  485328|   1| 2019|\n",
      "|  WEB|         10.0|     2019-01-25| FACTURE|  485328|   1| 2019|\n",
      "|  WEB|         10.0|     2019-01-26| FACTURE|  485328|   1| 2019|\n",
      "+-----+-------------+---------------+--------+--------+----+-----+\n",
      "only showing top 20 rows\n",
      "\n"
     ]
    }
   ],
   "source": [
    "df_getfac2.show()"
   ]
  },
  {
   "cell_type": "code",
   "execution_count": 111,
   "id": "0fef4274-1761-4949-a347-92b0f9ee21c9",
   "metadata": {},
   "outputs": [],
   "source": [
    "df_getfac2 = df_getfac2.withColumn(\"MOIS\", F.lpad(df_getfac2[\"MOIS\"], 2, '0'))\n",
    "df_getfac2 = df_getfac2.withColumn(\"Idclient\", F.lpad(df_getfac2[\"Idclient\"], 7, '0'))"
   ]
  },
  {
   "cell_type": "code",
   "execution_count": 112,
   "id": "f8081d8a-054d-4bce-9657-323fd4a3d647",
   "metadata": {},
   "outputs": [
    {
     "name": "stdout",
     "output_type": "stream",
     "text": [
      "+-----+-------------+---------------+--------+--------+----+-----+\n",
      "|CANAL|MONTANT_TOTAL|DT_CONFIRMATION|TYPE_OPE|Idclient|MOIS|ANNEE|\n",
      "+-----+-------------+---------------+--------+--------+----+-----+\n",
      "|  WEB|         10.0|     2019-01-01| FACTURE| 0485328|  01| 2019|\n",
      "|  WEB|         20.0|     2019-01-01| FACTURE| 0485328|  01| 2019|\n",
      "|  WEB|         10.0|     2019-01-03| FACTURE| 0485328|  01| 2019|\n",
      "|  WEB|         10.0|     2019-01-04| FACTURE| 0485328|  01| 2019|\n",
      "|  WEB|         20.0|     2019-01-06| FACTURE| 0485328|  01| 2019|\n",
      "|  WEB|         10.0|     2019-01-07| FACTURE| 0485328|  01| 2019|\n",
      "|  WEB|         10.0|     2019-01-07| FACTURE| 0485328|  01| 2019|\n",
      "|  WEB|         20.0|     2019-01-07| FACTURE| 0485328|  01| 2019|\n",
      "|  WEB|         20.0|     2019-01-10| FACTURE| 0485328|  01| 2019|\n",
      "|  WEB|         20.0|     2019-01-12| FACTURE| 0485328|  01| 2019|\n",
      "|  WEB|         10.0|     2019-01-13| FACTURE| 0485328|  01| 2019|\n",
      "|  WEB|         10.0|     2019-01-13| FACTURE| 0485328|  01| 2019|\n",
      "|  WEB|         10.0|     2019-01-14| FACTURE| 0485328|  01| 2019|\n",
      "|  WEB|         10.0|     2019-01-15| FACTURE| 0485328|  01| 2019|\n",
      "|  WEB|         20.0|     2019-01-15| FACTURE| 0485328|  01| 2019|\n",
      "|  WEB|         20.0|     2019-01-17| FACTURE| 0485328|  01| 2019|\n",
      "|  WEB|         10.0|     2019-01-17| FACTURE| 0485328|  01| 2019|\n",
      "|  WEB|         20.0|     2019-01-23| FACTURE| 0485328|  01| 2019|\n",
      "|  WEB|         10.0|     2019-01-25| FACTURE| 0485328|  01| 2019|\n",
      "|  WEB|         10.0|     2019-01-26| FACTURE| 0485328|  01| 2019|\n",
      "+-----+-------------+---------------+--------+--------+----+-----+\n",
      "only showing top 20 rows\n",
      "\n"
     ]
    }
   ],
   "source": [
    "df_getfac2.show()"
   ]
  },
  {
   "cell_type": "markdown",
   "id": "55a98848-8c8a-4403-9ba9-4344ace808c4",
   "metadata": {
    "jp-MarkdownHeadingCollapsed": true
   },
   "source": [
    "#### Feature : MONTANT_TOTAL"
   ]
  },
  {
   "cell_type": "code",
   "execution_count": 114,
   "id": "b5b58ebf-7646-40c4-92b8-5bc9f73b35c6",
   "metadata": {},
   "outputs": [
    {
     "name": "stdout",
     "output_type": "stream",
     "text": [
      "+--------+---------+-------------+\n",
      "|Idclient|ANNEEMOIS|MONTANT_TOTAL|\n",
      "+--------+---------+-------------+\n",
      "| 0485328|   201901|         10.0|\n",
      "| 0485328|   201901|         20.0|\n",
      "| 0485328|   201901|         10.0|\n",
      "| 0485328|   201901|         10.0|\n",
      "| 0485328|   201901|         20.0|\n",
      "| 0485328|   201901|         10.0|\n",
      "| 0485328|   201901|         10.0|\n",
      "| 0485328|   201901|         20.0|\n",
      "| 0485328|   201901|         20.0|\n",
      "| 0485328|   201901|         20.0|\n",
      "| 0485328|   201901|         10.0|\n",
      "| 0485328|   201901|         10.0|\n",
      "| 0485328|   201901|         10.0|\n",
      "| 0485328|   201901|         10.0|\n",
      "| 0485328|   201901|         20.0|\n",
      "| 0485328|   201901|         20.0|\n",
      "| 0485328|   201901|         10.0|\n",
      "| 0485328|   201901|         20.0|\n",
      "| 0485328|   201901|         10.0|\n",
      "| 0485328|   201901|         10.0|\n",
      "+--------+---------+-------------+\n",
      "only showing top 20 rows\n",
      "\n"
     ]
    }
   ],
   "source": [
    "df_getfac2 = df_getfac2.withColumn(\"ANNEEMOIS\", F.concat(F.col(\"ANNEE\"), F.col(\"MOIS\")))\n",
    "\n",
    "df_getfac3 = df_getfac2.select(\"Idclient\",\"ANNEEMOIS\",\"MONTANT_TOTAL\")\n",
    "df_getfac3.show()\n"
   ]
  },
  {
   "cell_type": "code",
   "execution_count": 115,
   "id": "fdd73816-5d5c-486d-a9f0-c8ec75ab1f5b",
   "metadata": {},
   "outputs": [],
   "source": [
    "from pyspark.sql.functions import col\n",
    "\n",
    "df_getfac3 = df_getfac3.withColumn(\"MONTANT_TOTAL\", col(\"MONTANT_TOTAL\").cast(\"integer\"))"
   ]
  },
  {
   "cell_type": "code",
   "execution_count": 116,
   "id": "62f10c6d-5ddf-4b41-ade9-e69fdcbe5e59",
   "metadata": {},
   "outputs": [],
   "source": [
    "df_getfac4 = df_getfac3.groupBy(\"Idclient\", \"ANNEEMOIS\").agg(F.sum(\"MONTANT_TOTAL\").alias(\"MONTANT_TOTAL\"))\n"
   ]
  },
  {
   "cell_type": "code",
   "execution_count": 117,
   "id": "98256c31-81d1-4e5e-bec4-1849e99b3a89",
   "metadata": {},
   "outputs": [],
   "source": [
    "df_getfac44 = fill_missing_months(df_getfac4, \"MONTANT_TOTAL\" , all_months)"
   ]
  },
  {
   "cell_type": "code",
   "execution_count": 118,
   "id": "9a7fb72d-a7e2-4233-8833-f4c0301430c1",
   "metadata": {},
   "outputs": [
    {
     "name": "stdout",
     "output_type": "stream",
     "text": [
      "+---------+-----+\n",
      "|ANNEEMOIS|count|\n",
      "+---------+-----+\n",
      "|   201903| 5132|\n",
      "|   201909| 5132|\n",
      "|   201911| 5132|\n",
      "|   201907| 5132|\n",
      "|   201910| 5132|\n",
      "|   202001| 5132|\n",
      "|   201906| 5132|\n",
      "|   201912| 5132|\n",
      "|   201902| 5132|\n",
      "|   201908| 5132|\n",
      "|   201901| 5132|\n",
      "|   201904| 5132|\n",
      "|   201905| 5132|\n",
      "+---------+-----+\n",
      "\n"
     ]
    }
   ],
   "source": [
    "df_getfac44.groupBy(\"ANNEEMOIS\").count().show()"
   ]
  },
  {
   "cell_type": "code",
   "execution_count": 119,
   "id": "69384711-b8e0-4711-bdb0-766308202455",
   "metadata": {},
   "outputs": [
    {
     "name": "stdout",
     "output_type": "stream",
     "text": [
      "+--------+---------+-------------+-------------------------+-------------------------+-------------------------+\n",
      "|Idclient|ANNEEMOIS|MONTANT_TOTAL|MONTANT_TOTAL_1_MONTH_AGO|MONTANT_TOTAL_2_MONTH_AGO|MONTANT_TOTAL_3_MONTH_AGO|\n",
      "+--------+---------+-------------+-------------------------+-------------------------+-------------------------+\n",
      "| 0000063|   201904|          199|                      606|                        0|                        0|\n",
      "| 0000063|   201907|          199|                      199|                      204|                      199|\n",
      "| 0000063|   201910|          279|                      209|                      407|                      199|\n",
      "| 0000063|   202001|            0|                      209|                      239|                      279|\n",
      "| 0000095|   201904|           30|                      249|                       20|                        0|\n",
      "| 0000095|   201907|          119|                      129|                        0|                       30|\n",
      "| 0000095|   201910|           99|                      139|                      139|                      119|\n",
      "| 0000095|   202001|            0|                       99|                      119|                       99|\n",
      "| 0000265|   201904|            0|                        0|                        0|                        0|\n",
      "| 0000265|   201907|          269|                      229|                       30|                        0|\n",
      "| 0000265|   201910|          249|                        0|                      219|                      269|\n",
      "| 0000265|   202001|            0|                        0|                      199|                      249|\n",
      "| 0000590|   201904|          199|                     1235|                       20|                      784|\n",
      "| 0000590|   201907|          647|                        0|                      647|                      199|\n",
      "| 0000590|   201910|           10|                       80|                      498|                      647|\n",
      "| 0000590|   202001|            0|                        0|                        0|                       10|\n",
      "| 0000737|   201904|          120|                      159|                      174|                        0|\n",
      "| 0000737|   201907|          194|                      209|                       50|                      120|\n",
      "| 0000737|   201910|          534|                     1028|                     1758|                      194|\n",
      "| 0000737|   202001|            0|                      634|                       30|                      534|\n",
      "+--------+---------+-------------+-------------------------+-------------------------+-------------------------+\n",
      "only showing top 20 rows\n",
      "\n"
     ]
    },
    {
     "data": {
      "text/plain": [
       "20528"
      ]
     },
     "execution_count": 119,
     "metadata": {},
     "output_type": "execute_result"
    }
   ],
   "source": [
    "df_getfac5 = historiquefonction(df_getfac44, list_dwp, 3, \"MONTANT_TOTAL\")\n",
    "df_getfac5.show()\n",
    "\n",
    "df_getfac5.count()"
   ]
  },
  {
   "cell_type": "code",
   "execution_count": 120,
   "id": "397e5a1a-4aac-4d51-b80f-1040591121a2",
   "metadata": {},
   "outputs": [],
   "source": [
    "df_getfac5= df_getfac5.fillna(0)"
   ]
  },
  {
   "cell_type": "code",
   "execution_count": 121,
   "id": "72fa65eb-9b15-40a3-93a3-7e69cfae381b",
   "metadata": {},
   "outputs": [
    {
     "name": "stdout",
     "output_type": "stream",
     "text": [
      "+--------+---------+-------------------+\n",
      "|Idclient|ANNEEMOIS|MEAN_MONTANTFACTURE|\n",
      "+--------+---------+-------------------+\n",
      "| 0000063|   201904|              202.0|\n",
      "| 0000063|   201907|             202.33|\n",
      "| 0000063|   201910|              341.0|\n",
      "| 0000063|   202001|              229.0|\n",
      "| 0000095|   201904|              96.33|\n",
      "| 0000095|   201907|               43.0|\n",
      "| 0000095|   201910|              139.0|\n",
      "| 0000095|   202001|             112.33|\n",
      "| 0000265|   201904|                0.0|\n",
      "| 0000265|   201907|              96.33|\n",
      "| 0000265|   201910|              146.0|\n",
      "| 0000265|   202001|             132.67|\n",
      "| 0000590|   201904|              425.0|\n",
      "| 0000590|   201907|             431.33|\n",
      "| 0000590|   201910|             358.67|\n",
      "| 0000590|   202001|                0.0|\n",
      "| 0000737|   201904|              169.0|\n",
      "| 0000737|   201907|              103.0|\n",
      "| 0000737|   201910|            1514.67|\n",
      "| 0000737|   202001|             231.33|\n",
      "+--------+---------+-------------------+\n",
      "only showing top 20 rows\n",
      "\n"
     ]
    }
   ],
   "source": [
    "df_getfac55 = df_getfac5.withColumn(\"MEAN_MONTANTFACTURE\", \n",
    "                                     round((col(\"MONTANT_TOTAL_1_MONTH_AGO\") + col(\"MONTANT_TOTAL_2_MONTH_AGO\") + col(\"MONTANT_TOTAL_2_MONTH_AGO\")) / 3,2))\n",
    "df_getfac_feature = df_getfac55.select(\"Idclient\", \"ANNEEMOIS\", \"MEAN_MONTANTFACTURE\")\n",
    "df_getfac_feature.show()"
   ]
  },
  {
   "cell_type": "markdown",
   "id": "bde7d44d-fde0-4ec9-85ad-84f36593c524",
   "metadata": {
    "jp-MarkdownHeadingCollapsed": true
   },
   "source": [
    "#### Feature TYPE_OPE"
   ]
  },
  {
   "cell_type": "code",
   "execution_count": 122,
   "id": "8b880ec0-5783-4386-8554-e59e51e858f1",
   "metadata": {},
   "outputs": [
    {
     "name": "stdout",
     "output_type": "stream",
     "text": [
      "+--------+\n",
      "|TYPE_OPE|\n",
      "+--------+\n",
      "| FACTURE|\n",
      "+--------+\n",
      "\n",
      "+------+-----+\n",
      "| CANAL|count|\n",
      "+------+-----+\n",
      "|MOBILE|86930|\n",
      "|   WEB|54144|\n",
      "+------+-----+\n",
      "\n"
     ]
    }
   ],
   "source": [
    "df_getfac.select(\"TYPE_OPE\").distinct().show()\n",
    "df_getfac.groupBy(\"CANAL\").count().show()"
   ]
  },
  {
   "cell_type": "code",
   "execution_count": 123,
   "id": "f359bfb8-519e-4a4f-b65e-d3c1929d7286",
   "metadata": {},
   "outputs": [
    {
     "name": "stdout",
     "output_type": "stream",
     "text": [
      "+--------+---------+-----+\n",
      "|Idclient|ANNEEMOIS|CANAL|\n",
      "+--------+---------+-----+\n",
      "| 0485328|   201901|  WEB|\n",
      "| 0485328|   201901|  WEB|\n",
      "| 0485328|   201901|  WEB|\n",
      "| 0485328|   201901|  WEB|\n",
      "| 0485328|   201901|  WEB|\n",
      "| 0485328|   201901|  WEB|\n",
      "| 0485328|   201901|  WEB|\n",
      "| 0485328|   201901|  WEB|\n",
      "| 0485328|   201901|  WEB|\n",
      "| 0485328|   201901|  WEB|\n",
      "| 0485328|   201901|  WEB|\n",
      "| 0485328|   201901|  WEB|\n",
      "| 0485328|   201901|  WEB|\n",
      "| 0485328|   201901|  WEB|\n",
      "| 0485328|   201901|  WEB|\n",
      "| 0485328|   201901|  WEB|\n",
      "| 0485328|   201901|  WEB|\n",
      "| 0485328|   201901|  WEB|\n",
      "| 0485328|   201901|  WEB|\n",
      "| 0485328|   201901|  WEB|\n",
      "+--------+---------+-----+\n",
      "only showing top 20 rows\n",
      "\n"
     ]
    }
   ],
   "source": [
    "df_CANALFEATURE = df_getfac2.select(\"Idclient\",\"ANNEEMOIS\",\"CANAL\")\n",
    "df_CANALFEATURE.show()"
   ]
  },
  {
   "cell_type": "code",
   "execution_count": 124,
   "id": "6a79a453-8f77-45d4-9c2a-51ce613c5e79",
   "metadata": {},
   "outputs": [],
   "source": [
    "df_FAC_CANAL_FEATURE= df_CANALFEATURE.dropDuplicates()"
   ]
  },
  {
   "cell_type": "code",
   "execution_count": 125,
   "id": "c6d87761-a951-4f44-b62a-e389c34c4389",
   "metadata": {},
   "outputs": [
    {
     "name": "stdout",
     "output_type": "stream",
     "text": [
      "+--------+---------+------+\n",
      "|Idclient|ANNEEMOIS| CANAL|\n",
      "+--------+---------+------+\n",
      "| 0485328|   201908|MOBILE|\n",
      "| 0374751|   201901|MOBILE|\n",
      "| 0605247|   201912|MOBILE|\n",
      "| 0993639|   201911|   WEB|\n",
      "| 0823957|   201912|MOBILE|\n",
      "| 0058899|   201902|   WEB|\n",
      "| 0080689|   201903|MOBILE|\n",
      "| 0287350|   201912|MOBILE|\n",
      "| 0230346|   201912|MOBILE|\n",
      "| 0170553|   201911|MOBILE|\n",
      "| 0129702|   201907|   WEB|\n",
      "| 0252649|   201910|MOBILE|\n",
      "| 0465498|   201903|   WEB|\n",
      "| 0176082|   201912|MOBILE|\n",
      "| 0513372|   201904|MOBILE|\n",
      "| 0524726|   201912|   WEB|\n",
      "| 0836100|   201902|   WEB|\n",
      "| 0836100|   201912|   WEB|\n",
      "| 0636731|   201901|   WEB|\n",
      "| 0003987|   201904|   WEB|\n",
      "+--------+---------+------+\n",
      "only showing top 20 rows\n",
      "\n"
     ]
    }
   ],
   "source": [
    "df_FAC_CANAL_FEATURE.show()"
   ]
  },
  {
   "cell_type": "markdown",
   "id": "7cc3ca86-86e5-44a3-8b1e-707fa38c43ac",
   "metadata": {
    "jp-MarkdownHeadingCollapsed": true
   },
   "source": [
    "#### Save Table & Features getFac"
   ]
  },
  {
   "cell_type": "code",
   "execution_count": 130,
   "id": "9a40dd9b-d614-4b86-96ba-bfb2c84c6bf6",
   "metadata": {},
   "outputs": [],
   "source": [
    "df_getfac2.write.parquet(\"hdfs://namenode:9000//historisation_features/getfac/getfac.parquet\")\n",
    "df_FAC_CANAL_FEATURE.write.parquet(\"hdfs://namenode:9000//historisation_features/getfac/FAC_CANAL_FEATURE.parquet\")\n",
    "df_getfac_feature.write.parquet(\"hdfs://namenode:9000//historisation_features/getfac/getfac_feature.parquet\")"
   ]
  },
  {
   "cell_type": "markdown",
   "id": "d1d956a0-c5a9-4e76-a9fc-eef2b533de46",
   "metadata": {
    "jp-MarkdownHeadingCollapsed": true
   },
   "source": [
    "### Extracter et historiser features de la table df_getvir"
   ]
  },
  {
   "cell_type": "markdown",
   "id": "01d9c172-996f-40c6-8b74-2dde722192a2",
   "metadata": {
    "jp-MarkdownHeadingCollapsed": true
   },
   "source": [
    "#### Préparation des donnees table getvir"
   ]
  },
  {
   "cell_type": "code",
   "execution_count": 139,
   "id": "873fe67b-895a-473a-85b8-6b30394ea8bf",
   "metadata": {},
   "outputs": [
    {
     "name": "stdout",
     "output_type": "stream",
     "text": [
      "+------+-------------+---------------+--------+--------+\n",
      "| CANAL|MONTANT_TOTAL|DT_CONFIRMATION|TYPE_OPE|Idclient|\n",
      "+------+-------------+---------------+--------+--------+\n",
      "|   Web|         2400|     2019-10-02|     VIR|  865390|\n",
      "|   Web|          300|     2019-12-27|     VIR|   96065|\n",
      "|   Web|          300|     2019-12-02|     VIR|   96065|\n",
      "|   Web|          700|     2019-12-02|     VIR|   96065|\n",
      "|   Web|          300|     2019-10-29|     VIR|   96065|\n",
      "|   Web|          300|     2019-10-29|     VIR|   96065|\n",
      "|   Web|          300|     2019-09-30|     VIR|   96065|\n",
      "|   Web|          300|     2019-09-27|     VIR|   96065|\n",
      "|   Web|          550|     2019-09-16|     VIR|   96065|\n",
      "|   Web|          300|     2019-09-02|     VIR|   96065|\n",
      "|   Web|          700|     2019-09-02|     VIR|   96065|\n",
      "|   Web|          600|     2019-09-02|     VIR|   96065|\n",
      "|   Web|          150|     2019-08-05|     VIR|   96065|\n",
      "|   Web|         1260|     2019-07-29|     VIR|   96065|\n",
      "|   Web|          600|     2019-07-29|     VIR|   96065|\n",
      "|   Web|         2700|     2019-07-01|     VIR|   96065|\n",
      "|   Web|         3000|     2019-05-27|     VIR|   96065|\n",
      "|   Web|         2000|     2019-05-02|     VIR|   96065|\n",
      "|Mobile|          200|     2019-04-26|     VIR|  768241|\n",
      "|   Web|         4500|     2019-12-03|     VIR|  824818|\n",
      "+------+-------------+---------------+--------+--------+\n",
      "only showing top 20 rows\n",
      "\n"
     ]
    }
   ],
   "source": [
    "df_getvir.show()"
   ]
  },
  {
   "cell_type": "code",
   "execution_count": 140,
   "id": "3b95808f-d633-4ba5-93f3-989110b4ee5c",
   "metadata": {},
   "outputs": [],
   "source": [
    "df_getvir2 = df_getvir.withColumn(\"MOIS\", month(df_getvir.DT_CONFIRMATION))\n",
    "df_getvir2 = df_getvir2.withColumn(\"ANNEE\", year(df_getvir.DT_CONFIRMATION))"
   ]
  },
  {
   "cell_type": "code",
   "execution_count": 141,
   "id": "d7d20d42-c2e5-4b79-a2f9-2b4abf309ed8",
   "metadata": {},
   "outputs": [
    {
     "name": "stdout",
     "output_type": "stream",
     "text": [
      "+-----+-------------+---------------+--------+--------+----+-----+\n",
      "|CANAL|MONTANT_TOTAL|DT_CONFIRMATION|TYPE_OPE|Idclient|MOIS|ANNEE|\n",
      "+-----+-------------+---------------+--------+--------+----+-----+\n",
      "|  Web|         2400|     2019-10-02|     VIR|  865390|  10| 2019|\n",
      "|  Web|          300|     2019-12-27|     VIR|   96065|  12| 2019|\n",
      "|  Web|          300|     2019-12-02|     VIR|   96065|  12| 2019|\n",
      "|  Web|          700|     2019-12-02|     VIR|   96065|  12| 2019|\n",
      "|  Web|          300|     2019-10-29|     VIR|   96065|  10| 2019|\n",
      "|  Web|          300|     2019-10-29|     VIR|   96065|  10| 2019|\n",
      "|  Web|          300|     2019-09-30|     VIR|   96065|   9| 2019|\n",
      "|  Web|          300|     2019-09-27|     VIR|   96065|   9| 2019|\n",
      "|  Web|          550|     2019-09-16|     VIR|   96065|   9| 2019|\n",
      "|  Web|          300|     2019-09-02|     VIR|   96065|   9| 2019|\n",
      "+-----+-------------+---------------+--------+--------+----+-----+\n",
      "only showing top 10 rows\n",
      "\n"
     ]
    }
   ],
   "source": [
    "df_getvir2.show(10)"
   ]
  },
  {
   "cell_type": "code",
   "execution_count": 142,
   "id": "d1515bbd-50f8-4644-a067-c04b7332a6ca",
   "metadata": {},
   "outputs": [],
   "source": [
    "df_getvir2 = df_getvir2.withColumn(\"MOIS\", F.lpad(df_getvir2[\"MOIS\"], 2, '0'))\n",
    "df_getvir2 = df_getvir2.withColumn(\"Idclient\", F.lpad(df_getvir2[\"Idclient\"], 7, '0'))"
   ]
  },
  {
   "cell_type": "code",
   "execution_count": 143,
   "id": "4ec13a10-fe34-444d-800a-b4d6742d9492",
   "metadata": {},
   "outputs": [
    {
     "name": "stdout",
     "output_type": "stream",
     "text": [
      "+------+-------------+---------------+--------+--------+----+-----+\n",
      "| CANAL|MONTANT_TOTAL|DT_CONFIRMATION|TYPE_OPE|Idclient|MOIS|ANNEE|\n",
      "+------+-------------+---------------+--------+--------+----+-----+\n",
      "|   Web|         2400|     2019-10-02|     VIR| 0865390|  10| 2019|\n",
      "|   Web|          300|     2019-12-27|     VIR| 0096065|  12| 2019|\n",
      "|   Web|          300|     2019-12-02|     VIR| 0096065|  12| 2019|\n",
      "|   Web|          700|     2019-12-02|     VIR| 0096065|  12| 2019|\n",
      "|   Web|          300|     2019-10-29|     VIR| 0096065|  10| 2019|\n",
      "|   Web|          300|     2019-10-29|     VIR| 0096065|  10| 2019|\n",
      "|   Web|          300|     2019-09-30|     VIR| 0096065|  09| 2019|\n",
      "|   Web|          300|     2019-09-27|     VIR| 0096065|  09| 2019|\n",
      "|   Web|          550|     2019-09-16|     VIR| 0096065|  09| 2019|\n",
      "|   Web|          300|     2019-09-02|     VIR| 0096065|  09| 2019|\n",
      "|   Web|          700|     2019-09-02|     VIR| 0096065|  09| 2019|\n",
      "|   Web|          600|     2019-09-02|     VIR| 0096065|  09| 2019|\n",
      "|   Web|          150|     2019-08-05|     VIR| 0096065|  08| 2019|\n",
      "|   Web|         1260|     2019-07-29|     VIR| 0096065|  07| 2019|\n",
      "|   Web|          600|     2019-07-29|     VIR| 0096065|  07| 2019|\n",
      "|   Web|         2700|     2019-07-01|     VIR| 0096065|  07| 2019|\n",
      "|   Web|         3000|     2019-05-27|     VIR| 0096065|  05| 2019|\n",
      "|   Web|         2000|     2019-05-02|     VIR| 0096065|  05| 2019|\n",
      "|Mobile|          200|     2019-04-26|     VIR| 0768241|  04| 2019|\n",
      "|   Web|         4500|     2019-12-03|     VIR| 0824818|  12| 2019|\n",
      "+------+-------------+---------------+--------+--------+----+-----+\n",
      "only showing top 20 rows\n",
      "\n"
     ]
    }
   ],
   "source": [
    "df_getvir2.show()"
   ]
  },
  {
   "cell_type": "markdown",
   "id": "a12b4a8e-7be5-4526-b212-42f47042dc05",
   "metadata": {
    "jp-MarkdownHeadingCollapsed": true
   },
   "source": [
    "#### Feature MONTANT_TOTAL"
   ]
  },
  {
   "cell_type": "code",
   "execution_count": 145,
   "id": "f110a0ac-b781-4b70-a733-41b33985569d",
   "metadata": {},
   "outputs": [
    {
     "name": "stdout",
     "output_type": "stream",
     "text": [
      "+--------+---------+-------------+\n",
      "|Idclient|ANNEEMOIS|MONTANT_TOTAL|\n",
      "+--------+---------+-------------+\n",
      "| 0865390|   201910|         2400|\n",
      "| 0096065|   201912|          300|\n",
      "| 0096065|   201912|          300|\n",
      "| 0096065|   201912|          700|\n",
      "| 0096065|   201910|          300|\n",
      "| 0096065|   201910|          300|\n",
      "| 0096065|   201909|          300|\n",
      "| 0096065|   201909|          300|\n",
      "| 0096065|   201909|          550|\n",
      "| 0096065|   201909|          300|\n",
      "| 0096065|   201909|          700|\n",
      "| 0096065|   201909|          600|\n",
      "| 0096065|   201908|          150|\n",
      "| 0096065|   201907|         1260|\n",
      "| 0096065|   201907|          600|\n",
      "| 0096065|   201907|         2700|\n",
      "| 0096065|   201905|         3000|\n",
      "| 0096065|   201905|         2000|\n",
      "| 0768241|   201904|          200|\n",
      "| 0824818|   201912|         4500|\n",
      "+--------+---------+-------------+\n",
      "only showing top 20 rows\n",
      "\n"
     ]
    }
   ],
   "source": [
    "df_getvir3 = df_getvir2.withColumn(\"ANNEEMOIS\", F.concat(F.col(\"ANNEE\"), F.col(\"MOIS\")))\n",
    "df_getvir4 = df_getvir3.select(\"Idclient\",\"ANNEEMOIS\",\"MONTANT_TOTAL\")\n",
    "df_getvir4.show()"
   ]
  },
  {
   "cell_type": "code",
   "execution_count": 146,
   "id": "ed6d4c87-7a6f-40ab-b720-232b546c5b6d",
   "metadata": {},
   "outputs": [],
   "source": [
    "df_getvir5 = df_getvir4.groupBy(\"Idclient\", \"ANNEEMOIS\").sum(\"MONTANT_TOTAL\")"
   ]
  },
  {
   "cell_type": "code",
   "execution_count": 147,
   "id": "5569c80e-48ed-464e-87d3-466e8ccc6865",
   "metadata": {},
   "outputs": [
    {
     "name": "stdout",
     "output_type": "stream",
     "text": [
      "+--------+---------+------------------+\n",
      "|Idclient|ANNEEMOIS|sum(MONTANT_TOTAL)|\n",
      "+--------+---------+------------------+\n",
      "| 0987061|   201910|              1200|\n",
      "| 0535726|   201905|              3000|\n",
      "| 0374433|   201907|              5000|\n",
      "| 0320139|   201911|              2000|\n",
      "| 0481156|   201909|             70700|\n",
      "| 0000320|   201912|              3500|\n",
      "| 0879235|   201905|              2000|\n",
      "| 0002111|   201909|             33000|\n",
      "| 0701078|   201909|             10000|\n",
      "| 0497166|   201910|              3000|\n",
      "+--------+---------+------------------+\n",
      "only showing top 10 rows\n",
      "\n"
     ]
    }
   ],
   "source": [
    "df_getvir5.show(10)"
   ]
  },
  {
   "cell_type": "code",
   "execution_count": 148,
   "id": "06c59a15-3a38-48e7-be58-10f9df042626",
   "metadata": {},
   "outputs": [],
   "source": [
    "df_getvir6 = df_getvir5.withColumnRenamed(\"sum(MONTANT_TOTAL)\", \"TOTAL_VIRMONTANT\")"
   ]
  },
  {
   "cell_type": "code",
   "execution_count": 149,
   "id": "d2a5229d-2b5c-461f-8178-9a6dd9acef9b",
   "metadata": {},
   "outputs": [],
   "source": [
    "df_getvir66 = fill_missing_months(df_getvir6, \"TOTAL_VIRMONTANT\" , all_months)"
   ]
  },
  {
   "cell_type": "code",
   "execution_count": 150,
   "id": "0e71af9b-3cf3-44e9-bb89-979e17deba8f",
   "metadata": {},
   "outputs": [
    {
     "name": "stdout",
     "output_type": "stream",
     "text": [
      "+---------+-----+\n",
      "|ANNEEMOIS|count|\n",
      "+---------+-----+\n",
      "|   201903|23160|\n",
      "|   201909|23160|\n",
      "|   201911|23160|\n",
      "|   201907|23160|\n",
      "|   201910|23160|\n",
      "|   202001|23160|\n",
      "|   201906|23160|\n",
      "|   201912|23160|\n",
      "|   201902|23160|\n",
      "|   201908|23160|\n",
      "|   201901|23160|\n",
      "|   201904|23160|\n",
      "|   201905|23160|\n",
      "+---------+-----+\n",
      "\n"
     ]
    }
   ],
   "source": [
    "df_getvir66.groupBy(\"ANNEEMOIS\").count().show()"
   ]
  },
  {
   "cell_type": "code",
   "execution_count": 151,
   "id": "9e226a62-ef24-4526-acf3-6b827f53a88d",
   "metadata": {},
   "outputs": [
    {
     "name": "stdout",
     "output_type": "stream",
     "text": [
      "+--------+---------+----------------+----------------------------+----------------------------+----------------------------+\n",
      "|Idclient|ANNEEMOIS|TOTAL_VIRMONTANT|TOTAL_VIRMONTANT_1_MONTH_AGO|TOTAL_VIRMONTANT_2_MONTH_AGO|TOTAL_VIRMONTANT_3_MONTH_AGO|\n",
      "+--------+---------+----------------+----------------------------+----------------------------+----------------------------+\n",
      "| 0000022|   201904|               0|                           0|                           0|                           0|\n",
      "| 0000022|   201907|               0|                           0|                           0|                           0|\n",
      "| 0000022|   201910|               0|                           0|                           0|                           0|\n",
      "| 0000022|   202001|               0|                         200|                           0|                           0|\n",
      "| 0000222|   201904|           21500|                           0|                           0|                           0|\n",
      "| 0000222|   201907|           16500|                       10500|                           0|                       21500|\n",
      "| 0000222|   201910|               0|                           0|                         100|                       16500|\n",
      "| 0000222|   202001|               0|                           0|                           0|                           0|\n",
      "| 0000234|   201904|               0|                           0|                           0|                           0|\n",
      "| 0000234|   201907|               0|                           0|                           0|                           0|\n",
      "| 0000234|   201910|               0|                           0|                           0|                           0|\n",
      "| 0000234|   202001|               0|                         700|                           0|                           0|\n",
      "| 0000288|   201904|               0|                           0|                           0|                           0|\n",
      "| 0000288|   201907|               0|                        1740|                        8300|                           0|\n",
      "| 0000288|   201910|            1300|                        1300|                        1300|                           0|\n",
      "| 0000288|   202001|               0|                        1100|                        3800|                        1300|\n",
      "| 0000579|   201904|               0|                           0|                           0|                           0|\n",
      "| 0000579|   201907|             600|                           0|                           0|                           0|\n",
      "| 0000579|   201910|             500|                         300|                         500|                         600|\n",
      "| 0000579|   202001|               0|                           0|                           0|                         500|\n",
      "+--------+---------+----------------+----------------------------+----------------------------+----------------------------+\n",
      "only showing top 20 rows\n",
      "\n"
     ]
    }
   ],
   "source": [
    "df_getvir7 = historiquefonction(df_getvir66, list_dwp, 3, \"TOTAL_VIRMONTANT\")\n",
    "df_getvir7.show()"
   ]
  },
  {
   "cell_type": "code",
   "execution_count": 152,
   "id": "fb7796a8-40e5-48af-a4ae-17af668259a3",
   "metadata": {},
   "outputs": [],
   "source": [
    "df_getvir7= df_getvir7.fillna(0)"
   ]
  },
  {
   "cell_type": "code",
   "execution_count": 153,
   "id": "5c20ba31-4e10-4858-b448-7214a47caf18",
   "metadata": {},
   "outputs": [
    {
     "name": "stdout",
     "output_type": "stream",
     "text": [
      "+--------+---------+----------------+----------------------------+----------------------------+----------------------------+\n",
      "|Idclient|ANNEEMOIS|TOTAL_VIRMONTANT|TOTAL_VIRMONTANT_1_MONTH_AGO|TOTAL_VIRMONTANT_2_MONTH_AGO|TOTAL_VIRMONTANT_3_MONTH_AGO|\n",
      "+--------+---------+----------------+----------------------------+----------------------------+----------------------------+\n",
      "| 0000022|   201904|               0|                           0|                           0|                           0|\n",
      "| 0000022|   201907|               0|                           0|                           0|                           0|\n",
      "| 0000022|   201910|               0|                           0|                           0|                           0|\n",
      "| 0000022|   202001|               0|                         200|                           0|                           0|\n",
      "| 0000222|   201904|           21500|                           0|                           0|                           0|\n",
      "| 0000222|   201907|           16500|                       10500|                           0|                       21500|\n",
      "| 0000222|   201910|               0|                           0|                         100|                       16500|\n",
      "| 0000222|   202001|               0|                           0|                           0|                           0|\n",
      "| 0000234|   201904|               0|                           0|                           0|                           0|\n",
      "| 0000234|   201907|               0|                           0|                           0|                           0|\n",
      "| 0000234|   201910|               0|                           0|                           0|                           0|\n",
      "| 0000234|   202001|               0|                         700|                           0|                           0|\n",
      "| 0000288|   201904|               0|                           0|                           0|                           0|\n",
      "| 0000288|   201907|               0|                        1740|                        8300|                           0|\n",
      "| 0000288|   201910|            1300|                        1300|                        1300|                           0|\n",
      "| 0000288|   202001|               0|                        1100|                        3800|                        1300|\n",
      "| 0000579|   201904|               0|                           0|                           0|                           0|\n",
      "| 0000579|   201907|             600|                           0|                           0|                           0|\n",
      "| 0000579|   201910|             500|                         300|                         500|                         600|\n",
      "| 0000579|   202001|               0|                           0|                           0|                         500|\n",
      "+--------+---------+----------------+----------------------------+----------------------------+----------------------------+\n",
      "only showing top 20 rows\n",
      "\n"
     ]
    }
   ],
   "source": [
    "df_getvir7.show()"
   ]
  },
  {
   "cell_type": "code",
   "execution_count": 154,
   "id": "f4af69a1-8a67-4ad2-9eb6-57db2ce1bee0",
   "metadata": {},
   "outputs": [
    {
     "name": "stdout",
     "output_type": "stream",
     "text": [
      "+--------+---------+--------------------+\n",
      "|Idclient|ANNEEMOIS|MEAN_MONTANTVIREMENT|\n",
      "+--------+---------+--------------------+\n",
      "| 0000022|   201904|                 0.0|\n",
      "| 0000022|   201907|                 0.0|\n",
      "| 0000022|   201910|                 0.0|\n",
      "| 0000022|   202001|               66.67|\n",
      "| 0000222|   201904|                 0.0|\n",
      "| 0000222|   201907|            10666.67|\n",
      "| 0000222|   201910|             5533.33|\n",
      "| 0000222|   202001|                 0.0|\n",
      "| 0000234|   201904|                 0.0|\n",
      "| 0000234|   201907|                 0.0|\n",
      "| 0000234|   201910|                 0.0|\n",
      "| 0000234|   202001|              233.33|\n",
      "| 0000288|   201904|                 0.0|\n",
      "| 0000288|   201907|             3346.67|\n",
      "| 0000288|   201910|              866.67|\n",
      "| 0000288|   202001|             2066.67|\n",
      "| 0000579|   201904|                 0.0|\n",
      "| 0000579|   201907|                 0.0|\n",
      "| 0000579|   201910|              466.67|\n",
      "| 0000579|   202001|              166.67|\n",
      "+--------+---------+--------------------+\n",
      "only showing top 20 rows\n",
      "\n"
     ]
    }
   ],
   "source": [
    "df_getvir8 = df_getvir7.withColumn(\"MEAN_MONTANTVIREMENT\", \n",
    "                                     round((col(\"TOTAL_VIRMONTANT_1_MONTH_AGO\") + col(\"TOTAL_VIRMONTANT_2_MONTH_AGO\") + col(\"TOTAL_VIRMONTANT_3_MONTH_AGO\")) / 3,2))\n",
    "df_getvir_feature = df_getvir8.select(\"Idclient\", \"ANNEEMOIS\", \"MEAN_MONTANTVIREMENT\")\n",
    "df_getvir_feature.show()"
   ]
  },
  {
   "cell_type": "markdown",
   "id": "f34655fe-476a-4563-9433-5f9de5daf514",
   "metadata": {
    "jp-MarkdownHeadingCollapsed": true
   },
   "source": [
    "#### feature CANAL getvir"
   ]
  },
  {
   "cell_type": "code",
   "execution_count": 156,
   "id": "82deaec3-59ac-4c07-9342-bb0c609a3506",
   "metadata": {},
   "outputs": [
    {
     "name": "stdout",
     "output_type": "stream",
     "text": [
      "+--------+---------+------+\n",
      "|Idclient|ANNEEMOIS| CANAL|\n",
      "+--------+---------+------+\n",
      "| 0865390|   201910|   Web|\n",
      "| 0096065|   201912|   Web|\n",
      "| 0096065|   201912|   Web|\n",
      "| 0096065|   201912|   Web|\n",
      "| 0096065|   201910|   Web|\n",
      "| 0096065|   201910|   Web|\n",
      "| 0096065|   201909|   Web|\n",
      "| 0096065|   201909|   Web|\n",
      "| 0096065|   201909|   Web|\n",
      "| 0096065|   201909|   Web|\n",
      "| 0096065|   201909|   Web|\n",
      "| 0096065|   201909|   Web|\n",
      "| 0096065|   201908|   Web|\n",
      "| 0096065|   201907|   Web|\n",
      "| 0096065|   201907|   Web|\n",
      "| 0096065|   201907|   Web|\n",
      "| 0096065|   201905|   Web|\n",
      "| 0096065|   201905|   Web|\n",
      "| 0768241|   201904|Mobile|\n",
      "| 0824818|   201912|   Web|\n",
      "+--------+---------+------+\n",
      "only showing top 20 rows\n",
      "\n"
     ]
    }
   ],
   "source": [
    "df_CANALVIREMENT = df_getvir3.select(\"Idclient\",\"ANNEEMOIS\",\"CANAL\")\n",
    "df_CANALVIREMENT.show()"
   ]
  },
  {
   "cell_type": "code",
   "execution_count": 157,
   "id": "31019d26-eac5-4395-b154-10e3bcc21a05",
   "metadata": {},
   "outputs": [],
   "source": [
    "df_VIR_CANAL_FEATURE= df_CANALVIREMENT.dropDuplicates()"
   ]
  },
  {
   "cell_type": "code",
   "execution_count": 158,
   "id": "b9298903-1f8f-4c0a-bbb8-930eee4f187e",
   "metadata": {},
   "outputs": [
    {
     "name": "stdout",
     "output_type": "stream",
     "text": [
      "+--------+---------+------+\n",
      "|Idclient|ANNEEMOIS| CANAL|\n",
      "+--------+---------+------+\n",
      "| 0606130|   201906|   Web|\n",
      "| 0328251|   201908|   Web|\n",
      "| 0387108|   201906|   Web|\n",
      "| 0388535|   201905|   Web|\n",
      "| 0497354|   201910|Mobile|\n",
      "| 0099187|   201906|Mobile|\n",
      "| 0975458|   201906|Mobile|\n",
      "| 0313819|   201909|   Web|\n",
      "| 0003917|   201905|   Web|\n",
      "| 0878736|   201907|   Web|\n",
      "| 0263405|   201912|   Web|\n",
      "| 0262702|   201908|Mobile|\n",
      "| 0588950|   201909|Mobile|\n",
      "| 0386295|   201907|Mobile|\n",
      "| 0497320|   201909|   Web|\n",
      "| 0223341|   201909|Mobile|\n",
      "| 0822229|   201910|Mobile|\n",
      "| 0374977|   201910|Mobile|\n",
      "| 0484600|   201908|Mobile|\n",
      "| 0388685|   201909|Mobile|\n",
      "+--------+---------+------+\n",
      "only showing top 20 rows\n",
      "\n"
     ]
    }
   ],
   "source": [
    "df_VIR_CANAL_FEATURE.show()"
   ]
  },
  {
   "cell_type": "markdown",
   "id": "cbc0f169-e6ad-487e-910c-5fa81b4f62c8",
   "metadata": {
    "jp-MarkdownHeadingCollapsed": true
   },
   "source": [
    "#### Save Table & Features getVir"
   ]
  },
  {
   "cell_type": "code",
   "execution_count": 160,
   "id": "6629d037-8d78-469c-a904-88c1fa62bcb1",
   "metadata": {},
   "outputs": [],
   "source": [
    "df_getvir2.write.parquet(\"hdfs://namenode:9000//historisation_features/getvir/df_getvir2.parquet\")\n",
    "df_getvir_feature.write.parquet(\"hdfs://namenode:9000//historisation_features/getvir/getvir_feature.parquet\")\n",
    "df_VIR_CANAL_FEATURE.write.parquet(\"hdfs://namenode:9000//historisation_features/getvir/getvir_CANAL_FEATURE.parquet\")"
   ]
  },
  {
   "cell_type": "markdown",
   "id": "bbdb9476-ea19-4bc4-b28a-edcc01706c21",
   "metadata": {
    "jp-MarkdownHeadingCollapsed": true
   },
   "source": [
    "### Extracter et historiser features de la table gab_abstr"
   ]
  },
  {
   "cell_type": "markdown",
   "id": "409c81db-966c-41db-83e4-15d5cffc842d",
   "metadata": {
    "jp-MarkdownHeadingCollapsed": true
   },
   "source": [
    "#### Préparation des donnees table gab_abstr"
   ]
  },
  {
   "cell_type": "code",
   "execution_count": 91,
   "id": "f8833b06-7229-4f17-97e2-c4f063ef196c",
   "metadata": {},
   "outputs": [],
   "source": [
    "df_gab2020 = df_gab22 "
   ]
  },
  {
   "cell_type": "code",
   "execution_count": 92,
   "id": "4f93032d-9810-4324-b104-087196263ef3",
   "metadata": {},
   "outputs": [
    {
     "name": "stdout",
     "output_type": "stream",
     "text": [
      "+-------+----+-----+----------------+--------+\n",
      "|MONTANT|MOIS|ANNEE|NOMBRE_OPERATION|Idclient|\n",
      "+-------+----+-----+----------------+--------+\n",
      "|    0.0|   1| 2020|              12|  232100|\n",
      "|    0.0|   2| 2020|               5|  232100|\n",
      "| 9798.0|   1| 2020|              25|  922709|\n",
      "| 7570.0|   2| 2020|              33|  922709|\n",
      "| 5993.8|   1| 2020|              13|  359535|\n",
      "| 3700.0|   2| 2020|               7|  359535|\n",
      "| 7200.0|   1| 2020|              31|  780003|\n",
      "| 4000.0|   2| 2020|              13|  780003|\n",
      "| 5000.0|   1| 2020|              30|  820867|\n",
      "| 3600.0|   2| 2020|              12|  820867|\n",
      "| 4800.0|   1| 2020|               9|  148052|\n",
      "| 6300.0|   2| 2020|              11|  148052|\n",
      "| 6600.0|   1| 2020|              10|  999879|\n",
      "| 4300.0|   2| 2020|               5|  999879|\n",
      "| 3800.0|   1| 2020|              24|  349685|\n",
      "| 5300.0|   2| 2020|              23|  349685|\n",
      "| 1600.0|   1| 2020|               9|  397364|\n",
      "| 2500.0|   2| 2020|               3|  397364|\n",
      "| 3600.0|   1| 2020|               4|  132190|\n",
      "| 1500.0|   2| 2020|               2|  132190|\n",
      "+-------+----+-----+----------------+--------+\n",
      "only showing top 20 rows\n",
      "\n"
     ]
    }
   ],
   "source": [
    "df_gab2020.show()"
   ]
  },
  {
   "cell_type": "code",
   "execution_count": 93,
   "id": "55fedaf2-8867-42a5-8377-69fe1f16f78e",
   "metadata": {},
   "outputs": [
    {
     "name": "stdout",
     "output_type": "stream",
     "text": [
      "+-------+----+-----+----------------+--------+\n",
      "|MONTANT|MOIS|ANNEE|NOMBRE_OPERATION|Idclient|\n",
      "+-------+----+-----+----------------+--------+\n",
      "|    0.0|   1| 2020|               2|       0|\n",
      "| 4000.0|   1| 2020|               3|       3|\n",
      "| 5000.0|   2| 2020|               3|       3|\n",
      "|  500.0|   2| 2020|               1|       4|\n",
      "| 2000.0|   1| 2020|              11|       6|\n",
      "| 3400.0|   2| 2020|               8|       6|\n",
      "|  186.0|   1| 2020|               3|      10|\n",
      "| 2372.0|   2| 2020|               3|      10|\n",
      "| 2000.0|   2| 2020|               1|      11|\n",
      "| 6000.0|   1| 2020|               3|      14|\n",
      "| 8000.0|   2| 2020|               4|      14|\n",
      "| 1000.0|   1| 2020|               4|      17|\n",
      "| 1300.0|   2| 2020|               5|      17|\n",
      "| 7700.0|   1| 2020|              16|      19|\n",
      "| 5500.0|   2| 2020|               8|      19|\n",
      "| 7000.0|   1| 2020|              11|      20|\n",
      "| 6300.0|   2| 2020|              11|      20|\n",
      "|  800.0|   1| 2020|               3|      23|\n",
      "|  900.0|   2| 2020|               4|      23|\n",
      "|10000.0|   1| 2020|              10|      24|\n",
      "+-------+----+-----+----------------+--------+\n",
      "only showing top 20 rows\n",
      "\n"
     ]
    }
   ],
   "source": [
    "df_gab2020.orderBy(\"new\",\"ANNEE\",\"MOIS\").show()"
   ]
  },
  {
   "cell_type": "code",
   "execution_count": 94,
   "id": "4706238b-9078-43fb-baaf-411b51609359",
   "metadata": {},
   "outputs": [
    {
     "name": "stdout",
     "output_type": "stream",
     "text": [
      "+----+------+\n",
      "|MOIS| count|\n",
      "+----+------+\n",
      "|   1|418617|\n",
      "|   2|413836|\n",
      "+----+------+\n",
      "\n"
     ]
    }
   ],
   "source": [
    "df_gab2020.groupBy(\"MOIS\").count().show()"
   ]
  },
  {
   "cell_type": "code",
   "execution_count": 95,
   "id": "6522ba76-66fe-4ee3-a36f-72535a7d6259",
   "metadata": {},
   "outputs": [],
   "source": [
    "df2_gab2020 = df_gab2020.filter(df_gab2020.MOIS != 2)"
   ]
  },
  {
   "cell_type": "code",
   "execution_count": 96,
   "id": "d451a331-f5a4-493a-8dd4-760556026ad7",
   "metadata": {},
   "outputs": [],
   "source": [
    "df2_gab2020 = df_gab2020.withColumnRenamed(\"new\",\"Idclient\")"
   ]
  },
  {
   "cell_type": "code",
   "execution_count": 97,
   "id": "461b8184-c15f-40bd-9350-8899ac329f18",
   "metadata": {},
   "outputs": [],
   "source": [
    "df2_gab2020 = df2_gab2020.withColumn(\"MOIS\", F.lpad(df2_gab2020[\"MOIS\"], 2, '0'))\n",
    "df2_gab2020 = df2_gab2020.withColumn(\"Idclient\", F.lpad(df2_gab2020[\"Idclient\"], 7, '0'))"
   ]
  },
  {
   "cell_type": "code",
   "execution_count": 98,
   "id": "c3bf61e4-1ec4-4eae-b286-a49dcccb9994",
   "metadata": {},
   "outputs": [
    {
     "name": "stdout",
     "output_type": "stream",
     "text": [
      "root\n",
      " |-- MONTANT: float (nullable = true)\n",
      " |-- MOIS: string (nullable = true)\n",
      " |-- ANNEE: integer (nullable = true)\n",
      " |-- NOMBRE_OPERATION: integer (nullable = true)\n",
      " |-- Idclient: string (nullable = true)\n",
      "\n"
     ]
    }
   ],
   "source": [
    "df2_gab2020.printSchema()"
   ]
  },
  {
   "cell_type": "code",
   "execution_count": 99,
   "id": "84737e16-836f-4cad-8e48-cabccad22853",
   "metadata": {},
   "outputs": [],
   "source": [
    "df2_gab2020 = df2_gab2020.withColumn(\"MONTANT\", col(\"MONTANT\").cast(\"double\"))\n",
    "df2_gab2020 = df2_gab2020.withColumn(\"Idclient\", col(\"Idclient\").cast(\"integer\"))\n",
    "df2_gab2020 = df2_gab2020.withColumn(\"MOIS\", col(\"MOIS\").cast(\"integer\"))\n",
    "df2_gab2020 = df2_gab2020.withColumn(\"ANNEE\", col(\"ANNEE\").cast(\"integer\"))\n",
    "df2_gab2020 = df2_gab2020.withColumn(\"NOMBRE_OPERATION\", col(\"NOMBRE_OPERATION\").cast(\"integer\"))"
   ]
  },
  {
   "cell_type": "code",
   "execution_count": 100,
   "id": "2fe7f1e7-2822-478e-a0a6-1a03a6f71853",
   "metadata": {},
   "outputs": [
    {
     "name": "stdout",
     "output_type": "stream",
     "text": [
      "+--------+-------+----+-----+----------------+\n",
      "|Idclient|MONTANT|MOIS|ANNEE|NOMBRE_OPERATION|\n",
      "+--------+-------+----+-----+----------------+\n",
      "|  752102| 4000.0|   1| 2019|               9|\n",
      "|  752102| 1220.0|   2| 2019|               5|\n",
      "|  752102| 3120.0|   5| 2019|              10|\n",
      "|  752102| 3300.0|  11| 2019|               7|\n",
      "|  752102| 2040.0|   4| 2019|               7|\n",
      "|  752102| 6320.0|   3| 2019|              10|\n",
      "|  752102| 7670.0|   8| 2019|              12|\n",
      "|  752102|   20.0|   9| 2019|               2|\n",
      "|  752102| 6240.0|  10| 2019|              10|\n",
      "|  752102|   30.0|   6| 2019|               5|\n",
      "|  752102| 3730.0|  12| 2019|               5|\n",
      "|  752102| 3200.0|   7| 2019|               5|\n",
      "|  985743| 6100.0|   1| 2019|              18|\n",
      "|  985743| 8300.0|   5| 2019|              13|\n",
      "|  985743| 5700.0|   6| 2019|              19|\n",
      "|  985743| 7400.0|   7| 2019|              11|\n",
      "|  985743| 5900.0|  11| 2019|               9|\n",
      "|  985743| 3900.0|   2| 2019|              14|\n",
      "|  985743| 2200.0|   4| 2019|               5|\n",
      "|  985743| 1700.0|   9| 2019|               9|\n",
      "+--------+-------+----+-----+----------------+\n",
      "only showing top 20 rows\n",
      "\n"
     ]
    }
   ],
   "source": [
    "# Assurez-vous que les colonnes sont dans le même ordre\n",
    "df2_gab2020 = df2_gab2020.select(\"Idclient\", \"MONTANT\", \"MOIS\", \"ANNEE\", \"NOMBRE_OPERATION\")\n",
    "df_gab_abstr = df_gab_abstr.select(\"Idclient\", \"MONTANT\", \"MOIS\", \"ANNEE\", \"NOMBRE_OPERATION\")\n",
    "\n",
    "# Utilisez la méthode union()\n",
    "df_gab_abstr2 = df_gab_abstr.union(df2_gab2020)\n",
    "\n",
    "# Affichez les premières lignes du DataFrame fusionné\n",
    "df_gab_abstr2.show()"
   ]
  },
  {
   "cell_type": "code",
   "execution_count": 101,
   "id": "9e6a4cdd-1d6f-4b19-a62b-5a33b80d4d36",
   "metadata": {},
   "outputs": [
    {
     "name": "stdout",
     "output_type": "stream",
     "text": [
      "+-----+----+------+\n",
      "|ANNEE|MOIS| count|\n",
      "+-----+----+------+\n",
      "| 2019|  10|408227|\n",
      "| 2019|   5|400066|\n",
      "| 2019|   3|401022|\n",
      "| 2019|   8|403374|\n",
      "| 2019|   6|399030|\n",
      "| 2019|   1|396527|\n",
      "| 2019|   2|389967|\n",
      "| 2019|   4|401748|\n",
      "| 2019|   9|403923|\n",
      "| 2019|  12|413249|\n",
      "| 2019|   7|406605|\n",
      "| 2019|  11|408434|\n",
      "| 2020|   1|418617|\n",
      "| 2020|   2|413836|\n",
      "+-----+----+------+\n",
      "\n"
     ]
    }
   ],
   "source": [
    "df_gab_abstr2.groupBy(\"ANNEE\",\"MOIS\").count().show()"
   ]
  },
  {
   "cell_type": "code",
   "execution_count": 102,
   "id": "e5853322-d5cb-4ac1-999d-00318e273225",
   "metadata": {},
   "outputs": [],
   "source": [
    "df_gab_abstr2 = df_gab_abstr2.withColumn(\"MOIS\", F.lpad(df_gab_abstr[\"MOIS\"], 2, '0'))\n",
    "df_gab_abstr2 = df_gab_abstr2.withColumn(\"Idclient\", F.lpad(df_gab_abstr[\"Idclient\"], 7, '0'))"
   ]
  },
  {
   "cell_type": "code",
   "execution_count": 103,
   "id": "c5acef2b-ec7a-4f62-9a18-483f8d7a97fb",
   "metadata": {},
   "outputs": [
    {
     "name": "stdout",
     "output_type": "stream",
     "text": [
      "+--------+-------+----+-----+----------------+---------+\n",
      "|Idclient|MONTANT|MOIS|ANNEE|NOMBRE_OPERATION|ANNEEMOIS|\n",
      "+--------+-------+----+-----+----------------+---------+\n",
      "| 0752102| 4000.0|  01| 2019|               9|   201901|\n",
      "| 0752102| 1220.0|  02| 2019|               5|   201902|\n",
      "| 0752102| 3120.0|  05| 2019|              10|   201905|\n",
      "| 0752102| 3300.0|  11| 2019|               7|   201911|\n",
      "| 0752102| 2040.0|  04| 2019|               7|   201904|\n",
      "| 0752102| 6320.0|  03| 2019|              10|   201903|\n",
      "| 0752102| 7670.0|  08| 2019|              12|   201908|\n",
      "| 0752102|   20.0|  09| 2019|               2|   201909|\n",
      "| 0752102| 6240.0|  10| 2019|              10|   201910|\n",
      "| 0752102|   30.0|  06| 2019|               5|   201906|\n",
      "| 0752102| 3730.0|  12| 2019|               5|   201912|\n",
      "| 0752102| 3200.0|  07| 2019|               5|   201907|\n",
      "| 0985743| 6100.0|  01| 2019|              18|   201901|\n",
      "| 0985743| 8300.0|  05| 2019|              13|   201905|\n",
      "| 0985743| 5700.0|  06| 2019|              19|   201906|\n",
      "| 0985743| 7400.0|  07| 2019|              11|   201907|\n",
      "| 0985743| 5900.0|  11| 2019|               9|   201911|\n",
      "| 0985743| 3900.0|  02| 2019|              14|   201902|\n",
      "| 0985743| 2200.0|  04| 2019|               5|   201904|\n",
      "| 0985743| 1700.0|  09| 2019|               9|   201909|\n",
      "+--------+-------+----+-----+----------------+---------+\n",
      "only showing top 20 rows\n",
      "\n"
     ]
    }
   ],
   "source": [
    "df_gab_abstr3 = df_gab_abstr2.withColumn(\"ANNEEMOIS\", F.concat(F.col(\"ANNEE\"), F.col(\"MOIS\")))\n",
    "df_gab_abstr3.show()"
   ]
  },
  {
   "cell_type": "code",
   "execution_count": 104,
   "id": "02779abe-b2e1-469b-b3b7-9796cbba6b68",
   "metadata": {},
   "outputs": [],
   "source": [
    "df_gab_abstr3 = df_gab_abstr3.filter(df_gab_abstr3.ANNEEMOIS != 202002)"
   ]
  },
  {
   "cell_type": "markdown",
   "id": "7f5744cc-9f61-44ca-8ab4-540b2852d776",
   "metadata": {
    "jp-MarkdownHeadingCollapsed": true
   },
   "source": [
    "#### feature gab montant"
   ]
  },
  {
   "cell_type": "code",
   "execution_count": 105,
   "id": "01ee0815-fd27-4150-9bfd-721ff7daf558",
   "metadata": {},
   "outputs": [
    {
     "name": "stdout",
     "output_type": "stream",
     "text": [
      "+--------+---------+-------+\n",
      "|Idclient|ANNEEMOIS|MONTANT|\n",
      "+--------+---------+-------+\n",
      "| 0752102|   201901| 4000.0|\n",
      "| 0752102|   201902| 1220.0|\n",
      "| 0752102|   201905| 3120.0|\n",
      "| 0752102|   201911| 3300.0|\n",
      "| 0752102|   201904| 2040.0|\n",
      "| 0752102|   201903| 6320.0|\n",
      "| 0752102|   201908| 7670.0|\n",
      "| 0752102|   201909|   20.0|\n",
      "| 0752102|   201910| 6240.0|\n",
      "| 0752102|   201906|   30.0|\n",
      "| 0752102|   201912| 3730.0|\n",
      "| 0752102|   201907| 3200.0|\n",
      "| 0985743|   201901| 6100.0|\n",
      "| 0985743|   201905| 8300.0|\n",
      "| 0985743|   201906| 5700.0|\n",
      "| 0985743|   201907| 7400.0|\n",
      "| 0985743|   201911| 5900.0|\n",
      "| 0985743|   201902| 3900.0|\n",
      "| 0985743|   201904| 2200.0|\n",
      "| 0985743|   201909| 1700.0|\n",
      "+--------+---------+-------+\n",
      "only showing top 20 rows\n",
      "\n",
      "+--------+---------+-------+\n",
      "|Idclient|ANNEEMOIS|MONTANT|\n",
      "+--------+---------+-------+\n",
      "| 0000000|   201901| 3400.0|\n",
      "| 0000000|   201902| 3000.0|\n",
      "| 0000000|   201903|    0.0|\n",
      "| 0000000|   201904|  500.0|\n",
      "| 0000000|   201905| 2900.0|\n",
      "| 0000000|   201907| 1400.0|\n",
      "| 0000000|   201908|  300.0|\n",
      "| 0000000|   202001|    0.0|\n",
      "| 0000001|   201901|19000.0|\n",
      "| 0000001|   201902|11300.0|\n",
      "| 0000001|   201903|15000.0|\n",
      "| 0000001|   201904|22500.0|\n",
      "| 0000001|   201905|16000.0|\n",
      "| 0000001|   201906| 9000.0|\n",
      "| 0000001|   201907|17000.0|\n",
      "| 0000001|   201908|19500.0|\n",
      "| 0000001|   201909|15000.0|\n",
      "| 0000001|   201910| 7000.0|\n",
      "| 0000001|   201911|20500.0|\n",
      "| 0000001|   201912|22500.0|\n",
      "| 0000002|   201901| 2500.0|\n",
      "| 0000002|   201902| 5500.0|\n",
      "| 0000002|   201903|10000.0|\n",
      "| 0000002|   201904| 6500.0|\n",
      "| 0000002|   201905| 6000.0|\n",
      "| 0000002|   201906| 1500.0|\n",
      "| 0000002|   201907| 4500.0|\n",
      "| 0000002|   201908| 2500.0|\n",
      "| 0000002|   201909| 6800.0|\n",
      "| 0000002|   201911| 1000.0|\n",
      "| 0000002|   201912| 1100.0|\n",
      "| 0000003|   202001| 4000.0|\n",
      "| 0000004|   201901|  600.0|\n",
      "| 0000004|   201903| 1000.0|\n",
      "| 0000004|   201904|  800.0|\n",
      "| 0000004|   201905|  600.0|\n",
      "| 0000004|   201906|  500.0|\n",
      "| 0000004|   201907|  600.0|\n",
      "| 0000004|   201908|  600.0|\n",
      "| 0000004|   201909| 1200.0|\n",
      "| 0000004|   201910|  700.0|\n",
      "| 0000004|   201911| 1100.0|\n",
      "| 0000004|   201912|  900.0|\n",
      "| 0000005|   201901| 5600.0|\n",
      "| 0000005|   201902| 2000.0|\n",
      "| 0000005|   201903| 3500.0|\n",
      "| 0000005|   201904| 8900.0|\n",
      "| 0000005|   201905| 1800.0|\n",
      "| 0000005|   201906| 5800.0|\n",
      "| 0000005|   201907| 4000.0|\n",
      "| 0000005|   201908| 6000.0|\n",
      "| 0000005|   201909| 2900.0|\n",
      "| 0000005|   201910| 2000.0|\n",
      "| 0000005|   201911| 2000.0|\n",
      "| 0000005|   201912| 8300.0|\n",
      "| 0000006|   202001| 2000.0|\n",
      "| 0000007|   201901| 4000.0|\n",
      "| 0000007|   201902| 4800.0|\n",
      "| 0000007|   201903| 6500.0|\n",
      "| 0000007|   201904| 3500.0|\n",
      "| 0000007|   201905| 3500.0|\n",
      "| 0000007|   201906| 5800.0|\n",
      "| 0000007|   201907| 4500.0|\n",
      "| 0000007|   201908| 1500.0|\n",
      "| 0000007|   201909| 3000.0|\n",
      "| 0000007|   201910| 1500.0|\n",
      "| 0000007|   201911| 2900.0|\n",
      "| 0000007|   201912| 1000.0|\n",
      "| 0000009|   201901| 1900.0|\n",
      "| 0000009|   201902|  600.0|\n",
      "| 0000009|   201903|  100.0|\n",
      "| 0000009|   201906|  100.0|\n",
      "| 0000009|   201908|  100.0|\n",
      "| 0000009|   201909| 2000.0|\n",
      "| 0000009|   201910| 2500.0|\n",
      "| 0000009|   201911|  900.0|\n",
      "| 0000009|   201912|  100.0|\n",
      "| 0000010|   201901|11600.0|\n",
      "| 0000010|   201902| 4400.0|\n",
      "| 0000010|   201903|  400.0|\n",
      "| 0000010|   201904| 1200.0|\n",
      "| 0000010|   201907|  800.0|\n",
      "| 0000010|   201909|  200.0|\n",
      "| 0000010|   202001|  186.0|\n",
      "| 0000014|   201901| 4000.0|\n",
      "| 0000014|   201902| 1900.0|\n",
      "| 0000014|   201904| 3200.0|\n",
      "| 0000014|   201905| 1400.0|\n",
      "| 0000014|   201906| 2000.0|\n",
      "| 0000014|   201907| 5000.0|\n",
      "| 0000014|   201908|  500.0|\n",
      "| 0000014|   201911| 5000.0|\n",
      "| 0000014|   202001| 6000.0|\n",
      "| 0000016|   201901| 3500.0|\n",
      "| 0000016|   201902| 1400.0|\n",
      "| 0000016|   201903| 4500.0|\n",
      "| 0000016|   201904| 3800.0|\n",
      "| 0000017|   201912| 4100.0|\n",
      "| 0000017|   202001| 1000.0|\n",
      "| 0000019|   202001| 7700.0|\n",
      "+--------+---------+-------+\n",
      "only showing top 100 rows\n",
      "\n",
      "+---------+------+\n",
      "|ANNEEMOIS| count|\n",
      "+---------+------+\n",
      "|   201903|401022|\n",
      "|   201909|403923|\n",
      "|   201911|408434|\n",
      "|   201907|406605|\n",
      "|   201910|408227|\n",
      "|   201906|399030|\n",
      "|   201912|413249|\n",
      "|   201902|389967|\n",
      "|   201908|403374|\n",
      "|   201901|396527|\n",
      "|   201904|401748|\n",
      "|   201905|400066|\n",
      "|   202001|418617|\n",
      "+---------+------+\n",
      "\n"
     ]
    }
   ],
   "source": [
    "df_gab_montant = df_gab_abstr3.select(\"Idclient\",\"ANNEEMOIS\",\"MONTANT\")\n",
    "df_gab_montant.show()\n",
    "df_gab_montant.count()\n",
    "df_gab_montant.orderBy(\"Idclient\",\"ANNEEMOIS\").show(100)\n",
    "df_gab_montant.groupBy(\"ANNEEMOIS\").count().show()"
   ]
  },
  {
   "cell_type": "code",
   "execution_count": 106,
   "id": "e099932b-76f7-4e49-995f-73c1e0d229c5",
   "metadata": {},
   "outputs": [],
   "source": [
    "df_gab_montant2 = fill_missing_months(df_gab_montant, \"MONTANT\" , all_months)\n",
    "df_gab_montant2.count()\n",
    "df_gab_montant3 = historiquefonction(df_gab_montant2, list_dwp, 3, \"MONTANT\")"
   ]
  },
  {
   "cell_type": "code",
   "execution_count": 107,
   "id": "e7ad4748-24ee-43a6-adbc-dcc7b692949a",
   "metadata": {},
   "outputs": [
    {
     "name": "stdout",
     "output_type": "stream",
     "text": [
      "+--------+---------+-------+-------------------+-------------------+-------------------+\n",
      "|Idclient|ANNEEMOIS|MONTANT|MONTANT_1_MONTH_AGO|MONTANT_2_MONTH_AGO|MONTANT_3_MONTH_AGO|\n",
      "+--------+---------+-------+-------------------+-------------------+-------------------+\n",
      "| 0000000|   201904|  500.0|                0.0|             3000.0|             3400.0|\n",
      "| 0000000|   201907| 1400.0|                0.0|             2900.0|              500.0|\n",
      "| 0000000|   201910|    0.0|                0.0|              300.0|             1400.0|\n",
      "| 0000000|   202001|    0.0|                0.0|                0.0|                0.0|\n",
      "| 0000001|   201904|22500.0|            15000.0|            11300.0|            19000.0|\n",
      "| 0000001|   201907|17000.0|                0.0|            16000.0|            22500.0|\n",
      "| 0000001|   201910| 7000.0|                0.0|            19500.0|            17000.0|\n",
      "| 0000001|   202001|    0.0|            22500.0|            20500.0|             7000.0|\n",
      "| 0000002|   201904| 6500.0|                0.0|             5500.0|             2500.0|\n",
      "| 0000002|   201907| 4500.0|             1500.0|             6000.0|             6500.0|\n",
      "| 0000002|   201910|    0.0|             6800.0|                0.0|             4500.0|\n",
      "| 0000002|   202001|    0.0|             1100.0|             1000.0|                0.0|\n",
      "| 0000003|   201904|    0.0|                0.0|                0.0|                0.0|\n",
      "| 0000003|   201907|    0.0|                0.0|                0.0|                0.0|\n",
      "| 0000003|   201910|    0.0|                0.0|                0.0|                0.0|\n",
      "| 0000003|   202001| 4000.0|                0.0|                0.0|                0.0|\n",
      "| 0000004|   201904|    0.0|                0.0|                0.0|                0.0|\n",
      "| 0000004|   201907|  600.0|                0.0|                0.0|                0.0|\n",
      "| 0000004|   201910|    0.0|                0.0|                0.0|              600.0|\n",
      "| 0000004|   202001|    0.0|                0.0|                0.0|                0.0|\n",
      "+--------+---------+-------+-------------------+-------------------+-------------------+\n",
      "only showing top 20 rows\n",
      "\n",
      "+-------+-----------------+------------------+------------------+-------------------+-------------------+-------------------+\n",
      "|summary|         Idclient|         ANNEEMOIS|           MONTANT|MONTANT_1_MONTH_AGO|MONTANT_2_MONTH_AGO|MONTANT_3_MONTH_AGO|\n",
      "+-------+-----------------+------------------+------------------+-------------------+-------------------+-------------------+\n",
      "|  count|          2907088|           2907088|           2907088|            2907088|            2907088|            2907088|\n",
      "|   mean|499532.7016148118|          201930.5|1978.2740138355814| 1791.8939548141893| 1750.2649380378136| 1798.1779267901252|\n",
      "| stddev|288581.9660379206|40.758441720069456| 55816.42390032105|  4124.201358184275|  18001.17219529243|  21536.94813701943|\n",
      "|    min|          0000000|            201904|               0.0|                0.0|                0.0|                0.0|\n",
      "|    max|          0999999|            202001|       9.0003696E7|          2006800.0|           3.0004E7|        2.2223962E7|\n",
      "+-------+-----------------+------------------+------------------+-------------------+-------------------+-------------------+\n",
      "\n"
     ]
    }
   ],
   "source": [
    "df_gab_montant3.orderBy(\"Idclient\",\"ANNEEMOIS\").show()\n",
    "# df_gab_montant3.describe().show()\n",
    "df_gab_montant_feature = df_gab_montant3.withColumn(\"MEAN_MONTANT_GAB\", \n",
    "                                     round((col(\"MONTANT_1_MONTH_AGO\") + col(\"MONTANT_2_MONTH_AGO\") + col(\"MONTANT_3_MONTH_AGO\")) / 3,2))\n",
    "df_gab_montant_feature = df_gab_montant_feature.select(\"Idclient\", \"ANNEEMOIS\", \"MEAN_MONTANT_GAB\")"
   ]
  },
  {
   "cell_type": "code",
   "execution_count": 108,
   "id": "23bb9656-5066-45e7-8419-cf79d9f3f76b",
   "metadata": {},
   "outputs": [
    {
     "name": "stdout",
     "output_type": "stream",
     "text": [
      "+--------+---------+----------------+\n",
      "|Idclient|ANNEEMOIS|MEAN_MONTANT_GAB|\n",
      "+--------+---------+----------------+\n",
      "| 0000000|   201904|         2133.33|\n",
      "| 0000000|   201907|         1133.33|\n",
      "| 0000000|   201910|          566.67|\n",
      "| 0000000|   202001|             0.0|\n",
      "| 0000001|   201904|         15100.0|\n",
      "| 0000001|   201907|        12833.33|\n",
      "| 0000001|   201910|        12166.67|\n",
      "| 0000001|   202001|        16666.67|\n",
      "| 0000002|   201904|         2666.67|\n",
      "| 0000002|   201907|         4666.67|\n",
      "| 0000002|   201910|         3766.67|\n",
      "| 0000002|   202001|           700.0|\n",
      "| 0000003|   201904|             0.0|\n",
      "| 0000003|   201907|             0.0|\n",
      "| 0000003|   201910|             0.0|\n",
      "| 0000003|   202001|             0.0|\n",
      "| 0000004|   201904|             0.0|\n",
      "| 0000004|   201907|             0.0|\n",
      "| 0000004|   201910|           200.0|\n",
      "| 0000004|   202001|             0.0|\n",
      "+--------+---------+----------------+\n",
      "only showing top 20 rows\n",
      "\n"
     ]
    }
   ],
   "source": [
    "df_gab_montant_feature.orderBy(\"Idclient\", \"ANNEEMOIS\").show()"
   ]
  },
  {
   "cell_type": "markdown",
   "id": "0b632103-8b38-43c9-bfc9-4f1099faba29",
   "metadata": {
    "jp-MarkdownHeadingCollapsed": true
   },
   "source": [
    "#### number operation feature"
   ]
  },
  {
   "cell_type": "code",
   "execution_count": 109,
   "id": "980477f3-5b65-4c77-b944-778a915b137f",
   "metadata": {},
   "outputs": [],
   "source": [
    "df_gab_numoperation = df_gab_abstr3.select(\"Idclient\",\"ANNEEMOIS\",\"NOMBRE_OPERATION\")\n",
    "df_gab_numoperation2 = fill_missing_months(df_gab_numoperation, \"NOMBRE_OPERATION\" , all_months)\n",
    "df_gab_numoperation3 = historiquefonction(df_gab_numoperation2, list_dwp, 3, \"NOMBRE_OPERATION\")"
   ]
  },
  {
   "cell_type": "code",
   "execution_count": 110,
   "id": "10c1a186-5dc8-4204-bd5f-f4721b4b3fe2",
   "metadata": {},
   "outputs": [],
   "source": [
    "df_gab_numoperation_feature = df_gab_numoperation3.withColumn(\"MEAN_NUM_OPERATION_GAB\", \n",
    "                                     round((col(\"NOMBRE_OPERATION_1_MONTH_AGO\") + col(\"NOMBRE_OPERATION_2_MONTH_AGO\") + col(\"NOMBRE_OPERATION_3_MONTH_AGO\")) / 3,2))\n",
    "df_gab_numoperation_feature = df_gab_numoperation_feature.select(\"Idclient\", \"ANNEEMOIS\", \"MEAN_NUM_OPERATION_GAB\")"
   ]
  },
  {
   "cell_type": "code",
   "execution_count": 111,
   "id": "84fe0d32-f6a5-4ce3-8485-ada253f3d5c1",
   "metadata": {},
   "outputs": [
    {
     "name": "stdout",
     "output_type": "stream",
     "text": [
      "+--------+---------+----------------------+\n",
      "|Idclient|ANNEEMOIS|MEAN_NUM_OPERATION_GAB|\n",
      "+--------+---------+----------------------+\n",
      "| 0000000|   201904|                  7.33|\n",
      "| 0000000|   201907|                  1.67|\n",
      "| 0000000|   201910|                  2.33|\n",
      "| 0000000|   202001|                   0.0|\n",
      "| 0000001|   201904|                 10.67|\n",
      "| 0000001|   201907|                   6.0|\n",
      "| 0000001|   201910|                  7.67|\n",
      "| 0000001|   202001|                  8.67|\n",
      "| 0000002|   201904|                  3.33|\n",
      "| 0000002|   201907|                   8.0|\n",
      "| 0000002|   201910|                  7.67|\n",
      "| 0000002|   202001|                  1.67|\n",
      "| 0000003|   201904|                   0.0|\n",
      "| 0000003|   201907|                   0.0|\n",
      "| 0000003|   201910|                   0.0|\n",
      "| 0000003|   202001|                   0.0|\n",
      "| 0000004|   201904|                   0.0|\n",
      "| 0000004|   201907|                   0.0|\n",
      "| 0000004|   201910|                  2.67|\n",
      "| 0000004|   202001|                   2.0|\n",
      "+--------+---------+----------------------+\n",
      "only showing top 20 rows\n",
      "\n"
     ]
    }
   ],
   "source": [
    "df_gab_numoperation_feature.orderBy(\"Idclient\", \"ANNEEMOIS\").show()"
   ]
  },
  {
   "cell_type": "markdown",
   "id": "668569a5-4b4d-46b8-ad9f-1d5918470e67",
   "metadata": {
    "jp-MarkdownHeadingCollapsed": true
   },
   "source": [
    "#### Save Table & Features gab_abstr"
   ]
  },
  {
   "cell_type": "code",
   "execution_count": 113,
   "id": "16a919b9-0445-4fab-9564-b7138ae94505",
   "metadata": {},
   "outputs": [],
   "source": [
    "df_gab_abstr3.write.parquet(\"hdfs://namenode:9000//historisation_features/gab/gab_abstr.parquet\")\n",
    "df_gab_montant_feature.write.parquet(\"hdfs://namenode:9000//historisation_features/gab/gab_montant_feature.parquet\")\n",
    "df_gab_numoperation_feature.write.parquet(\"hdfs://namenode:9000//historisation_features/gab/gab_numoperation_feature.parquet\")"
   ]
  },
  {
   "cell_type": "markdown",
   "id": "e333b74a-8c04-4f48-9357-07a79e13a782",
   "metadata": {
    "jp-MarkdownHeadingCollapsed": true
   },
   "source": [
    "### Extracter et historiser features de la table df_statut_connexion"
   ]
  },
  {
   "cell_type": "markdown",
   "id": "ddce18ec-52d7-4779-bd17-1f44bb4a0b76",
   "metadata": {
    "jp-MarkdownHeadingCollapsed": true
   },
   "source": [
    "#### Convertir les colonnes to date type"
   ]
  },
  {
   "cell_type": "code",
   "execution_count": 119,
   "id": "58b88b16-af11-4800-a2ab-b0c022f58aec",
   "metadata": {},
   "outputs": [
    {
     "name": "stdout",
     "output_type": "stream",
     "text": [
      "root\n",
      " |-- CREATEDATE: string (nullable = true)\n",
      " |-- LASTLOGINDATE: string (nullable = true)\n",
      " |-- CONNECTION: string (nullable = true)\n",
      " |-- CONNECTIONCOUNT: integer (nullable = true)\n",
      " |-- ISLOCKEDOUT: boolean (nullable = true)\n",
      " |-- Idclient: integer (nullable = true)\n",
      "\n"
     ]
    }
   ],
   "source": [
    "df_statut_connexion.printSchema()"
   ]
  },
  {
   "cell_type": "code",
   "execution_count": 120,
   "id": "ed369341-c075-4713-800d-449c51bf3684",
   "metadata": {},
   "outputs": [
    {
     "name": "stdout",
     "output_type": "stream",
     "text": [
      "root\n",
      " |-- CREATEDATE: date (nullable = true)\n",
      " |-- LASTLOGINDATE: date (nullable = true)\n",
      " |-- CONNECTION: string (nullable = true)\n",
      " |-- CONNECTIONCOUNT: integer (nullable = true)\n",
      " |-- ISLOCKEDOUT: boolean (nullable = true)\n",
      " |-- Idclient: integer (nullable = true)\n",
      "\n"
     ]
    }
   ],
   "source": [
    "#### Convertir les colonnes to date type\n",
    "from pyspark.sql import functions as F\n",
    "from pyspark.sql.functions import datediff, to_date, lit\n",
    "\n",
    "df_statut_connexion = df_statut_connexion.withColumn(\"CREATEDATE\", F.to_date(df_statut_connexion.CREATEDATE, 'yyyy-MM-dd'))\n",
    "df_statut_connexion = df_statut_connexion.withColumn(\"LASTLOGINDATE\", F.to_date(df_statut_connexion.LASTLOGINDATE, 'yyyy-MM-dd'))\n",
    "\n",
    "df_statut_connexion.printSchema()"
   ]
  },
  {
   "cell_type": "code",
   "execution_count": 121,
   "id": "aaea4e47-50af-409a-924b-a03b56e99ce3",
   "metadata": {},
   "outputs": [],
   "source": [
    "#### creation de nouveaux colonnes de calcul des jours\n",
    "df_statut_connexion = df_statut_connexion.withColumn(\"DAYS_CREATION\", \n",
    "                                                     datediff(to_date(lit(\"2020-01-01\")), \"CREATEDATE\"))\n",
    "\n",
    "df_statut_connexion = df_statut_connexion.withColumn(\"DAYS_LASTLOGIN\", \n",
    "                                                     datediff(to_date(lit(\"2020-01-01\")), \"LASTLOGINDATE\"))"
   ]
  },
  {
   "cell_type": "code",
   "execution_count": 122,
   "id": "ded82373-2da8-4e33-9433-c8c6659b31ce",
   "metadata": {},
   "outputs": [
    {
     "name": "stdout",
     "output_type": "stream",
     "text": [
      "+----------+-------------+---------------+---------------+-----------+--------+-------------+--------------+\n",
      "|CREATEDATE|LASTLOGINDATE|     CONNECTION|CONNECTIONCOUNT|ISLOCKEDOUT|Idclient|DAYS_CREATION|DAYS_LASTLOGIN|\n",
      "+----------+-------------+---------------+---------------+-----------+--------+-------------+--------------+\n",
      "|2019-04-12|   2019-04-12|Jamais Connecte|              0|      false|  198219|          264|           264|\n",
      "|2019-10-04|   2019-10-04|Jamais Connecte|              0|      false|  143526|           89|            89|\n",
      "|2017-06-04|   2019-06-01|Connecte Reussi|             77|      false|  386264|          941|           214|\n",
      "|2019-12-20|   2019-12-20|Jamais Connecte|              0|      false|  390251|           12|            12|\n",
      "|2018-12-12|   2019-02-18|Connecte Reussi|              2|      false|  329389|          385|           317|\n",
      "|2018-10-20|   2019-12-19|Connecte Reussi|             16|      false|  349082|          438|            13|\n",
      "|2017-09-28|   2019-03-28|Connecte Reussi|             90|      false|  287551|          825|           279|\n",
      "|2018-09-06|   2019-01-25|Connecte Reussi|             10|      false|  286892|          482|           341|\n",
      "|2017-08-10|   2019-09-08|Connecte Reussi|            264|      false|   56440|          874|           115|\n",
      "|2018-10-13|   2019-09-30|Connecte Reussi|              3|      false|   41278|          445|            93|\n",
      "|2019-05-31|   2019-05-31|Jamais Connecte|              0|      false|   55646|          215|           215|\n",
      "|2019-04-12|   2019-04-12|Jamais Connecte|              0|      false|  308112|          264|           264|\n",
      "|2019-10-11|   2019-10-11|Jamais Connecte|              0|      false|  424137|           82|            82|\n",
      "|2019-12-31|   2019-12-31|Jamais Connecte|              0|      false|  260075|            1|             1|\n",
      "|2019-02-07|   2019-02-07|Jamais Connecte|              0|      false|  220010|          328|           328|\n",
      "|2019-02-11|   2019-02-11|Jamais Connecte|              0|      false|  151356|          324|           324|\n",
      "|2019-02-13|   2019-02-13|Jamais Connecte|              0|      false|  233564|          322|           322|\n",
      "|2019-02-25|   2019-02-25|Jamais Connecte|              0|      false|    8548|          310|           310|\n",
      "|2019-03-30|   2019-03-30|Jamais Connecte|              0|      false|   90164|          277|           277|\n",
      "|2019-04-16|   2019-04-16|Jamais Connecte|              0|      false|  131147|          260|           260|\n",
      "+----------+-------------+---------------+---------------+-----------+--------+-------------+--------------+\n",
      "only showing top 20 rows\n",
      "\n"
     ]
    }
   ],
   "source": [
    "df_statut_connexion.show()"
   ]
  },
  {
   "cell_type": "code",
   "execution_count": 123,
   "id": "c4c1d366-59fa-4bf8-b264-27f4380dad99",
   "metadata": {},
   "outputs": [
    {
     "name": "stdout",
     "output_type": "stream",
     "text": [
      "+----------+-------------+---------------+---------------+-----------+--------+-------------+--------------+\n",
      "|CREATEDATE|LASTLOGINDATE|     CONNECTION|CONNECTIONCOUNT|ISLOCKEDOUT|Idclient|DAYS_CREATION|DAYS_LASTLOGIN|\n",
      "+----------+-------------+---------------+---------------+-----------+--------+-------------+--------------+\n",
      "|2019-04-12|   2019-04-12|Jamais Connecte|              0|      false|  198219|          264|           264|\n",
      "|2019-10-04|   2019-10-04|Jamais Connecte|              0|      false|  143526|           89|            89|\n",
      "|2017-06-04|   2019-06-01|Connecte Reussi|             77|      false|  386264|          941|           214|\n",
      "|2019-12-20|   2019-12-20|Jamais Connecte|              0|      false|  390251|           12|            12|\n",
      "|2018-12-12|   2019-02-18|Connecte Reussi|              2|      false|  329389|          385|           317|\n",
      "|2018-10-20|   2019-12-19|Connecte Reussi|             16|      false|  349082|          438|            13|\n",
      "|2017-09-28|   2019-03-28|Connecte Reussi|             90|      false|  287551|          825|           279|\n",
      "|2018-09-06|   2019-01-25|Connecte Reussi|             10|      false|  286892|          482|           341|\n",
      "|2017-08-10|   2019-09-08|Connecte Reussi|            264|      false|   56440|          874|           115|\n",
      "|2018-10-13|   2019-09-30|Connecte Reussi|              3|      false|   41278|          445|            93|\n",
      "|2019-05-31|   2019-05-31|Jamais Connecte|              0|      false|   55646|          215|           215|\n",
      "|2019-04-12|   2019-04-12|Jamais Connecte|              0|      false|  308112|          264|           264|\n",
      "|2019-10-11|   2019-10-11|Jamais Connecte|              0|      false|  424137|           82|            82|\n",
      "|2019-12-31|   2019-12-31|Jamais Connecte|              0|      false|  260075|            1|             1|\n",
      "|2019-02-07|   2019-02-07|Jamais Connecte|              0|      false|  220010|          328|           328|\n",
      "|2019-02-11|   2019-02-11|Jamais Connecte|              0|      false|  151356|          324|           324|\n",
      "|2019-02-13|   2019-02-13|Jamais Connecte|              0|      false|  233564|          322|           322|\n",
      "|2019-02-25|   2019-02-25|Jamais Connecte|              0|      false|    8548|          310|           310|\n",
      "|2019-03-30|   2019-03-30|Jamais Connecte|              0|      false|   90164|          277|           277|\n",
      "|2019-04-16|   2019-04-16|Jamais Connecte|              0|      false|  131147|          260|           260|\n",
      "+----------+-------------+---------------+---------------+-----------+--------+-------------+--------------+\n",
      "only showing top 20 rows\n",
      "\n"
     ]
    }
   ],
   "source": [
    "df_statut_connexion = df_statut_connexion.drop(\"DAYS_SINCE_ACCOUNT_CREATION\",\"DAYS_SINCE_LAST_LOGIN\",\"DAYS_ACCOUNT_CREATION\",\"DAYS_LAST_LOGIN\")\n",
    "df_statut_connexion.show()"
   ]
  },
  {
   "cell_type": "markdown",
   "id": "068bb886-eeb8-4099-a7ea-6b05309c7c0a",
   "metadata": {
    "jp-MarkdownHeadingCollapsed": true
   },
   "source": [
    "#### creation d'une colonne frequence de connexion : CONNECTIONCOUNT/DAYS_CREATION"
   ]
  },
  {
   "cell_type": "code",
   "execution_count": 124,
   "id": "4604e237-e026-4403-8c56-98ba9c2d4620",
   "metadata": {},
   "outputs": [
    {
     "name": "stdout",
     "output_type": "stream",
     "text": [
      "+----------+-------------+---------------+---------------+-----------+--------+-------------+--------------+---------------+\n",
      "|CREATEDATE|LASTLOGINDATE|     CONNECTION|CONNECTIONCOUNT|ISLOCKEDOUT|Idclient|DAYS_CREATION|DAYS_LASTLOGIN|LOGIN_FREQUENCY|\n",
      "+----------+-------------+---------------+---------------+-----------+--------+-------------+--------------+---------------+\n",
      "|2019-04-12|   2019-04-12|Jamais Connecte|              0|      false|  198219|          264|           264|            0.0|\n",
      "|2019-10-04|   2019-10-04|Jamais Connecte|              0|      false|  143526|           89|            89|            0.0|\n",
      "|2017-06-04|   2019-06-01|Connecte Reussi|             77|      false|  386264|          941|           214|        0.08183|\n",
      "|2019-12-20|   2019-12-20|Jamais Connecte|              0|      false|  390251|           12|            12|            0.0|\n",
      "|2018-12-12|   2019-02-18|Connecte Reussi|              2|      false|  329389|          385|           317|        0.00519|\n",
      "|2018-10-20|   2019-12-19|Connecte Reussi|             16|      false|  349082|          438|            13|        0.03653|\n",
      "|2017-09-28|   2019-03-28|Connecte Reussi|             90|      false|  287551|          825|           279|        0.10909|\n",
      "|2018-09-06|   2019-01-25|Connecte Reussi|             10|      false|  286892|          482|           341|        0.02075|\n",
      "|2017-08-10|   2019-09-08|Connecte Reussi|            264|      false|   56440|          874|           115|        0.30206|\n",
      "|2018-10-13|   2019-09-30|Connecte Reussi|              3|      false|   41278|          445|            93|        0.00674|\n",
      "|2019-05-31|   2019-05-31|Jamais Connecte|              0|      false|   55646|          215|           215|            0.0|\n",
      "|2019-04-12|   2019-04-12|Jamais Connecte|              0|      false|  308112|          264|           264|            0.0|\n",
      "|2019-10-11|   2019-10-11|Jamais Connecte|              0|      false|  424137|           82|            82|            0.0|\n",
      "|2019-12-31|   2019-12-31|Jamais Connecte|              0|      false|  260075|            1|             1|            0.0|\n",
      "|2019-02-07|   2019-02-07|Jamais Connecte|              0|      false|  220010|          328|           328|            0.0|\n",
      "|2019-02-11|   2019-02-11|Jamais Connecte|              0|      false|  151356|          324|           324|            0.0|\n",
      "|2019-02-13|   2019-02-13|Jamais Connecte|              0|      false|  233564|          322|           322|            0.0|\n",
      "|2019-02-25|   2019-02-25|Jamais Connecte|              0|      false|    8548|          310|           310|            0.0|\n",
      "|2019-03-30|   2019-03-30|Jamais Connecte|              0|      false|   90164|          277|           277|            0.0|\n",
      "|2019-04-16|   2019-04-16|Jamais Connecte|              0|      false|  131147|          260|           260|            0.0|\n",
      "+----------+-------------+---------------+---------------+-----------+--------+-------------+--------------+---------------+\n",
      "only showing top 20 rows\n",
      "\n"
     ]
    }
   ],
   "source": [
    "from pyspark.sql.functions import round\n",
    "\n",
    "df_statut_connexion = df_statut_connexion.withColumn(\"LOGIN_FREQUENCY\", \n",
    "                                                     round(col(\"CONNECTIONCOUNT\") / col(\"DAYS_CREATION\"), 5))\n",
    "df_statut_connexion.show()"
   ]
  },
  {
   "cell_type": "code",
   "execution_count": 125,
   "id": "8af36657-dd3d-4908-b05d-0c369002b9dd",
   "metadata": {},
   "outputs": [
    {
     "name": "stdout",
     "output_type": "stream",
     "text": [
      "+----------+-------------+---------------+---------------+-----------+--------+-------------+--------------+---------------+------------+\n",
      "|CREATEDATE|LASTLOGINDATE|     CONNECTION|CONNECTIONCOUNT|ISLOCKEDOUT|Idclient|DAYS_CREATION|DAYS_LASTLOGIN|LOGIN_FREQUENCY|ACTIVE_RATIO|\n",
      "+----------+-------------+---------------+---------------+-----------+--------+-------------+--------------+---------------+------------+\n",
      "|2019-04-12|   2019-04-12|Jamais Connecte|              0|      false|  198219|          264|           264|            0.0|         1.0|\n",
      "|2019-10-04|   2019-10-04|Jamais Connecte|              0|      false|  143526|           89|            89|            0.0|         1.0|\n",
      "|2017-06-04|   2019-06-01|Connecte Reussi|             77|      false|  386264|          941|           214|        0.08183|     0.22742|\n",
      "|2019-12-20|   2019-12-20|Jamais Connecte|              0|      false|  390251|           12|            12|            0.0|         1.0|\n",
      "|2018-12-12|   2019-02-18|Connecte Reussi|              2|      false|  329389|          385|           317|        0.00519|     0.82338|\n",
      "|2018-10-20|   2019-12-19|Connecte Reussi|             16|      false|  349082|          438|            13|        0.03653|     0.02968|\n",
      "|2017-09-28|   2019-03-28|Connecte Reussi|             90|      false|  287551|          825|           279|        0.10909|     0.33818|\n",
      "|2018-09-06|   2019-01-25|Connecte Reussi|             10|      false|  286892|          482|           341|        0.02075|     0.70747|\n",
      "|2017-08-10|   2019-09-08|Connecte Reussi|            264|      false|   56440|          874|           115|        0.30206|     0.13158|\n",
      "|2018-10-13|   2019-09-30|Connecte Reussi|              3|      false|   41278|          445|            93|        0.00674|     0.20899|\n",
      "|2019-05-31|   2019-05-31|Jamais Connecte|              0|      false|   55646|          215|           215|            0.0|         1.0|\n",
      "|2019-04-12|   2019-04-12|Jamais Connecte|              0|      false|  308112|          264|           264|            0.0|         1.0|\n",
      "|2019-10-11|   2019-10-11|Jamais Connecte|              0|      false|  424137|           82|            82|            0.0|         1.0|\n",
      "|2019-12-31|   2019-12-31|Jamais Connecte|              0|      false|  260075|            1|             1|            0.0|         1.0|\n",
      "|2019-02-07|   2019-02-07|Jamais Connecte|              0|      false|  220010|          328|           328|            0.0|         1.0|\n",
      "|2019-02-11|   2019-02-11|Jamais Connecte|              0|      false|  151356|          324|           324|            0.0|         1.0|\n",
      "|2019-02-13|   2019-02-13|Jamais Connecte|              0|      false|  233564|          322|           322|            0.0|         1.0|\n",
      "|2019-02-25|   2019-02-25|Jamais Connecte|              0|      false|    8548|          310|           310|            0.0|         1.0|\n",
      "|2019-03-30|   2019-03-30|Jamais Connecte|              0|      false|   90164|          277|           277|            0.0|         1.0|\n",
      "|2019-04-16|   2019-04-16|Jamais Connecte|              0|      false|  131147|          260|           260|            0.0|         1.0|\n",
      "+----------+-------------+---------------+---------------+-----------+--------+-------------+--------------+---------------+------------+\n",
      "only showing top 20 rows\n",
      "\n"
     ]
    }
   ],
   "source": [
    "# Create new column 'ACTIVE_RATIO'\n",
    "df_statut_connexion2 = df_statut_connexion.withColumn(\"ACTIVE_RATIO\", \n",
    "                                                     round(col(\"DAYS_LASTLOGIN\") / col(\"DAYS_CREATION\"),5))\n",
    "df_statut_connexion2.show()"
   ]
  },
  {
   "cell_type": "code",
   "execution_count": 126,
   "id": "03563475-a377-4719-949c-52070e0bbede",
   "metadata": {},
   "outputs": [
    {
     "name": "stdout",
     "output_type": "stream",
     "text": [
      "+----------+-------------+---------------+---------------+-----------+--------+-------------+--------------+\n",
      "|CREATEDATE|LASTLOGINDATE|     CONNECTION|CONNECTIONCOUNT|ISLOCKEDOUT|Idclient|DAYS_CREATION|DAYS_LASTLOGIN|\n",
      "+----------+-------------+---------------+---------------+-----------+--------+-------------+--------------+\n",
      "|2019-04-12|   2019-04-12|Jamais Connecte|              0|      false|  198219|          264|           264|\n",
      "|2019-10-04|   2019-10-04|Jamais Connecte|              0|      false|  143526|           89|            89|\n",
      "|2017-06-04|   2019-06-01|Connecte Reussi|             77|      false|  386264|          941|           214|\n",
      "|2019-12-20|   2019-12-20|Jamais Connecte|              0|      false|  390251|           12|            12|\n",
      "|2018-12-12|   2019-02-18|Connecte Reussi|              2|      false|  329389|          385|           317|\n",
      "+----------+-------------+---------------+---------------+-----------+--------+-------------+--------------+\n",
      "only showing top 5 rows\n",
      "\n"
     ]
    }
   ],
   "source": [
    "df_statut_connexion = df_statut_connexion.drop(\"LOGIN_FREQUENCY\")\n",
    "df_statut_connexion.show(5)"
   ]
  },
  {
   "cell_type": "code",
   "execution_count": 127,
   "id": "321c2e94-8e65-4ef9-8f5a-ee2d958f84d1",
   "metadata": {},
   "outputs": [],
   "source": [
    "from pyspark.sql import functions as F\n",
    "\n",
    "df_statut_connexion = df_statut_connexion.withColumn('ANNEE' , year(df_statut_connexion['LASTLOGINDATE']))\n",
    "df_statut_connexion = df_statut_connexion.withColumn('MOIS' , month(df_statut_connexion['LASTLOGINDATE']))"
   ]
  },
  {
   "cell_type": "code",
   "execution_count": 128,
   "id": "207e0dad-6038-4a62-8a45-8f0fd9cf42f0",
   "metadata": {},
   "outputs": [],
   "source": [
    "df_statut_connexion = df_statut_connexion.withColumn(\"MOIS\", F.lpad(df_statut_connexion[\"MOIS\"], 2, '0'))"
   ]
  },
  {
   "cell_type": "code",
   "execution_count": 129,
   "id": "71b8e00e-55b0-41c4-af29-922627f512db",
   "metadata": {},
   "outputs": [],
   "source": [
    "df_statut_connexion = df_statut_connexion.withColumn('ANNEEMOIS', F.concat(df_statut_connexion['ANNEE'],df_statut_connexion['MOIS']))"
   ]
  },
  {
   "cell_type": "code",
   "execution_count": 130,
   "id": "c204db24-6040-4f76-b756-98ebb530b919",
   "metadata": {},
   "outputs": [
    {
     "name": "stdout",
     "output_type": "stream",
     "text": [
      "+----------+-------------+---------------+---------------+-----------+--------+-------------+--------------+-----+----+---------+\n",
      "|CREATEDATE|LASTLOGINDATE|     CONNECTION|CONNECTIONCOUNT|ISLOCKEDOUT|Idclient|DAYS_CREATION|DAYS_LASTLOGIN|ANNEE|MOIS|ANNEEMOIS|\n",
      "+----------+-------------+---------------+---------------+-----------+--------+-------------+--------------+-----+----+---------+\n",
      "|2019-04-12|   2019-04-12|Jamais Connecte|              0|      false|  198219|          264|           264| 2019|  04|   201904|\n",
      "|2019-10-04|   2019-10-04|Jamais Connecte|              0|      false|  143526|           89|            89| 2019|  10|   201910|\n",
      "|2017-06-04|   2019-06-01|Connecte Reussi|             77|      false|  386264|          941|           214| 2019|  06|   201906|\n",
      "|2019-12-20|   2019-12-20|Jamais Connecte|              0|      false|  390251|           12|            12| 2019|  12|   201912|\n",
      "|2018-12-12|   2019-02-18|Connecte Reussi|              2|      false|  329389|          385|           317| 2019|  02|   201902|\n",
      "+----------+-------------+---------------+---------------+-----------+--------+-------------+--------------+-----+----+---------+\n",
      "only showing top 5 rows\n",
      "\n"
     ]
    }
   ],
   "source": [
    "df_statut_connexion.show(5)"
   ]
  },
  {
   "cell_type": "code",
   "execution_count": 131,
   "id": "2905bab4-f025-42f9-b8be-7f31733bbcd7",
   "metadata": {},
   "outputs": [],
   "source": [
    "df_statut_connexion = df_statut_connexion.drop(\"ANNEE\",\"MOIS\")"
   ]
  },
  {
   "cell_type": "markdown",
   "id": "15fd6e5a-720f-46b3-9ecc-7fb8d036b238",
   "metadata": {
    "jp-MarkdownHeadingCollapsed": true
   },
   "source": [
    "#### definition d'un seuil d'activité"
   ]
  },
  {
   "cell_type": "code",
   "execution_count": 132,
   "id": "e9e6aa46-d090-4407-a121-037b417f71ea",
   "metadata": {},
   "outputs": [],
   "source": [
    "df_statut_connexion2 = df_statut_connexion2.withColumn('ANNEE' , year(df_statut_connexion['LASTLOGINDATE']))\n",
    "df_statut_connexion2 = df_statut_connexion2.withColumn('MOIS' , month(df_statut_connexion['LASTLOGINDATE']))"
   ]
  },
  {
   "cell_type": "code",
   "execution_count": 133,
   "id": "5469c47e-71e1-498b-ae00-36f4a16c8b8a",
   "metadata": {},
   "outputs": [],
   "source": [
    "df_statut_connexion2=df_statut_connexion2.drop(\"ANNEEMOIS\")"
   ]
  },
  {
   "cell_type": "code",
   "execution_count": 189,
   "id": "fa97a93a-bcd8-4c99-aaea-55a1c757265f",
   "metadata": {},
   "outputs": [
    {
     "name": "stdout",
     "output_type": "stream",
     "text": [
      "+----------+-------------+---------------+---------------+-----------+--------+-------------+--------------+---------------+------------+-----+----+\n",
      "|CREATEDATE|LASTLOGINDATE|     CONNECTION|CONNECTIONCOUNT|ISLOCKEDOUT|Idclient|DAYS_CREATION|DAYS_LASTLOGIN|LOGIN_FREQUENCY|ACTIVE_RATIO|ANNEE|MOIS|\n",
      "+----------+-------------+---------------+---------------+-----------+--------+-------------+--------------+---------------+------------+-----+----+\n",
      "|2019-04-12|   2019-04-12|Jamais Connecte|              0|      false|  198219|          264|           264|            0.0|         1.0| 2019|   4|\n",
      "|2019-10-04|   2019-10-04|Jamais Connecte|              0|      false|  143526|           89|            89|            0.0|         1.0| 2019|  10|\n",
      "|2017-06-04|   2019-06-01|Connecte Reussi|             77|      false|  386264|          941|           214|        0.08183|     0.22742| 2019|   6|\n",
      "|2019-12-20|   2019-12-20|Jamais Connecte|              0|      false|  390251|           12|            12|            0.0|         1.0| 2019|  12|\n",
      "|2018-12-12|   2019-02-18|Connecte Reussi|              2|      false|  329389|          385|           317|        0.00519|     0.82338| 2019|   2|\n",
      "+----------+-------------+---------------+---------------+-----------+--------+-------------+--------------+---------------+------------+-----+----+\n",
      "only showing top 5 rows\n",
      "\n"
     ]
    }
   ],
   "source": [
    "df_statut_connexion2.show(5)"
   ]
  },
  {
   "cell_type": "markdown",
   "id": "b5e7300b-41b8-4174-a831-f2e9386909d1",
   "metadata": {
    "jp-MarkdownHeadingCollapsed": true
   },
   "source": [
    "#### Save Table & Features statut_connexion"
   ]
  },
  {
   "cell_type": "code",
   "execution_count": 134,
   "id": "332f6d01-1251-4001-9338-5730e7792563",
   "metadata": {},
   "outputs": [],
   "source": [
    "df_statut_connexion2.write.parquet(\"hdfs://namenode:9000//historisation_features/statut_connexion/statut_connexion2.parquet\")"
   ]
  },
  {
   "cell_type": "markdown",
   "id": "a35d4d1c-af28-4d6b-8d45-18f61b369211",
   "metadata": {
    "jp-MarkdownHeadingCollapsed": true
   },
   "source": [
    "### Extracter et historiser features de la table df_operations_agence"
   ]
  },
  {
   "cell_type": "markdown",
   "id": "dffccdc9-3bc8-47f0-9bc9-ec54e1424e88",
   "metadata": {
    "jp-MarkdownHeadingCollapsed": true
   },
   "source": [
    "#### Préparation des donnees table operations_agence"
   ]
  },
  {
   "cell_type": "code",
   "execution_count": 33,
   "id": "e9476c22-e7ae-4753-9439-5242031daeec",
   "metadata": {},
   "outputs": [
    {
     "name": "stdout",
     "output_type": "stream",
     "text": [
      "+--------+----+-----+----------------+--------+\n",
      "| MONTANT|MOIS|ANNEE|NOMBRE_OPERATION|Idclient|\n",
      "+--------+----+-----+----------------+--------+\n",
      "| -2500.0|   1| 2019|               1|  109076|\n",
      "| -7000.0|   7| 2019|               1|  109076|\n",
      "| 15000.0|   2| 2019|               2|  109076|\n",
      "| -5000.0|  12| 2019|               1|  109076|\n",
      "|-11000.0|   4| 2019|               1|  109076|\n",
      "|-15000.0|   9| 2019|               1|  109076|\n",
      "|-10000.0|   5| 2019|               1|  109076|\n",
      "|-23000.0|  10| 2019|               2|  109076|\n",
      "| 10000.0|   1| 2019|               1|  520252|\n",
      "| 10000.0|   3| 2019|               1|  520252|\n",
      "| 15000.0|   9| 2019|               1|  520252|\n",
      "| 15000.0|   6| 2019|               1|  520252|\n",
      "| 15000.0|  11| 2019|               1|  520252|\n",
      "|  7000.0|   1| 2019|               2|  612613|\n",
      "|   200.0|   7| 2019|               2|  612613|\n",
      "|-22900.0|   2| 2019|               3|  612613|\n",
      "| -4250.0|   6| 2019|               2|  612613|\n",
      "|-11900.0|   3| 2019|               2|  612613|\n",
      "| -1900.0|   4| 2019|               1|  612613|\n",
      "| -2000.0|  11| 2019|               1|  612613|\n",
      "+--------+----+-----+----------------+--------+\n",
      "only showing top 20 rows\n",
      "\n"
     ]
    }
   ],
   "source": [
    "dftest_operations_agence = df_operations_agence\n",
    "dftest_operations_agence.show()"
   ]
  },
  {
   "cell_type": "code",
   "execution_count": 34,
   "id": "75bbbde8-898b-4dd2-8fe2-305556ea2d2c",
   "metadata": {},
   "outputs": [
    {
     "name": "stdout",
     "output_type": "stream",
     "text": [
      "+-------+----+-----+----------------+--------+\n",
      "|MONTANT|MOIS|ANNEE|NOMBRE_OPERATION|Idclient|\n",
      "+-------+----+-----+----------------+--------+\n",
      "|-2500.0|   1| 2019|               1|  109076|\n",
      "|-7000.0|   7| 2019|               1|  109076|\n",
      "|15000.0|   2| 2019|               2|  109076|\n",
      "+-------+----+-----+----------------+--------+\n",
      "only showing top 3 rows\n",
      "\n",
      "root\n",
      " |-- MONTANT: double (nullable = true)\n",
      " |-- MOIS: integer (nullable = true)\n",
      " |-- ANNEE: integer (nullable = true)\n",
      " |-- NOMBRE_OPERATION: integer (nullable = true)\n",
      " |-- Idclient: integer (nullable = true)\n",
      "\n"
     ]
    }
   ],
   "source": [
    "df_operations_agence = df_operations_agence.drop(\"TRIMESTRE\", \"Idclienttrim\")\n",
    "df_operations_agence.show(3)\n",
    "df_operations_agence.printSchema()"
   ]
  },
  {
   "cell_type": "code",
   "execution_count": 36,
   "id": "0ec998dc-2d5a-4ec0-a6db-051406e9a202",
   "metadata": {},
   "outputs": [
    {
     "name": "stdout",
     "output_type": "stream",
     "text": [
      "+--------+----+-----+----------------+--------+---------+\n",
      "| MONTANT|MOIS|ANNEE|NOMBRE_OPERATION|Idclient|ANNEEMOIS|\n",
      "+--------+----+-----+----------------+--------+---------+\n",
      "| -2500.0|  01| 2019|               1| 0109076|   201901|\n",
      "| -7000.0|  07| 2019|               1| 0109076|   201907|\n",
      "| 15000.0|  02| 2019|               2| 0109076|   201902|\n",
      "| -5000.0|  12| 2019|               1| 0109076|   201912|\n",
      "|-11000.0|  04| 2019|               1| 0109076|   201904|\n",
      "|-15000.0|  09| 2019|               1| 0109076|   201909|\n",
      "|-10000.0|  05| 2019|               1| 0109076|   201905|\n",
      "|-23000.0|  10| 2019|               2| 0109076|   201910|\n",
      "| 10000.0|  01| 2019|               1| 0520252|   201901|\n",
      "| 10000.0|  03| 2019|               1| 0520252|   201903|\n",
      "| 15000.0|  09| 2019|               1| 0520252|   201909|\n",
      "| 15000.0|  06| 2019|               1| 0520252|   201906|\n",
      "| 15000.0|  11| 2019|               1| 0520252|   201911|\n",
      "|  7000.0|  01| 2019|               2| 0612613|   201901|\n",
      "|   200.0|  07| 2019|               2| 0612613|   201907|\n",
      "|-22900.0|  02| 2019|               3| 0612613|   201902|\n",
      "| -4250.0|  06| 2019|               2| 0612613|   201906|\n",
      "|-11900.0|  03| 2019|               2| 0612613|   201903|\n",
      "| -1900.0|  04| 2019|               1| 0612613|   201904|\n",
      "| -2000.0|  11| 2019|               1| 0612613|   201911|\n",
      "+--------+----+-----+----------------+--------+---------+\n",
      "only showing top 20 rows\n",
      "\n"
     ]
    }
   ],
   "source": [
    "from pyspark.sql import functions as F\n",
    "df2_operations_agence = df_operations_agence.withColumn(\"MOIS\", F.lpad(df_operations_agence[\"MOIS\"], 2, '0'))\n",
    "df2_operations_agence = df2_operations_agence.withColumn(\"Idclient\", F.lpad(df_operations_agence[\"Idclient\"], 7, '0'))\n",
    "df2_operations_agence = df2_operations_agence.withColumn(\"ANNEEMOIS\", F.concat(F.col(\"ANNEE\"), F.col(\"MOIS\")))\n",
    "df22_operations_agence = df2_operations_agence\n",
    "df22_operations_agence.show()"
   ]
  },
  {
   "cell_type": "markdown",
   "id": "66b6697b-407b-4313-a981-fd0c3bc59c67",
   "metadata": {
    "jp-MarkdownHeadingCollapsed": true
   },
   "source": [
    "#### feature :MONTANT"
   ]
  },
  {
   "cell_type": "code",
   "execution_count": 37,
   "id": "95f037d9-96f7-49d0-bbac-cd0031e652a7",
   "metadata": {},
   "outputs": [
    {
     "name": "stdout",
     "output_type": "stream",
     "text": [
      "+--------+--------+---------+\n",
      "|Idclient| MONTANT|ANNEEMOIS|\n",
      "+--------+--------+---------+\n",
      "| 0109076| -2500.0|   201901|\n",
      "| 0109076| -7000.0|   201907|\n",
      "| 0109076| 15000.0|   201902|\n",
      "| 0109076| -5000.0|   201912|\n",
      "| 0109076|-11000.0|   201904|\n",
      "| 0109076|-15000.0|   201909|\n",
      "| 0109076|-10000.0|   201905|\n",
      "| 0109076|-23000.0|   201910|\n",
      "| 0520252| 10000.0|   201901|\n",
      "| 0520252| 10000.0|   201903|\n",
      "| 0520252| 15000.0|   201909|\n",
      "| 0520252| 15000.0|   201906|\n",
      "| 0520252| 15000.0|   201911|\n",
      "| 0612613|  7000.0|   201901|\n",
      "| 0612613|   200.0|   201907|\n",
      "| 0612613|-22900.0|   201902|\n",
      "| 0612613| -4250.0|   201906|\n",
      "| 0612613|-11900.0|   201903|\n",
      "| 0612613| -1900.0|   201904|\n",
      "| 0612613| -2000.0|   201911|\n",
      "+--------+--------+---------+\n",
      "only showing top 20 rows\n",
      "\n"
     ]
    }
   ],
   "source": [
    "df3_operations_agence = df2_operations_agence.select(\"Idclient\", \"MONTANT\", \"ANNEEMOIS\")\n",
    "df3_operations_agence.show()"
   ]
  },
  {
   "cell_type": "code",
   "execution_count": 38,
   "id": "9084b4aa-d424-49c0-9de2-2b953c5c6c11",
   "metadata": {},
   "outputs": [
    {
     "name": "stdout",
     "output_type": "stream",
     "text": [
      "+---------+------+\n",
      "|ANNEEMOIS| count|\n",
      "+---------+------+\n",
      "|   201903|197565|\n",
      "|   201909|195021|\n",
      "|   201911|189929|\n",
      "|   201907|205963|\n",
      "|   201910|208870|\n",
      "|   202001| 53748|\n",
      "|   201906|178902|\n",
      "|   201912|207521|\n",
      "|   201902|191160|\n",
      "|   201908|187309|\n",
      "|   201901|247159|\n",
      "|   201904|201106|\n",
      "|   201905|192546|\n",
      "+---------+------+\n",
      "\n"
     ]
    }
   ],
   "source": [
    "df3_operations_agence.groupby(\"ANNEEMOIS\").count().show()"
   ]
  },
  {
   "cell_type": "code",
   "execution_count": 44,
   "id": "090501ce-2a79-4ea8-a2e5-175b51973ee7",
   "metadata": {},
   "outputs": [
    {
     "name": "stdout",
     "output_type": "stream",
     "text": [
      "+--------+---------+--------+-------------------+-------------------+-------------------+\n",
      "|Idclient|ANNEEMOIS| MONTANT|MONTANT_1_MONTH_AGO|MONTANT_2_MONTH_AGO|MONTANT_3_MONTH_AGO|\n",
      "+--------+---------+--------+-------------------+-------------------+-------------------+\n",
      "| 0000009|   201904|     0.0|                0.0|                0.0|             1600.0|\n",
      "| 0000009|   201907|   300.0|                0.0|                0.0|                0.0|\n",
      "| 0000009|   201910|  2550.0|             3000.0|                0.0|              300.0|\n",
      "| 0000009|   202001|     0.0|                0.0|                0.0|             2550.0|\n",
      "| 0000016|   201904|  4000.0|                0.0|                0.0|                0.0|\n",
      "| 0000016|   201907|     0.0|                0.0|                0.0|             4000.0|\n",
      "| 0000016|   201910|  2000.0|                0.0|                0.0|                0.0|\n",
      "| 0000016|   202001|     0.0|                0.0|                0.0|             2000.0|\n",
      "| 0000018|   201904| 20000.0|                0.0|                0.0|            -9000.0|\n",
      "| 0000018|   201907|     0.0|           46071.43|           220000.0|            20000.0|\n",
      "| 0000018|   201910|-74000.0|            -4000.0|            25000.0|                0.0|\n",
      "| 0000018|   202001|     0.0|           -4342.98|                0.0|           -74000.0|\n",
      "| 0000023|   201904|  5000.0|                0.0|                0.0|                0.0|\n",
      "| 0000023|   201907|     0.0|                0.0|                0.0|             5000.0|\n",
      "| 0000023|   201910|     0.0|                0.0|                0.0|                0.0|\n",
      "| 0000023|   202001|     0.0|                0.0|                0.0|                0.0|\n",
      "| 0000029|   201904|     0.0|                0.0|                0.0|             -200.0|\n",
      "| 0000029|   201907|     0.0|                0.0|             -700.0|                0.0|\n",
      "| 0000029|   201910|     0.0|                0.0|                0.0|                0.0|\n",
      "| 0000029|   202001|     0.0|                0.0|                0.0|                0.0|\n",
      "+--------+---------+--------+-------------------+-------------------+-------------------+\n",
      "only showing top 20 rows\n",
      "\n"
     ]
    }
   ],
   "source": [
    "df3_operations_agence = fill_missing_months(df3_operations_agence, \"MONTANT\" , all_months)\n",
    "df_operations_agence_new = historiquefonction(df3_operations_agence, list_dwp, 3, \"MONTANT\")\n",
    "df_operations_agence_new.show()"
   ]
  },
  {
   "cell_type": "code",
   "execution_count": 46,
   "id": "8d682b82-004d-40e8-b7fb-87b4911ca3a5",
   "metadata": {},
   "outputs": [
    {
     "name": "stdout",
     "output_type": "stream",
     "text": [
      "+--------+---------+---------------------------------------+\n",
      "|Idclient|ANNEEMOIS|MEAN_MONTANT_OPERATIONS_PREVIOUS_MONTHS|\n",
      "+--------+---------+---------------------------------------+\n",
      "| 0000009|   201904|                                 533.33|\n",
      "| 0000009|   201907|                                    0.0|\n",
      "| 0000009|   201910|                                 1100.0|\n",
      "| 0000009|   202001|                                  850.0|\n",
      "| 0000016|   201904|                                    0.0|\n",
      "| 0000016|   201907|                                1333.33|\n",
      "| 0000016|   201910|                                    0.0|\n",
      "| 0000016|   202001|                                 666.67|\n",
      "| 0000018|   201904|                                -3000.0|\n",
      "| 0000018|   201907|                               95357.14|\n",
      "| 0000018|   201910|                                 7000.0|\n",
      "| 0000018|   202001|                              -26114.33|\n",
      "| 0000023|   201904|                                    0.0|\n",
      "| 0000023|   201907|                                1666.67|\n",
      "| 0000023|   201910|                                    0.0|\n",
      "| 0000023|   202001|                                    0.0|\n",
      "| 0000029|   201904|                                 -66.67|\n",
      "| 0000029|   201907|                                -233.33|\n",
      "| 0000029|   201910|                                    0.0|\n",
      "| 0000029|   202001|                                    0.0|\n",
      "+--------+---------+---------------------------------------+\n",
      "only showing top 20 rows\n",
      "\n"
     ]
    }
   ],
   "source": [
    "from pyspark.sql.functions import round\n",
    "df2_MONTANT_OPERATIONS = df_operations_agence_new.fillna(0)\n",
    "df2_operations_agence_new2 = df_operations_agence_new.withColumn(\"MEAN_MONTANT_OPERATIONS_PREVIOUS_MONTHS\", \n",
    "                                     round((col(\"MONTANT_1_MONTH_AGO\") + col(\"MONTANT_2_MONTH_AGO\") + col(\"MONTANT_3_MONTH_AGO\")) / 3,2))\n",
    "\n",
    "df_MONTANT_OPERATIONS_feature = df2_operations_agence_new2.select(\"Idclient\", \"ANNEEMOIS\", \"MEAN_MONTANT_OPERATIONS_PREVIOUS_MONTHS\")\n",
    "df_MONTANT_OPERATIONS_feature.show()"
   ]
  },
  {
   "cell_type": "markdown",
   "id": "b6c6c3f4-54d9-4a0d-ae4d-72489ad8606c",
   "metadata": {
    "jp-MarkdownHeadingCollapsed": true
   },
   "source": [
    "#### feature :NOMBRE_OPERATION"
   ]
  },
  {
   "cell_type": "code",
   "execution_count": 47,
   "id": "6fb47005-37c6-40e9-a16a-7805d861ad8e",
   "metadata": {},
   "outputs": [
    {
     "name": "stdout",
     "output_type": "stream",
     "text": [
      "+--------+----+-----+----------------+--------+\n",
      "| MONTANT|MOIS|ANNEE|NOMBRE_OPERATION|Idclient|\n",
      "+--------+----+-----+----------------+--------+\n",
      "| -2500.0|   1| 2019|               1|  109076|\n",
      "| -7000.0|   7| 2019|               1|  109076|\n",
      "| 15000.0|   2| 2019|               2|  109076|\n",
      "| -5000.0|  12| 2019|               1|  109076|\n",
      "|-11000.0|   4| 2019|               1|  109076|\n",
      "|-15000.0|   9| 2019|               1|  109076|\n",
      "|-10000.0|   5| 2019|               1|  109076|\n",
      "|-23000.0|  10| 2019|               2|  109076|\n",
      "| 10000.0|   1| 2019|               1|  520252|\n",
      "| 10000.0|   3| 2019|               1|  520252|\n",
      "| 15000.0|   9| 2019|               1|  520252|\n",
      "| 15000.0|   6| 2019|               1|  520252|\n",
      "| 15000.0|  11| 2019|               1|  520252|\n",
      "|  7000.0|   1| 2019|               2|  612613|\n",
      "|   200.0|   7| 2019|               2|  612613|\n",
      "|-22900.0|   2| 2019|               3|  612613|\n",
      "| -4250.0|   6| 2019|               2|  612613|\n",
      "|-11900.0|   3| 2019|               2|  612613|\n",
      "| -1900.0|   4| 2019|               1|  612613|\n",
      "| -2000.0|  11| 2019|               1|  612613|\n",
      "+--------+----+-----+----------------+--------+\n",
      "only showing top 20 rows\n",
      "\n"
     ]
    }
   ],
   "source": [
    "df_operations_agence.show()"
   ]
  },
  {
   "cell_type": "code",
   "execution_count": 48,
   "id": "f9afb24d-a8ed-4eb8-a128-553f0ee61bec",
   "metadata": {},
   "outputs": [
    {
     "name": "stdout",
     "output_type": "stream",
     "text": [
      "+--------+----------------+---------+\n",
      "|Idclient|NOMBRE_OPERATION|ANNEEMOIS|\n",
      "+--------+----------------+---------+\n",
      "| 0109076|               1|   201901|\n",
      "| 0109076|               1|   201907|\n",
      "| 0109076|               2|   201902|\n",
      "| 0109076|               1|   201912|\n",
      "| 0109076|               1|   201904|\n",
      "| 0109076|               1|   201909|\n",
      "| 0109076|               1|   201905|\n",
      "| 0109076|               2|   201910|\n",
      "| 0520252|               1|   201901|\n",
      "| 0520252|               1|   201903|\n",
      "| 0520252|               1|   201909|\n",
      "| 0520252|               1|   201906|\n",
      "| 0520252|               1|   201911|\n",
      "| 0612613|               2|   201901|\n",
      "| 0612613|               2|   201907|\n",
      "| 0612613|               3|   201902|\n",
      "| 0612613|               2|   201906|\n",
      "| 0612613|               2|   201903|\n",
      "| 0612613|               1|   201904|\n",
      "| 0612613|               1|   201911|\n",
      "+--------+----------------+---------+\n",
      "only showing top 20 rows\n",
      "\n"
     ]
    }
   ],
   "source": [
    "df4_operations_agence = df2_operations_agence.select(\"Idclient\", \"NOMBRE_OPERATION\", \"ANNEEMOIS\")\n",
    "df4_operations_agence.show()"
   ]
  },
  {
   "cell_type": "code",
   "execution_count": 49,
   "id": "86db0432-952d-4961-aef5-fe30d8291a7a",
   "metadata": {},
   "outputs": [],
   "source": [
    "df4_operations_agence.count()\n",
    "df5_operations_agence = fill_missing_months(df4_operations_agence, \"NOMBRE_OPERATION\" , all_months)\n",
    "df_NOMBRE_OPERATION_new = historiquefonction(df5_operations_agence, list_dwp, 3, \"NOMBRE_OPERATION\")\n",
    "df2_NOMBRE_OPERATION_new = df_NOMBRE_OPERATION_new.fillna(0)"
   ]
  },
  {
   "cell_type": "code",
   "execution_count": 50,
   "id": "39ad7631-e203-49f2-af35-540a55f6d8fc",
   "metadata": {},
   "outputs": [],
   "source": [
    "from pyspark.sql.functions import round\n",
    "\n",
    "df2_NOMBRE_OPERATION_new2 = df2_NOMBRE_OPERATION_new.withColumn(\"MEAN_NBROPERATION_PREVIOUS_MONTHS\", \n",
    "                                     round((col(\"NOMBRE_OPERATION_1_MONTH_AGO\") + col(\"NOMBRE_OPERATION_2_MONTH_AGO\") + col(\"NOMBRE_OPERATION_3_MONTH_AGO\")) / 3,2))\n",
    "df_NBROPERATION_feature = df2_NOMBRE_OPERATION_new2.select(\"Idclient\", \"ANNEEMOIS\", \"MEAN_NBROPERATION_PREVIOUS_MONTHS\")"
   ]
  },
  {
   "cell_type": "code",
   "execution_count": 51,
   "id": "55d4fb58-e593-4a1a-8c51-8d5450a76a19",
   "metadata": {},
   "outputs": [
    {
     "name": "stdout",
     "output_type": "stream",
     "text": [
      "+--------+---------+---------------------------------+\n",
      "|Idclient|ANNEEMOIS|MEAN_NBROPERATION_PREVIOUS_MONTHS|\n",
      "+--------+---------+---------------------------------+\n",
      "| 0000009|   201904|                             0.33|\n",
      "| 0000009|   201907|                              0.0|\n",
      "| 0000009|   201910|                             1.67|\n",
      "| 0000009|   202001|                             0.33|\n",
      "| 0000016|   201904|                              0.0|\n",
      "| 0000016|   201907|                             0.33|\n",
      "| 0000016|   201910|                              0.0|\n",
      "| 0000016|   202001|                             0.33|\n",
      "| 0000018|   201904|                             0.33|\n",
      "| 0000018|   201907|                              2.0|\n",
      "| 0000018|   201910|                              1.0|\n",
      "| 0000018|   202001|                             1.33|\n",
      "| 0000020|   201904|                              0.0|\n",
      "| 0000020|   201907|                              0.0|\n",
      "| 0000020|   201910|                             0.33|\n",
      "| 0000020|   202001|                             0.33|\n",
      "| 0000023|   201904|                              0.0|\n",
      "| 0000023|   201907|                             0.33|\n",
      "| 0000023|   201910|                              0.0|\n",
      "| 0000023|   202001|                              0.0|\n",
      "+--------+---------+---------------------------------+\n",
      "only showing top 20 rows\n",
      "\n"
     ]
    }
   ],
   "source": [
    "df_NBROPERATION_feature.show()"
   ]
  },
  {
   "cell_type": "markdown",
   "id": "0022e32f-921a-42d2-9ea9-766904f06736",
   "metadata": {
    "jp-MarkdownHeadingCollapsed": true
   },
   "source": [
    "#### Save Table & Features Operation Agence"
   ]
  },
  {
   "cell_type": "code",
   "execution_count": 53,
   "id": "7202cf3c-0acd-4163-af8a-da20ca01a0e8",
   "metadata": {},
   "outputs": [],
   "source": [
    "df2_operations_agence.write.parquet(\"hdfs://namenode:9000//historisation_features/operations_agence/df_operations_agence.parquet\")\n",
    "df_MONTANT_OPERATIONS_feature.write.parquet(\"hdfs://namenode:9000//historisation_features/operations_agence/MONTANT_OPERATIONS_feature.parquet\")\n",
    "df_NBROPERATION_feature.write.parquet(\"hdfs://namenode:9000//historisation_features/operations_agence/NBROPERATION_feature.parquet\")"
   ]
  },
  {
   "cell_type": "markdown",
   "id": "81f5de81-1cd5-4e7a-a98f-9a188e2da576",
   "metadata": {
    "jp-MarkdownHeadingCollapsed": true
   },
   "source": [
    "### Table cptferm"
   ]
  },
  {
   "cell_type": "code",
   "execution_count": 8,
   "id": "922028c1-8ba1-4a81-831a-8e44999cfaee",
   "metadata": {},
   "outputs": [
    {
     "name": "stdout",
     "output_type": "stream",
     "text": [
      "+--------+-------+-------------------+\n",
      "|Idclient|PERIODE|          DATE_FERM|\n",
      "+--------+-------+-------------------+\n",
      "|  543425|      H|2018-12-01 03:30:47|\n",
      "|  353327|      H|2018-12-01 03:30:47|\n",
      "|  354648|      H|2018-12-01 03:30:47|\n",
      "|  319869|      H|2018-12-01 03:30:47|\n",
      "|  708338|      H|2018-12-22 03:13:11|\n",
      "|  340658|      H|2018-12-22 03:13:11|\n",
      "|  174405|      H|2018-12-22 03:13:11|\n",
      "|  174405|      H|2018-12-22 03:13:11|\n",
      "|  174405|      H|2018-12-22 03:13:11|\n",
      "|  174405|      H|2018-12-22 03:13:11|\n",
      "|  174405|      H|2018-12-22 03:13:12|\n",
      "|  523970|      H|2018-12-22 03:13:11|\n",
      "|  523970|      H|2018-12-22 03:13:11|\n",
      "|   72944|      H|2018-12-22 03:13:11|\n",
      "|   72944|      H|2018-12-22 03:13:11|\n",
      "|  449541|      H|2018-12-22 03:13:11|\n",
      "|  449541|      H|2018-12-22 03:13:11|\n",
      "|  449541|      H|2018-12-22 03:13:11|\n",
      "|   17273|      H|2018-12-22 03:13:11|\n",
      "|  914368|      H|2018-12-22 03:13:11|\n",
      "+--------+-------+-------------------+\n",
      "only showing top 20 rows\n",
      "\n"
     ]
    }
   ],
   "source": [
    "df_cptferm.show()"
   ]
  },
  {
   "cell_type": "code",
   "execution_count": 10,
   "id": "b14af64c-db89-4c52-ad4f-846459823e56",
   "metadata": {},
   "outputs": [],
   "source": [
    "from pyspark.sql.functions import year, month\n",
    "df_cptferm2 = df_cptferm.withColumn(\"MOIS\", month(df_cptferm.DATE_FERM))\n",
    "df_cptferm2 = df_cptferm2.withColumn(\"ANNEE\", year(df_cptferm.DATE_FERM))"
   ]
  },
  {
   "cell_type": "code",
   "execution_count": 13,
   "id": "53479373-4953-4170-a9ad-c686cdb7d2f7",
   "metadata": {},
   "outputs": [
    {
     "name": "stdout",
     "output_type": "stream",
     "text": [
      "+--------+-------+-------------------+----+-----+\n",
      "|Idclient|PERIODE|          DATE_FERM|MOIS|ANNEE|\n",
      "+--------+-------+-------------------+----+-----+\n",
      "|  543425|      H|2018-12-01 03:30:47|  12| 2018|\n",
      "|  353327|      H|2018-12-01 03:30:47|  12| 2018|\n",
      "|  354648|      H|2018-12-01 03:30:47|  12| 2018|\n",
      "|  319869|      H|2018-12-01 03:30:47|  12| 2018|\n",
      "|  708338|      H|2018-12-22 03:13:11|  12| 2018|\n",
      "|  340658|      H|2018-12-22 03:13:11|  12| 2018|\n",
      "|  174405|      H|2018-12-22 03:13:11|  12| 2018|\n",
      "|  174405|      H|2018-12-22 03:13:11|  12| 2018|\n",
      "|  174405|      H|2018-12-22 03:13:11|  12| 2018|\n",
      "|  174405|      H|2018-12-22 03:13:11|  12| 2018|\n",
      "|  174405|      H|2018-12-22 03:13:12|  12| 2018|\n",
      "|  523970|      H|2018-12-22 03:13:11|  12| 2018|\n",
      "|  523970|      H|2018-12-22 03:13:11|  12| 2018|\n",
      "|   72944|      H|2018-12-22 03:13:11|  12| 2018|\n",
      "|   72944|      H|2018-12-22 03:13:11|  12| 2018|\n",
      "|  449541|      H|2018-12-22 03:13:11|  12| 2018|\n",
      "|  449541|      H|2018-12-22 03:13:11|  12| 2018|\n",
      "|  449541|      H|2018-12-22 03:13:11|  12| 2018|\n",
      "|   17273|      H|2018-12-22 03:13:11|  12| 2018|\n",
      "|  914368|      H|2018-12-22 03:13:11|  12| 2018|\n",
      "+--------+-------+-------------------+----+-----+\n",
      "only showing top 20 rows\n",
      "\n",
      "+-----+-----+\n",
      "|ANNEE|count|\n",
      "+-----+-----+\n",
      "| 2018| 2300|\n",
      "| 2019|19403|\n",
      "+-----+-----+\n",
      "\n",
      "+--------+-------+-------------------+----+-----+\n",
      "|Idclient|PERIODE|          DATE_FERM|MOIS|ANNEE|\n",
      "+--------+-------+-------------------+----+-----+\n",
      "|  540162|      H|2019-05-25 03:10:12|   5| 2019|\n",
      "|  318507|      H|2019-12-21 03:17:31|  12| 2019|\n",
      "|  566029|      H|2019-01-05 03:10:46|   1| 2019|\n",
      "|  566029|      H|2019-01-05 03:11:07|   1| 2019|\n",
      "|  566029|      H|2019-01-05 03:10:36|   1| 2019|\n",
      "|  955706|      H|2019-01-12 03:08:35|   1| 2019|\n",
      "|  808878|      H|2019-01-05 03:10:33|   1| 2019|\n",
      "|  808878|      H|2019-01-05 03:10:57|   1| 2019|\n",
      "|  808878|      H|2019-01-05 03:10:36|   1| 2019|\n",
      "|  808878|      H|2019-01-05 03:10:37|   1| 2019|\n",
      "|  733892|      H|2019-01-05 03:10:33|   1| 2019|\n",
      "|  733892|      H|2019-01-05 03:10:57|   1| 2019|\n",
      "|  733892|      H|2019-01-05 03:10:37|   1| 2019|\n",
      "|  890775|      H|2019-01-05 03:10:33|   1| 2019|\n",
      "|  890775|      H|2019-01-05 03:10:53|   1| 2019|\n",
      "|  146043|      H|2019-01-05 03:10:33|   1| 2019|\n",
      "|  146043|      H|2019-01-05 03:10:37|   1| 2019|\n",
      "|  146043|      H|2019-01-05 03:10:57|   1| 2019|\n",
      "|  262196|      H|2019-01-05 03:10:33|   1| 2019|\n",
      "|  337367|      H|2019-01-05 03:10:33|   1| 2019|\n",
      "+--------+-------+-------------------+----+-----+\n",
      "only showing top 20 rows\n",
      "\n"
     ]
    }
   ],
   "source": [
    "from pyspark.sql.functions import col\n",
    "df_cptferm2.show()\n",
    "df_cptferm2.groupBy(\"ANNEE\").count().show()\n",
    "df_cptferm2019 = df_cptferm2.filter(col(\"ANNEE\") == 2019)\n",
    "df_cptferm2019.show()"
   ]
  },
  {
   "cell_type": "code",
   "execution_count": 14,
   "id": "bbdf6373-c665-41b1-ac61-38b3ea4da603",
   "metadata": {},
   "outputs": [
    {
     "name": "stdout",
     "output_type": "stream",
     "text": [
      "+--------+-------+-------------------+----+-----+---------+\n",
      "|Idclient|PERIODE|          DATE_FERM|MOIS|ANNEE|TRIMESTRE|\n",
      "+--------+-------+-------------------+----+-----+---------+\n",
      "|  540162|      H|2019-05-25 03:10:12|   5| 2019|        2|\n",
      "|  318507|      H|2019-12-21 03:17:31|  12| 2019|        4|\n",
      "|  566029|      H|2019-01-05 03:10:46|   1| 2019|        1|\n",
      "|  566029|      H|2019-01-05 03:11:07|   1| 2019|        1|\n",
      "|  566029|      H|2019-01-05 03:10:36|   1| 2019|        1|\n",
      "|  955706|      H|2019-01-12 03:08:35|   1| 2019|        1|\n",
      "|  808878|      H|2019-01-05 03:10:33|   1| 2019|        1|\n",
      "|  808878|      H|2019-01-05 03:10:57|   1| 2019|        1|\n",
      "|  808878|      H|2019-01-05 03:10:36|   1| 2019|        1|\n",
      "|  808878|      H|2019-01-05 03:10:37|   1| 2019|        1|\n",
      "|  733892|      H|2019-01-05 03:10:33|   1| 2019|        1|\n",
      "|  733892|      H|2019-01-05 03:10:57|   1| 2019|        1|\n",
      "|  733892|      H|2019-01-05 03:10:37|   1| 2019|        1|\n",
      "|  890775|      H|2019-01-05 03:10:33|   1| 2019|        1|\n",
      "|  890775|      H|2019-01-05 03:10:53|   1| 2019|        1|\n",
      "|  146043|      H|2019-01-05 03:10:33|   1| 2019|        1|\n",
      "|  146043|      H|2019-01-05 03:10:37|   1| 2019|        1|\n",
      "|  146043|      H|2019-01-05 03:10:57|   1| 2019|        1|\n",
      "|  262196|      H|2019-01-05 03:10:33|   1| 2019|        1|\n",
      "|  337367|      H|2019-01-05 03:10:33|   1| 2019|        1|\n",
      "+--------+-------+-------------------+----+-----+---------+\n",
      "only showing top 20 rows\n",
      "\n"
     ]
    }
   ],
   "source": [
    "from pyspark.sql.functions import when\n",
    "\n",
    "df_cptferm2019 = df_cptferm2019.withColumn(\n",
    "    \"TRIMESTRE\",\n",
    "    when((col(\"MOIS\") >= 1) & (col(\"MOIS\") <= 3), \"1\")\n",
    "    .when((col(\"MOIS\") >= 4) & (col(\"MOIS\") <= 6), \"2\")\n",
    "    .when((col(\"MOIS\") >= 7) & (col(\"MOIS\") <= 9), \"3\")\n",
    "    .otherwise(\"4\")\n",
    ")\n",
    "\n",
    "df_cptferm2019.show()"
   ]
  },
  {
   "cell_type": "code",
   "execution_count": 15,
   "id": "cf083c05-b691-4785-bcff-5b2f462f7a8d",
   "metadata": {},
   "outputs": [],
   "source": [
    "df_cptferm2019unique = df_cptferm2019.dropDuplicates()"
   ]
  },
  {
   "cell_type": "code",
   "execution_count": 16,
   "id": "a74edb46-341a-4d16-bbee-77151fd04a3b",
   "metadata": {},
   "outputs": [
    {
     "data": {
      "text/plain": [
       "1918"
      ]
     },
     "execution_count": 16,
     "metadata": {},
     "output_type": "execute_result"
    }
   ],
   "source": [
    "df_2trim = df_cptferm2019unique.filter(col(\"TRIMESTRE\") == 4)\n",
    "df_2trim.count()"
   ]
  },
  {
   "cell_type": "code",
   "execution_count": 17,
   "id": "e51eda20-8944-4222-9a67-3ba0c156e22d",
   "metadata": {
    "editable": true,
    "slideshow": {
     "slide_type": ""
    },
    "tags": []
   },
   "outputs": [
    {
     "name": "stdout",
     "output_type": "stream",
     "text": [
      "+---------+-----+\n",
      "|TRIMESTRE|count|\n",
      "+---------+-----+\n",
      "|        3|   79|\n",
      "|        1|14901|\n",
      "|        4| 1918|\n",
      "|        2|  109|\n",
      "+---------+-----+\n",
      "\n"
     ]
    }
   ],
   "source": [
    "df_cptferm2019unique.groupBy(\"TRIMESTRE\").count().show()"
   ]
  },
  {
   "cell_type": "markdown",
   "id": "588a26d3-cbed-4ef9-9a26-5ec00aad8856",
   "metadata": {
    "editable": true,
    "jp-MarkdownHeadingCollapsed": true,
    "slideshow": {
     "slide_type": ""
    },
    "tags": []
   },
   "source": [
    "#### Save Table & Features cptferm2019"
   ]
  },
  {
   "cell_type": "code",
   "execution_count": 144,
   "id": "92c8b9c3-94af-4fe4-b29a-4d903cb0602f",
   "metadata": {
    "editable": true,
    "slideshow": {
     "slide_type": ""
    },
    "tags": []
   },
   "outputs": [],
   "source": [
    "df_cptferm2019unique.write.parquet(\"hdfs://namenode:9000/historisation_features/cptferm/df_cptferm2019.parquet\")"
   ]
  },
  {
   "cell_type": "markdown",
   "id": "481d5611-2e47-4422-a2c2-b773348dc46c",
   "metadata": {
    "editable": true,
    "jp-MarkdownHeadingCollapsed": true,
    "slideshow": {
     "slide_type": ""
    },
    "tags": []
   },
   "source": [
    "### Table fermcpt"
   ]
  },
  {
   "cell_type": "code",
   "execution_count": 18,
   "id": "834fccfe-ac82-4734-a06f-8cc46cc89782",
   "metadata": {},
   "outputs": [],
   "source": [
    "df_fermcpt2=df_fermcpt.dropDuplicates()\n",
    "df_fermcpt2.count()\n",
    "df_fermcpt3 = df_fermcpt2.withColumn(\"MOIS\", month(df_fermcpt2.DATE_DEMANDE))\n",
    "df_fermcpt3 = df_fermcpt3.withColumn(\"ANNEE\", year(df_fermcpt2.DATE_DEMANDE))"
   ]
  },
  {
   "cell_type": "code",
   "execution_count": 19,
   "id": "742fd065-0bf0-49fd-af4e-c5ddd36a388b",
   "metadata": {},
   "outputs": [
    {
     "name": "stdout",
     "output_type": "stream",
     "text": [
      "+--------+---------------+----------+------------+----+-----+\n",
      "|Idclient|ORIGINE_DEMANDE|DATE_TRAIT|DATE_DEMANDE|MOIS|ANNEE|\n",
      "+--------+---------------+----------+------------+----+-----+\n",
      "|  193408|              C|2022-01-27|  2022-01-27|   1| 2022|\n",
      "|  246674|              C|2022-01-19|  2022-01-19|   1| 2022|\n",
      "|  280993|              C|2022-04-05|  2022-04-05|   4| 2022|\n",
      "|  672441|              C|2022-07-29|  2022-07-29|   7| 2022|\n",
      "|   78447|              C|2019-12-19|  2019-12-19|  12| 2019|\n",
      "|  295529|              C|2021-12-08|  2021-12-08|  12| 2021|\n",
      "|  920052|              C|2022-07-22|  2022-07-22|   7| 2022|\n",
      "|  639407|              C|2022-09-21|  2022-09-21|   9| 2022|\n",
      "|  604576|              C|2019-12-18|  2019-12-18|  12| 2019|\n",
      "|  804847|              C|2020-12-10|  2020-12-10|  12| 2020|\n",
      "|  862625|              A|2021-08-18|  2021-08-18|   8| 2021|\n",
      "|  695745|              C|2020-12-15|  2020-12-15|  12| 2020|\n",
      "|  772098|              C|2020-01-29|  2020-01-29|   1| 2020|\n",
      "|  380430|              C|2021-08-13|  2021-08-13|   8| 2021|\n",
      "|  496352|              C|2019-12-30|  2019-12-30|  12| 2019|\n",
      "|  269348|              C|2021-12-07|  2021-12-07|  12| 2021|\n",
      "|  365874|              C|2020-07-14|  2020-07-14|   7| 2020|\n",
      "|  751867|              C|2021-02-10|  2021-02-10|   2| 2021|\n",
      "|  631142|              A|2021-11-03|  2021-11-03|  11| 2021|\n",
      "|  803296|              C|2020-08-06|  2020-08-06|   8| 2020|\n",
      "+--------+---------------+----------+------------+----+-----+\n",
      "only showing top 20 rows\n",
      "\n",
      "+-----+-----+\n",
      "|ANNEE|count|\n",
      "+-----+-----+\n",
      "| 2022| 3665|\n",
      "| 2019|  640|\n",
      "| 2020| 3310|\n",
      "| 2021| 5594|\n",
      "+-----+-----+\n",
      "\n"
     ]
    }
   ],
   "source": [
    "df_fermcpt3.show()\n",
    "df_fermcpt3.groupBy(\"ANNEE\").count().show()"
   ]
  },
  {
   "cell_type": "code",
   "execution_count": 22,
   "id": "ac507de2-e2cc-4b08-9c8e-19d31282cf42",
   "metadata": {},
   "outputs": [
    {
     "name": "stdout",
     "output_type": "stream",
     "text": [
      "+--------+---------------+----------+------------+----+-----+\n",
      "|Idclient|ORIGINE_DEMANDE|DATE_TRAIT|DATE_DEMANDE|MOIS|ANNEE|\n",
      "+--------+---------------+----------+------------+----+-----+\n",
      "|   78447|              C|2019-12-19|  2019-12-19|  12| 2019|\n",
      "|  604576|              C|2019-12-18|  2019-12-18|  12| 2019|\n",
      "|  496352|              C|2019-12-30|  2019-12-30|  12| 2019|\n",
      "|  924991|              C|2019-12-02|  2019-12-02|  12| 2019|\n",
      "|  383604|              C|2019-12-26|  2019-12-26|  12| 2019|\n",
      "|  829291|              C|2019-12-10|  2019-12-10|  12| 2019|\n",
      "|  963589|              C|2019-12-19|  2019-12-19|  12| 2019|\n",
      "|  592652|              C|2019-11-13|  2019-11-13|  11| 2019|\n",
      "|  664694|              C|2019-11-14|  2019-11-14|  11| 2019|\n",
      "|  761465|              C|2019-11-27|  2019-11-27|  11| 2019|\n",
      "|  810109|              C|2019-12-20|  2019-12-20|  12| 2019|\n",
      "|  451810|              C|2019-11-22|  2019-11-22|  11| 2019|\n",
      "|  653077|              C|2019-12-11|  2019-12-11|  12| 2019|\n",
      "|  349207|              C|2019-12-13|  2019-12-13|  12| 2019|\n",
      "|  960015|              C|2019-11-19|  2019-11-19|  11| 2019|\n",
      "|  936395|              C|2019-11-05|  2019-11-05|  11| 2019|\n",
      "|  932604|              A|2019-12-05|  2019-12-05|  12| 2019|\n",
      "|  576133|              C|2019-11-13|  2019-11-13|  11| 2019|\n",
      "|  267639|              C|2019-11-20|  2019-11-20|  11| 2019|\n",
      "|  874681|              C|2019-12-16|  2019-12-16|  12| 2019|\n",
      "+--------+---------------+----------+------------+----+-----+\n",
      "only showing top 20 rows\n",
      "\n"
     ]
    }
   ],
   "source": [
    "df_fermcpt2019 = df_fermcpt3.filter(col(\"ANNEE\")==2019)\n",
    "df_fermcpt2019.show()"
   ]
  },
  {
   "cell_type": "code",
   "execution_count": 138,
   "id": "1842ac2c-443c-4017-96c5-4c26caa8da97",
   "metadata": {},
   "outputs": [],
   "source": [
    "df_fermcpt2019 = df_fermcpt2019.withColumn(\n",
    "    \"TRIMESTRE\",\n",
    "    when((col(\"MOIS\") >= 1) & (col(\"MOIS\") <= 3), \"1\")\n",
    "    .when((col(\"MOIS\") >= 4) & (col(\"MOIS\") <= 6), \"2\")\n",
    "    .when((col(\"MOIS\") >= 7) & (col(\"MOIS\") <= 9), \"3\")\n",
    "    .otherwise(\"4\")\n",
    ")"
   ]
  },
  {
   "cell_type": "code",
   "execution_count": 139,
   "id": "720ec324-8cd9-4069-a1d6-532f9e3b139b",
   "metadata": {},
   "outputs": [
    {
     "name": "stdout",
     "output_type": "stream",
     "text": [
      "+--------+---------------+----------+------------+----+-----+---------+\n",
      "|Idclient|ORIGINE_DEMANDE|DATE_TRAIT|DATE_DEMANDE|MOIS|ANNEE|TRIMESTRE|\n",
      "+--------+---------------+----------+------------+----+-----+---------+\n",
      "|   78447|              C|2019-12-19|  2019-12-19|  12| 2019|        4|\n",
      "|  604576|              C|2019-12-18|  2019-12-18|  12| 2019|        4|\n",
      "|  496352|              C|2019-12-30|  2019-12-30|  12| 2019|        4|\n",
      "|  924991|              C|2019-12-02|  2019-12-02|  12| 2019|        4|\n",
      "|  383604|              C|2019-12-26|  2019-12-26|  12| 2019|        4|\n",
      "|  829291|              C|2019-12-10|  2019-12-10|  12| 2019|        4|\n",
      "|  963589|              C|2019-12-19|  2019-12-19|  12| 2019|        4|\n",
      "|  592652|              C|2019-11-13|  2019-11-13|  11| 2019|        4|\n",
      "|  664694|              C|2019-11-14|  2019-11-14|  11| 2019|        4|\n",
      "|  761465|              C|2019-11-27|  2019-11-27|  11| 2019|        4|\n",
      "|  810109|              C|2019-12-20|  2019-12-20|  12| 2019|        4|\n",
      "|  451810|              C|2019-11-22|  2019-11-22|  11| 2019|        4|\n",
      "|  653077|              C|2019-12-11|  2019-12-11|  12| 2019|        4|\n",
      "|  349207|              C|2019-12-13|  2019-12-13|  12| 2019|        4|\n",
      "|  960015|              C|2019-11-19|  2019-11-19|  11| 2019|        4|\n",
      "|  936395|              C|2019-11-05|  2019-11-05|  11| 2019|        4|\n",
      "|  932604|              A|2019-12-05|  2019-12-05|  12| 2019|        4|\n",
      "|  576133|              C|2019-11-13|  2019-11-13|  11| 2019|        4|\n",
      "|  267639|              C|2019-11-20|  2019-11-20|  11| 2019|        4|\n",
      "|  874681|              C|2019-12-16|  2019-12-16|  12| 2019|        4|\n",
      "+--------+---------------+----------+------------+----+-----+---------+\n",
      "only showing top 20 rows\n",
      "\n"
     ]
    }
   ],
   "source": [
    "df_fermcpt2019.show()"
   ]
  },
  {
   "cell_type": "code",
   "execution_count": 140,
   "id": "77fb9f0b-af7e-49a8-a46f-f63c6fa5ca3f",
   "metadata": {
    "editable": true,
    "slideshow": {
     "slide_type": ""
    },
    "tags": []
   },
   "outputs": [],
   "source": [
    "df_fermcpt2020 = df_fermcpt3.filter(col(\"ANNEE\")==2020)\n",
    "df_fermcpt2020 = df_fermcpt2020.withColumn(\n",
    "    \"TRIMESTRE\",\n",
    "    when((col(\"MOIS\") >= 1) & (col(\"MOIS\") <= 3), \"1\")\n",
    "    .when((col(\"MOIS\") >= 4) & (col(\"MOIS\") <= 6), \"2\")\n",
    "    .when((col(\"MOIS\") >= 7) & (col(\"MOIS\") <= 9), \"3\")\n",
    "    .otherwise(\"4\")\n",
    ")"
   ]
  },
  {
   "cell_type": "code",
   "execution_count": 141,
   "id": "85b70d0f-e42e-4a5f-b2af-cc9e2935e15e",
   "metadata": {},
   "outputs": [
    {
     "name": "stdout",
     "output_type": "stream",
     "text": [
      "+--------+---------------+----------+------------+----+-----+---------+\n",
      "|Idclient|ORIGINE_DEMANDE|DATE_TRAIT|DATE_DEMANDE|MOIS|ANNEE|TRIMESTRE|\n",
      "+--------+---------------+----------+------------+----+-----+---------+\n",
      "|  804847|              C|2020-12-10|  2020-12-10|  12| 2020|        4|\n",
      "|  695745|              C|2020-12-15|  2020-12-15|  12| 2020|        4|\n",
      "|  772098|              C|2020-01-29|  2020-01-29|   1| 2020|        1|\n",
      "|  365874|              C|2020-07-14|  2020-07-14|   7| 2020|        3|\n",
      "|  803296|              C|2020-08-06|  2020-08-06|   8| 2020|        3|\n",
      "|  687977|              C|2020-02-05|  2020-02-05|   2| 2020|        1|\n",
      "|  542680|              C|2020-07-27|  2020-07-27|   7| 2020|        3|\n",
      "|   18217|              C|2020-12-14|  2020-12-14|  12| 2020|        4|\n",
      "|  612194|              C|2020-12-21|  2020-12-21|  12| 2020|        4|\n",
      "|   28651|              C|2020-07-13|  2020-07-13|   7| 2020|        3|\n",
      "|  790790|              C|2020-08-24|  2020-08-24|   8| 2020|        3|\n",
      "|  395906|              C|2020-07-06|  2020-07-06|   7| 2020|        3|\n",
      "|  823847|              C|2020-12-22|  2020-12-22|  12| 2020|        4|\n",
      "|  627254|              C|2020-10-09|  2020-10-09|  10| 2020|        4|\n",
      "|  212915|              C|2020-03-02|  2020-03-02|   3| 2020|        1|\n",
      "|  946219|              C|2020-08-03|  2020-08-03|   8| 2020|        3|\n",
      "|  170765|              A|2020-06-17|  2020-06-17|   6| 2020|        2|\n",
      "|   72517|              C|2020-01-09|  2020-01-09|   1| 2020|        1|\n",
      "|  880742|              C|2020-07-28|  2020-07-28|   7| 2020|        3|\n",
      "|  831659|              C|2020-06-09|  2020-06-09|   6| 2020|        2|\n",
      "+--------+---------------+----------+------------+----+-----+---------+\n",
      "only showing top 20 rows\n",
      "\n"
     ]
    }
   ],
   "source": [
    "df_fermcpt2020.show()"
   ]
  },
  {
   "cell_type": "markdown",
   "id": "e408d4a4-34ea-45c8-b18c-9641ad461219",
   "metadata": {},
   "source": [
    "#### Save Table & Features fermcpt"
   ]
  },
  {
   "cell_type": "code",
   "execution_count": 142,
   "id": "a5cb78c2-79c1-4b7a-a3e7-1621ac7c983d",
   "metadata": {
    "editable": true,
    "slideshow": {
     "slide_type": ""
    },
    "tags": []
   },
   "outputs": [],
   "source": [
    "df_fermcpt2019.write.parquet(\"hdfs://namenode:9000//historisation_features/fermcpt/df_fermcpt2019.parquet\")\n",
    "df_fermcpt2020.write.parquet(\"hdfs://namenode:9000//historisation_features/fermcpt/df_fermcpt2020.parquet\")"
   ]
  },
  {
   "cell_type": "code",
   "execution_count": null,
   "id": "540782e3-18bf-47c7-b9ae-89d5c9c0673d",
   "metadata": {},
   "outputs": [],
   "source": []
  }
 ],
 "metadata": {
  "kernelspec": {
   "display_name": "Python 3 (ipykernel)",
   "language": "python",
   "name": "python3"
  },
  "language_info": {
   "codemirror_mode": {
    "name": "ipython",
    "version": 3
   },
   "file_extension": ".py",
   "mimetype": "text/x-python",
   "name": "python",
   "nbconvert_exporter": "python",
   "pygments_lexer": "ipython3",
   "version": "3.10.11"
  }
 },
 "nbformat": 4,
 "nbformat_minor": 5
}
