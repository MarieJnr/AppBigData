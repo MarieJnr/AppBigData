{
 "cells": [
  {
   "cell_type": "code",
   "execution_count": 2,
   "metadata": {},
   "outputs": [],
   "source": [
    "import pyspark\n",
    "from pyspark.sql import SparkSession\n",
    "from pyspark.sql.functions import date_format\n",
    "from pyspark.sql import functions as F\n",
    "from pyspark.sql.functions import datediff, to_date, lit"
   ]
  },
  {
   "cell_type": "code",
   "execution_count": 3,
   "metadata": {},
   "outputs": [],
   "source": [
    "# Créer une instance de SparkSession\n",
    "spark = SparkSession.builder \\\n",
    "    .appName(\"Table maitre\") \\\n",
    "    .getOrCreate()"
   ]
  },
  {
   "cell_type": "code",
   "execution_count": 4,
   "metadata": {},
   "outputs": [],
   "source": [
    "df_gab_montant = spark.read.parquet(\"hdfs://namenode:9000/historisation_features/gab/gab_montant_feature.parquet\")\n",
    "df_gab_numoperation = spark.read.parquet(\"hdfs://namenode:9000/historisation_features/gab/gab_numoperation_feature.parquet\")\n",
    "df_FAC_CANAL_FEATURE = spark.read.parquet(\"hdfs://namenode:9000/historisation_features/getfac/FAC_CANAL_FEATURE.parquet\")\n",
    "df_getfac_feature = spark.read.parquet(\"hdfs://namenode:9000/historisation_features/getfac/getfac_feature.parquet\")\n",
    "df_getvir_feature = spark.read.parquet(\"hdfs://namenode:9000/historisation_features/getvir/getvir_feature.parquet\")\n",
    "df_VIR_CANAL_FEATURE = spark.read.parquet(\"hdfs://namenode:9000/historisation_features/getvir/getvir_CANAL_FEATURE.parquet\")\n",
    "df_MONTANT_OPERATIONS_feature = spark.read.parquet(\"hdfs://namenode:9000/historisation_features/operations_agence/MONTANT_OPERATIONS_feature.parquet\")\n",
    "df_NBROPERATION_feature = spark.read.parquet(\"hdfs://namenode:9000/historisation_features/operations_agence/NBROPERATION_feature.parquet\")\n",
    "df_perimetre = spark.read.parquet(\"hdfs://namenode:9000/historisation_features/perimetre/perimetre.parquet\")\n",
    "df_solde_feature = spark.read.parquet(\"hdfs://namenode:9000/historisation_features/solde/solde_feature.parquet\")\n",
    "df_MVTDEB_feature = spark.read.parquet(\"hdfs://namenode:9000/historisation_features/solde/MVTDEB_feature.parquet\")\n",
    "df_NBMVTDB_feature = spark.read.parquet(\"hdfs://namenode:9000/historisation_features/solde/NBMVTDB_feature.parquet\")\n",
    "df_MVTCRED_feature = spark.read.parquet(\"hdfs://namenode:9000/historisation_features/solde/MVTCRED_feature.parquet\")\n",
    "df_NBMVTCRE_feature = spark.read.parquet(\"hdfs://namenode:9000/historisation_features/solde/NBMVTCRE_feature.parquet\")\n",
    "statut_connexion2 = spark.read.parquet(\"hdfs://namenode:9000/historisation_features/statut_connexion/statut_connexion2.parquet\")"
   ]
  },
  {
   "cell_type": "code",
   "execution_count": null,
   "metadata": {},
   "outputs": [],
   "source": [
    "file_paths = [\n",
    "    \"hdfs://namenode:9000/DataLake/gab_abstr.parquet\",\n",
    "    \"hdfs://namenode:9000/DataLake/getvir.parquet\",\n",
    "    \"hdfs://namenode:9000/DataLake/solde.parquet\",\n",
    "    \"hdfs://namenode:9000/DataLake/perimetre.parquet\",\n",
    "    \"hdfs://namenode:9000/DataLake/statut_connexion.parquet\",\n",
    "    \"hdfs://namenode:9000/DataLake/getfac.parquet\",\n",
    "    \"hdfs://namenode:9000/DataLake/cptferm.parquet\",\n",
    "    \"hdfs://namenode:9000/DataLake/fermcpt.parquet\",\n",
    "    \"hdfs://namenode:9000/DataLake/operations_agence.parquet\",\n",
    "    \"hdfs://namenode:9000/DataLake/gab22.parquet\"\n",
    "]\n",
    "\n",
    "def read_parquet_file(file_path, table_name):\n",
    "    df = spark.read.parquet(file_path)\n",
    "    df.createOrReplaceTempView(table_name)"
   ]
  },
  {
   "cell_type": "code",
   "execution_count": 3,
   "metadata": {},
   "outputs": [],
   "source": [
    "folder_path = r\"C:\\Users\\DELL XPS\\Desktop\\data\\new\\tables pre traite\\tables mean\"\n",
    "\n",
    "file_names = [\"df_perimetre\",\"df_solde_feature\", \"df_MVTDEB_feature\", \"df_NBMVTDB_feature\", \"df_MVTCRED_feature\", \"df_NBMVTCRE_feature\", \n",
    "              \"df_getfac_feature\", \"df_FAC_CANAL_FEATURE\", \"df_getvir_feature\", \"df_VIR_CANAL_FEATURE\", \"df_MONTANT_OPERATIONS_feature\", \"df_NBROPERATION_feature\"]\n",
    "\n",
    "\n",
    "for file_name in file_names:\n",
    "    csv_path = f\"{folder_path}/{file_name}.csv\"\n",
    "    globals()[f\"{file_name}\"] = spark.read.csv(csv_path, header=True, inferSchema=True)"
   ]
  },
  {
   "cell_type": "code",
   "execution_count": 4,
   "metadata": {},
   "outputs": [
    {
     "name": "stdout",
     "output_type": "stream",
     "text": [
      "+--------+--------------+---+--------+---+--------------+---------+\n",
      "|   genre|MARITAL_STATUS|BPR|Idclient|age|CUSTOMER_YEARS|AGE_GROUP|\n",
      "+--------+--------------+---+--------+---+--------------+---------+\n",
      "| Féminin|      Marié(e)|  1|       0| 64|            23|    55-64|\n",
      "|Masculin|      Marié(e)|  1|       1| 51|            21|    45-54|\n",
      "| Féminin|      Marié(e)|  1|       2| 70|            45|      65+|\n",
      "| Féminin|   Celibataire|  1|       3| 51|            17|    45-54|\n",
      "|Masculin|      Marié(e)|  1|       4| 50|             6|    45-54|\n",
      "+--------+--------------+---+--------+---+--------------+---------+\n",
      "only showing top 5 rows\n",
      "\n"
     ]
    }
   ],
   "source": [
    "df_perimetre2 = df_perimetre.drop(\"CUSTOMER_SINCE\",\"DATE_NAISSANCE\",\"VILLE\")\n",
    "df_perimetre2.show(5)"
   ]
  },
  {
   "cell_type": "code",
   "execution_count": 5,
   "metadata": {},
   "outputs": [],
   "source": [
    "# df_solde_feature.show(5)"
   ]
  },
  {
   "cell_type": "code",
   "execution_count": 6,
   "metadata": {},
   "outputs": [],
   "source": [
    "# df_MVTDEB_feature.show(5)"
   ]
  },
  {
   "cell_type": "code",
   "execution_count": 7,
   "metadata": {},
   "outputs": [],
   "source": [
    "# df_NBMVTDB_feature.show(5)"
   ]
  },
  {
   "cell_type": "code",
   "execution_count": 8,
   "metadata": {},
   "outputs": [],
   "source": [
    "# df_MVTCRED_feature.show(5)"
   ]
  },
  {
   "cell_type": "code",
   "execution_count": 9,
   "metadata": {},
   "outputs": [],
   "source": [
    "# df_NBMVTCRE_feature.show(5)"
   ]
  },
  {
   "cell_type": "code",
   "execution_count": 10,
   "metadata": {},
   "outputs": [],
   "source": [
    "# df_getfac_feature.show(20)\n",
    "# df_getfac_feature.describe().show()"
   ]
  },
  {
   "cell_type": "code",
   "execution_count": 11,
   "metadata": {},
   "outputs": [],
   "source": [
    "# df_FAC_CANAL_FEATURE.show(5)"
   ]
  },
  {
   "cell_type": "code",
   "execution_count": 12,
   "metadata": {},
   "outputs": [],
   "source": [
    "# df_getvir_feature.show(5)"
   ]
  },
  {
   "cell_type": "code",
   "execution_count": 13,
   "metadata": {},
   "outputs": [],
   "source": [
    "# df_VIR_CANAL_FEATURE.show(5)"
   ]
  },
  {
   "cell_type": "code",
   "execution_count": 14,
   "metadata": {},
   "outputs": [],
   "source": [
    "# df_MONTANT_OPERATIONS_feature.show(5)"
   ]
  },
  {
   "cell_type": "code",
   "execution_count": 15,
   "metadata": {},
   "outputs": [],
   "source": [
    "# df_NBROPERATION_feature.show(5)"
   ]
  },
  {
   "cell_type": "markdown",
   "metadata": {},
   "source": [
    "# Creation de la table Master"
   ]
  },
  {
   "cell_type": "code",
   "execution_count": 16,
   "metadata": {},
   "outputs": [],
   "source": [
    "df_master = df_perimetre2.join(df_solde_feature, on=\"Idclient\", how=\"right\")\n"
   ]
  },
  {
   "cell_type": "code",
   "execution_count": 17,
   "metadata": {},
   "outputs": [],
   "source": [
    "# df_master.orderBy(\"Idclient\",\"ANNEEMOIS\").show(30)"
   ]
  },
  {
   "cell_type": "code",
   "execution_count": 18,
   "metadata": {},
   "outputs": [],
   "source": [
    "# df_master.describe(\"ANNEEMOIS\",\"genre\",\"MEAN_SOLDE_PREVIOUS_MONTHS\").show()"
   ]
  },
  {
   "cell_type": "code",
   "execution_count": 19,
   "metadata": {},
   "outputs": [],
   "source": [
    "from pyspark.sql.functions import when, rand\n",
    "\n",
    "df_master2 = df_master.withColumn(\"genre\", when(df_master[\"genre\"].isNull(), when(rand() > 0.5, \"Masculin\").otherwise(\"Féminin\")).otherwise(df_master[\"genre\"]))\n",
    "df_master2 = df_master2.withColumn(\"MARITAL_STATUS\", when(df_master2[\"MARITAL_STATUS\"].isNull(), when(rand() > 0.5, \"Celibataire\").otherwise(\"Marié(e)\")).otherwise(df_master2[\"MARITAL_STATUS\"]))\n",
    "df_master2 = df_master2.withColumn(\"MARITAL_STATUS\", when(df_master2[\"MARITAL_STATUS\"].isNull(), when(rand() > 0.5, \"Celibataire\").otherwise(\"Marié(e)\")).otherwise(df_master2[\"MARITAL_STATUS\"]))\n"
   ]
  },
  {
   "cell_type": "code",
   "execution_count": null,
   "metadata": {},
   "outputs": [],
   "source": []
  },
  {
   "cell_type": "code",
   "execution_count": 20,
   "metadata": {},
   "outputs": [],
   "source": [
    "from pyspark.sql.functions import when, rand, floor\n",
    "\n",
    "\n",
    "BPR_values = [1,17,78,27,48,43,45,50,57,64,81,90,30,40]\n",
    "n = len(BPR_values)\n",
    "\n",
    "df_master2 = df_master2.withColumn(\"random\", floor(n*rand()))\n",
    "\n",
    "\n",
    "for i in range(n):\n",
    "    df_master2 = df_master2.withColumn(\"BPR\", when((df_master2[\"BPR\"].isNull()) & (df_master2[\"random\"] == i), BPR_values[i]).otherwise(df_master2[\"BPR\"]))\n",
    "\n",
    "# Supprimer la colonne \"random\"\n",
    "df_master2 = df_master2.drop(\"random\")\n",
    "\n",
    "# Remplacer la valeur 0 par 1\n",
    "df_master2 = df_master2.withColumn(\"BPR\", when(df_master2[\"BPR\"] == '0', '1').otherwise(df_master2[\"BPR\"]))\n"
   ]
  },
  {
   "cell_type": "code",
   "execution_count": null,
   "metadata": {},
   "outputs": [],
   "source": []
  },
  {
   "cell_type": "code",
   "execution_count": 21,
   "metadata": {},
   "outputs": [],
   "source": [
    "# df_master2.describe(\"ANNEEMOIS\",\"BPR\",\"MEAN_SOLDE_PREVIOUS_MONTHS\").show()"
   ]
  },
  {
   "cell_type": "code",
   "execution_count": 22,
   "metadata": {},
   "outputs": [],
   "source": [
    "df_master2 = df_master2.join(df_MVTDEB_feature, [\"Idclient\", \"ANNEEMOIS\"], \"inner\")\n",
    "df_master2 = df_master2.join(df_NBMVTDB_feature, [\"Idclient\", \"ANNEEMOIS\"], \"inner\")\n",
    "df_master2 = df_master2.join(df_MVTCRED_feature, [\"Idclient\", \"ANNEEMOIS\"], \"inner\")\n",
    "df_master2 = df_master2.join(df_NBMVTCRE_feature, [\"Idclient\", \"ANNEEMOIS\"], \"inner\")\n"
   ]
  },
  {
   "cell_type": "code",
   "execution_count": 23,
   "metadata": {},
   "outputs": [],
   "source": [
    "# df_master2.show(20)"
   ]
  },
  {
   "cell_type": "code",
   "execution_count": 24,
   "metadata": {},
   "outputs": [],
   "source": [
    "# df_getfac_feature.describe().show()\n",
    "# df_master2.describe().show()"
   ]
  },
  {
   "cell_type": "code",
   "execution_count": 25,
   "metadata": {},
   "outputs": [],
   "source": [
    "# df_master2_not_in_getfac = df_master2.join(df_getfac_feature, on=['Idclient', 'ANNEEMOIS'], how='left_anti')\n",
    "# print(\"Nombre de lignes dans df_master2 qui ne sont pas dans df_getfac_feature : \", df_master2_not_in_getfac.count())\n",
    "\n",
    "# df_getfac_not_in_master2 = df_getfac_feature.join(df_master2, on=['Idclient', 'ANNEEMOIS'], how='left_anti')\n",
    "# print(\"Nombre de lignes dans df_getfac_feature qui ne sont pas dans df_master2 : \", df_getfac_not_in_master2.count())\n"
   ]
  },
  {
   "cell_type": "raw",
   "metadata": {},
   "source": [
    "Nombre de lignes dans df_master2 qui ne sont pas dans df_getfac_feature :  3370556\n",
    "Nombre de lignes dans df_getfac_feature qui ne sont pas dans df_master2 :  4"
   ]
  },
  {
   "cell_type": "code",
   "execution_count": 26,
   "metadata": {},
   "outputs": [],
   "source": [
    "df_master3 = df_master2.join(df_getfac_feature, on=['Idclient', 'ANNEEMOIS'], how='left')\n",
    "\n",
    "# df_master3.show()\n"
   ]
  },
  {
   "cell_type": "code",
   "execution_count": 27,
   "metadata": {},
   "outputs": [],
   "source": [
    "# df_master3.describe(\"ANNEEMOIS\", \"MEAN_MONTANTFACTURE\").show()"
   ]
  },
  {
   "cell_type": "code",
   "execution_count": 28,
   "metadata": {},
   "outputs": [],
   "source": [
    "df_master3= df_master3.fillna(0)"
   ]
  },
  {
   "cell_type": "code",
   "execution_count": 29,
   "metadata": {},
   "outputs": [],
   "source": [
    "# df_master3.describe(\"MEAN_SOLDE_PREVIOUS_MONTHS\", \"MEAN_MONTANTFACTURE\").show()"
   ]
  },
  {
   "cell_type": "code",
   "execution_count": 30,
   "metadata": {},
   "outputs": [],
   "source": [
    "# df_getvir_not_in_master2 = df_getvir_feature.join(df_master2, on=['Idclient', 'ANNEEMOIS'], how='left_anti')\n",
    "# print(\"Nombre de lignes dans df_getvir_feature qui ne sont pas dans df_master2 : \", df_getvir_not_in_master2.count())\n"
   ]
  },
  {
   "cell_type": "raw",
   "metadata": {},
   "source": [
    "Nombre de lignes dans df_getvir_feature qui ne sont pas dans df_master2 :  0"
   ]
  },
  {
   "cell_type": "code",
   "execution_count": 31,
   "metadata": {},
   "outputs": [],
   "source": [
    "df_master4 = df_master3.join(df_getvir_feature, on=['Idclient', 'ANNEEMOIS'], how='left')\n"
   ]
  },
  {
   "cell_type": "code",
   "execution_count": 32,
   "metadata": {},
   "outputs": [],
   "source": [
    "# df_master4.show(10)\n"
   ]
  },
  {
   "cell_type": "code",
   "execution_count": 33,
   "metadata": {},
   "outputs": [],
   "source": [
    "df_master4=df_master4.fillna(0)\n",
    "# df_master4.describe(\"MEAN_SOLDE_PREVIOUS_MONTHS\", \"MEAN_MONTANTVIREMENT\").show()"
   ]
  },
  {
   "cell_type": "code",
   "execution_count": 34,
   "metadata": {},
   "outputs": [],
   "source": [
    "# df_MONTANT_OPERATIONS_feature_not_in_master2 = df_MONTANT_OPERATIONS_feature.join(df_master4, on=['Idclient', 'ANNEEMOIS'], how='left_anti')\n",
    "# print(\"Nombre de lignes dans df_MONTANT_OPERATIONS_feature qui ne sont pas dans df_master2 : \", df_MONTANT_OPERATIONS_feature_not_in_master2.count())\n"
   ]
  },
  {
   "cell_type": "raw",
   "metadata": {},
   "source": [
    "Nombre de lignes dans df_MONTANT_OPERATIONS_feature qui ne sont pas dans df_master2 :  20\n"
   ]
  },
  {
   "cell_type": "code",
   "execution_count": 35,
   "metadata": {},
   "outputs": [],
   "source": [
    "# df_MONTANT_OPERATIONS_feature.describe().show()"
   ]
  },
  {
   "cell_type": "code",
   "execution_count": null,
   "metadata": {},
   "outputs": [],
   "source": []
  },
  {
   "cell_type": "code",
   "execution_count": 36,
   "metadata": {},
   "outputs": [],
   "source": [
    "df_master5 = df_master4.join(df_MONTANT_OPERATIONS_feature, on=['Idclient', 'ANNEEMOIS'], how='left')"
   ]
  },
  {
   "cell_type": "code",
   "execution_count": 37,
   "metadata": {},
   "outputs": [],
   "source": [
    "# df_master5.show()"
   ]
  },
  {
   "cell_type": "code",
   "execution_count": 38,
   "metadata": {},
   "outputs": [],
   "source": [
    "df_master5 = df_master5.fillna(0)\n",
    "# df_master5.describe(\"MEAN_SOLDE_PREVIOUS_MONTHS\", \"MEAN_MONTANT_OPERATIONS_PREVIOUS_MONTHS\").show()"
   ]
  },
  {
   "cell_type": "code",
   "execution_count": null,
   "metadata": {},
   "outputs": [],
   "source": []
  },
  {
   "cell_type": "code",
   "execution_count": 39,
   "metadata": {},
   "outputs": [],
   "source": [
    "df_master6 = df_master5.join(df_NBROPERATION_feature, on=['Idclient', 'ANNEEMOIS'], how='left')"
   ]
  },
  {
   "cell_type": "code",
   "execution_count": null,
   "metadata": {},
   "outputs": [],
   "source": []
  },
  {
   "cell_type": "code",
   "execution_count": 40,
   "metadata": {},
   "outputs": [
    {
     "name": "stdout",
     "output_type": "stream",
     "text": [
      "+-------+---------------------------------------+---------------------------------+\n",
      "|summary|MEAN_MONTANT_OPERATIONS_PREVIOUS_MONTHS|MEAN_NBROPERATION_PREVIOUS_MONTHS|\n",
      "+-------+---------------------------------------+---------------------------------+\n",
      "|  count|                                3391080|                          3391080|\n",
      "|   mean|                    -186.79000921239668|              0.48003097243368903|\n",
      "| stddev|                     35789.610065015906|                2.820151896369791|\n",
      "|    min|                         -2.166730167E7|                              0.0|\n",
      "|    max|                                  2.0E7|                          1573.33|\n",
      "+-------+---------------------------------------+---------------------------------+\n",
      "\n"
     ]
    }
   ],
   "source": [
    "df_master6= df_master6.fillna(0)\n",
    "df_master6.describe(\"MEAN_MONTANT_OPERATIONS_PREVIOUS_MONTHS\", \"MEAN_NBROPERATION_PREVIOUS_MONTHS\").show()\n",
    "# df_master6.show(5)\n"
   ]
  },
  {
   "cell_type": "code",
   "execution_count": 41,
   "metadata": {},
   "outputs": [],
   "source": [
    "# df_master6.printSchema()"
   ]
  },
  {
   "cell_type": "code",
   "execution_count": null,
   "metadata": {},
   "outputs": [],
   "source": []
  },
  {
   "cell_type": "code",
   "execution_count": null,
   "metadata": {},
   "outputs": [],
   "source": []
  },
  {
   "cell_type": "markdown",
   "metadata": {},
   "source": [
    "## Table Satatut Connexion"
   ]
  },
  {
   "cell_type": "code",
   "execution_count": 42,
   "metadata": {},
   "outputs": [],
   "source": [
    "csv_path2 = r\"C:\\Users\\DELL XPS\\Desktop\\data\\new\\tables pre traite\\tables mean\\df_statut_connexion2.csv\"\n",
    "\n",
    "df_statut_connexion2 = spark.read.csv(csv_path2, header=True, inferSchema=True)"
   ]
  },
  {
   "cell_type": "code",
   "execution_count": 43,
   "metadata": {},
   "outputs": [],
   "source": [
    "\n",
    "\n",
    "df_statut_connexion2 = df_statut_connexion2.withColumn(\"CREATEDATE\", F.to_date(df_statut_connexion2.CREATEDATE, 'yyyy-MM-dd'))\n",
    "df_statut_connexion2 = df_statut_connexion2.withColumn(\"LASTLOGINDATE\", F.to_date(df_statut_connexion2.LASTLOGINDATE, 'yyyy-MM-dd'))\n"
   ]
  },
  {
   "cell_type": "code",
   "execution_count": 44,
   "metadata": {},
   "outputs": [
    {
     "name": "stdout",
     "output_type": "stream",
     "text": [
      "+----------+-------------+---------------+---------------+-----------+--------+-------------+--------------+---------------+------------+-----+----+-------------------+\n",
      "|CREATEDATE|LASTLOGINDATE|     CONNECTION|CONNECTIONCOUNT|ISLOCKEDOUT|Idclient|DAYS_CREATION|DAYS_LASTLOGIN|LOGIN_FREQUENCY|ACTIVE_RATIO|ANNEE|MOIS|ANNEEMOIS_LastLogin|\n",
      "+----------+-------------+---------------+---------------+-----------+--------+-------------+--------------+---------------+------------+-----+----+-------------------+\n",
      "|2019-04-12|   2019-04-12|Jamais Connecte|              0|      false|  198219|          264|           264|            0.0|         1.0| 2019|   4|             201904|\n",
      "|2019-10-04|   2019-10-04|Jamais Connecte|              0|      false|  143526|           89|            89|            0.0|         1.0| 2019|  10|             201910|\n",
      "|2017-06-04|   2019-06-01|Connecte Reussi|             77|      false|  386264|          941|           214|        0.08183|     0.22742| 2019|   6|             201906|\n",
      "|2019-12-20|   2019-12-20|Jamais Connecte|              0|      false|  390251|           12|            12|            0.0|         1.0| 2019|  12|             201912|\n",
      "|2018-12-12|   2019-02-18|Connecte Reussi|              2|      false|  329389|          385|           317|        0.00519|     0.82338| 2019|   2|             201902|\n",
      "|2018-10-20|   2019-12-19|Connecte Reussi|             16|      false|  349082|          438|            13|        0.03653|     0.02968| 2019|  12|             201912|\n",
      "|2017-09-28|   2019-03-28|Connecte Reussi|             90|      false|  287551|          825|           279|        0.10909|     0.33818| 2019|   3|             201903|\n",
      "|2018-09-06|   2019-01-25|Connecte Reussi|             10|      false|  286892|          482|           341|        0.02075|     0.70747| 2019|   1|             201901|\n",
      "|2017-08-10|   2019-09-08|Connecte Reussi|            264|      false|   56440|          874|           115|        0.30206|     0.13158| 2019|   9|             201909|\n",
      "|2018-10-13|   2019-09-30|Connecte Reussi|              3|      false|   41278|          445|            93|        0.00674|     0.20899| 2019|   9|             201909|\n",
      "|2019-05-31|   2019-05-31|Jamais Connecte|              0|      false|   55646|          215|           215|            0.0|         1.0| 2019|   5|             201905|\n",
      "|2019-04-12|   2019-04-12|Jamais Connecte|              0|      false|  308112|          264|           264|            0.0|         1.0| 2019|   4|             201904|\n",
      "|2019-10-11|   2019-10-11|Jamais Connecte|              0|      false|  424137|           82|            82|            0.0|         1.0| 2019|  10|             201910|\n",
      "|2019-12-31|   2019-12-31|Jamais Connecte|              0|      false|  260075|            1|             1|            0.0|         1.0| 2019|  12|             201912|\n",
      "|2019-02-07|   2019-02-07|Jamais Connecte|              0|      false|  220010|          328|           328|            0.0|         1.0| 2019|   2|             201902|\n",
      "|2019-02-11|   2019-02-11|Jamais Connecte|              0|      false|  151356|          324|           324|            0.0|         1.0| 2019|   2|             201902|\n",
      "|2019-02-13|   2019-02-13|Jamais Connecte|              0|      false|  233564|          322|           322|            0.0|         1.0| 2019|   2|             201902|\n",
      "|2019-02-25|   2019-02-25|Jamais Connecte|              0|      false|    8548|          310|           310|            0.0|         1.0| 2019|   2|             201902|\n",
      "|2019-03-30|   2019-03-30|Jamais Connecte|              0|      false|   90164|          277|           277|            0.0|         1.0| 2019|   3|             201903|\n",
      "|2019-04-16|   2019-04-16|Jamais Connecte|              0|      false|  131147|          260|           260|            0.0|         1.0| 2019|   4|             201904|\n",
      "+----------+-------------+---------------+---------------+-----------+--------+-------------+--------------+---------------+------------+-----+----+-------------------+\n",
      "only showing top 20 rows\n",
      "\n"
     ]
    }
   ],
   "source": [
    "df_statut_connexion2.show()"
   ]
  },
  {
   "cell_type": "code",
   "execution_count": 45,
   "metadata": {},
   "outputs": [],
   "source": [
    "from pyspark.sql.functions import when\n",
    "\n",
    "df_statut_connexion2 = df_statut_connexion2.withColumn('CONNECTION', \n",
    "                                 when(df_statut_connexion2['CONNECTION'] == 'Connecte Reussi', 1).otherwise(0))\n"
   ]
  },
  {
   "cell_type": "code",
   "execution_count": 46,
   "metadata": {},
   "outputs": [],
   "source": [
    "# df_statut_connexion2.show()"
   ]
  },
  {
   "cell_type": "code",
   "execution_count": 47,
   "metadata": {},
   "outputs": [],
   "source": [
    "df_statut_connexion_features = df_statut_connexion2.select(\"Idclient\", \"CONNECTION\" , \"ACTIVE_RATIO\", \"ANNEEMOIS_LastLogin\" )"
   ]
  },
  {
   "cell_type": "code",
   "execution_count": 48,
   "metadata": {},
   "outputs": [],
   "source": [
    "# df_statut_connexion_features.show()"
   ]
  },
  {
   "cell_type": "code",
   "execution_count": 49,
   "metadata": {},
   "outputs": [
    {
     "data": {
      "text/plain": [
       "52785"
      ]
     },
     "execution_count": 49,
     "metadata": {},
     "output_type": "execute_result"
    }
   ],
   "source": [
    "df_statut_connexion_features.count()"
   ]
  },
  {
   "cell_type": "code",
   "execution_count": null,
   "metadata": {},
   "outputs": [],
   "source": []
  },
  {
   "cell_type": "code",
   "execution_count": 50,
   "metadata": {},
   "outputs": [],
   "source": [
    "# df_statut_connexion_features_not_in_master6 = df_statut_connexion_features.join(df_master6, on=['Idclient'], how='left_anti')\n",
    "# print(\"Nombre de lignes dans df_statut_connexion_features qui ne sont pas dans df_master6 : \", df_statut_connexion_features_not_in_master6.count())\n"
   ]
  },
  {
   "cell_type": "raw",
   "metadata": {},
   "source": [
    "Nombre de lignes dans df_statut_connexion_features qui ne sont pas dans df_master6 :  7"
   ]
  },
  {
   "cell_type": "code",
   "execution_count": 51,
   "metadata": {},
   "outputs": [],
   "source": [
    "df_master7 = df_master6.join(df_statut_connexion_features, on=['Idclient'], how='left')"
   ]
  },
  {
   "cell_type": "code",
   "execution_count": 52,
   "metadata": {},
   "outputs": [
    {
     "name": "stdout",
     "output_type": "stream",
     "text": [
      "+--------+---------+--------+--------------+---+---+--------------+---------+--------------------------+---------------------------+----------------------------+----------------------------+-----------------------------+-------------------+--------------------+---------------------------------------+---------------------------------+----------+------------+-------------------+\n",
      "|Idclient|ANNEEMOIS|   genre|MARITAL_STATUS|BPR|age|CUSTOMER_YEARS|AGE_GROUP|MEAN_SOLDE_PREVIOUS_MONTHS|MEAN_MVTDEB_PREVIOUS_MONTHS|MEAN_NBMVTDB_PREVIOUS_MONTHS|MEAN_MVTCRED_PREVIOUS_MONTHS|MEAN_NBMVTCRE_PREVIOUS_MONTHS|MEAN_MONTANTFACTURE|MEAN_MONTANTVIREMENT|MEAN_MONTANT_OPERATIONS_PREVIOUS_MONTHS|MEAN_NBROPERATION_PREVIOUS_MONTHS|CONNECTION|ACTIVE_RATIO|ANNEEMOIS_LastLogin|\n",
      "+--------+---------+--------+--------------+---+---+--------------+---------+--------------------------+---------------------------+----------------------------+----------------------------+-----------------------------+-------------------+--------------------+---------------------------------------+---------------------------------+----------+------------+-------------------+\n",
      "|       0|   201904| Féminin|      Marié(e)|  1| 64|            23|    55-64|                   1025.33|                    3452.73|                        9.33|                      2500.0|                          1.0|                0.0|                 0.0|                                1616.67|                             1.33|      null|        null|               null|\n",
      "|       2|   201904| Féminin|      Marié(e)|  1| 70|            45|      65+|                   5757.81|                     7097.8|                        2.67|                     4100.77|                          2.0|                0.0|                 0.0|                                 1800.0|                             1.67|      null|        null|               null|\n",
      "|       2|   201910| Féminin|      Marié(e)|  1| 70|            45|      65+|                   2044.72|                        0.0|                        2.33|                     1351.83|                         1.67|                0.0|                 0.0|                                 433.33|                             0.33|      null|        null|               null|\n",
      "|       3|   201907| Féminin|   Celibataire|  1| 51|            17|    45-54|                   -881.56|                      18.33|                         0.0|                         0.0|                          0.0|                0.0|                 0.0|                                    0.0|                              0.0|      null|        null|               null|\n",
      "|       4|   201904|Masculin|      Marié(e)|  1| 50|             6|    45-54|                    236.91|                     208.81|                        3.67|                       600.0|                          1.0|                0.0|                 0.0|                                    0.0|                              0.0|      null|        null|               null|\n",
      "|       4|   201907|Masculin|      Marié(e)|  1| 50|             6|    45-54|                    210.51|                     475.47|                        5.33|                       800.0|                         1.33|                0.0|                 0.0|                                    0.0|                              0.0|      null|        null|               null|\n",
      "|       4|   201910|Masculin|      Marié(e)|  1| 50|             6|    45-54|                     55.17|                      408.8|                         5.0|                       400.0|                         0.67|                0.0|                 0.0|                                    0.0|                              0.0|      null|        null|               null|\n",
      "|       4|   202001|Masculin|      Marié(e)|  1| 50|             6|    45-54|                    143.16|                     1013.2|                        5.33|                      1000.0|                          1.0|                0.0|                 0.0|                                    0.0|                              0.0|      null|        null|               null|\n",
      "|       5|   201904| Féminin|      Marié(e)|  1| 41|             9|    35-44|                   4211.08|                        0.0|                         0.0|                         0.0|                          0.0|                0.0|                 0.0|                                    0.0|                              0.0|         1|     0.10896|             201910|\n",
      "|       7|   201904| Féminin|   Celibataire|  1| 34|            12|    25-34|                   6265.32|                    5859.92|                         0.0|                         0.0|                          0.0|                0.0|                 0.0|                                    0.0|                              0.0|         0|         1.0|             201910|\n",
      "|       7|   201907| Féminin|   Celibataire|  1| 34|            12|    25-34|                   5734.74|                    5293.04|                         0.0|                         0.0|                          0.0|                0.0|                 0.0|                                    0.0|                              0.0|         0|         1.0|             201910|\n",
      "|       9|   201904|Masculin|   Celibataire|  1| 39|             3|    35-44|                   1006.83|                     1545.0|                         0.0|                         0.0|                          0.0|                0.0|                 0.0|                                 533.33|                             0.33|      null|        null|               null|\n",
      "|      12|   201910|Masculin|   Celibataire|  1| 32|             9|    25-34|                  86661.48|                    2211.03|                         0.0|                         0.0|                          0.0|                0.0|                 0.0|                                 -500.0|                             0.33|      null|        null|               null|\n",
      "|      13|   202001|Masculin|   Celibataire|  1| 37|             6|    35-44|                   -777.28|                      38.01|                        1.33|                         0.0|                          0.0|                0.0|                 0.0|                                    0.0|                              0.0|      null|        null|               null|\n",
      "|      14|   201910| Féminin|      Marié(e)|  1| 35|             4|    35-44|                   2904.98|                    1047.07|                        3.33|                     2466.67|                         1.33|                0.0|                 0.0|                                    0.0|                              0.0|      null|        null|               null|\n",
      "|      16|   201904| Féminin|   Celibataire|  1| 25|             7|    25-34|                   9494.12|                    2692.93|                         0.0|                         0.0|                          0.0|                0.0|                 0.0|                                    0.0|                              0.0|      null|        null|               null|\n",
      "|      16|   201910| Féminin|   Celibataire|  1| 25|             7|    25-34|                    535.23|                     782.15|                         0.0|                         0.0|                          0.0|                0.0|                 0.0|                                    0.0|                              0.0|      null|        null|               null|\n",
      "|      17|   202001| Féminin|   Celibataire|  1| 26|             7|    25-34|                   1646.97|                      12.67|                        0.67|                      1600.0|                          1.0|                0.0|                 0.0|                                 2400.0|                             1.33|      null|        null|               null|\n",
      "|      21|   201907|Masculin|      Marié(e)|  1| 43|             6|    35-44|                     82.63|                       11.0|                        1.33|                         0.0|                          0.0|                0.0|                 0.0|                                    0.0|                              0.0|      null|        null|               null|\n",
      "|      21|   201910|Masculin|      Marié(e)|  1| 43|             6|    35-44|                       0.0|                        5.5|                         2.0|                         0.0|                          0.0|                0.0|                 0.0|                                 -66.67|                             0.33|      null|        null|               null|\n",
      "+--------+---------+--------+--------------+---+---+--------------+---------+--------------------------+---------------------------+----------------------------+----------------------------+-----------------------------+-------------------+--------------------+---------------------------------------+---------------------------------+----------+------------+-------------------+\n",
      "only showing top 20 rows\n",
      "\n"
     ]
    }
   ],
   "source": [
    "# df_master7.show()"
   ]
  },
  {
   "cell_type": "code",
   "execution_count": null,
   "metadata": {},
   "outputs": [],
   "source": []
  },
  {
   "cell_type": "code",
   "execution_count": 53,
   "metadata": {},
   "outputs": [],
   "source": [
    "df_master_statconn_features = df_master7.select(\"Idclient\", \"ANNEEMOIS\", \"MARITAL_STATUS\", \"CONNECTION\" , \"ACTIVE_RATIO\", \"ANNEEMOIS_LastLogin\") "
   ]
  },
  {
   "cell_type": "code",
   "execution_count": 54,
   "metadata": {},
   "outputs": [
    {
     "name": "stdout",
     "output_type": "stream",
     "text": [
      "+--------+---------+--------------+----------+------------+-------------------+\n",
      "|Idclient|ANNEEMOIS|MARITAL_STATUS|CONNECTION|ACTIVE_RATIO|ANNEEMOIS_LastLogin|\n",
      "+--------+---------+--------------+----------+------------+-------------------+\n",
      "|       0|   201904|      Marié(e)|      null|        null|               null|\n",
      "|       0|   201907|      Marié(e)|      null|        null|               null|\n",
      "|       0|   201910|      Marié(e)|      null|        null|               null|\n",
      "|       0|   202001|      Marié(e)|      null|        null|               null|\n",
      "|       1|   201904|      Marié(e)|      null|        null|               null|\n",
      "|       1|   201907|      Marié(e)|      null|        null|               null|\n",
      "|       1|   201910|      Marié(e)|      null|        null|               null|\n",
      "|       1|   202001|      Marié(e)|      null|        null|               null|\n",
      "|       2|   201904|      Marié(e)|      null|        null|               null|\n",
      "|       2|   201907|      Marié(e)|      null|        null|               null|\n",
      "|       2|   201910|      Marié(e)|      null|        null|               null|\n",
      "|       2|   202001|      Marié(e)|      null|        null|               null|\n",
      "|       3|   201904|   Celibataire|      null|        null|               null|\n",
      "|       3|   201907|   Celibataire|      null|        null|               null|\n",
      "|       3|   201910|   Celibataire|      null|        null|               null|\n",
      "|       3|   202001|   Celibataire|      null|        null|               null|\n",
      "|       4|   201904|      Marié(e)|      null|        null|               null|\n",
      "|       4|   201907|      Marié(e)|      null|        null|               null|\n",
      "|       4|   201910|      Marié(e)|      null|        null|               null|\n",
      "|       4|   202001|      Marié(e)|      null|        null|               null|\n",
      "|       5|   201904|      Marié(e)|         1|     0.10896|             201910|\n",
      "|       5|   201907|      Marié(e)|         1|     0.10896|             201910|\n",
      "|       5|   201910|      Marié(e)|         1|     0.10896|             201910|\n",
      "|       5|   202001|      Marié(e)|         1|     0.10896|             201910|\n",
      "|       7|   201904|   Celibataire|         0|         1.0|             201910|\n",
      "|       7|   201907|   Celibataire|         0|         1.0|             201910|\n",
      "|       7|   201910|   Celibataire|         0|         1.0|             201910|\n",
      "|       7|   202001|   Celibataire|         0|         1.0|             201910|\n",
      "|       9|   201904|   Celibataire|      null|        null|               null|\n",
      "|       9|   201907|   Celibataire|      null|        null|               null|\n",
      "+--------+---------+--------------+----------+------------+-------------------+\n",
      "only showing top 30 rows\n",
      "\n"
     ]
    }
   ],
   "source": [
    "df_master_statconn_features.orderBy(\"Idclient\",\"ANNEEMOIS\").show(30)"
   ]
  },
  {
   "cell_type": "code",
   "execution_count": null,
   "metadata": {},
   "outputs": [],
   "source": []
  },
  {
   "cell_type": "markdown",
   "metadata": {},
   "source": [
    "### definition d'une fonction de calcul des 3 dernieres ANNEEMOIS"
   ]
  },
  {
   "cell_type": "code",
   "execution_count": null,
   "metadata": {},
   "outputs": [],
   "source": []
  },
  {
   "cell_type": "code",
   "execution_count": 55,
   "metadata": {},
   "outputs": [],
   "source": [
    "def get_previous_three_months(anneemois):\n",
    "    year = int(str(anneemois)[:4])\n",
    "    month = int(str(anneemois)[4:])\n",
    "    \n",
    "    previous_months = []\n",
    "    for _ in range(3):\n",
    "        month -= 1\n",
    "        if month <= 0:\n",
    "            year -= 1\n",
    "            month = 12\n",
    "        previous_months.append(year * 100 + month)\n",
    "    \n",
    "    return previous_months\n"
   ]
  },
  {
   "cell_type": "code",
   "execution_count": null,
   "metadata": {},
   "outputs": [],
   "source": []
  },
  {
   "cell_type": "code",
   "execution_count": 56,
   "metadata": {},
   "outputs": [
    {
     "data": {
      "text/plain": [
       "[201912, 201911, 201910]"
      ]
     },
     "execution_count": 56,
     "metadata": {},
     "output_type": "execute_result"
    }
   ],
   "source": [
    "get_previous_three_months(202001)"
   ]
  },
  {
   "cell_type": "code",
   "execution_count": 57,
   "metadata": {},
   "outputs": [],
   "source": [
    "list_dwp=[201904, 201907, 201910, 202001]"
   ]
  },
  {
   "cell_type": "code",
   "execution_count": 58,
   "metadata": {},
   "outputs": [
    {
     "data": {
      "text/plain": [
       "[202001, 201912, 201911]"
      ]
     },
     "execution_count": 58,
     "metadata": {},
     "output_type": "execute_result"
    }
   ],
   "source": [
    "get_previous_three_months(202002)"
   ]
  },
  {
   "cell_type": "code",
   "execution_count": 59,
   "metadata": {},
   "outputs": [],
   "source": [
    "from pyspark.sql import functions as F\n",
    "\n",
    "# Initialize the new column with 0\n",
    "df_master_statconn_features = df_master_statconn_features.withColumn('Connected recently', F.lit(0))\n",
    "\n",
    "# Iterate over each ANNEEMOIS\n",
    "for dwp in list_dwp:\n",
    "    # Get the last three months\n",
    "    last_three_months = get_previous_three_months(dwp)\n",
    "\n",
    "    # Update the column 'Connected recently' if the condition is met\n",
    "    df_master_statconn_features = df_master_statconn_features.withColumn('Connected recently', \n",
    "    F.when((F.col('ANNEEMOIS') == dwp) & (F.col('CONNECTION') == 1) & (F.col('ANNEEMOIS_LastLogin').isin(last_three_months)), 1)\n",
    "    .otherwise(F.col('Connected recently')))\n"
   ]
  },
  {
   "cell_type": "code",
   "execution_count": 60,
   "metadata": {},
   "outputs": [
    {
     "name": "stdout",
     "output_type": "stream",
     "text": [
      "+--------+---------+--------------+----------+------------+-------------------+------------------+\n",
      "|Idclient|ANNEEMOIS|MARITAL_STATUS|CONNECTION|ACTIVE_RATIO|ANNEEMOIS_LastLogin|Connected recently|\n",
      "+--------+---------+--------------+----------+------------+-------------------+------------------+\n",
      "|       0|   201904|      Marié(e)|      null|        null|               null|                 0|\n",
      "|       2|   201904|      Marié(e)|      null|        null|               null|                 0|\n",
      "|       2|   201910|      Marié(e)|      null|        null|               null|                 0|\n",
      "|       3|   201907|   Celibataire|      null|        null|               null|                 0|\n",
      "|       4|   201904|      Marié(e)|      null|        null|               null|                 0|\n",
      "|       4|   201907|      Marié(e)|      null|        null|               null|                 0|\n",
      "|       4|   201910|      Marié(e)|      null|        null|               null|                 0|\n",
      "|       4|   202001|      Marié(e)|      null|        null|               null|                 0|\n",
      "|       5|   201904|      Marié(e)|         1|     0.10896|             201910|                 0|\n",
      "|       7|   201904|   Celibataire|         0|         1.0|             201910|                 0|\n",
      "|       7|   201907|   Celibataire|         0|         1.0|             201910|                 0|\n",
      "|       9|   201904|   Celibataire|      null|        null|               null|                 0|\n",
      "|      12|   201910|   Celibataire|      null|        null|               null|                 0|\n",
      "|      13|   202001|   Celibataire|      null|        null|               null|                 0|\n",
      "|      14|   201910|      Marié(e)|      null|        null|               null|                 0|\n",
      "|      16|   201904|   Celibataire|      null|        null|               null|                 0|\n",
      "|      16|   201910|   Celibataire|      null|        null|               null|                 0|\n",
      "|      17|   202001|   Celibataire|      null|        null|               null|                 0|\n",
      "|      21|   201907|      Marié(e)|      null|        null|               null|                 0|\n",
      "|      21|   201910|      Marié(e)|      null|        null|               null|                 0|\n",
      "|      22|   201910|   Celibataire|      null|        null|               null|                 0|\n",
      "|      23|   201904|   Celibataire|      null|        null|               null|                 0|\n",
      "|      23|   201910|   Celibataire|      null|        null|               null|                 0|\n",
      "|      25|   201910|      Marié(e)|      null|        null|               null|                 0|\n",
      "|      27|   201904|      Marié(e)|      null|        null|               null|                 0|\n",
      "|      27|   201907|      Marié(e)|      null|        null|               null|                 0|\n",
      "|      29|   201907|     Veuf (ve)|      null|        null|               null|                 0|\n",
      "|      29|   201910|     Veuf (ve)|      null|        null|               null|                 0|\n",
      "|      32|   201907|      Marié(e)|      null|        null|               null|                 0|\n",
      "|      33|   201910|      Marié(e)|      null|        null|               null|                 0|\n",
      "|      33|   202001|      Marié(e)|      null|        null|               null|                 0|\n",
      "|      34|   201904|      Marié(e)|      null|        null|               null|                 0|\n",
      "|      36|   202001|   Celibataire|      null|        null|               null|                 0|\n",
      "|      38|   201907|   Celibataire|         1|     0.20935|             201906|                 1|\n",
      "|      38|   201910|   Celibataire|         1|     0.20935|             201906|                 0|\n",
      "|      38|   202001|   Celibataire|         1|     0.20935|             201906|                 0|\n",
      "|      39|   201904|   Celibataire|      null|        null|               null|                 0|\n",
      "|      40|   201907|      Marié(e)|      null|        null|               null|                 0|\n",
      "|      40|   201910|      Marié(e)|      null|        null|               null|                 0|\n",
      "|      41|   201904|   Celibataire|         0|         1.0|             201905|                 0|\n",
      "|      41|   202001|   Celibataire|         0|         1.0|             201905|                 0|\n",
      "|      42|   201910|      Marié(e)|      null|        null|               null|                 0|\n",
      "|      43|   201907|      Marié(e)|      null|        null|               null|                 0|\n",
      "|      45|   201907|      Marié(e)|      null|        null|               null|                 0|\n",
      "|      48|   201910|   Celibataire|      null|        null|               null|                 0|\n",
      "|      48|   202001|   Celibataire|      null|        null|               null|                 0|\n",
      "|      50|   202001|   Celibataire|      null|        null|               null|                 0|\n",
      "|      51|   201904|      Marié(e)|      null|        null|               null|                 0|\n",
      "|      51|   201907|      Marié(e)|      null|        null|               null|                 0|\n",
      "|      52|   201910|      Marié(e)|      null|        null|               null|                 0|\n",
      "+--------+---------+--------------+----------+------------+-------------------+------------------+\n",
      "only showing top 50 rows\n",
      "\n"
     ]
    }
   ],
   "source": [
    "df_master_statconn_features.show(50)"
   ]
  },
  {
   "cell_type": "code",
   "execution_count": null,
   "metadata": {},
   "outputs": [],
   "source": []
  },
  {
   "cell_type": "code",
   "execution_count": 61,
   "metadata": {},
   "outputs": [],
   "source": [
    "df_master_statconn_featurestestttt = df_master_statconn_features.filter(df_master_statconn_features['Connected recently'] == 1)\n"
   ]
  },
  {
   "cell_type": "code",
   "execution_count": 62,
   "metadata": {},
   "outputs": [],
   "source": [
    "# df_master_statconn_featurestestttt.orderBy(\"Idclient\",\"ANNEEMOIS\").show(10)"
   ]
  },
  {
   "cell_type": "code",
   "execution_count": 63,
   "metadata": {},
   "outputs": [],
   "source": [
    "# df_master_statconn_featurestestttt.count()"
   ]
  },
  {
   "cell_type": "raw",
   "metadata": {},
   "source": [
    "PROBLEME : HOW TO DEAL WITH MISSING VALUES IN THIS NEW TABLE?"
   ]
  },
  {
   "cell_type": "code",
   "execution_count": 64,
   "metadata": {},
   "outputs": [],
   "source": [
    "df_master8 = df_master7.drop(\"CONNECTION\",\"ACTIVE_RATIO\",\"ANNEEMOIS_LastLogin\")"
   ]
  },
  {
   "cell_type": "code",
   "execution_count": 65,
   "metadata": {},
   "outputs": [],
   "source": [
    "df_master_statconn_features2 = df_master_statconn_features.drop(\"MARITAL_STATUS\",\"df_master_statconn_features\",\"ANNEEMOIS_LastLogin\")"
   ]
  },
  {
   "cell_type": "code",
   "execution_count": 123,
   "metadata": {},
   "outputs": [
    {
     "name": "stdout",
     "output_type": "stream",
     "text": [
      "+--------+---------+----------+------------+------------------+\n",
      "|Idclient|ANNEEMOIS|CONNECTION|ACTIVE_RATIO|Connected recently|\n",
      "+--------+---------+----------+------------+------------------+\n",
      "|       0|   201904|      null|        null|                 0|\n",
      "|       2|   201904|      null|        null|                 0|\n",
      "|       2|   201910|      null|        null|                 0|\n",
      "|       3|   201907|      null|        null|                 0|\n",
      "|       4|   201904|      null|        null|                 0|\n",
      "|       4|   201907|      null|        null|                 0|\n",
      "|       4|   201910|      null|        null|                 0|\n",
      "|       4|   202001|      null|        null|                 0|\n",
      "|       5|   201904|         1|     0.10896|                 0|\n",
      "|       7|   201904|         0|         1.0|                 0|\n",
      "|       7|   201907|         0|         1.0|                 0|\n",
      "|       9|   201904|      null|        null|                 0|\n",
      "|      12|   201910|      null|        null|                 0|\n",
      "|      13|   202001|      null|        null|                 0|\n",
      "|      14|   201910|      null|        null|                 0|\n",
      "|      16|   201904|      null|        null|                 0|\n",
      "|      16|   201910|      null|        null|                 0|\n",
      "|      17|   202001|      null|        null|                 0|\n",
      "|      21|   201907|      null|        null|                 0|\n",
      "|      21|   201910|      null|        null|                 0|\n",
      "+--------+---------+----------+------------+------------------+\n",
      "only showing top 20 rows\n",
      "\n"
     ]
    }
   ],
   "source": [
    " df_master_statconn_features2.show()"
   ]
  },
  {
   "cell_type": "code",
   "execution_count": 67,
   "metadata": {},
   "outputs": [],
   "source": [
    "# df_master9 = df_master8.join(df_master_statconn_features2, on=['Idclient','ANNEEMOIS'], how='left')"
   ]
  },
  {
   "cell_type": "code",
   "execution_count": 68,
   "metadata": {},
   "outputs": [],
   "source": [
    "# df_master9.show(20)"
   ]
  },
  {
   "cell_type": "code",
   "execution_count": 69,
   "metadata": {},
   "outputs": [],
   "source": [
    "# df_master9.describe(\"age\",\"AGE_GROUP\").show()\n"
   ]
  },
  {
   "cell_type": "code",
   "execution_count": null,
   "metadata": {},
   "outputs": [],
   "source": []
  },
  {
   "cell_type": "code",
   "execution_count": 70,
   "metadata": {},
   "outputs": [],
   "source": [
    "# df_master9.groupBy(\"CONNECTION\").count().show()"
   ]
  },
  {
   "cell_type": "code",
   "execution_count": null,
   "metadata": {},
   "outputs": [],
   "source": []
  },
  {
   "cell_type": "markdown",
   "metadata": {},
   "source": [
    "## feature GAB"
   ]
  },
  {
   "cell_type": "code",
   "execution_count": 119,
   "metadata": {},
   "outputs": [],
   "source": [
    "folder_path2 = r\"C:\\Users\\DELL XPS\\Desktop\\data\\new\\tables pre traite\\tables mean\"\n",
    "\n",
    "file_names2 = [\"df_gab_montant\", \"df_gab_numoperation\", \"df_hasyousr\"]\n",
    "\n",
    "\n",
    "for file_name in file_names2:\n",
    "    csv_path2 = f\"{folder_path2}/{file_name}.csv\"\n",
    "    globals()[f\"{file_name}\"] = spark.read.csv(csv_path2, header=True, inferSchema=True)"
   ]
  },
  {
   "cell_type": "code",
   "execution_count": null,
   "metadata": {},
   "outputs": [],
   "source": []
  },
  {
   "cell_type": "code",
   "execution_count": 121,
   "metadata": {},
   "outputs": [
    {
     "name": "stdout",
     "output_type": "stream",
     "text": [
      "+--------+---------+----------------+\n",
      "|Idclient|ANNEEMOIS|MEAN_MONTANT_GAB|\n",
      "+--------+---------+----------------+\n",
      "|       0|   201904|         2133.33|\n",
      "|       0|   201907|         1133.33|\n",
      "|       0|   201910|          566.67|\n",
      "|       0|   202001|             0.0|\n",
      "|       1|   201904|         15100.0|\n",
      "|       1|   201907|        12833.33|\n",
      "|       1|   201910|        12166.67|\n",
      "|       1|   202001|        16666.67|\n",
      "|       2|   201904|         2666.67|\n",
      "|       2|   201907|         4666.67|\n",
      "|       2|   201910|         3766.67|\n",
      "|       2|   202001|           700.0|\n",
      "|       3|   201904|             0.0|\n",
      "|       3|   201907|             0.0|\n",
      "|       3|   201910|             0.0|\n",
      "|       3|   202001|             0.0|\n",
      "|       4|   201904|           200.0|\n",
      "|       4|   201907|          266.67|\n",
      "|       4|   201910|           200.0|\n",
      "|       4|   202001|             0.0|\n",
      "+--------+---------+----------------+\n",
      "only showing top 20 rows\n",
      "\n"
     ]
    }
   ],
   "source": [
    "df_gab_montant.orderBy(\"Idclient\",\"ANNEEMOIS\").show()"
   ]
  },
  {
   "cell_type": "code",
   "execution_count": 122,
   "metadata": {},
   "outputs": [
    {
     "name": "stdout",
     "output_type": "stream",
     "text": [
      "Nombre de lignes dans df_gab_montant qui ne sont pas dans df_master8 :  254392\n"
     ]
    }
   ],
   "source": [
    "# df_gab_not_in_master = df_gab_montant.join(df_master8, on=['Idclient', 'ANNEEMOIS'], how='left_anti')\n",
    "# print(\"Nombre de lignes dans df_gab_montant qui ne sont pas dans df_master8 : \", df_gab_not_in_master.count())"
   ]
  },
  {
   "cell_type": "code",
   "execution_count": 124,
   "metadata": {},
   "outputs": [],
   "source": [
    "df_master9 = df_master8.join(df_gab_montant, on=['Idclient','ANNEEMOIS'], how='left')"
   ]
  },
  {
   "cell_type": "code",
   "execution_count": 125,
   "metadata": {},
   "outputs": [
    {
     "name": "stdout",
     "output_type": "stream",
     "text": [
      "+--------+---------+--------+--------------+---+---+--------------+---------+--------------------------+---------------------------+----------------------------+----------------------------+-----------------------------+-------------------+--------------------+---------------------------------------+---------------------------------+----------------+\n",
      "|Idclient|ANNEEMOIS|   genre|MARITAL_STATUS|BPR|age|CUSTOMER_YEARS|AGE_GROUP|MEAN_SOLDE_PREVIOUS_MONTHS|MEAN_MVTDEB_PREVIOUS_MONTHS|MEAN_NBMVTDB_PREVIOUS_MONTHS|MEAN_MVTCRED_PREVIOUS_MONTHS|MEAN_NBMVTCRE_PREVIOUS_MONTHS|MEAN_MONTANTFACTURE|MEAN_MONTANTVIREMENT|MEAN_MONTANT_OPERATIONS_PREVIOUS_MONTHS|MEAN_NBROPERATION_PREVIOUS_MONTHS|MEAN_MONTANT_GAB|\n",
      "+--------+---------+--------+--------------+---+---+--------------+---------+--------------------------+---------------------------+----------------------------+----------------------------+-----------------------------+-------------------+--------------------+---------------------------------------+---------------------------------+----------------+\n",
      "|       0|   201904| Féminin|      Marié(e)|  1| 64|            23|    55-64|                   1025.33|                    3452.73|                        9.33|                      2500.0|                          1.0|                0.0|                 0.0|                                1616.67|                             1.33|         2133.33|\n",
      "|       2|   201904| Féminin|      Marié(e)|  1| 70|            45|      65+|                   5757.81|                     7097.8|                        2.67|                     4100.77|                          2.0|                0.0|                 0.0|                                 1800.0|                             1.67|         2666.67|\n",
      "|       2|   201910| Féminin|      Marié(e)|  1| 70|            45|      65+|                   2044.72|                        0.0|                        2.33|                     1351.83|                         1.67|                0.0|                 0.0|                                 433.33|                             0.33|         3766.67|\n",
      "|       3|   201907| Féminin|   Celibataire|  1| 51|            17|    45-54|                   -881.56|                      18.33|                         0.0|                         0.0|                          0.0|                0.0|                 0.0|                                    0.0|                              0.0|             0.0|\n",
      "|       4|   201904|Masculin|      Marié(e)|  1| 50|             6|    45-54|                    236.91|                     208.81|                        3.67|                       600.0|                          1.0|                0.0|                 0.0|                                    0.0|                              0.0|           200.0|\n",
      "|       4|   201907|Masculin|      Marié(e)|  1| 50|             6|    45-54|                    210.51|                     475.47|                        5.33|                       800.0|                         1.33|                0.0|                 0.0|                                    0.0|                              0.0|          266.67|\n",
      "|       4|   201910|Masculin|      Marié(e)|  1| 50|             6|    45-54|                     55.17|                      408.8|                         5.0|                       400.0|                         0.67|                0.0|                 0.0|                                    0.0|                              0.0|           200.0|\n",
      "|       4|   202001|Masculin|      Marié(e)|  1| 50|             6|    45-54|                    143.16|                     1013.2|                        5.33|                      1000.0|                          1.0|                0.0|                 0.0|                                    0.0|                              0.0|             0.0|\n",
      "|       5|   201904| Féminin|      Marié(e)|  1| 41|             9|    35-44|                   4211.08|                        0.0|                         0.0|                         0.0|                          0.0|                0.0|                 0.0|                                    0.0|                              0.0|          3700.0|\n",
      "|       7|   201904| Féminin|   Celibataire|  1| 34|            12|    25-34|                   6265.32|                    5859.92|                         0.0|                         0.0|                          0.0|                0.0|                 0.0|                                    0.0|                              0.0|          1600.0|\n",
      "|       7|   201907| Féminin|   Celibataire|  1| 34|            12|    25-34|                   5734.74|                    5293.04|                         0.0|                         0.0|                          0.0|                0.0|                 0.0|                                    0.0|                              0.0|         1933.33|\n",
      "|       9|   201904|Masculin|   Celibataire|  1| 39|             3|    35-44|                   1006.83|                     1545.0|                         0.0|                         0.0|                          0.0|                0.0|                 0.0|                                 533.33|                             0.33|          866.67|\n",
      "|      12|   201910|Masculin|   Celibataire|  1| 32|             9|    25-34|                  86661.48|                    2211.03|                         0.0|                         0.0|                          0.0|                0.0|                 0.0|                                 -500.0|                             0.33|            null|\n",
      "|      13|   202001|Masculin|   Celibataire|  1| 37|             6|    35-44|                   -777.28|                      38.01|                        1.33|                         0.0|                          0.0|                0.0|                 0.0|                                    0.0|                              0.0|            null|\n",
      "|      14|   201910| Féminin|      Marié(e)|  1| 35|             4|    35-44|                   2904.98|                    1047.07|                        3.33|                     2466.67|                         1.33|                0.0|                 0.0|                                    0.0|                              0.0|         1833.33|\n",
      "|      16|   201904| Féminin|   Celibataire|  1| 25|             7|    25-34|                   9494.12|                    2692.93|                         0.0|                         0.0|                          0.0|                0.0|                 0.0|                                    0.0|                              0.0|         1966.67|\n",
      "|      16|   201910| Féminin|   Celibataire|  1| 25|             7|    25-34|                    535.23|                     782.15|                         0.0|                         0.0|                          0.0|                0.0|                 0.0|                                    0.0|                              0.0|             0.0|\n",
      "|      17|   202001| Féminin|   Celibataire|  1| 26|             7|    25-34|                   1646.97|                      12.67|                        0.67|                      1600.0|                          1.0|                0.0|                 0.0|                                 2400.0|                             1.33|         1366.67|\n",
      "|      21|   201907|Masculin|      Marié(e)|  1| 43|             6|    35-44|                     82.63|                       11.0|                        1.33|                         0.0|                          0.0|                0.0|                 0.0|                                    0.0|                              0.0|            null|\n",
      "|      21|   201910|Masculin|      Marié(e)|  1| 43|             6|    35-44|                       0.0|                        5.5|                         2.0|                         0.0|                          0.0|                0.0|                 0.0|                                 -66.67|                             0.33|            null|\n",
      "+--------+---------+--------+--------------+---+---+--------------+---------+--------------------------+---------------------------+----------------------------+----------------------------+-----------------------------+-------------------+--------------------+---------------------------------------+---------------------------------+----------------+\n",
      "only showing top 20 rows\n",
      "\n"
     ]
    }
   ],
   "source": [
    "# df_master9.show()"
   ]
  },
  {
   "cell_type": "code",
   "execution_count": null,
   "metadata": {},
   "outputs": [],
   "source": []
  },
  {
   "cell_type": "code",
   "execution_count": 126,
   "metadata": {},
   "outputs": [],
   "source": [
    "df_master10 = df_master9.join(df_gab_numoperation, on=['Idclient','ANNEEMOIS'], how='left')"
   ]
  },
  {
   "cell_type": "code",
   "execution_count": 128,
   "metadata": {},
   "outputs": [],
   "source": [
    "# df_master10.show()"
   ]
  },
  {
   "cell_type": "code",
   "execution_count": null,
   "metadata": {},
   "outputs": [],
   "source": []
  },
  {
   "cell_type": "markdown",
   "metadata": {},
   "source": [
    "## Feature yousr"
   ]
  },
  {
   "cell_type": "code",
   "execution_count": 148,
   "metadata": {},
   "outputs": [],
   "source": [
    "df_hasyousr= df_hasyousr.withColumnRenamed(\"IdclientYousr\",\"Idclient\")"
   ]
  },
  {
   "cell_type": "code",
   "execution_count": 161,
   "metadata": {},
   "outputs": [
    {
     "name": "stdout",
     "output_type": "stream",
     "text": [
      "+--------+------------+\n",
      "|Idclient|AUTORISATION|\n",
      "+--------+------------+\n",
      "|  342364|           1|\n",
      "|   13918|           2|\n",
      "|  232263|           1|\n",
      "|  123015|           1|\n",
      "|  232326|           1|\n",
      "|  177881|           1|\n",
      "|   13956|           1|\n",
      "|  177848|           2|\n",
      "|  341532|           2|\n",
      "|  342315|           1|\n",
      "|  397080|           1|\n",
      "|  396953|           2|\n",
      "|   71314|           2|\n",
      "|  235509|           5|\n",
      "|   71771|           6|\n",
      "|  345315|           1|\n",
      "|   14412|           2|\n",
      "|  396567|           1|\n",
      "|  181937|           4|\n",
      "|  291088|           2|\n",
      "+--------+------------+\n",
      "only showing top 20 rows\n",
      "\n",
      "+-------+------------------+-----------------+\n",
      "|summary|          Idclient|     AUTORISATION|\n",
      "+-------+------------------+-----------------+\n",
      "|  count|             38845|            38845|\n",
      "|   mean| 498632.5058308663|7.192174024971039|\n",
      "| stddev|288950.06599028135|  59.866719099457|\n",
      "|    min|                 5|                1|\n",
      "|    max|            999990|             4000|\n",
      "+-------+------------------+-----------------+\n",
      "\n"
     ]
    }
   ],
   "source": [
    "# df_hasyousr.show()\n",
    "# df_hasyousr.describe().show()"
   ]
  },
  {
   "cell_type": "code",
   "execution_count": 162,
   "metadata": {},
   "outputs": [],
   "source": [
    "checkyousr= df_master10.select(\"Idclient\",\"ANNEEMOIS\")"
   ]
  },
  {
   "cell_type": "code",
   "execution_count": 143,
   "metadata": {},
   "outputs": [
    {
     "name": "stdout",
     "output_type": "stream",
     "text": [
      "+-------+-----------------+-----------------+\n",
      "|summary|         Idclient|        ANNEEMOIS|\n",
      "+-------+-----------------+-----------------+\n",
      "|  count|          3391080|          3391080|\n",
      "|   mean|499881.0079384739|         201930.5|\n",
      "| stddev|288556.4259406937|40.75844071954127|\n",
      "|    min|                0|           201904|\n",
      "|    max|           999999|           202001|\n",
      "+-------+-----------------+-----------------+\n",
      "\n"
     ]
    }
   ],
   "source": [
    "# checkyousr.describe().show()"
   ]
  },
  {
   "cell_type": "code",
   "execution_count": 163,
   "metadata": {},
   "outputs": [],
   "source": [
    "checkyousr = checkyousr.join(df_hasyousr, on='Idclient', how='left')"
   ]
  },
  {
   "cell_type": "code",
   "execution_count": 164,
   "metadata": {},
   "outputs": [
    {
     "name": "stdout",
     "output_type": "stream",
     "text": [
      "+--------+---------+------------+\n",
      "|Idclient|ANNEEMOIS|AUTORISATION|\n",
      "+--------+---------+------------+\n",
      "|       0|   201904|        null|\n",
      "|       2|   201904|        null|\n",
      "|       2|   201910|        null|\n",
      "|       3|   201907|        null|\n",
      "|       4|   201904|        null|\n",
      "|       4|   201907|        null|\n",
      "|       4|   201910|        null|\n",
      "|       4|   202001|        null|\n",
      "|       5|   201904|           2|\n",
      "|       7|   201904|        null|\n",
      "|       7|   201907|        null|\n",
      "|       9|   201904|        null|\n",
      "|      12|   201910|        null|\n",
      "|      13|   202001|        null|\n",
      "|      14|   201910|        null|\n",
      "|      16|   201904|        null|\n",
      "|      16|   201910|        null|\n",
      "|      17|   202001|        null|\n",
      "|      21|   201907|        null|\n",
      "|      21|   201910|        null|\n",
      "+--------+---------+------------+\n",
      "only showing top 20 rows\n",
      "\n"
     ]
    }
   ],
   "source": [
    "# checkyousr.show()\n"
   ]
  },
  {
   "cell_type": "code",
   "execution_count": null,
   "metadata": {},
   "outputs": [],
   "source": []
  },
  {
   "cell_type": "code",
   "execution_count": null,
   "metadata": {},
   "outputs": [],
   "source": []
  },
  {
   "cell_type": "code",
   "execution_count": 165,
   "metadata": {},
   "outputs": [],
   "source": [
    "checkyousr = checkyousr.withColumn(\"HasCreditYousr\", when(col(\"AUTORISATION\").isNull(), 0).otherwise(1))\n"
   ]
  },
  {
   "cell_type": "code",
   "execution_count": 166,
   "metadata": {},
   "outputs": [
    {
     "name": "stdout",
     "output_type": "stream",
     "text": [
      "+--------+---------+------------+--------------+\n",
      "|Idclient|ANNEEMOIS|AUTORISATION|HasCreditYousr|\n",
      "+--------+---------+------------+--------------+\n",
      "|       0|   201904|        null|             0|\n",
      "|       0|   201907|        null|             0|\n",
      "|       0|   201910|        null|             0|\n",
      "|       0|   202001|        null|             0|\n",
      "|       1|   201904|        null|             0|\n",
      "|       1|   201907|        null|             0|\n",
      "|       1|   201910|        null|             0|\n",
      "|       1|   202001|        null|             0|\n",
      "|       2|   201904|        null|             0|\n",
      "|       2|   201907|        null|             0|\n",
      "|       2|   201910|        null|             0|\n",
      "|       2|   202001|        null|             0|\n",
      "|       3|   201904|        null|             0|\n",
      "|       3|   201907|        null|             0|\n",
      "|       3|   201910|        null|             0|\n",
      "|       3|   202001|        null|             0|\n",
      "|       4|   201904|        null|             0|\n",
      "|       4|   201907|        null|             0|\n",
      "|       4|   201910|        null|             0|\n",
      "|       4|   202001|        null|             0|\n",
      "+--------+---------+------------+--------------+\n",
      "only showing top 20 rows\n",
      "\n"
     ]
    }
   ],
   "source": [
    "# checkyousr.orderBy(\"Idclient\",\"ANNEEMOIS\").show()"
   ]
  },
  {
   "cell_type": "code",
   "execution_count": 167,
   "metadata": {},
   "outputs": [
    {
     "name": "stdout",
     "output_type": "stream",
     "text": [
      "+-------+------------------+-----------------+-----------------+-------------------+\n",
      "|summary|          Idclient|        ANNEEMOIS|     AUTORISATION|     HasCreditYousr|\n",
      "+-------+------------------+-----------------+-----------------+-------------------+\n",
      "|  count|           3391936|          3391936|           155380|            3391936|\n",
      "|   mean|499883.73336525215|         201930.5|7.192174024971039|0.04580864733296855|\n",
      "| stddev|288557.70003014023|40.75844071802368|59.86614115448288|0.20906991186922638|\n",
      "|    min|                 0|           201904|                1|                  0|\n",
      "|    max|            999999|           202001|             4000|                  1|\n",
      "+-------+------------------+-----------------+-----------------+-------------------+\n",
      "\n"
     ]
    }
   ],
   "source": [
    "# checkyousr.describe().show()"
   ]
  },
  {
   "cell_type": "code",
   "execution_count": 168,
   "metadata": {},
   "outputs": [],
   "source": [
    "# checkyousrfiltred = checkyousr.filter(checkyousr.HasCreditYousr == 1)\n"
   ]
  },
  {
   "cell_type": "code",
   "execution_count": 169,
   "metadata": {},
   "outputs": [
    {
     "name": "stdout",
     "output_type": "stream",
     "text": [
      "+--------+---------+------------+--------------+\n",
      "|Idclient|ANNEEMOIS|AUTORISATION|HasCreditYousr|\n",
      "+--------+---------+------------+--------------+\n",
      "|       5|   201904|           2|             1|\n",
      "|       5|   201907|           2|             1|\n",
      "|       5|   201910|           2|             1|\n",
      "|       5|   202001|           2|             1|\n",
      "|      32|   201904|          10|             1|\n",
      "|      32|   201907|          10|             1|\n",
      "|      32|   201910|          10|             1|\n",
      "|      32|   202001|          10|             1|\n",
      "|      41|   201904|           3|             1|\n",
      "|      41|   201907|           3|             1|\n",
      "|      41|   201910|           3|             1|\n",
      "|      41|   202001|           3|             1|\n",
      "|      56|   201904|           4|             1|\n",
      "|      56|   201907|           4|             1|\n",
      "|      56|   201910|           4|             1|\n",
      "|      56|   202001|           4|             1|\n",
      "|      99|   201904|           2|             1|\n",
      "|      99|   201907|           2|             1|\n",
      "|      99|   201910|           2|             1|\n",
      "|      99|   202001|           2|             1|\n",
      "+--------+---------+------------+--------------+\n",
      "only showing top 20 rows\n",
      "\n"
     ]
    }
   ],
   "source": [
    "# checkyousrfiltred.orderBy(\"Idclient\",\"ANNEEMOIS\").show()"
   ]
  },
  {
   "cell_type": "code",
   "execution_count": 170,
   "metadata": {},
   "outputs": [],
   "source": [
    "checkyousr2 = checkyousr.select(\"Idclient\",\"ANNEEMOIS\",\"HasCreditYousr\")"
   ]
  },
  {
   "cell_type": "code",
   "execution_count": 171,
   "metadata": {},
   "outputs": [],
   "source": [
    "df_master11 = df_master10.join(checkyousr2, on=['Idclient','ANNEEMOIS'], how='left')"
   ]
  },
  {
   "cell_type": "code",
   "execution_count": 172,
   "metadata": {},
   "outputs": [
    {
     "name": "stdout",
     "output_type": "stream",
     "text": [
      "+--------+---------+--------+--------------+---+---+--------------+---------+--------------------------+---------------------------+----------------------------+----------------------------+-----------------------------+-------------------+--------------------+---------------------------------------+---------------------------------+----------------+----------------------+--------------+\n",
      "|Idclient|ANNEEMOIS|   genre|MARITAL_STATUS|BPR|age|CUSTOMER_YEARS|AGE_GROUP|MEAN_SOLDE_PREVIOUS_MONTHS|MEAN_MVTDEB_PREVIOUS_MONTHS|MEAN_NBMVTDB_PREVIOUS_MONTHS|MEAN_MVTCRED_PREVIOUS_MONTHS|MEAN_NBMVTCRE_PREVIOUS_MONTHS|MEAN_MONTANTFACTURE|MEAN_MONTANTVIREMENT|MEAN_MONTANT_OPERATIONS_PREVIOUS_MONTHS|MEAN_NBROPERATION_PREVIOUS_MONTHS|MEAN_MONTANT_GAB|MEAN_NUM_OPERATION_GAB|HasCreditYousr|\n",
      "+--------+---------+--------+--------------+---+---+--------------+---------+--------------------------+---------------------------+----------------------------+----------------------------+-----------------------------+-------------------+--------------------+---------------------------------------+---------------------------------+----------------+----------------------+--------------+\n",
      "|       0|   201904| Féminin|      Marié(e)|  1| 64|            23|    55-64|                   1025.33|                    3452.73|                        9.33|                      2500.0|                          1.0|                0.0|                 0.0|                                1616.67|                             1.33|         2133.33|                  7.33|             0|\n",
      "|       2|   201904| Féminin|      Marié(e)|  1| 70|            45|      65+|                   5757.81|                     7097.8|                        2.67|                     4100.77|                          2.0|                0.0|                 0.0|                                 1800.0|                             1.67|         2666.67|                  3.33|             0|\n",
      "|       2|   201910| Féminin|      Marié(e)|  1| 70|            45|      65+|                   2044.72|                        0.0|                        2.33|                     1351.83|                         1.67|                0.0|                 0.0|                                 433.33|                             0.33|         3766.67|                  7.67|             0|\n",
      "|       3|   201907| Féminin|   Celibataire|  1| 51|            17|    45-54|                   -881.56|                      18.33|                         0.0|                         0.0|                          0.0|                0.0|                 0.0|                                    0.0|                              0.0|             0.0|                   0.0|             0|\n",
      "|       4|   201904|Masculin|      Marié(e)|  1| 50|             6|    45-54|                    236.91|                     208.81|                        3.67|                       600.0|                          1.0|                0.0|                 0.0|                                    0.0|                              0.0|           200.0|                  0.67|             0|\n",
      "|       4|   201907|Masculin|      Marié(e)|  1| 50|             6|    45-54|                    210.51|                     475.47|                        5.33|                       800.0|                         1.33|                0.0|                 0.0|                                    0.0|                              0.0|          266.67|                  1.33|             0|\n",
      "|       4|   201910|Masculin|      Marié(e)|  1| 50|             6|    45-54|                     55.17|                      408.8|                         5.0|                       400.0|                         0.67|                0.0|                 0.0|                                    0.0|                              0.0|           200.0|                  1.33|             0|\n",
      "|       4|   202001|Masculin|      Marié(e)|  1| 50|             6|    45-54|                    143.16|                     1013.2|                        5.33|                      1000.0|                          1.0|                0.0|                 0.0|                                    0.0|                              0.0|             0.0|                   0.0|             0|\n",
      "|       5|   201904| Féminin|      Marié(e)|  1| 41|             9|    35-44|                   4211.08|                        0.0|                         0.0|                         0.0|                          0.0|                0.0|                 0.0|                                    0.0|                              0.0|          3700.0|                   3.0|             1|\n",
      "|       7|   201904| Féminin|   Celibataire|  1| 34|            12|    25-34|                   6265.32|                    5859.92|                         0.0|                         0.0|                          0.0|                0.0|                 0.0|                                    0.0|                              0.0|          1600.0|                  3.67|             0|\n",
      "|       7|   201907| Féminin|   Celibataire|  1| 34|            12|    25-34|                   5734.74|                    5293.04|                         0.0|                         0.0|                          0.0|                0.0|                 0.0|                                    0.0|                              0.0|         1933.33|                  2.33|             0|\n",
      "|       9|   201904|Masculin|   Celibataire|  1| 39|             3|    35-44|                   1006.83|                     1545.0|                         0.0|                         0.0|                          0.0|                0.0|                 0.0|                                 533.33|                             0.33|          866.67|                  2.67|             0|\n",
      "|      12|   201910|Masculin|   Celibataire|  1| 32|             9|    25-34|                  86661.48|                    2211.03|                         0.0|                         0.0|                          0.0|                0.0|                 0.0|                                 -500.0|                             0.33|            null|                  null|             0|\n",
      "|      13|   202001|Masculin|   Celibataire|  1| 37|             6|    35-44|                   -777.28|                      38.01|                        1.33|                         0.0|                          0.0|                0.0|                 0.0|                                    0.0|                              0.0|            null|                  null|             0|\n",
      "|      14|   201910| Féminin|      Marié(e)|  1| 35|             4|    35-44|                   2904.98|                    1047.07|                        3.33|                     2466.67|                         1.33|                0.0|                 0.0|                                    0.0|                              0.0|         1833.33|                  2.67|             0|\n",
      "|      16|   201904| Féminin|   Celibataire|  1| 25|             7|    25-34|                   9494.12|                    2692.93|                         0.0|                         0.0|                          0.0|                0.0|                 0.0|                                    0.0|                              0.0|         1966.67|                  2.33|             0|\n",
      "|      16|   201910| Féminin|   Celibataire|  1| 25|             7|    25-34|                    535.23|                     782.15|                         0.0|                         0.0|                          0.0|                0.0|                 0.0|                                    0.0|                              0.0|             0.0|                   0.0|             0|\n",
      "|      17|   202001| Féminin|   Celibataire|  1| 26|             7|    25-34|                   1646.97|                      12.67|                        0.67|                      1600.0|                          1.0|                0.0|                 0.0|                                 2400.0|                             1.33|         1366.67|                  5.33|             0|\n",
      "|      21|   201907|Masculin|      Marié(e)|  1| 43|             6|    35-44|                     82.63|                       11.0|                        1.33|                         0.0|                          0.0|                0.0|                 0.0|                                    0.0|                              0.0|            null|                  null|             0|\n",
      "|      21|   201910|Masculin|      Marié(e)|  1| 43|             6|    35-44|                       0.0|                        5.5|                         2.0|                         0.0|                          0.0|                0.0|                 0.0|                                 -66.67|                             0.33|            null|                  null|             0|\n",
      "+--------+---------+--------+--------------+---+---+--------------+---------+--------------------------+---------------------------+----------------------------+----------------------------+-----------------------------+-------------------+--------------------+---------------------------------------+---------------------------------+----------------+----------------------+--------------+\n",
      "only showing top 20 rows\n",
      "\n"
     ]
    }
   ],
   "source": [
    "# df_master11.show()"
   ]
  },
  {
   "cell_type": "code",
   "execution_count": null,
   "metadata": {},
   "outputs": [],
   "source": []
  },
  {
   "cell_type": "code",
   "execution_count": null,
   "metadata": {},
   "outputs": [],
   "source": []
  },
  {
   "cell_type": "code",
   "execution_count": null,
   "metadata": {},
   "outputs": [],
   "source": []
  },
  {
   "cell_type": "code",
   "execution_count": null,
   "metadata": {},
   "outputs": [],
   "source": []
  },
  {
   "cell_type": "code",
   "execution_count": null,
   "metadata": {},
   "outputs": [],
   "source": []
  },
  {
   "cell_type": "code",
   "execution_count": 173,
   "metadata": {},
   "outputs": [],
   "source": [
    "c"
   ]
  },
  {
   "cell_type": "code",
   "execution_count": 174,
   "metadata": {},
   "outputs": [
    {
     "name": "stdout",
     "output_type": "stream",
     "text": [
      "+--------+---------+--------+--------------+---+---+--------------+---------+--------------------------+---------------------------+----------------------------+----------------------------+-----------------------------+-------------------+--------------------+---------------------------------------+---------------------------------+----------------+----------------------+--------------+----------+------------+------------------+\n",
      "|Idclient|ANNEEMOIS|   genre|MARITAL_STATUS|BPR|age|CUSTOMER_YEARS|AGE_GROUP|MEAN_SOLDE_PREVIOUS_MONTHS|MEAN_MVTDEB_PREVIOUS_MONTHS|MEAN_NBMVTDB_PREVIOUS_MONTHS|MEAN_MVTCRED_PREVIOUS_MONTHS|MEAN_NBMVTCRE_PREVIOUS_MONTHS|MEAN_MONTANTFACTURE|MEAN_MONTANTVIREMENT|MEAN_MONTANT_OPERATIONS_PREVIOUS_MONTHS|MEAN_NBROPERATION_PREVIOUS_MONTHS|MEAN_MONTANT_GAB|MEAN_NUM_OPERATION_GAB|HasCreditYousr|CONNECTION|ACTIVE_RATIO|Connected recently|\n",
      "+--------+---------+--------+--------------+---+---+--------------+---------+--------------------------+---------------------------+----------------------------+----------------------------+-----------------------------+-------------------+--------------------+---------------------------------------+---------------------------------+----------------+----------------------+--------------+----------+------------+------------------+\n",
      "|       0|   201904| Féminin|      Marié(e)|  1| 64|            23|    55-64|                   1025.33|                    3452.73|                        9.33|                      2500.0|                          1.0|                0.0|                 0.0|                                1616.67|                             1.33|         2133.33|                  7.33|             0|      null|        null|                 0|\n",
      "|       2|   201904| Féminin|      Marié(e)|  1| 70|            45|      65+|                   5757.81|                     7097.8|                        2.67|                     4100.77|                          2.0|                0.0|                 0.0|                                 1800.0|                             1.67|         2666.67|                  3.33|             0|      null|        null|                 0|\n",
      "|       2|   201910| Féminin|      Marié(e)|  1| 70|            45|      65+|                   2044.72|                        0.0|                        2.33|                     1351.83|                         1.67|                0.0|                 0.0|                                 433.33|                             0.33|         3766.67|                  7.67|             0|      null|        null|                 0|\n",
      "|       3|   201907| Féminin|   Celibataire|  1| 51|            17|    45-54|                   -881.56|                      18.33|                         0.0|                         0.0|                          0.0|                0.0|                 0.0|                                    0.0|                              0.0|             0.0|                   0.0|             0|      null|        null|                 0|\n",
      "|       4|   201904|Masculin|      Marié(e)|  1| 50|             6|    45-54|                    236.91|                     208.81|                        3.67|                       600.0|                          1.0|                0.0|                 0.0|                                    0.0|                              0.0|           200.0|                  0.67|             0|      null|        null|                 0|\n",
      "+--------+---------+--------+--------------+---+---+--------------+---------+--------------------------+---------------------------+----------------------------+----------------------------+-----------------------------+-------------------+--------------------+---------------------------------------+---------------------------------+----------------+----------------------+--------------+----------+------------+------------------+\n",
      "only showing top 5 rows\n",
      "\n"
     ]
    }
   ],
   "source": [
    "df_master12.show(5)"
   ]
  },
  {
   "cell_type": "code",
   "execution_count": null,
   "metadata": {},
   "outputs": [],
   "source": []
  },
  {
   "cell_type": "code",
   "execution_count": null,
   "metadata": {},
   "outputs": [],
   "source": []
  },
  {
   "cell_type": "code",
   "execution_count": null,
   "metadata": {},
   "outputs": [],
   "source": []
  },
  {
   "cell_type": "code",
   "execution_count": null,
   "metadata": {},
   "outputs": [],
   "source": []
  },
  {
   "cell_type": "code",
   "execution_count": null,
   "metadata": {},
   "outputs": [],
   "source": []
  },
  {
   "cell_type": "code",
   "execution_count": null,
   "metadata": {},
   "outputs": [],
   "source": []
  },
  {
   "cell_type": "code",
   "execution_count": null,
   "metadata": {},
   "outputs": [],
   "source": []
  },
  {
   "cell_type": "code",
   "execution_count": null,
   "metadata": {},
   "outputs": [],
   "source": []
  },
  {
   "cell_type": "markdown",
   "metadata": {},
   "source": [
    "## Tables de la variable cible"
   ]
  },
  {
   "cell_type": "code",
   "execution_count": 71,
   "metadata": {},
   "outputs": [],
   "source": [
    "folder_path2 = r\"C:\\Users\\DELL XPS\\Desktop\\data\\new\\tables pre traite\\tables historisées\\cible\"\n",
    "\n",
    "file_names2 = [\"df_cptferm2019\", \"df_fermcpt2019\", \"df_fermcpt2020\"]\n",
    "\n",
    "\n",
    "for file_name in file_names2:\n",
    "    csv_path2 = f\"{folder_path2}/{file_name}.csv\"\n",
    "    globals()[f\"{file_name}\"] = spark.read.csv(csv_path2, header=True, inferSchema=True)"
   ]
  },
  {
   "cell_type": "code",
   "execution_count": 72,
   "metadata": {},
   "outputs": [],
   "source": [
    "# df_cptferm2019.show()"
   ]
  },
  {
   "cell_type": "code",
   "execution_count": 73,
   "metadata": {},
   "outputs": [],
   "source": [
    "# df_fermcpt2019.show()"
   ]
  },
  {
   "cell_type": "code",
   "execution_count": 74,
   "metadata": {},
   "outputs": [],
   "source": [
    "# df_fermcpt2020.show()"
   ]
  },
  {
   "cell_type": "code",
   "execution_count": 75,
   "metadata": {},
   "outputs": [],
   "source": [
    "df_cptferm2019 = df_cptferm2019.withColumn(\"MOIS\", F.lpad(df_cptferm2019[\"MOIS\"], 2, '0'))\n",
    "df_cptferm2019 = df_cptferm2019.withColumn(\"Idclient\", F.lpad(df_cptferm2019[\"Idclient\"], 7, '0'))\n",
    "\n",
    "df_fermcpt2019 = df_fermcpt2019.withColumn(\"MOIS\", F.lpad(df_fermcpt2019[\"MOIS\"], 2, '0'))\n",
    "df_fermcpt2019 = df_fermcpt2019.withColumn(\"Idclient\", F.lpad(df_fermcpt2019[\"Idclient\"], 7, '0'))\n",
    "\n",
    "df_fermcpt2020 = df_fermcpt2020.withColumn(\"MOIS\", F.lpad(df_fermcpt2020[\"MOIS\"], 2, '0'))\n",
    "df_fermcpt2020 = df_fermcpt2020.withColumn(\"Idclient\", F.lpad(df_fermcpt2020[\"Idclient\"], 7, '0'))"
   ]
  },
  {
   "cell_type": "code",
   "execution_count": null,
   "metadata": {},
   "outputs": [],
   "source": []
  },
  {
   "cell_type": "code",
   "execution_count": 76,
   "metadata": {},
   "outputs": [],
   "source": [
    "df_cptferm2019 = df_cptferm2019.withColumn(\"ANNEEMOIS_Fermeture\", F.concat(F.col(\"ANNEE\"), F.col(\"MOIS\")))\n"
   ]
  },
  {
   "cell_type": "code",
   "execution_count": 77,
   "metadata": {},
   "outputs": [],
   "source": [
    "df_fermcpt2019 = df_fermcpt2019.withColumn(\"ANNEEMOIS_Fermeture\", F.concat(F.col(\"ANNEE\"), F.col(\"MOIS\")))\n"
   ]
  },
  {
   "cell_type": "code",
   "execution_count": 78,
   "metadata": {},
   "outputs": [],
   "source": [
    "df_fermcpt2020 = df_fermcpt2020.withColumn(\"ANNEEMOIS_Fermeture\", F.concat(F.col(\"ANNEE\"), F.col(\"MOIS\")))\n"
   ]
  },
  {
   "cell_type": "code",
   "execution_count": 79,
   "metadata": {},
   "outputs": [],
   "source": [
    "# df_fermcpt2020.show()"
   ]
  },
  {
   "cell_type": "code",
   "execution_count": 80,
   "metadata": {},
   "outputs": [],
   "source": [
    "df2_cptferm2019 = df_cptferm2019.select(\"Idclient\",\"PERIODE\", \"ANNEEMOIS_Fermeture\")\n",
    "df2_fermcpt2019 = df_fermcpt2019.select(\"Idclient\",\"ORIGINE_DEMANDE\", \"ANNEEMOIS_Fermeture\")\n",
    "df2_fermcpt2020 = df_fermcpt2020.select(\"Idclient\",\"ORIGINE_DEMANDE\", \"ANNEEMOIS_Fermeture\")"
   ]
  },
  {
   "cell_type": "code",
   "execution_count": 81,
   "metadata": {},
   "outputs": [],
   "source": [
    "# df2_cptferm2019.show()"
   ]
  },
  {
   "cell_type": "code",
   "execution_count": 82,
   "metadata": {},
   "outputs": [],
   "source": [
    "# df2_fermcpt2019.show()\n",
    "# df2_fermcpt2020.show()"
   ]
  },
  {
   "cell_type": "code",
   "execution_count": 83,
   "metadata": {},
   "outputs": [],
   "source": [
    "# # Sélectionner la colonne \"Idclient\" de chaque table\n",
    "# id_clients_df2_cptferm2019 = df2_cptferm2019.select(\"Idclient\")\n",
    "# id_clients_df2_fermcpt2019 = df2_fermcpt2019.select(\"Idclient\")\n",
    "# id_clients_df2_fermcpt2020 = df2_fermcpt2020.select(\"Idclient\")\n",
    "\n",
    "# # Trouver les clients en commun entre les tables\n",
    "# common_clients = id_clients_df2_cptferm2019.intersect(id_clients_df2_fermcpt2019).intersect(id_clients_df2_fermcpt2020)\n",
    "\n",
    "# # Afficher le nombre de clients en commun\n",
    "# print(\"Nombre de clients en commun : \", common_clients.count())\n"
   ]
  },
  {
   "cell_type": "code",
   "execution_count": 84,
   "metadata": {},
   "outputs": [],
   "source": [
    "df2_cptferm2019_all_columns = df2_cptferm2019.select(\"*\")\n",
    "df2_fermcpt2019_all_columns = df2_fermcpt2019.select(\"*\")\n",
    "df2_fermcpt2020_all_columns = df2_fermcpt2020.select(\"*\")\n",
    "\n",
    "table_cible = df2_cptferm2019_all_columns.union(df2_fermcpt2019_all_columns).union(df2_fermcpt2020_all_columns)\n",
    "\n",
    "# table_cible.show()\n"
   ]
  },
  {
   "cell_type": "code",
   "execution_count": 85,
   "metadata": {},
   "outputs": [],
   "source": [
    "# table_cible.orderBy(\"Idclient\").show()\n"
   ]
  },
  {
   "cell_type": "code",
   "execution_count": 86,
   "metadata": {},
   "outputs": [],
   "source": [
    "from pyspark.sql.functions import col\n",
    "\n",
    "table_cible = table_cible.withColumn(\"Idclient\", col(\"Idclient\").cast(\"integer\"))\n"
   ]
  },
  {
   "cell_type": "code",
   "execution_count": null,
   "metadata": {},
   "outputs": [],
   "source": []
  },
  {
   "cell_type": "code",
   "execution_count": 87,
   "metadata": {},
   "outputs": [],
   "source": [
    "\n",
    "# common_clients = df_master9.select(\"Idclient\").intersect(table_cible.select(\"Idclient\"))\n",
    "# num_common_clients = common_clients.count()\n",
    "\n",
    "# print(\"Nombre d'Idclient en commun : \", num_common_clients)\n"
   ]
  },
  {
   "cell_type": "code",
   "execution_count": 88,
   "metadata": {},
   "outputs": [
    {
     "data": {
      "text/plain": [
       "13163"
      ]
     },
     "execution_count": 88,
     "metadata": {},
     "output_type": "execute_result"
    }
   ],
   "source": [
    "table_cible.count()\n"
   ]
  },
  {
   "cell_type": "code",
   "execution_count": 89,
   "metadata": {},
   "outputs": [],
   "source": [
    "# from pyspark.sql.functions import col\n",
    "\n",
    "# count = table_cible.filter(col(\"ANNEEMOIS_Fermeture\") < \"202005\").count()\n",
    "# print(\"Nombre de lignes avec ANNEEMOIS_Fermeture < 202005 :\", count)\n"
   ]
  },
  {
   "cell_type": "code",
   "execution_count": null,
   "metadata": {},
   "outputs": [],
   "source": []
  },
  {
   "cell_type": "code",
   "execution_count": 90,
   "metadata": {},
   "outputs": [],
   "source": [
    "# def get_next_three_months(anneemois):\n",
    "#     year = int(str(anneemois)[:4])\n",
    "#     month = int(str(anneemois)[4:])\n",
    "    \n",
    "#     next_months = []\n",
    "#     for _ in range(3):\n",
    "#         month += 1\n",
    "#         if month > 12:\n",
    "#             year += 1\n",
    "#             month = 1\n",
    "#         next_months.append(year * 100 + month)\n",
    "    \n",
    "#     return next_months\n"
   ]
  },
  {
   "cell_type": "code",
   "execution_count": 91,
   "metadata": {},
   "outputs": [],
   "source": [
    "# get_next_three_months(201911)"
   ]
  },
  {
   "cell_type": "code",
   "execution_count": null,
   "metadata": {},
   "outputs": [],
   "source": []
  },
  {
   "cell_type": "code",
   "execution_count": 92,
   "metadata": {},
   "outputs": [],
   "source": [
    "# all_months = [201901, 201902, 201903, 201904, 201905, 201906, 201907, 201908, 201909, 201910, 201911, 201912, 202001]"
   ]
  },
  {
   "cell_type": "code",
   "execution_count": 93,
   "metadata": {},
   "outputs": [],
   "source": [
    "# from pyspark.sql.functions import col\n",
    "\n",
    "# # Jointure de la table master avec la table des variables cibles\n",
    "# df_master10 = df_master9.join(table_cible, [\"Idclient\"], \"left_outer\")\n",
    "\n"
   ]
  },
  {
   "cell_type": "code",
   "execution_count": null,
   "metadata": {},
   "outputs": [],
   "source": []
  },
  {
   "cell_type": "code",
   "execution_count": 94,
   "metadata": {},
   "outputs": [
    {
     "name": "stdout",
     "output_type": "stream",
     "text": [
      "+--------+-------+-------------------+\n",
      "|Idclient|PERIODE|ANNEEMOIS_Fermeture|\n",
      "+--------+-------+-------------------+\n",
      "|  111550|      H|             201901|\n",
      "|  478038|      H|             201901|\n",
      "|  962285|      H|             201901|\n",
      "|  249414|      H|             201901|\n",
      "|  728082|      H|             201901|\n",
      "|  183295|      H|             201901|\n",
      "|  926361|      H|             201912|\n",
      "|  662770|      H|             201912|\n",
      "|  364534|      H|             201901|\n",
      "|  979903|      H|             201901|\n",
      "|  925811|      H|             201901|\n",
      "|  352597|      H|             201901|\n",
      "|  316923|      H|             201901|\n",
      "|  229107|      H|             201901|\n",
      "|  723185|      H|             201901|\n",
      "|  293584|      H|             201912|\n",
      "|  627724|      H|             201901|\n",
      "|  778143|      H|             201901|\n",
      "|  959569|      H|             201901|\n",
      "|  802966|      H|             201901|\n",
      "+--------+-------+-------------------+\n",
      "only showing top 20 rows\n",
      "\n"
     ]
    }
   ],
   "source": [
    "table_cible.show()"
   ]
  },
  {
   "cell_type": "code",
   "execution_count": 95,
   "metadata": {},
   "outputs": [],
   "source": [
    "# df_master10.select(\"ANNEEMOIS_Fermeture\").count()"
   ]
  },
  {
   "cell_type": "code",
   "execution_count": 96,
   "metadata": {},
   "outputs": [],
   "source": [
    "df_master_Ids = df_master9.select(\"Idclient\",\"ANNEEMOIS\")"
   ]
  },
  {
   "cell_type": "code",
   "execution_count": null,
   "metadata": {},
   "outputs": [],
   "source": []
  },
  {
   "cell_type": "code",
   "execution_count": null,
   "metadata": {},
   "outputs": [],
   "source": []
  },
  {
   "cell_type": "code",
   "execution_count": null,
   "metadata": {},
   "outputs": [],
   "source": []
  },
  {
   "cell_type": "code",
   "execution_count": 97,
   "metadata": {},
   "outputs": [
    {
     "name": "stdout",
     "output_type": "stream",
     "text": [
      "+--------+---------+\n",
      "|Idclient|ANNEEMOIS|\n",
      "+--------+---------+\n",
      "|       0|   201904|\n",
      "|       2|   201904|\n",
      "|       2|   201910|\n",
      "|       3|   201907|\n",
      "|       4|   201904|\n",
      "|       4|   201907|\n",
      "|       4|   201910|\n",
      "|       4|   202001|\n",
      "|       5|   201904|\n",
      "|       7|   201904|\n",
      "|       7|   201907|\n",
      "|       9|   201904|\n",
      "|      12|   201910|\n",
      "|      13|   202001|\n",
      "|      14|   201910|\n",
      "|      16|   201904|\n",
      "|      16|   201910|\n",
      "|      17|   202001|\n",
      "|      21|   201907|\n",
      "|      21|   201910|\n",
      "+--------+---------+\n",
      "only showing top 20 rows\n",
      "\n"
     ]
    }
   ],
   "source": [
    "df_master_Ids.show()"
   ]
  },
  {
   "cell_type": "code",
   "execution_count": 98,
   "metadata": {},
   "outputs": [
    {
     "name": "stdout",
     "output_type": "stream",
     "text": [
      "+--------+-------+-------------------+\n",
      "|Idclient|PERIODE|ANNEEMOIS_Fermeture|\n",
      "+--------+-------+-------------------+\n",
      "|  111550|      H|             201901|\n",
      "|  478038|      H|             201901|\n",
      "|  962285|      H|             201901|\n",
      "|  249414|      H|             201901|\n",
      "|  728082|      H|             201901|\n",
      "|  183295|      H|             201901|\n",
      "|  926361|      H|             201912|\n",
      "|  662770|      H|             201912|\n",
      "|  364534|      H|             201901|\n",
      "|  979903|      H|             201901|\n",
      "|  925811|      H|             201901|\n",
      "|  352597|      H|             201901|\n",
      "|  316923|      H|             201901|\n",
      "|  229107|      H|             201901|\n",
      "|  723185|      H|             201901|\n",
      "|  293584|      H|             201912|\n",
      "|  627724|      H|             201901|\n",
      "|  778143|      H|             201901|\n",
      "|  959569|      H|             201901|\n",
      "|  802966|      H|             201901|\n",
      "+--------+-------+-------------------+\n",
      "only showing top 20 rows\n",
      "\n"
     ]
    }
   ],
   "source": [
    "table_cible.show()"
   ]
  },
  {
   "cell_type": "code",
   "execution_count": 99,
   "metadata": {},
   "outputs": [],
   "source": [
    "df_master_cible = df_master_Ids.join(table_cible, \"Idclient\", \"left\")"
   ]
  },
  {
   "cell_type": "code",
   "execution_count": null,
   "metadata": {},
   "outputs": [],
   "source": []
  },
  {
   "cell_type": "code",
   "execution_count": null,
   "metadata": {},
   "outputs": [],
   "source": []
  },
  {
   "cell_type": "code",
   "execution_count": null,
   "metadata": {},
   "outputs": [],
   "source": []
  },
  {
   "cell_type": "code",
   "execution_count": null,
   "metadata": {},
   "outputs": [],
   "source": []
  },
  {
   "cell_type": "code",
   "execution_count": null,
   "metadata": {},
   "outputs": [],
   "source": []
  },
  {
   "cell_type": "code",
   "execution_count": 100,
   "metadata": {},
   "outputs": [],
   "source": [
    "# df_maser_cible.show()"
   ]
  },
  {
   "cell_type": "code",
   "execution_count": 101,
   "metadata": {},
   "outputs": [],
   "source": [
    "# df_filtered1 = df_master_cible.filter(df_master_cible.ANNEEMOIS_Fermeture.isNotNull())\n",
    "# df_filtered1.count()"
   ]
  },
  {
   "cell_type": "code",
   "execution_count": 102,
   "metadata": {},
   "outputs": [],
   "source": [
    "from pyspark.sql.functions import floor, col\n",
    "\n",
    "# Extraire l'année et le mois de la colonne ANNEEMOIS\n",
    "df_master_cible = df_master_cible.withColumn('Year', floor(col('ANNEEMOIS')/100))\n",
    "df_master_cible = df_master_cible.withColumn('Month', col('ANNEEMOIS')%100)\n",
    "\n",
    "# Extraire l'année et le mois de la colonne ANNEEMOIS_Fermeture\n",
    "df_master_cible = df_master_cible.withColumn('Year_Fermeture', floor(col('ANNEEMOIS_Fermeture')/100))\n",
    "df_master_cible = df_master_cible.withColumn('Month_Fermeture', col('ANNEEMOIS_Fermeture')%100)\n",
    "\n",
    "\n",
    "\n"
   ]
  },
  {
   "cell_type": "code",
   "execution_count": null,
   "metadata": {},
   "outputs": [],
   "source": []
  },
  {
   "cell_type": "code",
   "execution_count": 103,
   "metadata": {},
   "outputs": [],
   "source": [
    "# from pyspark.sql.functions import expr\n",
    "\n",
    "# # Créer une nouvelle colonne qui représente la date trois mois plus tard\n",
    "# df_master_cible = df_master_cible.withColumn(\n",
    "#     \"ANNEEMOIS_plus_trois_mois\",\n",
    "#     F.when(\n",
    "#         col('Month') <= 9, \n",
    "#         col('Year')*100 + col('Month') + 3\n",
    "#     ).otherwise(\n",
    "#         (col('Year') + 1)*100 + (col('Month') + 3 - 12)\n",
    "#     )\n",
    "# )\n",
    "\n"
   ]
  },
  {
   "cell_type": "code",
   "execution_count": null,
   "metadata": {},
   "outputs": [],
   "source": []
  },
  {
   "cell_type": "code",
   "execution_count": 104,
   "metadata": {},
   "outputs": [],
   "source": [
    "# # Créer une nouvelle colonne qui indique si l'ANNEEMOIS_Fermeture est dans le trimestre qui suit l'ANNEEMOIS\n",
    "# df_master_cible = df_master_cible.withColumn(\n",
    "#     \"churn_next_trim\",\n",
    "#     F.when(\n",
    "#         (col('ANNEEMOIS_Fermeture') <= col('ANNEEMOIS_plus_trois_mois')) &\n",
    "#         (col('ANNEEMOIS_Fermeture') >= col('ANNEEMOIS')), \n",
    "#         1\n",
    "#     ).otherwise(0)\n",
    "# )\n",
    "\n",
    "# # Afficher les résultats\n",
    "# df_master_cible.show()\n"
   ]
  },
  {
   "cell_type": "code",
   "execution_count": 105,
   "metadata": {},
   "outputs": [],
   "source": [
    "# df_master_cible = df_master_cible.drop(\"ANNEEMOIS_plus_trois_mois\",\"churn_next_trim\")"
   ]
  },
  {
   "cell_type": "code",
   "execution_count": 106,
   "metadata": {},
   "outputs": [],
   "source": [
    "from pyspark.sql.functions import expr\n",
    "\n",
    "# Créer une nouvelle colonne qui représente la date deux mois plus tard\n",
    "df_master_cible = df_master_cible.withColumn(\n",
    "    \"ANNEEMOIS_plus_deux_mois\",\n",
    "    F.when(\n",
    "        col('Month') <= 10, \n",
    "        col('Year')*100 + col('Month') + 2\n",
    "    ).otherwise(\n",
    "        (col('Year') + 1)*100 + (col('Month') - 10 + 2)\n",
    "    )\n",
    ")\n",
    "\n",
    "\n"
   ]
  },
  {
   "cell_type": "code",
   "execution_count": 107,
   "metadata": {},
   "outputs": [
    {
     "name": "stdout",
     "output_type": "stream",
     "text": [
      "+--------+---------+-------+-------------------+----+-----+--------------+---------------+------------------------+\n",
      "|Idclient|ANNEEMOIS|PERIODE|ANNEEMOIS_Fermeture|Year|Month|Year_Fermeture|Month_Fermeture|ANNEEMOIS_plus_deux_mois|\n",
      "+--------+---------+-------+-------------------+----+-----+--------------+---------------+------------------------+\n",
      "|       0|   201904|   null|               null|2019|    4|          null|           null|                  201906|\n",
      "|       2|   201904|   null|               null|2019|    4|          null|           null|                  201906|\n",
      "|       2|   201910|   null|               null|2019|   10|          null|           null|                  201912|\n",
      "|       3|   201907|   null|               null|2019|    7|          null|           null|                  201909|\n",
      "|       4|   201904|   null|               null|2019|    4|          null|           null|                  201906|\n",
      "|       4|   201907|   null|               null|2019|    7|          null|           null|                  201909|\n",
      "|       4|   201910|   null|               null|2019|   10|          null|           null|                  201912|\n",
      "|       4|   202001|   null|               null|2020|    1|          null|           null|                  202003|\n",
      "|       5|   201904|   null|               null|2019|    4|          null|           null|                  201906|\n",
      "|       7|   201904|   null|               null|2019|    4|          null|           null|                  201906|\n",
      "|       7|   201907|   null|               null|2019|    7|          null|           null|                  201909|\n",
      "|       9|   201904|   null|               null|2019|    4|          null|           null|                  201906|\n",
      "|      12|   201910|   null|               null|2019|   10|          null|           null|                  201912|\n",
      "|      13|   202001|   null|               null|2020|    1|          null|           null|                  202003|\n",
      "|      14|   201910|   null|               null|2019|   10|          null|           null|                  201912|\n",
      "|      16|   201904|   null|               null|2019|    4|          null|           null|                  201906|\n",
      "|      16|   201910|   null|               null|2019|   10|          null|           null|                  201912|\n",
      "|      17|   202001|   null|               null|2020|    1|          null|           null|                  202003|\n",
      "|      21|   201907|   null|               null|2019|    7|          null|           null|                  201909|\n",
      "|      21|   201910|   null|               null|2019|   10|          null|           null|                  201912|\n",
      "+--------+---------+-------+-------------------+----+-----+--------------+---------------+------------------------+\n",
      "only showing top 20 rows\n",
      "\n"
     ]
    }
   ],
   "source": [
    "df_master_cible.show()"
   ]
  },
  {
   "cell_type": "code",
   "execution_count": null,
   "metadata": {},
   "outputs": [],
   "source": []
  },
  {
   "cell_type": "code",
   "execution_count": 108,
   "metadata": {},
   "outputs": [],
   "source": [
    "# Créer une nouvelle colonne qui indique si l'ANNEEMOIS_Fermeture est pendant l'ANNEEMOIS ou les deux mois suivants\n",
    "df_master_cible = df_master_cible.withColumn(\n",
    "    \"Churn_next_trim\",\n",
    "    F.when(\n",
    "        (col('ANNEEMOIS_Fermeture') <= col('ANNEEMOIS_plus_deux_mois')) &\n",
    "        (col('ANNEEMOIS_Fermeture') >= col('ANNEEMOIS')), \n",
    "        1\n",
    "    ).otherwise(0)\n",
    ")\n",
    "\n"
   ]
  },
  {
   "cell_type": "code",
   "execution_count": 109,
   "metadata": {},
   "outputs": [],
   "source": [
    "# df_filtered = df_master_cible.filter(df_master_cible.Churn_next_trim == 1)\n",
    "# df_filtered.show()"
   ]
  },
  {
   "cell_type": "code",
   "execution_count": 110,
   "metadata": {},
   "outputs": [],
   "source": [
    "# df_filtered.groupBy(\"ANNEEMOIS_Fermeture\").count().show()"
   ]
  },
  {
   "cell_type": "code",
   "execution_count": null,
   "metadata": {},
   "outputs": [],
   "source": []
  },
  {
   "cell_type": "code",
   "execution_count": 111,
   "metadata": {},
   "outputs": [
    {
     "name": "stdout",
     "output_type": "stream",
     "text": [
      "+--------+---------+-------+-------------------+----+-----+--------------+---------------+------------------------+---------------+\n",
      "|Idclient|ANNEEMOIS|PERIODE|ANNEEMOIS_Fermeture|Year|Month|Year_Fermeture|Month_Fermeture|ANNEEMOIS_plus_deux_mois|Churn_next_trim|\n",
      "+--------+---------+-------+-------------------+----+-----+--------------+---------------+------------------------+---------------+\n",
      "|       0|   201904|   null|               null|2019|    4|          null|           null|                  201906|              0|\n",
      "|       2|   201904|   null|               null|2019|    4|          null|           null|                  201906|              0|\n",
      "|       2|   201910|   null|               null|2019|   10|          null|           null|                  201912|              0|\n",
      "|       3|   201907|   null|               null|2019|    7|          null|           null|                  201909|              0|\n",
      "|       4|   201904|   null|               null|2019|    4|          null|           null|                  201906|              0|\n",
      "|       4|   201907|   null|               null|2019|    7|          null|           null|                  201909|              0|\n",
      "|       4|   201910|   null|               null|2019|   10|          null|           null|                  201912|              0|\n",
      "|       4|   202001|   null|               null|2020|    1|          null|           null|                  202003|              0|\n",
      "|       5|   201904|   null|               null|2019|    4|          null|           null|                  201906|              0|\n",
      "|       7|   201904|   null|               null|2019|    4|          null|           null|                  201906|              0|\n",
      "|       7|   201907|   null|               null|2019|    7|          null|           null|                  201909|              0|\n",
      "|       9|   201904|   null|               null|2019|    4|          null|           null|                  201906|              0|\n",
      "|      12|   201910|   null|               null|2019|   10|          null|           null|                  201912|              0|\n",
      "|      13|   202001|   null|               null|2020|    1|          null|           null|                  202003|              0|\n",
      "|      14|   201910|   null|               null|2019|   10|          null|           null|                  201912|              0|\n",
      "|      16|   201904|   null|               null|2019|    4|          null|           null|                  201906|              0|\n",
      "|      16|   201910|   null|               null|2019|   10|          null|           null|                  201912|              0|\n",
      "|      17|   202001|   null|               null|2020|    1|          null|           null|                  202003|              0|\n",
      "|      21|   201907|   null|               null|2019|    7|          null|           null|                  201909|              0|\n",
      "|      21|   201910|   null|               null|2019|   10|          null|           null|                  201912|              0|\n",
      "+--------+---------+-------+-------------------+----+-----+--------------+---------------+------------------------+---------------+\n",
      "only showing top 20 rows\n",
      "\n"
     ]
    }
   ],
   "source": [
    "df_master_cible.show()"
   ]
  },
  {
   "cell_type": "code",
   "execution_count": null,
   "metadata": {},
   "outputs": [],
   "source": []
  },
  {
   "cell_type": "code",
   "execution_count": 112,
   "metadata": {},
   "outputs": [],
   "source": [
    "df_master_cible2 = df_master_cible.drop(\"Year\",\"Month\",\"Year_Fermeture\",\"Month_Fermeture\",\"ANNEEMOIS_plus_deux_mois\")"
   ]
  },
  {
   "cell_type": "code",
   "execution_count": 113,
   "metadata": {},
   "outputs": [
    {
     "name": "stdout",
     "output_type": "stream",
     "text": [
      "+--------+---------+-------+-------------------+---------------+\n",
      "|Idclient|ANNEEMOIS|PERIODE|ANNEEMOIS_Fermeture|Churn_next_trim|\n",
      "+--------+---------+-------+-------------------+---------------+\n",
      "|       0|   201904|   null|               null|              0|\n",
      "|       2|   201904|   null|               null|              0|\n",
      "|       2|   201910|   null|               null|              0|\n",
      "|       3|   201907|   null|               null|              0|\n",
      "|       4|   201904|   null|               null|              0|\n",
      "|       4|   201907|   null|               null|              0|\n",
      "|       4|   201910|   null|               null|              0|\n",
      "|       4|   202001|   null|               null|              0|\n",
      "|       5|   201904|   null|               null|              0|\n",
      "|       7|   201904|   null|               null|              0|\n",
      "|       7|   201907|   null|               null|              0|\n",
      "|       9|   201904|   null|               null|              0|\n",
      "|      12|   201910|   null|               null|              0|\n",
      "|      13|   202001|   null|               null|              0|\n",
      "|      14|   201910|   null|               null|              0|\n",
      "|      16|   201904|   null|               null|              0|\n",
      "|      16|   201910|   null|               null|              0|\n",
      "|      17|   202001|   null|               null|              0|\n",
      "|      21|   201907|   null|               null|              0|\n",
      "|      21|   201910|   null|               null|              0|\n",
      "|      22|   201910|   null|               null|              0|\n",
      "|      23|   201904|   null|               null|              0|\n",
      "|      23|   201910|   null|               null|              0|\n",
      "|      25|   201910|   null|               null|              0|\n",
      "|      27|   201904|   null|               null|              0|\n",
      "|      27|   201907|   null|               null|              0|\n",
      "|      29|   201907|   null|               null|              0|\n",
      "|      29|   201910|   null|               null|              0|\n",
      "|      32|   201907|   null|               null|              0|\n",
      "|      33|   201910|   null|               null|              0|\n",
      "|      33|   202001|   null|               null|              0|\n",
      "|      34|   201904|   null|               null|              0|\n",
      "|      36|   202001|   null|               null|              0|\n",
      "|      38|   201907|   null|               null|              0|\n",
      "|      38|   201910|   null|               null|              0|\n",
      "|      38|   202001|   null|               null|              0|\n",
      "|      39|   201904|   null|               null|              0|\n",
      "|      40|   201907|   null|               null|              0|\n",
      "|      40|   201910|   null|               null|              0|\n",
      "|      41|   201904|   null|               null|              0|\n",
      "|      41|   202001|   null|               null|              0|\n",
      "|      42|   201910|   null|               null|              0|\n",
      "|      43|   201907|   null|               null|              0|\n",
      "|      45|   201907|   null|               null|              0|\n",
      "|      48|   201910|   null|               null|              0|\n",
      "|      48|   202001|   null|               null|              0|\n",
      "|      50|   202001|   null|               null|              0|\n",
      "|      51|   201904|   null|               null|              0|\n",
      "|      51|   201907|   null|               null|              0|\n",
      "|      52|   201910|   null|               null|              0|\n",
      "|      53|   201910|   null|               null|              0|\n",
      "|      53|   202001|   null|               null|              0|\n",
      "|      54|   201910|   null|               null|              0|\n",
      "|      55|   201907|   null|               null|              0|\n",
      "|      55|   202001|   null|               null|              0|\n",
      "|      57|   201904|   null|               null|              0|\n",
      "|      58|   201907|   null|               null|              0|\n",
      "|      58|   201910|   null|               null|              0|\n",
      "|      60|   201910|   null|               null|              0|\n",
      "|      62|   201910|   null|               null|              0|\n",
      "|      63|   201910|   null|               null|              0|\n",
      "|      65|   201907|   null|               null|              0|\n",
      "|      65|   202001|   null|               null|              0|\n",
      "|      67|   201904|   null|               null|              0|\n",
      "|      68|   201907|   null|               null|              0|\n",
      "|      71|   201907|   null|               null|              0|\n",
      "|      71|   201910|   null|               null|              0|\n",
      "|      73|   202001|   null|               null|              0|\n",
      "|      74|   201904|   null|               null|              0|\n",
      "|      74|   201907|   null|               null|              0|\n",
      "|      74|   202001|   null|               null|              0|\n",
      "|      76|   201910|   null|               null|              0|\n",
      "|      76|   202001|   null|               null|              0|\n",
      "|      77|   201910|   null|               null|              0|\n",
      "|      78|   201904|   null|               null|              0|\n",
      "|      79|   201904|   null|               null|              0|\n",
      "|      79|   201910|   null|               null|              0|\n",
      "|      80|   202001|   null|               null|              0|\n",
      "|      82|   201904|   null|               null|              0|\n",
      "|      82|   201907|   null|               null|              0|\n",
      "|      82|   202001|   null|               null|              0|\n",
      "|      85|   201907|   null|               null|              0|\n",
      "|      86|   202001|   null|               null|              0|\n",
      "|      87|   201904|   null|               null|              0|\n",
      "|      88|   201904|   null|               null|              0|\n",
      "|      88|   201907|   null|               null|              0|\n",
      "|      89|   201904|   null|               null|              0|\n",
      "|      89|   201910|   null|               null|              0|\n",
      "|      91|   201907|   null|               null|              0|\n",
      "|      92|   201904|   null|               null|              0|\n",
      "|      92|   201910|   null|               null|              0|\n",
      "|      92|   202001|   null|               null|              0|\n",
      "|      95|   201907|   null|               null|              0|\n",
      "|      96|   201910|   null|               null|              0|\n",
      "|      97|   201904|   null|               null|              0|\n",
      "|      98|   201904|   null|               null|              0|\n",
      "|      98|   201910|   null|               null|              0|\n",
      "|      99|   201904|   null|               null|              0|\n",
      "|      99|   201907|   null|               null|              0|\n",
      "|      99|   201910|   null|               null|              0|\n",
      "+--------+---------+-------+-------------------+---------------+\n",
      "only showing top 100 rows\n",
      "\n"
     ]
    }
   ],
   "source": [
    "df_master_cible2.show(100)"
   ]
  },
  {
   "cell_type": "code",
   "execution_count": 114,
   "metadata": {},
   "outputs": [
    {
     "data": {
      "text/plain": [
       "3391764"
      ]
     },
     "execution_count": 114,
     "metadata": {},
     "output_type": "execute_result"
    }
   ],
   "source": [
    "df_master_cible2.count()"
   ]
  },
  {
   "cell_type": "code",
   "execution_count": null,
   "metadata": {},
   "outputs": [],
   "source": []
  },
  {
   "cell_type": "code",
   "execution_count": null,
   "metadata": {},
   "outputs": [],
   "source": []
  },
  {
   "cell_type": "code",
   "execution_count": null,
   "metadata": {},
   "outputs": [],
   "source": []
  },
  {
   "cell_type": "code",
   "execution_count": null,
   "metadata": {},
   "outputs": [],
   "source": []
  },
  {
   "cell_type": "code",
   "execution_count": null,
   "metadata": {},
   "outputs": [],
   "source": []
  },
  {
   "cell_type": "code",
   "execution_count": null,
   "metadata": {},
   "outputs": [],
   "source": []
  },
  {
   "cell_type": "code",
   "execution_count": null,
   "metadata": {},
   "outputs": [],
   "source": []
  },
  {
   "cell_type": "code",
   "execution_count": null,
   "metadata": {},
   "outputs": [],
   "source": []
  },
  {
   "cell_type": "code",
   "execution_count": 115,
   "metadata": {},
   "outputs": [],
   "source": [
    "df_filtered = df_master_cible2.filter(df_master_cible2.Churn_next_trim == 1)\n"
   ]
  },
  {
   "cell_type": "code",
   "execution_count": 116,
   "metadata": {},
   "outputs": [
    {
     "name": "stdout",
     "output_type": "stream",
     "text": [
      "+--------+---------+-------+-------------------+---------------+\n",
      "|Idclient|ANNEEMOIS|PERIODE|ANNEEMOIS_Fermeture|Churn_next_trim|\n",
      "+--------+---------+-------+-------------------+---------------+\n",
      "|    1107|   201910|      H|             201911|              1|\n",
      "|    1322|   201910|      H|             201912|              1|\n",
      "|    1586|   201910|      H|             201912|              1|\n",
      "|    2819|   202001|      C|             202001|              1|\n",
      "|    3196|   201910|      C|             201911|              1|\n",
      "|    3932|   202001|      C|             202001|              1|\n",
      "|    4344|   202001|      C|             202001|              1|\n",
      "|    6202|   202001|      C|             202003|              1|\n",
      "|    6745|   201910|      H|             201912|              1|\n",
      "|    7347|   202001|      C|             202003|              1|\n",
      "|    8024|   201910|      C|             201911|              1|\n",
      "|   10604|   201910|      C|             201912|              1|\n",
      "|   10737|   201910|      H|             201912|              1|\n",
      "|   11189|   201910|      H|             201912|              1|\n",
      "|   12727|   201910|      H|             201912|              1|\n",
      "|   13023|   202001|      C|             202003|              1|\n",
      "|   13068|   202001|      C|             202002|              1|\n",
      "|   13836|   201910|      H|             201912|              1|\n",
      "|   13849|   201910|      H|             201912|              1|\n",
      "|   14296|   201910|      H|             201912|              1|\n",
      "|   14915|   201910|      H|             201912|              1|\n",
      "|   17216|   202001|      C|             202003|              1|\n",
      "|   17825|   201910|      H|             201912|              1|\n",
      "|   18103|   201907|      H|             201909|              1|\n",
      "|   18502|   201904|      T|             201906|              1|\n",
      "|   21059|   202001|      A|             202002|              1|\n",
      "|   25741|   201910|      H|             201912|              1|\n",
      "|   26182|   202001|      C|             202002|              1|\n",
      "|   28121|   202001|      C|             202001|              1|\n",
      "|   28678|   201904|      H|             201904|              1|\n",
      "|   28786|   201910|      C|             201912|              1|\n",
      "|   30430|   201910|      C|             201912|              1|\n",
      "|   31723|   201910|      H|             201912|              1|\n",
      "|   32370|   201910|      H|             201912|              1|\n",
      "|   32816|   202001|      C|             202001|              1|\n",
      "|   33241|   201910|      H|             201912|              1|\n",
      "|   33937|   202001|      C|             202003|              1|\n",
      "|   35020|   202001|      C|             202001|              1|\n",
      "|   35248|   202001|      C|             202002|              1|\n",
      "|   36987|   201910|      H|             201912|              1|\n",
      "|   37532|   202001|      C|             202003|              1|\n",
      "|   37628|   201910|      H|             201912|              1|\n",
      "|   38329|   202001|      C|             202001|              1|\n",
      "|   40028|   201910|      H|             201912|              1|\n",
      "|   44230|   202001|      C|             202001|              1|\n",
      "|   44461|   202001|      C|             202002|              1|\n",
      "|   45738|   201910|      H|             201912|              1|\n",
      "|   46723|   202001|      C|             202002|              1|\n",
      "|   46912|   201910|      H|             201912|              1|\n",
      "|   48243|   202001|      C|             202003|              1|\n",
      "|   48559|   201910|      H|             201912|              1|\n",
      "|   49139|   201910|      H|             201912|              1|\n",
      "|   54006|   201910|      H|             201912|              1|\n",
      "|   56193|   202001|      C|             202001|              1|\n",
      "|   56391|   201910|      C|             201912|              1|\n",
      "|   56978|   202001|      C|             202002|              1|\n",
      "|   57297|   201910|      H|             201912|              1|\n",
      "|   58678|   201910|      H|             201912|              1|\n",
      "|   59176|   201910|      H|             201912|              1|\n",
      "|   66017|   201910|      H|             201911|              1|\n",
      "|   66024|   202001|      C|             202002|              1|\n",
      "|   66024|   202001|      C|             202001|              1|\n",
      "|   67755|   201910|      H|             201910|              1|\n",
      "|   68550|   201910|      H|             201912|              1|\n",
      "|   71271|   201910|      H|             201912|              1|\n",
      "|   71719|   201910|      H|             201912|              1|\n",
      "|   71775|   201910|      H|             201912|              1|\n",
      "|   71833|   201910|      C|             201912|              1|\n",
      "|   71842|   202001|      C|             202001|              1|\n",
      "|   71950|   201910|      H|             201912|              1|\n",
      "|   72194|   201910|      H|             201912|              1|\n",
      "|   72517|   202001|      C|             202001|              1|\n",
      "|   76624|   201910|      C|             201911|              1|\n",
      "|   78715|   202001|      C|             202001|              1|\n",
      "|   81869|   202001|      C|             202002|              1|\n",
      "|   82328|   201910|      H|             201912|              1|\n",
      "|   84914|   202001|      C|             202002|              1|\n",
      "|   85148|   202001|      C|             202002|              1|\n",
      "|   86776|   201910|      H|             201912|              1|\n",
      "|   87640|   201910|      H|             201912|              1|\n",
      "|   88013|   201910|      H|             201912|              1|\n",
      "|   89220|   201910|      C|             201911|              1|\n",
      "|   89811|   201910|      H|             201912|              1|\n",
      "|   89864|   201910|      H|             201912|              1|\n",
      "|   90006|   201910|      C|             201911|              1|\n",
      "|   91753|   202001|      C|             202001|              1|\n",
      "|   91816|   202001|      C|             202001|              1|\n",
      "|   92279|   201910|      H|             201912|              1|\n",
      "|   93518|   201910|      H|             201912|              1|\n",
      "|   94480|   202001|      C|             202001|              1|\n",
      "|   95845|   201910|      H|             201912|              1|\n",
      "|   95869|   201910|      C|             201912|              1|\n",
      "|   99743|   201910|      C|             201912|              1|\n",
      "|  100020|   201910|      H|             201912|              1|\n",
      "|  100983|   202001|      C|             202002|              1|\n",
      "|  101166|   202001|      C|             202001|              1|\n",
      "|  101170|   201910|      C|             201912|              1|\n",
      "|  101875|   202001|      C|             202001|              1|\n",
      "|  103673|   202001|      C|             202002|              1|\n",
      "|  105918|   201910|      H|             201912|              1|\n",
      "+--------+---------+-------+-------------------+---------------+\n",
      "only showing top 100 rows\n",
      "\n"
     ]
    }
   ],
   "source": [
    "df_filtered.show(100)"
   ]
  },
  {
   "cell_type": "code",
   "execution_count": null,
   "metadata": {},
   "outputs": [],
   "source": []
  },
  {
   "cell_type": "code",
   "execution_count": 117,
   "metadata": {
    "scrolled": true
   },
   "outputs": [
    {
     "data": {
      "text/plain": [
       "3655"
      ]
     },
     "execution_count": 117,
     "metadata": {},
     "output_type": "execute_result"
    }
   ],
   "source": [
    "df_filtered.count()"
   ]
  },
  {
   "cell_type": "code",
   "execution_count": null,
   "metadata": {},
   "outputs": [],
   "source": []
  },
  {
   "cell_type": "code",
   "execution_count": 118,
   "metadata": {},
   "outputs": [],
   "source": [
    "df_filtered2 = df_master_cible2.filter(df_master_cible2.Churn_next_trim == 1)\n"
   ]
  },
  {
   "cell_type": "code",
   "execution_count": null,
   "metadata": {},
   "outputs": [],
   "source": []
  },
  {
   "cell_type": "code",
   "execution_count": 175,
   "metadata": {},
   "outputs": [],
   "source": [
    "df_master_cible3 = df_master_cible2.select(\"Idclient\",\"ANNEEMOIS\",\"Churn_next_trim\")"
   ]
  },
  {
   "cell_type": "code",
   "execution_count": 176,
   "metadata": {},
   "outputs": [
    {
     "name": "stdout",
     "output_type": "stream",
     "text": [
      "+--------+---------+---------------+\n",
      "|Idclient|ANNEEMOIS|Churn_next_trim|\n",
      "+--------+---------+---------------+\n",
      "|       0|   201904|              0|\n",
      "|       2|   201904|              0|\n",
      "|       2|   201910|              0|\n",
      "|       3|   201907|              0|\n",
      "|       4|   201904|              0|\n",
      "|       4|   201907|              0|\n",
      "|       4|   201910|              0|\n",
      "|       4|   202001|              0|\n",
      "|       5|   201904|              0|\n",
      "|       7|   201904|              0|\n",
      "|       7|   201907|              0|\n",
      "|       9|   201904|              0|\n",
      "|      12|   201910|              0|\n",
      "|      13|   202001|              0|\n",
      "|      14|   201910|              0|\n",
      "|      16|   201904|              0|\n",
      "|      16|   201910|              0|\n",
      "|      17|   202001|              0|\n",
      "|      21|   201907|              0|\n",
      "|      21|   201910|              0|\n",
      "+--------+---------+---------------+\n",
      "only showing top 20 rows\n",
      "\n"
     ]
    }
   ],
   "source": [
    "# df_master_cible3.show()"
   ]
  },
  {
   "cell_type": "code",
   "execution_count": null,
   "metadata": {},
   "outputs": [],
   "source": []
  },
  {
   "cell_type": "markdown",
   "metadata": {},
   "source": [
    "## Construction de la table master finale :"
   ]
  },
  {
   "cell_type": "code",
   "execution_count": 177,
   "metadata": {},
   "outputs": [],
   "source": [
    "master_table = df_master12.join(df_master_cible3, on=['Idclient','ANNEEMOIS'], how='left')"
   ]
  },
  {
   "cell_type": "code",
   "execution_count": 178,
   "metadata": {},
   "outputs": [
    {
     "name": "stdout",
     "output_type": "stream",
     "text": [
      "+--------+---------+--------+--------------+---+---+--------------+---------+--------------------------+---------------------------+----------------------------+----------------------------+-----------------------------+-------------------+--------------------+---------------------------------------+---------------------------------+----------------+----------------------+--------------+----------+------------+------------------+---------------+\n",
      "|Idclient|ANNEEMOIS|   genre|MARITAL_STATUS|BPR|age|CUSTOMER_YEARS|AGE_GROUP|MEAN_SOLDE_PREVIOUS_MONTHS|MEAN_MVTDEB_PREVIOUS_MONTHS|MEAN_NBMVTDB_PREVIOUS_MONTHS|MEAN_MVTCRED_PREVIOUS_MONTHS|MEAN_NBMVTCRE_PREVIOUS_MONTHS|MEAN_MONTANTFACTURE|MEAN_MONTANTVIREMENT|MEAN_MONTANT_OPERATIONS_PREVIOUS_MONTHS|MEAN_NBROPERATION_PREVIOUS_MONTHS|MEAN_MONTANT_GAB|MEAN_NUM_OPERATION_GAB|HasCreditYousr|CONNECTION|ACTIVE_RATIO|Connected recently|Churn_next_trim|\n",
      "+--------+---------+--------+--------------+---+---+--------------+---------+--------------------------+---------------------------+----------------------------+----------------------------+-----------------------------+-------------------+--------------------+---------------------------------------+---------------------------------+----------------+----------------------+--------------+----------+------------+------------------+---------------+\n",
      "|       0|   201904| Féminin|      Marié(e)|  1| 64|            23|    55-64|                   1025.33|                    3452.73|                        9.33|                      2500.0|                          1.0|                0.0|                 0.0|                                1616.67|                             1.33|         2133.33|                  7.33|             0|      null|        null|                 0|              0|\n",
      "|       2|   201904| Féminin|      Marié(e)|  1| 70|            45|      65+|                   5757.81|                     7097.8|                        2.67|                     4100.77|                          2.0|                0.0|                 0.0|                                 1800.0|                             1.67|         2666.67|                  3.33|             0|      null|        null|                 0|              0|\n",
      "|       2|   201910| Féminin|      Marié(e)|  1| 70|            45|      65+|                   2044.72|                        0.0|                        2.33|                     1351.83|                         1.67|                0.0|                 0.0|                                 433.33|                             0.33|         3766.67|                  7.67|             0|      null|        null|                 0|              0|\n",
      "|       3|   201907| Féminin|   Celibataire|  1| 51|            17|    45-54|                   -881.56|                      18.33|                         0.0|                         0.0|                          0.0|                0.0|                 0.0|                                    0.0|                              0.0|             0.0|                   0.0|             0|      null|        null|                 0|              0|\n",
      "|       4|   201904|Masculin|      Marié(e)|  1| 50|             6|    45-54|                    236.91|                     208.81|                        3.67|                       600.0|                          1.0|                0.0|                 0.0|                                    0.0|                              0.0|           200.0|                  0.67|             0|      null|        null|                 0|              0|\n",
      "|       4|   201907|Masculin|      Marié(e)|  1| 50|             6|    45-54|                    210.51|                     475.47|                        5.33|                       800.0|                         1.33|                0.0|                 0.0|                                    0.0|                              0.0|          266.67|                  1.33|             0|      null|        null|                 0|              0|\n",
      "|       4|   201910|Masculin|      Marié(e)|  1| 50|             6|    45-54|                     55.17|                      408.8|                         5.0|                       400.0|                         0.67|                0.0|                 0.0|                                    0.0|                              0.0|           200.0|                  1.33|             0|      null|        null|                 0|              0|\n",
      "|       4|   202001|Masculin|      Marié(e)|  1| 50|             6|    45-54|                    143.16|                     1013.2|                        5.33|                      1000.0|                          1.0|                0.0|                 0.0|                                    0.0|                              0.0|             0.0|                   0.0|             0|      null|        null|                 0|              0|\n",
      "|       5|   201904| Féminin|      Marié(e)|  1| 41|             9|    35-44|                   4211.08|                        0.0|                         0.0|                         0.0|                          0.0|                0.0|                 0.0|                                    0.0|                              0.0|          3700.0|                   3.0|             1|         1|     0.10896|                 0|              0|\n",
      "|       7|   201904| Féminin|   Celibataire|  1| 34|            12|    25-34|                   6265.32|                    5859.92|                         0.0|                         0.0|                          0.0|                0.0|                 0.0|                                    0.0|                              0.0|          1600.0|                  3.67|             0|         0|         1.0|                 0|              0|\n",
      "|       7|   201907| Féminin|   Celibataire|  1| 34|            12|    25-34|                   5734.74|                    5293.04|                         0.0|                         0.0|                          0.0|                0.0|                 0.0|                                    0.0|                              0.0|         1933.33|                  2.33|             0|         0|         1.0|                 0|              0|\n",
      "|       9|   201904|Masculin|   Celibataire|  1| 39|             3|    35-44|                   1006.83|                     1545.0|                         0.0|                         0.0|                          0.0|                0.0|                 0.0|                                 533.33|                             0.33|          866.67|                  2.67|             0|      null|        null|                 0|              0|\n",
      "|      12|   201910|Masculin|   Celibataire|  1| 32|             9|    25-34|                  86661.48|                    2211.03|                         0.0|                         0.0|                          0.0|                0.0|                 0.0|                                 -500.0|                             0.33|            null|                  null|             0|      null|        null|                 0|              0|\n",
      "|      13|   202001|Masculin|   Celibataire|  1| 37|             6|    35-44|                   -777.28|                      38.01|                        1.33|                         0.0|                          0.0|                0.0|                 0.0|                                    0.0|                              0.0|            null|                  null|             0|      null|        null|                 0|              0|\n",
      "|      14|   201910| Féminin|      Marié(e)|  1| 35|             4|    35-44|                   2904.98|                    1047.07|                        3.33|                     2466.67|                         1.33|                0.0|                 0.0|                                    0.0|                              0.0|         1833.33|                  2.67|             0|      null|        null|                 0|              0|\n",
      "|      16|   201904| Féminin|   Celibataire|  1| 25|             7|    25-34|                   9494.12|                    2692.93|                         0.0|                         0.0|                          0.0|                0.0|                 0.0|                                    0.0|                              0.0|         1966.67|                  2.33|             0|      null|        null|                 0|              0|\n",
      "|      16|   201910| Féminin|   Celibataire|  1| 25|             7|    25-34|                    535.23|                     782.15|                         0.0|                         0.0|                          0.0|                0.0|                 0.0|                                    0.0|                              0.0|             0.0|                   0.0|             0|      null|        null|                 0|              0|\n",
      "|      17|   202001| Féminin|   Celibataire|  1| 26|             7|    25-34|                   1646.97|                      12.67|                        0.67|                      1600.0|                          1.0|                0.0|                 0.0|                                 2400.0|                             1.33|         1366.67|                  5.33|             0|      null|        null|                 0|              0|\n",
      "|      21|   201907|Masculin|      Marié(e)|  1| 43|             6|    35-44|                     82.63|                       11.0|                        1.33|                         0.0|                          0.0|                0.0|                 0.0|                                    0.0|                              0.0|            null|                  null|             0|      null|        null|                 0|              0|\n",
      "|      21|   201910|Masculin|      Marié(e)|  1| 43|             6|    35-44|                       0.0|                        5.5|                         2.0|                         0.0|                          0.0|                0.0|                 0.0|                                 -66.67|                             0.33|            null|                  null|             0|      null|        null|                 0|              0|\n",
      "+--------+---------+--------+--------------+---+---+--------------+---------+--------------------------+---------------------------+----------------------------+----------------------------+-----------------------------+-------------------+--------------------+---------------------------------------+---------------------------------+----------------+----------------------+--------------+----------+------------+------------------+---------------+\n",
      "only showing top 20 rows\n",
      "\n"
     ]
    }
   ],
   "source": [
    "# master_table.show()"
   ]
  },
  {
   "cell_type": "code",
   "execution_count": null,
   "metadata": {},
   "outputs": [],
   "source": []
  },
  {
   "cell_type": "code",
   "execution_count": 182,
   "metadata": {},
   "outputs": [],
   "source": [
    "master_table2 = master_table.fillna({\"AGE_GROUP\": 45-54 })\n"
   ]
  },
  {
   "cell_type": "code",
   "execution_count": null,
   "metadata": {},
   "outputs": [],
   "source": [
    "master_table3 = master_table2.fillna({\"MEAN_SOLDE_PREVIOUS_MONTHS\": 0 })\n"
   ]
  },
  {
   "cell_type": "code",
   "execution_count": null,
   "metadata": {},
   "outputs": [],
   "source": [
    "master_table3 = master_table3.fillna({\"MEAN_MVTDEB_PREVIOUS_MONTHS\": 0 })\n"
   ]
  },
  {
   "cell_type": "code",
   "execution_count": null,
   "metadata": {},
   "outputs": [],
   "source": [
    "master_table3 = master_table3.fillna({\"MEAN_NBMVTDB_PREVIOUS_MONTHS\": 0 })\n"
   ]
  },
  {
   "cell_type": "code",
   "execution_count": null,
   "metadata": {},
   "outputs": [],
   "source": [
    "master_table3 = master_table3.fillna({\"MEAN_MVTCRED_PREVIOUS_MONTHS\": 0 })\n"
   ]
  },
  {
   "cell_type": "code",
   "execution_count": null,
   "metadata": {},
   "outputs": [],
   "source": [
    "master_table3 = master_table3.fillna({\"MEAN_MONTANTFACTURE\": 0 })\n"
   ]
  },
  {
   "cell_type": "code",
   "execution_count": null,
   "metadata": {},
   "outputs": [],
   "source": [
    "master_table3 = master_table3.fillna({\"MEAN_MONTANTVIREMENT\": 0 })\n"
   ]
  },
  {
   "cell_type": "code",
   "execution_count": null,
   "metadata": {},
   "outputs": [],
   "source": [
    "master_table3 = master_table3.fillna({\"MEAN_MONTANT_OPERATIONS_PREVIOUS_MONTHS\": 0 })\n"
   ]
  },
  {
   "cell_type": "code",
   "execution_count": null,
   "metadata": {},
   "outputs": [],
   "source": [
    "master_table3 = master_table3.fillna({\"MEAN_NBROPERATION_PREVIOUS_MONTHS\": 0 })\n"
   ]
  },
  {
   "cell_type": "code",
   "execution_count": null,
   "metadata": {},
   "outputs": [],
   "source": [
    "master_table3 = master_table3.fillna({\"MEAN_MONTANT_GAB\": 0 })\n"
   ]
  },
  {
   "cell_type": "code",
   "execution_count": null,
   "metadata": {},
   "outputs": [],
   "source": [
    "master_table3 = master_table3.fillna({\"MEAN_NUM_OPERATION_GAB\": 0 })\n"
   ]
  },
  {
   "cell_type": "code",
   "execution_count": null,
   "metadata": {},
   "outputs": [],
   "source": [
    "master_table3 = master_table3.fillna({\"HasCreditYousr\": 0 })\n"
   ]
  },
  {
   "cell_type": "code",
   "execution_count": null,
   "metadata": {},
   "outputs": [],
   "source": [
    "master_table3 = master_table3.fillna({\"CONNECTION\": 0 })\n"
   ]
  },
  {
   "cell_type": "code",
   "execution_count": null,
   "metadata": {},
   "outputs": [],
   "source": [
    "master_table3 = master_table3.fillna({\"ACTIVE_RATIO\": 1 })\n"
   ]
  },
  {
   "cell_type": "code",
   "execution_count": null,
   "metadata": {},
   "outputs": [],
   "source": [
    "master_table3 = master_table3.fillna({\"Connected recently\": 1 })\n"
   ]
  },
  {
   "cell_type": "code",
   "execution_count": null,
   "metadata": {},
   "outputs": [],
   "source": []
  },
  {
   "cell_type": "code",
   "execution_count": null,
   "metadata": {},
   "outputs": [],
   "source": []
  },
  {
   "cell_type": "code",
   "execution_count": null,
   "metadata": {},
   "outputs": [],
   "source": []
  },
  {
   "cell_type": "code",
   "execution_count": 212,
   "metadata": {},
   "outputs": [],
   "source": [
    "master_table4 = master_table3.withColumnRenamed(\"MEAN_SOLDE_PREVIOUS_MONTHS\",\"SOLDE\")"
   ]
  },
  {
   "cell_type": "code",
   "execution_count": 213,
   "metadata": {},
   "outputs": [],
   "source": [
    "master_table4 = master_table4.withColumnRenamed(\"MEAN_MVTDEB_PREVIOUS_MONTHS\",\"MVTDEB\")\n"
   ]
  },
  {
   "cell_type": "code",
   "execution_count": 214,
   "metadata": {},
   "outputs": [],
   "source": [
    "master_table4 = master_table4.withColumnRenamed(\"MEAN_NBMVTDB_PREVIOUS_MONTHS\",\"NBMVTDB\")\n"
   ]
  },
  {
   "cell_type": "code",
   "execution_count": 215,
   "metadata": {},
   "outputs": [],
   "source": [
    "master_table4 = master_table4.withColumnRenamed(\"MEAN_MVTCRED_PREVIOUS_MONTHS\",\"MVTCRED\")\n"
   ]
  },
  {
   "cell_type": "code",
   "execution_count": 216,
   "metadata": {},
   "outputs": [],
   "source": [
    "master_table4 = master_table4.withColumnRenamed(\"MEAN_NBMVTCRE_PREVIOUS_MONTHS\",\"NBMVTCRE\")\n"
   ]
  },
  {
   "cell_type": "code",
   "execution_count": 217,
   "metadata": {},
   "outputs": [],
   "source": [
    "master_table4 = master_table4.withColumnRenamed(\"MEAN_MONTANTFACTURE\",\"MONTANTFACTURE\")\n"
   ]
  },
  {
   "cell_type": "code",
   "execution_count": 218,
   "metadata": {},
   "outputs": [],
   "source": [
    "master_table4 = master_table4.withColumnRenamed(\"MEAN_MONTANTVIREMENT\",\"MONTANTVIREMENT\")\n"
   ]
  },
  {
   "cell_type": "code",
   "execution_count": 219,
   "metadata": {},
   "outputs": [],
   "source": [
    "master_table4 = master_table4.withColumnRenamed(\"MEAN_MONTANT_OPERATIONS_PREVIOUS_MONTHS\",\"MONTANTOPERATIONS\")\n"
   ]
  },
  {
   "cell_type": "code",
   "execution_count": 220,
   "metadata": {},
   "outputs": [],
   "source": [
    "master_table4 = master_table4.withColumnRenamed(\"MEAN_NBROPERATION_PREVIOUS_MONTHS\",\"NBROPERATION\")\n"
   ]
  },
  {
   "cell_type": "code",
   "execution_count": 221,
   "metadata": {},
   "outputs": [],
   "source": [
    "master_table4 = master_table4.withColumnRenamed(\"MEAN_MONTANT_GAB\",\"MONTANTGAB\")\n"
   ]
  },
  {
   "cell_type": "code",
   "execution_count": 222,
   "metadata": {},
   "outputs": [],
   "source": [
    "master_table4 = master_table4.withColumnRenamed(\"MEAN_NUM_OPERATION_GAB\",\"NBROPERATIONGAB\")\n"
   ]
  },
  {
   "cell_type": "code",
   "execution_count": 223,
   "metadata": {},
   "outputs": [],
   "source": [
    "master_table4 = master_table4.withColumnRenamed(\"CONNECTION\",\"ALREADY CONNECTED\")\n"
   ]
  },
  {
   "cell_type": "code",
   "execution_count": 224,
   "metadata": {},
   "outputs": [],
   "source": [
    "master_table4 = master_table4.withColumnRenamed(\"Connected recently\",\"CONNECTED RECENTLY\")\n"
   ]
  },
  {
   "cell_type": "code",
   "execution_count": 229,
   "metadata": {},
   "outputs": [
    {
     "name": "stdout",
     "output_type": "stream",
     "text": [
      "+-------+-----------------+-----------------+--------+--------------+-----------------+------------------+------------------+---------+------------------+-----------------+------------------+-----------------+------------------+------------------+------------------+-------------------+-------------------+------------------+------------------+--------------------+--------------------+------------------+--------------------+--------------------+\n",
      "|summary|         Idclient|        ANNEEMOIS|   genre|MARITAL_STATUS|              BPR|               age|    CUSTOMER_YEARS|AGE_GROUP|             SOLDE|           MVTDEB|           NBMVTDB|          MVTCRED|          NBMVTCRE|    MONTANTFACTURE|   MONTANTVIREMENT|  MONTANTOPERATIONS|       NBROPERATION|        MONTANTGAB|   NBROPERATIONGAB|      HasCreditYousr|   ALREADY CONNECTED|      ACTIVE_RATIO|  CONNECTED RECENTLY|     Churn_next_trim|\n",
      "+-------+-----------------+-----------------+--------+--------------+-----------------+------------------+------------------+---------+------------------+-----------------+------------------+-----------------+------------------+------------------+------------------+-------------------+-------------------+------------------+------------------+--------------------+--------------------+------------------+--------------------+--------------------+\n",
      "|  count|          3392620|          3392620| 3392620|       3392620|          3392620|           3392620|           3392620|  3392620|           3392620|          3392620|           3392620|          3392620|           3392620|           3392620|           3392620|            3392620|            3392620|           3392620|           3392620|             3392620|             3392620|            211084|             3392620|             3392620|\n",
      "|   mean|499881.9448473451|         201930.5|    null|          null|57.14686908642878| 44.94038589644582|10.210657250148852|     -9.0| 19615.52397606812|5793.069240939736|2.9071045445708035|4348.725069182447| 0.603426437384635|6.9504540856329315| 57.02835213492813|-197.12495357570273|0.48196854348522894|1508.3525145285776|2.5222324015068187|0.045807664872576356|0.012445838319646763|0.8659518680714823|0.003099669282147...|0.001077633215626...|\n",
      "| stddev|288558.2782475915|40.75844071681278|    null|          null|28.11025908691942|15.431427414455303| 8.628036641562371|      0.0|181781.15535315606| 82931.0121778811| 5.371366044490821|79291.62570824054|2.5044988247593323|2196.0362096008075|1088.9349034849015|  37482.96786248798|  2.855286201059264| 18818.51423399616|  4.66363572888475| 0.20906777751521224| 0.11086452566540325| 0.295520534365465| 0.05558832830107305| 0.03280963638289298|\n",
      "|    min|                0|           201904| Féminin|   Celibataire|                1|                 0|                -3|       -9|    -4.601819028E7|              0.0|               0.0|              0.0|               0.0|               0.0|               0.0|     -2.166730167E7|                0.0|               0.0|               0.0|                   0|                   0|               0.0|                   0|                   0|\n",
      "|    max|           999999|           202001|Masculin|     Veuf (ve)|               90|                91|                60|      65+|     5.898046565E7|    3.667073413E7|            2379.0|    6.874707753E7|           2383.67|        1835376.67|          330437.0|              2.0E7|            1573.33|     2.963219629E7|            139.67|                   1|                   1|               1.0|                   1|                   1|\n",
      "+-------+-----------------+-----------------+--------+--------------+-----------------+------------------+------------------+---------+------------------+-----------------+------------------+-----------------+------------------+------------------+------------------+-------------------+-------------------+------------------+------------------+--------------------+--------------------+------------------+--------------------+--------------------+\n",
      "\n"
     ]
    }
   ],
   "source": [
    "master_table4.describe().show()"
   ]
  },
  {
   "cell_type": "code",
   "execution_count": 230,
   "metadata": {},
   "outputs": [],
   "source": [
    "# master_table4.coalesce(1).write.format('csv').option('header',True).option('sep',',').mode('overwrite').save(r'C:\\Users\\DELL XPS\\Desktop\\data\\new\\Master Table\\master table')\n"
   ]
  },
  {
   "cell_type": "code",
   "execution_count": null,
   "metadata": {},
   "outputs": [],
   "source": []
  }
 ],
 "metadata": {
  "kernelspec": {
   "display_name": "Python 3 (ipykernel)",
   "language": "python",
   "name": "python3"
  },
  "language_info": {
   "codemirror_mode": {
    "name": "ipython",
    "version": 3
   },
   "file_extension": ".py",
   "mimetype": "text/x-python",
   "name": "python",
   "nbconvert_exporter": "python",
   "pygments_lexer": "ipython3",
   "version": "3.10.11"
  }
 },
 "nbformat": 4,
 "nbformat_minor": 4
}
